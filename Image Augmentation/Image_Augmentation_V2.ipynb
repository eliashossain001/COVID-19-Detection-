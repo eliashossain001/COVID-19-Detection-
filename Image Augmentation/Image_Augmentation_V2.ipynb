{
  "nbformat": 4,
  "nbformat_minor": 0,
  "metadata": {
    "colab": {
      "name": "Image_Augmentation_V2.ipynb",
      "provenance": [],
      "collapsed_sections": []
    },
    "kernelspec": {
      "display_name": "Python 3",
      "name": "python3"
    }
  },
  "cells": [
    {
      "cell_type": "markdown",
      "metadata": {
        "id": "view-in-github"
      },
      "source": [
        "<a href=\"https://colab.research.google.com/github/eliashossain001/Image-Preperation-/blob/main/Image_Augmentation_V2.ipynb\" target=\"_parent\"><img src=\"https://colab.research.google.com/assets/colab-badge.svg\" alt=\"Open In Colab\"/></a>"
      ]
    },
    {
      "cell_type": "markdown",
      "metadata": {
        "id": "mDCYXXq1bAhe"
      },
      "source": [
        "**Mount drive**"
      ]
    },
    {
      "cell_type": "code",
      "metadata": {
        "colab": {
          "base_uri": "https://localhost:8080/"
        },
        "id": "GGIuVLNdbCsd",
        "outputId": "5974cde4-215e-49d6-f267-20b1f1489591"
      },
      "source": [
        "from google.colab import drive\r\n",
        "drive.mount('/content/drive')"
      ],
      "execution_count": null,
      "outputs": [
        {
          "output_type": "stream",
          "text": [
            "Mounted at /content/drive\n"
          ],
          "name": "stdout"
        }
      ]
    },
    {
      "cell_type": "code",
      "metadata": {
        "colab": {
          "base_uri": "https://localhost:8080/"
        },
        "id": "PqV5Hq2Kd8g5",
        "outputId": "4bb888df-41cc-4b54-b345-7b4090d12273"
      },
      "source": [
        "pip install sk"
      ],
      "execution_count": null,
      "outputs": [
        {
          "output_type": "stream",
          "text": [
            "Collecting sk\n",
            "  Downloading https://files.pythonhosted.org/packages/7a/82/f13977ecd1f31e3e366b9fee28a909fb47367e03047c3b2a2aa6b9a2ce74/sk-0.0.1.tar.gz\n",
            "Building wheels for collected packages: sk\n",
            "  Building wheel for sk (setup.py) ... \u001b[?25l\u001b[?25hdone\n",
            "  Created wheel for sk: filename=sk-0.0.1-cp37-none-any.whl size=1884 sha256=c40a0a50214ef7c81f2f153896b325c30f517038b967a428d60cdfe33bd90d0d\n",
            "  Stored in directory: /root/.cache/pip/wheels/03/8b/c2/f0f06fa931b5bdf839fb1b90e650002203b3e7237808c6bd21\n",
            "Successfully built sk\n",
            "Installing collected packages: sk\n",
            "Successfully installed sk-0.0.1\n"
          ],
          "name": "stdout"
        }
      ]
    },
    {
      "cell_type": "markdown",
      "metadata": {
        "id": "vS6tGfu4hakB"
      },
      "source": [
        "**Step 1 — Image transformations**"
      ]
    },
    {
      "cell_type": "code",
      "metadata": {
        "id": "PY9hGec3tmI0"
      },
      "source": [
        "import random\r\n",
        "from scipy import ndarray\r\n",
        "import skimage as sk\r\n",
        "from skimage import transform\r\n",
        "from skimage import util\r\n",
        "\r\n",
        "def random_rotation(image_array: ndarray):\r\n",
        "    # pick a random degree of rotation between 25% on the left and 25% on the right\r\n",
        "    random_degree = random.uniform(-25, 25)\r\n",
        "    return sk.transform.rotate(image_array, random_degree)\r\n",
        "\r\n",
        "def random_noise(image_array: ndarray):\r\n",
        "    # add random noise to the image\r\n",
        "    return sk.util.random_noise(image_array)\r\n",
        "\r\n",
        "def horizontal_flip(image_array: ndarray):\r\n",
        "    # horizontal flip doesn't need skimage, it's easy as flipping the image array of pixels !\r\n",
        "    return image_array[:, ::-1]"
      ],
      "execution_count": null,
      "outputs": []
    },
    {
      "cell_type": "markdown",
      "metadata": {
        "id": "niUPvX84t_-G"
      },
      "source": [
        "**Step 2 — Image augmentation**"
      ]
    },
    {
      "cell_type": "code",
      "metadata": {
        "colab": {
          "base_uri": "https://localhost:8080/",
          "height": 1000
        },
        "id": "mfFPMZvyWf7F",
        "outputId": "4f0e5be4-ff3c-45cb-cf29-da025f8aab87"
      },
      "source": [
        "import random\r\n",
        "from scipy import ndarray\r\n",
        "import skimage as sk\r\n",
        "from skimage import transform\r\n",
        "from skimage import util\r\n",
        "import os\r\n",
        "from skimage import io\r\n",
        "\r\n",
        "# our folder path containing some images\r\n",
        "# folder_path = '/content/drive/MyDrive/COVID-META/STAR Work/COVID-19/Augmented'\r\n",
        "folder_path = '/content/drive/MyDrive/COVID-META/STAR Work/COVID-19/Augmented'\r\n",
        "# the number of file to generate\r\n",
        "num_files_desired = 1177\r\n",
        "\r\n",
        "\r\n",
        "i=1823\r\n",
        "# loop on all files of the folder and build a list of files paths\r\n",
        "images = [os.path.join(folder_path, f) for f in os.listdir(folder_path) if os.path.isfile(os.path.join(folder_path, f))]\r\n",
        "\r\n",
        "num_generated_files = 0\r\n",
        "while num_generated_files <= num_files_desired:\r\n",
        "    \r\n",
        "    # random image from the folder\r\n",
        "    image_path = random.choice(images)\r\n",
        "    # read image as an two dimensional array of pixels\r\n",
        "    print(image_path)\r\n",
        "    image_to_transform = sk.io.imread(image_path)\r\n",
        "    available_transformations = {\r\n",
        "    'rotate': random_rotation,\r\n",
        "    'noise': random_noise,\r\n",
        "    'horizontal_flip': horizontal_flip\r\n",
        "    }\r\n",
        "\r\n",
        "    # random num of transformations to apply\r\n",
        "    num_transformations_to_apply = random.randint(1, len(available_transformations))\r\n",
        "\r\n",
        "    num_transformations = 0\r\n",
        "    transformed_image = None\r\n",
        "    while num_transformations <= num_transformations_to_apply:\r\n",
        "        # choose a random transformation to apply for a single image\r\n",
        "        key = random.choice(list(available_transformations))\r\n",
        "        transformed_image = available_transformations[key](image_to_transform)\r\n",
        "        num_transformations += 1\r\n",
        "        i=i+1\r\n",
        "        nflpath='/content/drive/MyDrive/COVID-META/STAR Work/COVID-19/COVID cases'\r\n",
        "        # define a name for our new file\r\n",
        "        new_file_path = '%s/augmented_image_%s.png' %(nflpath, i)\r\n",
        "        print(new_file_path)\r\n",
        "        # write image to the disk\r\n",
        "        sk.io.imsave(new_file_path, transformed_image)\r\n",
        "    num_generated_files+=1"
      ],
      "execution_count": null,
      "outputs": [
        {
          "output_type": "stream",
          "text": [
            "/content/drive/MyDrive/COVID-META/STAR Work/COVID-19/Augmented/Tri_cov_64.jpg\n"
          ],
          "name": "stdout"
        },
        {
          "output_type": "stream",
          "text": [
            "WARNING:root:Lossy conversion from float64 to uint8. Range [0, 1]. Convert image to uint8 prior to saving to suppress this warning.\n"
          ],
          "name": "stderr"
        },
        {
          "output_type": "stream",
          "text": [
            "/content/drive/MyDrive/COVID-META/STAR Work/COVID-19/COVID cases/augmented_image_1824.png\n"
          ],
          "name": "stdout"
        },
        {
          "output_type": "stream",
          "text": [
            "WARNING:root:Lossy conversion from float64 to uint8. Range [0, 1]. Convert image to uint8 prior to saving to suppress this warning.\n"
          ],
          "name": "stderr"
        },
        {
          "output_type": "stream",
          "text": [
            "/content/drive/MyDrive/COVID-META/STAR Work/COVID-19/COVID cases/augmented_image_1825.png\n"
          ],
          "name": "stdout"
        },
        {
          "output_type": "stream",
          "text": [
            "WARNING:root:Lossy conversion from float64 to uint8. Range [0, 1]. Convert image to uint8 prior to saving to suppress this warning.\n"
          ],
          "name": "stderr"
        },
        {
          "output_type": "stream",
          "text": [
            "/content/drive/MyDrive/COVID-META/STAR Work/COVID-19/COVID cases/augmented_image_1826.png\n"
          ],
          "name": "stdout"
        },
        {
          "output_type": "stream",
          "text": [
            "WARNING:root:Lossy conversion from float64 to uint8. Range [0, 1]. Convert image to uint8 prior to saving to suppress this warning.\n"
          ],
          "name": "stderr"
        },
        {
          "output_type": "stream",
          "text": [
            "/content/drive/MyDrive/COVID-META/STAR Work/COVID-19/COVID cases/augmented_image_1827.png\n",
            "/content/drive/MyDrive/COVID-META/STAR Work/COVID-19/Augmented/Tri_cov_323.jpg\n",
            "/content/drive/MyDrive/COVID-META/STAR Work/COVID-19/COVID cases/augmented_image_1828.png\n",
            "/content/drive/MyDrive/COVID-META/STAR Work/COVID-19/COVID cases/augmented_image_1829.png\n",
            "/content/drive/MyDrive/COVID-META/STAR Work/COVID-19/Augmented/Tri_cov_426.jpg\n",
            "/content/drive/MyDrive/COVID-META/STAR Work/COVID-19/COVID cases/augmented_image_1830.png\n",
            "/content/drive/MyDrive/COVID-META/STAR Work/COVID-19/COVID cases/augmented_image_1831.png\n"
          ],
          "name": "stdout"
        },
        {
          "output_type": "stream",
          "text": [
            "WARNING:root:Lossy conversion from float64 to uint8. Range [0, 1]. Convert image to uint8 prior to saving to suppress this warning.\n"
          ],
          "name": "stderr"
        },
        {
          "output_type": "stream",
          "text": [
            "/content/drive/MyDrive/COVID-META/STAR Work/COVID-19/COVID cases/augmented_image_1832.png\n"
          ],
          "name": "stdout"
        },
        {
          "output_type": "stream",
          "text": [
            "WARNING:root:Lossy conversion from float64 to uint8. Range [0, 1]. Convert image to uint8 prior to saving to suppress this warning.\n"
          ],
          "name": "stderr"
        },
        {
          "output_type": "stream",
          "text": [
            "/content/drive/MyDrive/COVID-META/STAR Work/COVID-19/COVID cases/augmented_image_1833.png\n",
            "/content/drive/MyDrive/COVID-META/STAR Work/COVID-19/Augmented/Tri_cov_70.jpg\n",
            "/content/drive/MyDrive/COVID-META/STAR Work/COVID-19/COVID cases/augmented_image_1834.png\n"
          ],
          "name": "stdout"
        },
        {
          "output_type": "stream",
          "text": [
            "WARNING:root:Lossy conversion from float64 to uint8. Range [0, 1]. Convert image to uint8 prior to saving to suppress this warning.\n"
          ],
          "name": "stderr"
        },
        {
          "output_type": "stream",
          "text": [
            "/content/drive/MyDrive/COVID-META/STAR Work/COVID-19/COVID cases/augmented_image_1835.png\n"
          ],
          "name": "stdout"
        },
        {
          "output_type": "stream",
          "text": [
            "WARNING:root:Lossy conversion from float64 to uint8. Range [0, 1]. Convert image to uint8 prior to saving to suppress this warning.\n"
          ],
          "name": "stderr"
        },
        {
          "output_type": "stream",
          "text": [
            "/content/drive/MyDrive/COVID-META/STAR Work/COVID-19/COVID cases/augmented_image_1836.png\n"
          ],
          "name": "stdout"
        },
        {
          "output_type": "stream",
          "text": [
            "WARNING:root:Lossy conversion from float64 to uint8. Range [0, 1]. Convert image to uint8 prior to saving to suppress this warning.\n"
          ],
          "name": "stderr"
        },
        {
          "output_type": "stream",
          "text": [
            "/content/drive/MyDrive/COVID-META/STAR Work/COVID-19/COVID cases/augmented_image_1837.png\n",
            "/content/drive/MyDrive/COVID-META/STAR Work/COVID-19/Augmented/Tri_cov_12.jpg\n",
            "/content/drive/MyDrive/COVID-META/STAR Work/COVID-19/COVID cases/augmented_image_1838.png\n",
            "/content/drive/MyDrive/COVID-META/STAR Work/COVID-19/COVID cases/augmented_image_1839.png\n",
            "/content/drive/MyDrive/COVID-META/STAR Work/COVID-19/Augmented/Tri_cov_423.jpg\n",
            "/content/drive/MyDrive/COVID-META/STAR Work/COVID-19/COVID cases/augmented_image_1840.png\n"
          ],
          "name": "stdout"
        },
        {
          "output_type": "stream",
          "text": [
            "WARNING:root:Lossy conversion from float64 to uint8. Range [0, 1]. Convert image to uint8 prior to saving to suppress this warning.\n",
            "WARNING:root:Lossy conversion from float64 to uint8. Range [0, 1]. Convert image to uint8 prior to saving to suppress this warning.\n"
          ],
          "name": "stderr"
        },
        {
          "output_type": "stream",
          "text": [
            "/content/drive/MyDrive/COVID-META/STAR Work/COVID-19/COVID cases/augmented_image_1841.png\n",
            "/content/drive/MyDrive/COVID-META/STAR Work/COVID-19/COVID cases/augmented_image_1842.png\n"
          ],
          "name": "stdout"
        },
        {
          "output_type": "stream",
          "text": [
            "WARNING:root:Lossy conversion from float64 to uint8. Range [0, 1]. Convert image to uint8 prior to saving to suppress this warning.\n"
          ],
          "name": "stderr"
        },
        {
          "output_type": "stream",
          "text": [
            "/content/drive/MyDrive/COVID-META/STAR Work/COVID-19/Augmented/Tri_cov_515.jpg\n"
          ],
          "name": "stdout"
        },
        {
          "output_type": "stream",
          "text": [
            "WARNING:root:Lossy conversion from float64 to uint8. Range [0, 1]. Convert image to uint8 prior to saving to suppress this warning.\n"
          ],
          "name": "stderr"
        },
        {
          "output_type": "stream",
          "text": [
            "/content/drive/MyDrive/COVID-META/STAR Work/COVID-19/COVID cases/augmented_image_1843.png\n"
          ],
          "name": "stdout"
        },
        {
          "output_type": "stream",
          "text": [
            "WARNING:root:Lossy conversion from float64 to uint8. Range [0, 1]. Convert image to uint8 prior to saving to suppress this warning.\n"
          ],
          "name": "stderr"
        },
        {
          "output_type": "stream",
          "text": [
            "/content/drive/MyDrive/COVID-META/STAR Work/COVID-19/COVID cases/augmented_image_1844.png\n",
            "/content/drive/MyDrive/COVID-META/STAR Work/COVID-19/Augmented/Tri_cov_60.jpg\n"
          ],
          "name": "stdout"
        },
        {
          "output_type": "stream",
          "text": [
            "WARNING:root:Lossy conversion from float64 to uint8. Range [0, 1]. Convert image to uint8 prior to saving to suppress this warning.\n"
          ],
          "name": "stderr"
        },
        {
          "output_type": "stream",
          "text": [
            "/content/drive/MyDrive/COVID-META/STAR Work/COVID-19/COVID cases/augmented_image_1845.png\n"
          ],
          "name": "stdout"
        },
        {
          "output_type": "stream",
          "text": [
            "WARNING:root:Lossy conversion from float64 to uint8. Range [0, 1]. Convert image to uint8 prior to saving to suppress this warning.\n"
          ],
          "name": "stderr"
        },
        {
          "output_type": "stream",
          "text": [
            "/content/drive/MyDrive/COVID-META/STAR Work/COVID-19/COVID cases/augmented_image_1846.png\n",
            "/content/drive/MyDrive/COVID-META/STAR Work/COVID-19/Augmented/Tri_cov_453.jpg\n"
          ],
          "name": "stdout"
        },
        {
          "output_type": "stream",
          "text": [
            "WARNING:root:Lossy conversion from float64 to uint8. Range [0, 1]. Convert image to uint8 prior to saving to suppress this warning.\n"
          ],
          "name": "stderr"
        },
        {
          "output_type": "stream",
          "text": [
            "/content/drive/MyDrive/COVID-META/STAR Work/COVID-19/COVID cases/augmented_image_1847.png\n"
          ],
          "name": "stdout"
        },
        {
          "output_type": "stream",
          "text": [
            "WARNING:root:Lossy conversion from float64 to uint8. Range [0, 1]. Convert image to uint8 prior to saving to suppress this warning.\n"
          ],
          "name": "stderr"
        },
        {
          "output_type": "stream",
          "text": [
            "/content/drive/MyDrive/COVID-META/STAR Work/COVID-19/COVID cases/augmented_image_1848.png\n"
          ],
          "name": "stdout"
        },
        {
          "output_type": "stream",
          "text": [
            "WARNING:root:Lossy conversion from float64 to uint8. Range [0, 1]. Convert image to uint8 prior to saving to suppress this warning.\n"
          ],
          "name": "stderr"
        },
        {
          "output_type": "stream",
          "text": [
            "/content/drive/MyDrive/COVID-META/STAR Work/COVID-19/COVID cases/augmented_image_1849.png\n",
            "/content/drive/MyDrive/COVID-META/STAR Work/COVID-19/COVID cases/augmented_image_1850.png\n",
            "/content/drive/MyDrive/COVID-META/STAR Work/COVID-19/Augmented/Tri_cov_168.jpg\n"
          ],
          "name": "stdout"
        },
        {
          "output_type": "stream",
          "text": [
            "WARNING:root:Lossy conversion from float64 to uint8. Range [0, 1]. Convert image to uint8 prior to saving to suppress this warning.\n"
          ],
          "name": "stderr"
        },
        {
          "output_type": "stream",
          "text": [
            "/content/drive/MyDrive/COVID-META/STAR Work/COVID-19/COVID cases/augmented_image_1851.png\n"
          ],
          "name": "stdout"
        },
        {
          "output_type": "stream",
          "text": [
            "WARNING:root:Lossy conversion from float64 to uint8. Range [0, 1]. Convert image to uint8 prior to saving to suppress this warning.\n"
          ],
          "name": "stderr"
        },
        {
          "output_type": "stream",
          "text": [
            "/content/drive/MyDrive/COVID-META/STAR Work/COVID-19/COVID cases/augmented_image_1852.png\n",
            "/content/drive/MyDrive/COVID-META/STAR Work/COVID-19/COVID cases/augmented_image_1853.png\n"
          ],
          "name": "stdout"
        },
        {
          "output_type": "stream",
          "text": [
            "WARNING:root:Lossy conversion from float64 to uint8. Range [0, 1]. Convert image to uint8 prior to saving to suppress this warning.\n"
          ],
          "name": "stderr"
        },
        {
          "output_type": "stream",
          "text": [
            "/content/drive/MyDrive/COVID-META/STAR Work/COVID-19/COVID cases/augmented_image_1854.png\n",
            "/content/drive/MyDrive/COVID-META/STAR Work/COVID-19/Augmented/Tri_cov_324.jpg\n"
          ],
          "name": "stdout"
        },
        {
          "output_type": "stream",
          "text": [
            "WARNING:root:Lossy conversion from float64 to uint8. Range [0, 1]. Convert image to uint8 prior to saving to suppress this warning.\n"
          ],
          "name": "stderr"
        },
        {
          "output_type": "stream",
          "text": [
            "/content/drive/MyDrive/COVID-META/STAR Work/COVID-19/COVID cases/augmented_image_1855.png\n",
            "/content/drive/MyDrive/COVID-META/STAR Work/COVID-19/COVID cases/augmented_image_1856.png\n",
            "/content/drive/MyDrive/COVID-META/STAR Work/COVID-19/Augmented/Tri_cov_558.jpg\n",
            "/content/drive/MyDrive/COVID-META/STAR Work/COVID-19/COVID cases/augmented_image_1857.png\n"
          ],
          "name": "stdout"
        },
        {
          "output_type": "stream",
          "text": [
            "WARNING:root:Lossy conversion from float64 to uint8. Range [0, 1]. Convert image to uint8 prior to saving to suppress this warning.\n"
          ],
          "name": "stderr"
        },
        {
          "output_type": "stream",
          "text": [
            "/content/drive/MyDrive/COVID-META/STAR Work/COVID-19/COVID cases/augmented_image_1858.png\n",
            "/content/drive/MyDrive/COVID-META/STAR Work/COVID-19/Augmented/Tri_cov_514.jpg\n"
          ],
          "name": "stdout"
        },
        {
          "output_type": "stream",
          "text": [
            "WARNING:root:Lossy conversion from float64 to uint8. Range [0, 1]. Convert image to uint8 prior to saving to suppress this warning.\n"
          ],
          "name": "stderr"
        },
        {
          "output_type": "stream",
          "text": [
            "/content/drive/MyDrive/COVID-META/STAR Work/COVID-19/COVID cases/augmented_image_1859.png\n"
          ],
          "name": "stdout"
        },
        {
          "output_type": "stream",
          "text": [
            "WARNING:root:Lossy conversion from float64 to uint8. Range [0, 1]. Convert image to uint8 prior to saving to suppress this warning.\n"
          ],
          "name": "stderr"
        },
        {
          "output_type": "stream",
          "text": [
            "/content/drive/MyDrive/COVID-META/STAR Work/COVID-19/COVID cases/augmented_image_1860.png\n",
            "/content/drive/MyDrive/COVID-META/STAR Work/COVID-19/COVID cases/augmented_image_1861.png\n"
          ],
          "name": "stdout"
        },
        {
          "output_type": "stream",
          "text": [
            "WARNING:root:Lossy conversion from float64 to uint8. Range [0, 1]. Convert image to uint8 prior to saving to suppress this warning.\n"
          ],
          "name": "stderr"
        },
        {
          "output_type": "stream",
          "text": [
            "/content/drive/MyDrive/COVID-META/STAR Work/COVID-19/COVID cases/augmented_image_1862.png\n",
            "/content/drive/MyDrive/COVID-META/STAR Work/COVID-19/Augmented/Tri_cov_121.jpg\n"
          ],
          "name": "stdout"
        },
        {
          "output_type": "stream",
          "text": [
            "WARNING:root:Lossy conversion from float64 to uint8. Range [0, 1]. Convert image to uint8 prior to saving to suppress this warning.\n"
          ],
          "name": "stderr"
        },
        {
          "output_type": "stream",
          "text": [
            "/content/drive/MyDrive/COVID-META/STAR Work/COVID-19/COVID cases/augmented_image_1863.png\n",
            "/content/drive/MyDrive/COVID-META/STAR Work/COVID-19/COVID cases/augmented_image_1864.png\n",
            "/content/drive/MyDrive/COVID-META/STAR Work/COVID-19/Augmented/Tri_cov_489.jpg\n"
          ],
          "name": "stdout"
        },
        {
          "output_type": "stream",
          "text": [
            "WARNING:root:Lossy conversion from float64 to uint8. Range [0, 1]. Convert image to uint8 prior to saving to suppress this warning.\n"
          ],
          "name": "stderr"
        },
        {
          "output_type": "stream",
          "text": [
            "/content/drive/MyDrive/COVID-META/STAR Work/COVID-19/COVID cases/augmented_image_1865.png\n",
            "/content/drive/MyDrive/COVID-META/STAR Work/COVID-19/COVID cases/augmented_image_1866.png\n"
          ],
          "name": "stdout"
        },
        {
          "output_type": "stream",
          "text": [
            "WARNING:root:Lossy conversion from float64 to uint8. Range [0, 1]. Convert image to uint8 prior to saving to suppress this warning.\n"
          ],
          "name": "stderr"
        },
        {
          "output_type": "stream",
          "text": [
            "/content/drive/MyDrive/COVID-META/STAR Work/COVID-19/COVID cases/augmented_image_1867.png\n"
          ],
          "name": "stdout"
        },
        {
          "output_type": "stream",
          "text": [
            "WARNING:root:Lossy conversion from float64 to uint8. Range [0, 1]. Convert image to uint8 prior to saving to suppress this warning.\n"
          ],
          "name": "stderr"
        },
        {
          "output_type": "stream",
          "text": [
            "/content/drive/MyDrive/COVID-META/STAR Work/COVID-19/COVID cases/augmented_image_1868.png\n",
            "/content/drive/MyDrive/COVID-META/STAR Work/COVID-19/Augmented/Tri_cov_161.jpg\n"
          ],
          "name": "stdout"
        },
        {
          "output_type": "stream",
          "text": [
            "WARNING:root:Lossy conversion from float64 to uint8. Range [0, 1]. Convert image to uint8 prior to saving to suppress this warning.\n"
          ],
          "name": "stderr"
        },
        {
          "output_type": "stream",
          "text": [
            "/content/drive/MyDrive/COVID-META/STAR Work/COVID-19/COVID cases/augmented_image_1869.png\n",
            "/content/drive/MyDrive/COVID-META/STAR Work/COVID-19/COVID cases/augmented_image_1870.png\n",
            "/content/drive/MyDrive/COVID-META/STAR Work/COVID-19/COVID cases/augmented_image_1871.png\n"
          ],
          "name": "stdout"
        },
        {
          "output_type": "stream",
          "text": [
            "WARNING:root:Lossy conversion from float64 to uint8. Range [0, 1]. Convert image to uint8 prior to saving to suppress this warning.\n"
          ],
          "name": "stderr"
        },
        {
          "output_type": "stream",
          "text": [
            "/content/drive/MyDrive/COVID-META/STAR Work/COVID-19/COVID cases/augmented_image_1872.png\n",
            "/content/drive/MyDrive/COVID-META/STAR Work/COVID-19/Augmented/Tri_cov_320.jpg\n"
          ],
          "name": "stdout"
        },
        {
          "output_type": "stream",
          "text": [
            "WARNING:root:Lossy conversion from float64 to uint8. Range [0, 1]. Convert image to uint8 prior to saving to suppress this warning.\n"
          ],
          "name": "stderr"
        },
        {
          "output_type": "stream",
          "text": [
            "/content/drive/MyDrive/COVID-META/STAR Work/COVID-19/COVID cases/augmented_image_1873.png\n"
          ],
          "name": "stdout"
        },
        {
          "output_type": "stream",
          "text": [
            "WARNING:root:Lossy conversion from float64 to uint8. Range [0, 1]. Convert image to uint8 prior to saving to suppress this warning.\n"
          ],
          "name": "stderr"
        },
        {
          "output_type": "stream",
          "text": [
            "/content/drive/MyDrive/COVID-META/STAR Work/COVID-19/COVID cases/augmented_image_1874.png\n",
            "/content/drive/MyDrive/COVID-META/STAR Work/COVID-19/Augmented/Tri_cov_544.jpg\n",
            "/content/drive/MyDrive/COVID-META/STAR Work/COVID-19/COVID cases/augmented_image_1875.png\n",
            "/content/drive/MyDrive/COVID-META/STAR Work/COVID-19/COVID cases/augmented_image_1876.png\n",
            "/content/drive/MyDrive/COVID-META/STAR Work/COVID-19/Augmented/Tri_cov_183.jpg\n",
            "/content/drive/MyDrive/COVID-META/STAR Work/COVID-19/COVID cases/augmented_image_1877.png\n",
            "/content/drive/MyDrive/COVID-META/STAR Work/COVID-19/COVID cases/augmented_image_1878.png\n",
            "/content/drive/MyDrive/COVID-META/STAR Work/COVID-19/COVID cases/augmented_image_1879.png\n"
          ],
          "name": "stdout"
        },
        {
          "output_type": "stream",
          "text": [
            "WARNING:root:Lossy conversion from float64 to uint8. Range [0, 1]. Convert image to uint8 prior to saving to suppress this warning.\n"
          ],
          "name": "stderr"
        },
        {
          "output_type": "stream",
          "text": [
            "/content/drive/MyDrive/COVID-META/STAR Work/COVID-19/COVID cases/augmented_image_1880.png\n",
            "/content/drive/MyDrive/COVID-META/STAR Work/COVID-19/Augmented/Tri_cov_510.jpg\n"
          ],
          "name": "stdout"
        },
        {
          "output_type": "stream",
          "text": [
            "WARNING:root:Lossy conversion from float64 to uint8. Range [0, 1]. Convert image to uint8 prior to saving to suppress this warning.\n"
          ],
          "name": "stderr"
        },
        {
          "output_type": "stream",
          "text": [
            "/content/drive/MyDrive/COVID-META/STAR Work/COVID-19/COVID cases/augmented_image_1881.png\n",
            "/content/drive/MyDrive/COVID-META/STAR Work/COVID-19/COVID cases/augmented_image_1882.png\n",
            "/content/drive/MyDrive/COVID-META/STAR Work/COVID-19/COVID cases/augmented_image_1883.png\n",
            "/content/drive/MyDrive/COVID-META/STAR Work/COVID-19/Augmented/Tri_cov_143.jpg\n",
            "/content/drive/MyDrive/COVID-META/STAR Work/COVID-19/COVID cases/augmented_image_1884.png\n"
          ],
          "name": "stdout"
        },
        {
          "output_type": "stream",
          "text": [
            "WARNING:root:Lossy conversion from float64 to uint8. Range [0, 1]. Convert image to uint8 prior to saving to suppress this warning.\n"
          ],
          "name": "stderr"
        },
        {
          "output_type": "stream",
          "text": [
            "/content/drive/MyDrive/COVID-META/STAR Work/COVID-19/COVID cases/augmented_image_1885.png\n",
            "/content/drive/MyDrive/COVID-META/STAR Work/COVID-19/Augmented/Tri_cov_496.jpg\n"
          ],
          "name": "stdout"
        },
        {
          "output_type": "stream",
          "text": [
            "WARNING:root:Lossy conversion from float64 to uint8. Range [0, 1]. Convert image to uint8 prior to saving to suppress this warning.\n",
            "WARNING:root:Lossy conversion from float64 to uint8. Range [0, 1]. Convert image to uint8 prior to saving to suppress this warning.\n"
          ],
          "name": "stderr"
        },
        {
          "output_type": "stream",
          "text": [
            "/content/drive/MyDrive/COVID-META/STAR Work/COVID-19/COVID cases/augmented_image_1886.png\n",
            "/content/drive/MyDrive/COVID-META/STAR Work/COVID-19/COVID cases/augmented_image_1887.png\n"
          ],
          "name": "stdout"
        },
        {
          "output_type": "stream",
          "text": [
            "WARNING:root:Lossy conversion from float64 to uint8. Range [0, 1]. Convert image to uint8 prior to saving to suppress this warning.\n",
            "WARNING:root:Lossy conversion from float64 to uint8. Range [0, 1]. Convert image to uint8 prior to saving to suppress this warning.\n"
          ],
          "name": "stderr"
        },
        {
          "output_type": "stream",
          "text": [
            "/content/drive/MyDrive/COVID-META/STAR Work/COVID-19/COVID cases/augmented_image_1888.png\n",
            "/content/drive/MyDrive/COVID-META/STAR Work/COVID-19/COVID cases/augmented_image_1889.png\n",
            "/content/drive/MyDrive/COVID-META/STAR Work/COVID-19/Augmented/Tri_cov_72.jpg\n",
            "/content/drive/MyDrive/COVID-META/STAR Work/COVID-19/COVID cases/augmented_image_1890.png\n",
            "/content/drive/MyDrive/COVID-META/STAR Work/COVID-19/COVID cases/augmented_image_1891.png\n"
          ],
          "name": "stdout"
        },
        {
          "output_type": "stream",
          "text": [
            "WARNING:root:Lossy conversion from float64 to uint8. Range [0, 1]. Convert image to uint8 prior to saving to suppress this warning.\n"
          ],
          "name": "stderr"
        },
        {
          "output_type": "stream",
          "text": [
            "/content/drive/MyDrive/COVID-META/STAR Work/COVID-19/COVID cases/augmented_image_1892.png\n",
            "/content/drive/MyDrive/COVID-META/STAR Work/COVID-19/Augmented/Tri_cov_74.jpg\n",
            "/content/drive/MyDrive/COVID-META/STAR Work/COVID-19/COVID cases/augmented_image_1893.png\n",
            "/content/drive/MyDrive/COVID-META/STAR Work/COVID-19/COVID cases/augmented_image_1894.png\n",
            "/content/drive/MyDrive/COVID-META/STAR Work/COVID-19/Augmented/Tri_cov_548.jpg\n"
          ],
          "name": "stdout"
        },
        {
          "output_type": "stream",
          "text": [
            "WARNING:root:Lossy conversion from float64 to uint8. Range [0, 1]. Convert image to uint8 prior to saving to suppress this warning.\n"
          ],
          "name": "stderr"
        },
        {
          "output_type": "stream",
          "text": [
            "/content/drive/MyDrive/COVID-META/STAR Work/COVID-19/COVID cases/augmented_image_1895.png\n",
            "/content/drive/MyDrive/COVID-META/STAR Work/COVID-19/COVID cases/augmented_image_1896.png\n",
            "/content/drive/MyDrive/COVID-META/STAR Work/COVID-19/Augmented/Tri_cov_331.jpg\n"
          ],
          "name": "stdout"
        },
        {
          "output_type": "stream",
          "text": [
            "WARNING:root:Lossy conversion from float64 to uint8. Range [0, 1]. Convert image to uint8 prior to saving to suppress this warning.\n"
          ],
          "name": "stderr"
        },
        {
          "output_type": "stream",
          "text": [
            "/content/drive/MyDrive/COVID-META/STAR Work/COVID-19/COVID cases/augmented_image_1897.png\n"
          ],
          "name": "stdout"
        },
        {
          "output_type": "stream",
          "text": [
            "WARNING:root:Lossy conversion from float64 to uint8. Range [0, 1]. Convert image to uint8 prior to saving to suppress this warning.\n"
          ],
          "name": "stderr"
        },
        {
          "output_type": "stream",
          "text": [
            "/content/drive/MyDrive/COVID-META/STAR Work/COVID-19/COVID cases/augmented_image_1898.png\n"
          ],
          "name": "stdout"
        },
        {
          "output_type": "stream",
          "text": [
            "WARNING:root:Lossy conversion from float64 to uint8. Range [0, 1]. Convert image to uint8 prior to saving to suppress this warning.\n"
          ],
          "name": "stderr"
        },
        {
          "output_type": "stream",
          "text": [
            "/content/drive/MyDrive/COVID-META/STAR Work/COVID-19/COVID cases/augmented_image_1899.png\n",
            "/content/drive/MyDrive/COVID-META/STAR Work/COVID-19/COVID cases/augmented_image_1900.png\n",
            "/content/drive/MyDrive/COVID-META/STAR Work/COVID-19/Augmented/Tri_cov_202.jpg\n",
            "/content/drive/MyDrive/COVID-META/STAR Work/COVID-19/COVID cases/augmented_image_1901.png\n"
          ],
          "name": "stdout"
        },
        {
          "output_type": "stream",
          "text": [
            "WARNING:root:Lossy conversion from float64 to uint8. Range [0, 1]. Convert image to uint8 prior to saving to suppress this warning.\n",
            "WARNING:root:Lossy conversion from float64 to uint8. Range [0, 1]. Convert image to uint8 prior to saving to suppress this warning.\n"
          ],
          "name": "stderr"
        },
        {
          "output_type": "stream",
          "text": [
            "/content/drive/MyDrive/COVID-META/STAR Work/COVID-19/COVID cases/augmented_image_1902.png\n",
            "/content/drive/MyDrive/COVID-META/STAR Work/COVID-19/Augmented/Tri_cov_105.jpg\n"
          ],
          "name": "stdout"
        },
        {
          "output_type": "stream",
          "text": [
            "WARNING:root:Lossy conversion from float64 to uint8. Range [0, 1]. Convert image to uint8 prior to saving to suppress this warning.\n"
          ],
          "name": "stderr"
        },
        {
          "output_type": "stream",
          "text": [
            "/content/drive/MyDrive/COVID-META/STAR Work/COVID-19/COVID cases/augmented_image_1903.png\n"
          ],
          "name": "stdout"
        },
        {
          "output_type": "stream",
          "text": [
            "WARNING:root:Lossy conversion from float64 to uint8. Range [0, 1]. Convert image to uint8 prior to saving to suppress this warning.\n"
          ],
          "name": "stderr"
        },
        {
          "output_type": "stream",
          "text": [
            "/content/drive/MyDrive/COVID-META/STAR Work/COVID-19/COVID cases/augmented_image_1904.png\n"
          ],
          "name": "stdout"
        },
        {
          "output_type": "stream",
          "text": [
            "WARNING:root:Lossy conversion from float64 to uint8. Range [0, 1]. Convert image to uint8 prior to saving to suppress this warning.\n"
          ],
          "name": "stderr"
        },
        {
          "output_type": "stream",
          "text": [
            "/content/drive/MyDrive/COVID-META/STAR Work/COVID-19/COVID cases/augmented_image_1905.png\n"
          ],
          "name": "stdout"
        },
        {
          "output_type": "stream",
          "text": [
            "WARNING:root:Lossy conversion from float64 to uint8. Range [0, 1]. Convert image to uint8 prior to saving to suppress this warning.\n"
          ],
          "name": "stderr"
        },
        {
          "output_type": "stream",
          "text": [
            "/content/drive/MyDrive/COVID-META/STAR Work/COVID-19/COVID cases/augmented_image_1906.png\n",
            "/content/drive/MyDrive/COVID-META/STAR Work/COVID-19/Augmented/Tri_cov_431.jpg\n"
          ],
          "name": "stdout"
        },
        {
          "output_type": "stream",
          "text": [
            "WARNING:root:Lossy conversion from float64 to uint8. Range [0, 1]. Convert image to uint8 prior to saving to suppress this warning.\n"
          ],
          "name": "stderr"
        },
        {
          "output_type": "stream",
          "text": [
            "/content/drive/MyDrive/COVID-META/STAR Work/COVID-19/COVID cases/augmented_image_1907.png\n"
          ],
          "name": "stdout"
        },
        {
          "output_type": "stream",
          "text": [
            "WARNING:root:Lossy conversion from float64 to uint8. Range [0, 1]. Convert image to uint8 prior to saving to suppress this warning.\n"
          ],
          "name": "stderr"
        },
        {
          "output_type": "stream",
          "text": [
            "/content/drive/MyDrive/COVID-META/STAR Work/COVID-19/COVID cases/augmented_image_1908.png\n",
            "/content/drive/MyDrive/COVID-META/STAR Work/COVID-19/Augmented/Tri_cov_456.jpg\n"
          ],
          "name": "stdout"
        },
        {
          "output_type": "stream",
          "text": [
            "WARNING:root:Lossy conversion from float64 to uint8. Range [0, 1]. Convert image to uint8 prior to saving to suppress this warning.\n"
          ],
          "name": "stderr"
        },
        {
          "output_type": "stream",
          "text": [
            "/content/drive/MyDrive/COVID-META/STAR Work/COVID-19/COVID cases/augmented_image_1909.png\n"
          ],
          "name": "stdout"
        },
        {
          "output_type": "stream",
          "text": [
            "WARNING:root:Lossy conversion from float64 to uint8. Range [0, 1]. Convert image to uint8 prior to saving to suppress this warning.\n"
          ],
          "name": "stderr"
        },
        {
          "output_type": "stream",
          "text": [
            "/content/drive/MyDrive/COVID-META/STAR Work/COVID-19/COVID cases/augmented_image_1910.png\n",
            "/content/drive/MyDrive/COVID-META/STAR Work/COVID-19/COVID cases/augmented_image_1911.png\n",
            "/content/drive/MyDrive/COVID-META/STAR Work/COVID-19/COVID cases/augmented_image_1912.png\n",
            "/content/drive/MyDrive/COVID-META/STAR Work/COVID-19/Augmented/Tri_cov_140.jpg\n"
          ],
          "name": "stdout"
        },
        {
          "output_type": "stream",
          "text": [
            "WARNING:root:Lossy conversion from float64 to uint8. Range [0, 1]. Convert image to uint8 prior to saving to suppress this warning.\n"
          ],
          "name": "stderr"
        },
        {
          "output_type": "stream",
          "text": [
            "/content/drive/MyDrive/COVID-META/STAR Work/COVID-19/COVID cases/augmented_image_1913.png\n",
            "/content/drive/MyDrive/COVID-META/STAR Work/COVID-19/COVID cases/augmented_image_1914.png\n"
          ],
          "name": "stdout"
        },
        {
          "output_type": "stream",
          "text": [
            "WARNING:root:Lossy conversion from float64 to uint8. Range [0, 1]. Convert image to uint8 prior to saving to suppress this warning.\n",
            "WARNING:root:Lossy conversion from float64 to uint8. Range [0, 1]. Convert image to uint8 prior to saving to suppress this warning.\n"
          ],
          "name": "stderr"
        },
        {
          "output_type": "stream",
          "text": [
            "/content/drive/MyDrive/COVID-META/STAR Work/COVID-19/COVID cases/augmented_image_1915.png\n",
            "/content/drive/MyDrive/COVID-META/STAR Work/COVID-19/COVID cases/augmented_image_1916.png\n",
            "/content/drive/MyDrive/COVID-META/STAR Work/COVID-19/Augmented/Tri_cov_44.jpg\n"
          ],
          "name": "stdout"
        },
        {
          "output_type": "stream",
          "text": [
            "WARNING:root:Lossy conversion from float64 to uint8. Range [0, 1]. Convert image to uint8 prior to saving to suppress this warning.\n"
          ],
          "name": "stderr"
        },
        {
          "output_type": "stream",
          "text": [
            "/content/drive/MyDrive/COVID-META/STAR Work/COVID-19/COVID cases/augmented_image_1917.png\n",
            "/content/drive/MyDrive/COVID-META/STAR Work/COVID-19/COVID cases/augmented_image_1918.png\n"
          ],
          "name": "stdout"
        },
        {
          "output_type": "stream",
          "text": [
            "WARNING:root:Lossy conversion from float64 to uint8. Range [0, 1]. Convert image to uint8 prior to saving to suppress this warning.\n"
          ],
          "name": "stderr"
        },
        {
          "output_type": "stream",
          "text": [
            "/content/drive/MyDrive/COVID-META/STAR Work/COVID-19/COVID cases/augmented_image_1919.png\n",
            "/content/drive/MyDrive/COVID-META/STAR Work/COVID-19/Augmented/Tri_cov_365.jpg\n"
          ],
          "name": "stdout"
        },
        {
          "output_type": "stream",
          "text": [
            "WARNING:root:Lossy conversion from float64 to uint8. Range [0, 1]. Convert image to uint8 prior to saving to suppress this warning.\n"
          ],
          "name": "stderr"
        },
        {
          "output_type": "stream",
          "text": [
            "/content/drive/MyDrive/COVID-META/STAR Work/COVID-19/COVID cases/augmented_image_1920.png\n"
          ],
          "name": "stdout"
        },
        {
          "output_type": "stream",
          "text": [
            "WARNING:root:Lossy conversion from float64 to uint8. Range [0, 1]. Convert image to uint8 prior to saving to suppress this warning.\n"
          ],
          "name": "stderr"
        },
        {
          "output_type": "stream",
          "text": [
            "/content/drive/MyDrive/COVID-META/STAR Work/COVID-19/COVID cases/augmented_image_1921.png\n",
            "/content/drive/MyDrive/COVID-META/STAR Work/COVID-19/Augmented/Tri_cov_3.jpg\n"
          ],
          "name": "stdout"
        },
        {
          "output_type": "stream",
          "text": [
            "WARNING:root:Lossy conversion from float64 to uint8. Range [0, 1]. Convert image to uint8 prior to saving to suppress this warning.\n"
          ],
          "name": "stderr"
        },
        {
          "output_type": "stream",
          "text": [
            "/content/drive/MyDrive/COVID-META/STAR Work/COVID-19/COVID cases/augmented_image_1922.png\n"
          ],
          "name": "stdout"
        },
        {
          "output_type": "stream",
          "text": [
            "WARNING:root:Lossy conversion from float64 to uint8. Range [0, 1]. Convert image to uint8 prior to saving to suppress this warning.\n"
          ],
          "name": "stderr"
        },
        {
          "output_type": "stream",
          "text": [
            "/content/drive/MyDrive/COVID-META/STAR Work/COVID-19/COVID cases/augmented_image_1923.png\n",
            "/content/drive/MyDrive/COVID-META/STAR Work/COVID-19/Augmented/Tri_cov_25.jpg\n"
          ],
          "name": "stdout"
        },
        {
          "output_type": "stream",
          "text": [
            "WARNING:root:Lossy conversion from float64 to uint8. Range [0, 1]. Convert image to uint8 prior to saving to suppress this warning.\n"
          ],
          "name": "stderr"
        },
        {
          "output_type": "stream",
          "text": [
            "/content/drive/MyDrive/COVID-META/STAR Work/COVID-19/COVID cases/augmented_image_1924.png\n",
            "/content/drive/MyDrive/COVID-META/STAR Work/COVID-19/COVID cases/augmented_image_1925.png\n"
          ],
          "name": "stdout"
        },
        {
          "output_type": "stream",
          "text": [
            "WARNING:root:Lossy conversion from float64 to uint8. Range [0, 1]. Convert image to uint8 prior to saving to suppress this warning.\n"
          ],
          "name": "stderr"
        },
        {
          "output_type": "stream",
          "text": [
            "/content/drive/MyDrive/COVID-META/STAR Work/COVID-19/COVID cases/augmented_image_1926.png\n"
          ],
          "name": "stdout"
        },
        {
          "output_type": "stream",
          "text": [
            "WARNING:root:Lossy conversion from float64 to uint8. Range [0, 1]. Convert image to uint8 prior to saving to suppress this warning.\n"
          ],
          "name": "stderr"
        },
        {
          "output_type": "stream",
          "text": [
            "/content/drive/MyDrive/COVID-META/STAR Work/COVID-19/COVID cases/augmented_image_1927.png\n",
            "/content/drive/MyDrive/COVID-META/STAR Work/COVID-19/Augmented/Tri_cov_39.jpg\n"
          ],
          "name": "stdout"
        },
        {
          "output_type": "stream",
          "text": [
            "WARNING:root:Lossy conversion from float64 to uint8. Range [0, 1]. Convert image to uint8 prior to saving to suppress this warning.\n"
          ],
          "name": "stderr"
        },
        {
          "output_type": "stream",
          "text": [
            "/content/drive/MyDrive/COVID-META/STAR Work/COVID-19/COVID cases/augmented_image_1928.png\n"
          ],
          "name": "stdout"
        },
        {
          "output_type": "stream",
          "text": [
            "WARNING:root:Lossy conversion from float64 to uint8. Range [0, 1]. Convert image to uint8 prior to saving to suppress this warning.\n"
          ],
          "name": "stderr"
        },
        {
          "output_type": "stream",
          "text": [
            "/content/drive/MyDrive/COVID-META/STAR Work/COVID-19/COVID cases/augmented_image_1929.png\n",
            "/content/drive/MyDrive/COVID-META/STAR Work/COVID-19/Augmented/Tri_cov_249.jpg\n"
          ],
          "name": "stdout"
        },
        {
          "output_type": "stream",
          "text": [
            "WARNING:root:Lossy conversion from float64 to uint8. Range [0, 1]. Convert image to uint8 prior to saving to suppress this warning.\n"
          ],
          "name": "stderr"
        },
        {
          "output_type": "stream",
          "text": [
            "/content/drive/MyDrive/COVID-META/STAR Work/COVID-19/COVID cases/augmented_image_1930.png\n"
          ],
          "name": "stdout"
        },
        {
          "output_type": "stream",
          "text": [
            "WARNING:root:Lossy conversion from float64 to uint8. Range [0, 1]. Convert image to uint8 prior to saving to suppress this warning.\n"
          ],
          "name": "stderr"
        },
        {
          "output_type": "stream",
          "text": [
            "/content/drive/MyDrive/COVID-META/STAR Work/COVID-19/COVID cases/augmented_image_1931.png\n"
          ],
          "name": "stdout"
        },
        {
          "output_type": "stream",
          "text": [
            "WARNING:root:Lossy conversion from float64 to uint8. Range [0, 1]. Convert image to uint8 prior to saving to suppress this warning.\n"
          ],
          "name": "stderr"
        },
        {
          "output_type": "stream",
          "text": [
            "/content/drive/MyDrive/COVID-META/STAR Work/COVID-19/COVID cases/augmented_image_1932.png\n"
          ],
          "name": "stdout"
        },
        {
          "output_type": "stream",
          "text": [
            "WARNING:root:Lossy conversion from float64 to uint8. Range [0, 1]. Convert image to uint8 prior to saving to suppress this warning.\n"
          ],
          "name": "stderr"
        },
        {
          "output_type": "stream",
          "text": [
            "/content/drive/MyDrive/COVID-META/STAR Work/COVID-19/Augmented/Tri_cov_365.jpg\n",
            "/content/drive/MyDrive/COVID-META/STAR Work/COVID-19/COVID cases/augmented_image_1933.png\n"
          ],
          "name": "stdout"
        },
        {
          "output_type": "stream",
          "text": [
            "WARNING:root:Lossy conversion from float64 to uint8. Range [0, 1]. Convert image to uint8 prior to saving to suppress this warning.\n"
          ],
          "name": "stderr"
        },
        {
          "output_type": "stream",
          "text": [
            "/content/drive/MyDrive/COVID-META/STAR Work/COVID-19/COVID cases/augmented_image_1934.png\n",
            "/content/drive/MyDrive/COVID-META/STAR Work/COVID-19/Augmented/Tri_cov_70.jpg\n"
          ],
          "name": "stdout"
        },
        {
          "output_type": "stream",
          "text": [
            "WARNING:root:Lossy conversion from float64 to uint8. Range [0, 1]. Convert image to uint8 prior to saving to suppress this warning.\n"
          ],
          "name": "stderr"
        },
        {
          "output_type": "stream",
          "text": [
            "/content/drive/MyDrive/COVID-META/STAR Work/COVID-19/COVID cases/augmented_image_1935.png\n",
            "/content/drive/MyDrive/COVID-META/STAR Work/COVID-19/COVID cases/augmented_image_1936.png\n",
            "/content/drive/MyDrive/COVID-META/STAR Work/COVID-19/Augmented/Tri_cov_513.jpg\n",
            "/content/drive/MyDrive/COVID-META/STAR Work/COVID-19/COVID cases/augmented_image_1937.png\n",
            "/content/drive/MyDrive/COVID-META/STAR Work/COVID-19/COVID cases/augmented_image_1938.png\n",
            "/content/drive/MyDrive/COVID-META/STAR Work/COVID-19/Augmented/Tri_cov_72.jpg\n",
            "/content/drive/MyDrive/COVID-META/STAR Work/COVID-19/COVID cases/augmented_image_1939.png\n"
          ],
          "name": "stdout"
        },
        {
          "output_type": "stream",
          "text": [
            "WARNING:root:Lossy conversion from float64 to uint8. Range [0, 1]. Convert image to uint8 prior to saving to suppress this warning.\n"
          ],
          "name": "stderr"
        },
        {
          "output_type": "stream",
          "text": [
            "/content/drive/MyDrive/COVID-META/STAR Work/COVID-19/COVID cases/augmented_image_1940.png\n"
          ],
          "name": "stdout"
        },
        {
          "output_type": "stream",
          "text": [
            "WARNING:root:Lossy conversion from float64 to uint8. Range [0, 1]. Convert image to uint8 prior to saving to suppress this warning.\n"
          ],
          "name": "stderr"
        },
        {
          "output_type": "stream",
          "text": [
            "/content/drive/MyDrive/COVID-META/STAR Work/COVID-19/COVID cases/augmented_image_1941.png\n"
          ],
          "name": "stdout"
        },
        {
          "output_type": "stream",
          "text": [
            "WARNING:root:Lossy conversion from float64 to uint8. Range [0, 1]. Convert image to uint8 prior to saving to suppress this warning.\n"
          ],
          "name": "stderr"
        },
        {
          "output_type": "stream",
          "text": [
            "/content/drive/MyDrive/COVID-META/STAR Work/COVID-19/COVID cases/augmented_image_1942.png\n",
            "/content/drive/MyDrive/COVID-META/STAR Work/COVID-19/Augmented/Tri_cov_568.jpg\n"
          ],
          "name": "stdout"
        },
        {
          "output_type": "stream",
          "text": [
            "WARNING:root:Lossy conversion from float64 to uint8. Range [0, 1]. Convert image to uint8 prior to saving to suppress this warning.\n"
          ],
          "name": "stderr"
        },
        {
          "output_type": "stream",
          "text": [
            "/content/drive/MyDrive/COVID-META/STAR Work/COVID-19/COVID cases/augmented_image_1943.png\n",
            "/content/drive/MyDrive/COVID-META/STAR Work/COVID-19/COVID cases/augmented_image_1944.png\n",
            "/content/drive/MyDrive/COVID-META/STAR Work/COVID-19/Augmented/Tri_cov_461.jpg\n"
          ],
          "name": "stdout"
        },
        {
          "output_type": "stream",
          "text": [
            "WARNING:root:Lossy conversion from float64 to uint8. Range [0, 1]. Convert image to uint8 prior to saving to suppress this warning.\n"
          ],
          "name": "stderr"
        },
        {
          "output_type": "stream",
          "text": [
            "/content/drive/MyDrive/COVID-META/STAR Work/COVID-19/COVID cases/augmented_image_1945.png\n"
          ],
          "name": "stdout"
        },
        {
          "output_type": "stream",
          "text": [
            "WARNING:root:Lossy conversion from float64 to uint8. Range [0, 1]. Convert image to uint8 prior to saving to suppress this warning.\n"
          ],
          "name": "stderr"
        },
        {
          "output_type": "stream",
          "text": [
            "/content/drive/MyDrive/COVID-META/STAR Work/COVID-19/COVID cases/augmented_image_1946.png\n",
            "/content/drive/MyDrive/COVID-META/STAR Work/COVID-19/Augmented/Tri_cov_355.jpg\n",
            "/content/drive/MyDrive/COVID-META/STAR Work/COVID-19/COVID cases/augmented_image_1947.png\n"
          ],
          "name": "stdout"
        },
        {
          "output_type": "stream",
          "text": [
            "WARNING:root:Lossy conversion from float64 to uint8. Range [0, 1]. Convert image to uint8 prior to saving to suppress this warning.\n"
          ],
          "name": "stderr"
        },
        {
          "output_type": "stream",
          "text": [
            "/content/drive/MyDrive/COVID-META/STAR Work/COVID-19/COVID cases/augmented_image_1948.png\n"
          ],
          "name": "stdout"
        },
        {
          "output_type": "stream",
          "text": [
            "WARNING:root:Lossy conversion from float64 to uint8. Range [0, 1]. Convert image to uint8 prior to saving to suppress this warning.\n"
          ],
          "name": "stderr"
        },
        {
          "output_type": "stream",
          "text": [
            "/content/drive/MyDrive/COVID-META/STAR Work/COVID-19/COVID cases/augmented_image_1949.png\n",
            "/content/drive/MyDrive/COVID-META/STAR Work/COVID-19/Augmented/Tri_cov_531.jpg\n",
            "/content/drive/MyDrive/COVID-META/STAR Work/COVID-19/COVID cases/augmented_image_1950.png\n",
            "/content/drive/MyDrive/COVID-META/STAR Work/COVID-19/COVID cases/augmented_image_1951.png\n",
            "/content/drive/MyDrive/COVID-META/STAR Work/COVID-19/Augmented/Tri_cov_552.jpg\n"
          ],
          "name": "stdout"
        },
        {
          "output_type": "stream",
          "text": [
            "WARNING:root:Lossy conversion from float64 to uint8. Range [0, 1]. Convert image to uint8 prior to saving to suppress this warning.\n"
          ],
          "name": "stderr"
        },
        {
          "output_type": "stream",
          "text": [
            "/content/drive/MyDrive/COVID-META/STAR Work/COVID-19/COVID cases/augmented_image_1952.png\n",
            "/content/drive/MyDrive/COVID-META/STAR Work/COVID-19/COVID cases/augmented_image_1953.png\n",
            "/content/drive/MyDrive/COVID-META/STAR Work/COVID-19/COVID cases/augmented_image_1954.png\n",
            "/content/drive/MyDrive/COVID-META/STAR Work/COVID-19/Augmented/Tri_cov_419.jpg\n"
          ],
          "name": "stdout"
        },
        {
          "output_type": "stream",
          "text": [
            "WARNING:root:Lossy conversion from float64 to uint8. Range [0, 1]. Convert image to uint8 prior to saving to suppress this warning.\n"
          ],
          "name": "stderr"
        },
        {
          "output_type": "stream",
          "text": [
            "/content/drive/MyDrive/COVID-META/STAR Work/COVID-19/COVID cases/augmented_image_1955.png\n",
            "/content/drive/MyDrive/COVID-META/STAR Work/COVID-19/COVID cases/augmented_image_1956.png\n"
          ],
          "name": "stdout"
        },
        {
          "output_type": "stream",
          "text": [
            "WARNING:root:Lossy conversion from float64 to uint8. Range [0, 1]. Convert image to uint8 prior to saving to suppress this warning.\n"
          ],
          "name": "stderr"
        },
        {
          "output_type": "stream",
          "text": [
            "/content/drive/MyDrive/COVID-META/STAR Work/COVID-19/COVID cases/augmented_image_1957.png\n",
            "/content/drive/MyDrive/COVID-META/STAR Work/COVID-19/COVID cases/augmented_image_1958.png\n",
            "/content/drive/MyDrive/COVID-META/STAR Work/COVID-19/Augmented/Tri_cov_524.jpg\n"
          ],
          "name": "stdout"
        },
        {
          "output_type": "stream",
          "text": [
            "WARNING:root:Lossy conversion from float64 to uint8. Range [0, 1]. Convert image to uint8 prior to saving to suppress this warning.\n",
            "WARNING:root:Lossy conversion from float64 to uint8. Range [0, 1]. Convert image to uint8 prior to saving to suppress this warning.\n"
          ],
          "name": "stderr"
        },
        {
          "output_type": "stream",
          "text": [
            "/content/drive/MyDrive/COVID-META/STAR Work/COVID-19/COVID cases/augmented_image_1959.png\n",
            "/content/drive/MyDrive/COVID-META/STAR Work/COVID-19/COVID cases/augmented_image_1960.png\n",
            "/content/drive/MyDrive/COVID-META/STAR Work/COVID-19/Augmented/Tri_cov_461.jpg\n"
          ],
          "name": "stdout"
        },
        {
          "output_type": "stream",
          "text": [
            "WARNING:root:Lossy conversion from float64 to uint8. Range [0, 1]. Convert image to uint8 prior to saving to suppress this warning.\n"
          ],
          "name": "stderr"
        },
        {
          "output_type": "stream",
          "text": [
            "/content/drive/MyDrive/COVID-META/STAR Work/COVID-19/COVID cases/augmented_image_1961.png\n"
          ],
          "name": "stdout"
        },
        {
          "output_type": "stream",
          "text": [
            "WARNING:root:Lossy conversion from float64 to uint8. Range [0, 1]. Convert image to uint8 prior to saving to suppress this warning.\n"
          ],
          "name": "stderr"
        },
        {
          "output_type": "stream",
          "text": [
            "/content/drive/MyDrive/COVID-META/STAR Work/COVID-19/COVID cases/augmented_image_1962.png\n"
          ],
          "name": "stdout"
        },
        {
          "output_type": "stream",
          "text": [
            "WARNING:root:Lossy conversion from float64 to uint8. Range [0, 1]. Convert image to uint8 prior to saving to suppress this warning.\n"
          ],
          "name": "stderr"
        },
        {
          "output_type": "stream",
          "text": [
            "/content/drive/MyDrive/COVID-META/STAR Work/COVID-19/Augmented/Tri_cov_515.jpg\n",
            "/content/drive/MyDrive/COVID-META/STAR Work/COVID-19/COVID cases/augmented_image_1963.png\n",
            "/content/drive/MyDrive/COVID-META/STAR Work/COVID-19/COVID cases/augmented_image_1964.png\n"
          ],
          "name": "stdout"
        },
        {
          "output_type": "stream",
          "text": [
            "WARNING:root:Lossy conversion from float64 to uint8. Range [0, 1]. Convert image to uint8 prior to saving to suppress this warning.\n",
            "WARNING:root:Lossy conversion from float64 to uint8. Range [0, 1]. Convert image to uint8 prior to saving to suppress this warning.\n"
          ],
          "name": "stderr"
        },
        {
          "output_type": "stream",
          "text": [
            "/content/drive/MyDrive/COVID-META/STAR Work/COVID-19/COVID cases/augmented_image_1965.png\n",
            "/content/drive/MyDrive/COVID-META/STAR Work/COVID-19/COVID cases/augmented_image_1966.png\n",
            "/content/drive/MyDrive/COVID-META/STAR Work/COVID-19/Augmented/Tri_cov_238.jpg\n",
            "/content/drive/MyDrive/COVID-META/STAR Work/COVID-19/COVID cases/augmented_image_1967.png\n",
            "/content/drive/MyDrive/COVID-META/STAR Work/COVID-19/COVID cases/augmented_image_1968.png\n",
            "/content/drive/MyDrive/COVID-META/STAR Work/COVID-19/Augmented/Tri_cov_542.jpg\n"
          ],
          "name": "stdout"
        },
        {
          "output_type": "stream",
          "text": [
            "WARNING:root:Lossy conversion from float64 to uint8. Range [0, 1]. Convert image to uint8 prior to saving to suppress this warning.\n"
          ],
          "name": "stderr"
        },
        {
          "output_type": "stream",
          "text": [
            "/content/drive/MyDrive/COVID-META/STAR Work/COVID-19/COVID cases/augmented_image_1969.png\n",
            "/content/drive/MyDrive/COVID-META/STAR Work/COVID-19/COVID cases/augmented_image_1970.png\n"
          ],
          "name": "stdout"
        },
        {
          "output_type": "stream",
          "text": [
            "WARNING:root:Lossy conversion from float64 to uint8. Range [0, 1]. Convert image to uint8 prior to saving to suppress this warning.\n"
          ],
          "name": "stderr"
        },
        {
          "output_type": "stream",
          "text": [
            "/content/drive/MyDrive/COVID-META/STAR Work/COVID-19/COVID cases/augmented_image_1971.png\n",
            "/content/drive/MyDrive/COVID-META/STAR Work/COVID-19/Augmented/Tri_cov_101.jpg\n"
          ],
          "name": "stdout"
        },
        {
          "output_type": "stream",
          "text": [
            "WARNING:root:Lossy conversion from float64 to uint8. Range [0, 1]. Convert image to uint8 prior to saving to suppress this warning.\n"
          ],
          "name": "stderr"
        },
        {
          "output_type": "stream",
          "text": [
            "/content/drive/MyDrive/COVID-META/STAR Work/COVID-19/COVID cases/augmented_image_1972.png\n",
            "/content/drive/MyDrive/COVID-META/STAR Work/COVID-19/COVID cases/augmented_image_1973.png\n"
          ],
          "name": "stdout"
        },
        {
          "output_type": "stream",
          "text": [
            "WARNING:root:Lossy conversion from float64 to uint8. Range [0, 1]. Convert image to uint8 prior to saving to suppress this warning.\n"
          ],
          "name": "stderr"
        },
        {
          "output_type": "stream",
          "text": [
            "/content/drive/MyDrive/COVID-META/STAR Work/COVID-19/COVID cases/augmented_image_1974.png\n",
            "/content/drive/MyDrive/COVID-META/STAR Work/COVID-19/Augmented/Tri_cov_188.jpg\n"
          ],
          "name": "stdout"
        },
        {
          "output_type": "stream",
          "text": [
            "WARNING:root:Lossy conversion from float64 to uint8. Range [0, 1]. Convert image to uint8 prior to saving to suppress this warning.\n"
          ],
          "name": "stderr"
        },
        {
          "output_type": "stream",
          "text": [
            "/content/drive/MyDrive/COVID-META/STAR Work/COVID-19/COVID cases/augmented_image_1975.png\n"
          ],
          "name": "stdout"
        },
        {
          "output_type": "stream",
          "text": [
            "WARNING:root:Lossy conversion from float64 to uint8. Range [0, 1]. Convert image to uint8 prior to saving to suppress this warning.\n"
          ],
          "name": "stderr"
        },
        {
          "output_type": "stream",
          "text": [
            "/content/drive/MyDrive/COVID-META/STAR Work/COVID-19/COVID cases/augmented_image_1976.png\n",
            "/content/drive/MyDrive/COVID-META/STAR Work/COVID-19/COVID cases/augmented_image_1977.png\n",
            "/content/drive/MyDrive/COVID-META/STAR Work/COVID-19/Augmented/Tri_cov_47.jpg\n"
          ],
          "name": "stdout"
        },
        {
          "output_type": "stream",
          "text": [
            "WARNING:root:Lossy conversion from float64 to uint8. Range [0, 1]. Convert image to uint8 prior to saving to suppress this warning.\n"
          ],
          "name": "stderr"
        },
        {
          "output_type": "stream",
          "text": [
            "/content/drive/MyDrive/COVID-META/STAR Work/COVID-19/COVID cases/augmented_image_1978.png\n",
            "/content/drive/MyDrive/COVID-META/STAR Work/COVID-19/COVID cases/augmented_image_1979.png\n",
            "/content/drive/MyDrive/COVID-META/STAR Work/COVID-19/COVID cases/augmented_image_1980.png\n",
            "/content/drive/MyDrive/COVID-META/STAR Work/COVID-19/Augmented/Tri_cov_315.jpg\n"
          ],
          "name": "stdout"
        },
        {
          "output_type": "stream",
          "text": [
            "WARNING:root:Lossy conversion from float64 to uint8. Range [0, 1]. Convert image to uint8 prior to saving to suppress this warning.\n"
          ],
          "name": "stderr"
        },
        {
          "output_type": "stream",
          "text": [
            "/content/drive/MyDrive/COVID-META/STAR Work/COVID-19/COVID cases/augmented_image_1981.png\n"
          ],
          "name": "stdout"
        },
        {
          "output_type": "stream",
          "text": [
            "WARNING:root:Lossy conversion from float64 to uint8. Range [0, 1]. Convert image to uint8 prior to saving to suppress this warning.\n"
          ],
          "name": "stderr"
        },
        {
          "output_type": "stream",
          "text": [
            "/content/drive/MyDrive/COVID-META/STAR Work/COVID-19/COVID cases/augmented_image_1982.png\n"
          ],
          "name": "stdout"
        },
        {
          "output_type": "stream",
          "text": [
            "WARNING:root:Lossy conversion from float64 to uint8. Range [0, 1]. Convert image to uint8 prior to saving to suppress this warning.\n"
          ],
          "name": "stderr"
        },
        {
          "output_type": "stream",
          "text": [
            "/content/drive/MyDrive/COVID-META/STAR Work/COVID-19/COVID cases/augmented_image_1983.png\n",
            "/content/drive/MyDrive/COVID-META/STAR Work/COVID-19/COVID cases/augmented_image_1984.png\n",
            "/content/drive/MyDrive/COVID-META/STAR Work/COVID-19/Augmented/Tri_cov_516.jpg\n"
          ],
          "name": "stdout"
        },
        {
          "output_type": "stream",
          "text": [
            "WARNING:root:Lossy conversion from float64 to uint8. Range [0, 1]. Convert image to uint8 prior to saving to suppress this warning.\n"
          ],
          "name": "stderr"
        },
        {
          "output_type": "stream",
          "text": [
            "/content/drive/MyDrive/COVID-META/STAR Work/COVID-19/COVID cases/augmented_image_1985.png\n",
            "/content/drive/MyDrive/COVID-META/STAR Work/COVID-19/COVID cases/augmented_image_1986.png\n",
            "/content/drive/MyDrive/COVID-META/STAR Work/COVID-19/COVID cases/augmented_image_1987.png\n",
            "/content/drive/MyDrive/COVID-META/STAR Work/COVID-19/Augmented/Tri_cov_47.jpg\n"
          ],
          "name": "stdout"
        },
        {
          "output_type": "stream",
          "text": [
            "WARNING:root:Lossy conversion from float64 to uint8. Range [0, 1]. Convert image to uint8 prior to saving to suppress this warning.\n"
          ],
          "name": "stderr"
        },
        {
          "output_type": "stream",
          "text": [
            "/content/drive/MyDrive/COVID-META/STAR Work/COVID-19/COVID cases/augmented_image_1988.png\n",
            "/content/drive/MyDrive/COVID-META/STAR Work/COVID-19/COVID cases/augmented_image_1989.png\n",
            "/content/drive/MyDrive/COVID-META/STAR Work/COVID-19/COVID cases/augmented_image_1990.png\n"
          ],
          "name": "stdout"
        },
        {
          "output_type": "stream",
          "text": [
            "WARNING:root:Lossy conversion from float64 to uint8. Range [0, 1]. Convert image to uint8 prior to saving to suppress this warning.\n"
          ],
          "name": "stderr"
        },
        {
          "output_type": "stream",
          "text": [
            "/content/drive/MyDrive/COVID-META/STAR Work/COVID-19/COVID cases/augmented_image_1991.png\n",
            "/content/drive/MyDrive/COVID-META/STAR Work/COVID-19/Augmented/Tri_cov_451.jpg\n",
            "/content/drive/MyDrive/COVID-META/STAR Work/COVID-19/COVID cases/augmented_image_1992.png\n"
          ],
          "name": "stdout"
        },
        {
          "output_type": "stream",
          "text": [
            "WARNING:root:Lossy conversion from float64 to uint8. Range [0, 1]. Convert image to uint8 prior to saving to suppress this warning.\n"
          ],
          "name": "stderr"
        },
        {
          "output_type": "stream",
          "text": [
            "/content/drive/MyDrive/COVID-META/STAR Work/COVID-19/COVID cases/augmented_image_1993.png\n",
            "/content/drive/MyDrive/COVID-META/STAR Work/COVID-19/COVID cases/augmented_image_1994.png\n",
            "/content/drive/MyDrive/COVID-META/STAR Work/COVID-19/Augmented/Tri_cov_108.jpg\n"
          ],
          "name": "stdout"
        },
        {
          "output_type": "stream",
          "text": [
            "WARNING:root:Lossy conversion from float64 to uint8. Range [0, 1]. Convert image to uint8 prior to saving to suppress this warning.\n",
            "WARNING:root:Lossy conversion from float64 to uint8. Range [0, 1]. Convert image to uint8 prior to saving to suppress this warning.\n"
          ],
          "name": "stderr"
        },
        {
          "output_type": "stream",
          "text": [
            "/content/drive/MyDrive/COVID-META/STAR Work/COVID-19/COVID cases/augmented_image_1995.png\n",
            "/content/drive/MyDrive/COVID-META/STAR Work/COVID-19/COVID cases/augmented_image_1996.png\n",
            "/content/drive/MyDrive/COVID-META/STAR Work/COVID-19/COVID cases/augmented_image_1997.png\n",
            "/content/drive/MyDrive/COVID-META/STAR Work/COVID-19/Augmented/Tri_cov_498.jpg\n"
          ],
          "name": "stdout"
        },
        {
          "output_type": "stream",
          "text": [
            "WARNING:root:Lossy conversion from float64 to uint8. Range [0, 1]. Convert image to uint8 prior to saving to suppress this warning.\n"
          ],
          "name": "stderr"
        },
        {
          "output_type": "stream",
          "text": [
            "/content/drive/MyDrive/COVID-META/STAR Work/COVID-19/COVID cases/augmented_image_1998.png\n"
          ],
          "name": "stdout"
        },
        {
          "output_type": "stream",
          "text": [
            "WARNING:root:Lossy conversion from float64 to uint8. Range [0, 1]. Convert image to uint8 prior to saving to suppress this warning.\n"
          ],
          "name": "stderr"
        },
        {
          "output_type": "stream",
          "text": [
            "/content/drive/MyDrive/COVID-META/STAR Work/COVID-19/COVID cases/augmented_image_1999.png\n",
            "/content/drive/MyDrive/COVID-META/STAR Work/COVID-19/Augmented/Tri_cov_45.jpg\n",
            "/content/drive/MyDrive/COVID-META/STAR Work/COVID-19/COVID cases/augmented_image_2000.png\n"
          ],
          "name": "stdout"
        },
        {
          "output_type": "stream",
          "text": [
            "WARNING:root:Lossy conversion from float64 to uint8. Range [0, 1]. Convert image to uint8 prior to saving to suppress this warning.\n"
          ],
          "name": "stderr"
        },
        {
          "output_type": "stream",
          "text": [
            "/content/drive/MyDrive/COVID-META/STAR Work/COVID-19/COVID cases/augmented_image_2001.png\n",
            "/content/drive/MyDrive/COVID-META/STAR Work/COVID-19/COVID cases/augmented_image_2002.png\n",
            "/content/drive/MyDrive/COVID-META/STAR Work/COVID-19/Augmented/Tri_cov_579.jpg\n",
            "/content/drive/MyDrive/COVID-META/STAR Work/COVID-19/COVID cases/augmented_image_2003.png\n"
          ],
          "name": "stdout"
        },
        {
          "output_type": "stream",
          "text": [
            "WARNING:root:Lossy conversion from float64 to uint8. Range [0, 1]. Convert image to uint8 prior to saving to suppress this warning.\n"
          ],
          "name": "stderr"
        },
        {
          "output_type": "stream",
          "text": [
            "/content/drive/MyDrive/COVID-META/STAR Work/COVID-19/COVID cases/augmented_image_2004.png\n"
          ],
          "name": "stdout"
        },
        {
          "output_type": "stream",
          "text": [
            "WARNING:root:Lossy conversion from float64 to uint8. Range [0, 1]. Convert image to uint8 prior to saving to suppress this warning.\n"
          ],
          "name": "stderr"
        },
        {
          "output_type": "stream",
          "text": [
            "/content/drive/MyDrive/COVID-META/STAR Work/COVID-19/COVID cases/augmented_image_2005.png\n"
          ],
          "name": "stdout"
        },
        {
          "output_type": "stream",
          "text": [
            "WARNING:root:Lossy conversion from float64 to uint8. Range [0, 1]. Convert image to uint8 prior to saving to suppress this warning.\n"
          ],
          "name": "stderr"
        },
        {
          "output_type": "stream",
          "text": [
            "/content/drive/MyDrive/COVID-META/STAR Work/COVID-19/Augmented/Tri_cov_375.jpg\n"
          ],
          "name": "stdout"
        },
        {
          "output_type": "stream",
          "text": [
            "WARNING:root:Lossy conversion from float64 to uint8. Range [0, 1]. Convert image to uint8 prior to saving to suppress this warning.\n"
          ],
          "name": "stderr"
        },
        {
          "output_type": "stream",
          "text": [
            "/content/drive/MyDrive/COVID-META/STAR Work/COVID-19/COVID cases/augmented_image_2006.png\n"
          ],
          "name": "stdout"
        },
        {
          "output_type": "stream",
          "text": [
            "WARNING:root:Lossy conversion from float64 to uint8. Range [0, 1]. Convert image to uint8 prior to saving to suppress this warning.\n"
          ],
          "name": "stderr"
        },
        {
          "output_type": "stream",
          "text": [
            "/content/drive/MyDrive/COVID-META/STAR Work/COVID-19/COVID cases/augmented_image_2007.png\n"
          ],
          "name": "stdout"
        },
        {
          "output_type": "stream",
          "text": [
            "WARNING:root:Lossy conversion from float64 to uint8. Range [0, 1]. Convert image to uint8 prior to saving to suppress this warning.\n"
          ],
          "name": "stderr"
        },
        {
          "output_type": "stream",
          "text": [
            "/content/drive/MyDrive/COVID-META/STAR Work/COVID-19/COVID cases/augmented_image_2008.png\n",
            "/content/drive/MyDrive/COVID-META/STAR Work/COVID-19/Augmented/Tri_cov_312.jpg\n"
          ],
          "name": "stdout"
        },
        {
          "output_type": "stream",
          "text": [
            "WARNING:root:Lossy conversion from float64 to uint8. Range [0, 1]. Convert image to uint8 prior to saving to suppress this warning.\n"
          ],
          "name": "stderr"
        },
        {
          "output_type": "stream",
          "text": [
            "/content/drive/MyDrive/COVID-META/STAR Work/COVID-19/COVID cases/augmented_image_2009.png\n",
            "/content/drive/MyDrive/COVID-META/STAR Work/COVID-19/COVID cases/augmented_image_2010.png\n",
            "/content/drive/MyDrive/COVID-META/STAR Work/COVID-19/COVID cases/augmented_image_2011.png\n",
            "/content/drive/MyDrive/COVID-META/STAR Work/COVID-19/Augmented/Tri_cov_356.jpg\n"
          ],
          "name": "stdout"
        },
        {
          "output_type": "stream",
          "text": [
            "WARNING:root:Lossy conversion from float64 to uint8. Range [0, 1]. Convert image to uint8 prior to saving to suppress this warning.\n"
          ],
          "name": "stderr"
        },
        {
          "output_type": "stream",
          "text": [
            "/content/drive/MyDrive/COVID-META/STAR Work/COVID-19/COVID cases/augmented_image_2012.png\n"
          ],
          "name": "stdout"
        },
        {
          "output_type": "stream",
          "text": [
            "WARNING:root:Lossy conversion from float64 to uint8. Range [0, 1]. Convert image to uint8 prior to saving to suppress this warning.\n"
          ],
          "name": "stderr"
        },
        {
          "output_type": "stream",
          "text": [
            "/content/drive/MyDrive/COVID-META/STAR Work/COVID-19/COVID cases/augmented_image_2013.png\n"
          ],
          "name": "stdout"
        },
        {
          "output_type": "stream",
          "text": [
            "WARNING:root:Lossy conversion from float64 to uint8. Range [0, 1]. Convert image to uint8 prior to saving to suppress this warning.\n"
          ],
          "name": "stderr"
        },
        {
          "output_type": "stream",
          "text": [
            "/content/drive/MyDrive/COVID-META/STAR Work/COVID-19/COVID cases/augmented_image_2014.png\n",
            "/content/drive/MyDrive/COVID-META/STAR Work/COVID-19/Augmented/Tri_cov_545.jpg\n"
          ],
          "name": "stdout"
        },
        {
          "output_type": "stream",
          "text": [
            "WARNING:root:Lossy conversion from float64 to uint8. Range [0, 1]. Convert image to uint8 prior to saving to suppress this warning.\n",
            "WARNING:root:Lossy conversion from float64 to uint8. Range [0, 1]. Convert image to uint8 prior to saving to suppress this warning.\n"
          ],
          "name": "stderr"
        },
        {
          "output_type": "stream",
          "text": [
            "/content/drive/MyDrive/COVID-META/STAR Work/COVID-19/COVID cases/augmented_image_2015.png\n",
            "/content/drive/MyDrive/COVID-META/STAR Work/COVID-19/COVID cases/augmented_image_2016.png\n"
          ],
          "name": "stdout"
        },
        {
          "output_type": "stream",
          "text": [
            "WARNING:root:Lossy conversion from float64 to uint8. Range [0, 1]. Convert image to uint8 prior to saving to suppress this warning.\n"
          ],
          "name": "stderr"
        },
        {
          "output_type": "stream",
          "text": [
            "/content/drive/MyDrive/COVID-META/STAR Work/COVID-19/COVID cases/augmented_image_2017.png\n",
            "/content/drive/MyDrive/COVID-META/STAR Work/COVID-19/COVID cases/augmented_image_2018.png\n",
            "/content/drive/MyDrive/COVID-META/STAR Work/COVID-19/Augmented/Tri_cov_92.jpg\n",
            "/content/drive/MyDrive/COVID-META/STAR Work/COVID-19/COVID cases/augmented_image_2019.png\n",
            "/content/drive/MyDrive/COVID-META/STAR Work/COVID-19/COVID cases/augmented_image_2020.png\n"
          ],
          "name": "stdout"
        },
        {
          "output_type": "stream",
          "text": [
            "WARNING:root:Lossy conversion from float64 to uint8. Range [0, 1]. Convert image to uint8 prior to saving to suppress this warning.\n"
          ],
          "name": "stderr"
        },
        {
          "output_type": "stream",
          "text": [
            "/content/drive/MyDrive/COVID-META/STAR Work/COVID-19/COVID cases/augmented_image_2021.png\n",
            "/content/drive/MyDrive/COVID-META/STAR Work/COVID-19/Augmented/Tri_cov_44.jpg\n",
            "/content/drive/MyDrive/COVID-META/STAR Work/COVID-19/COVID cases/augmented_image_2022.png\n"
          ],
          "name": "stdout"
        },
        {
          "output_type": "stream",
          "text": [
            "WARNING:root:Lossy conversion from float64 to uint8. Range [0, 1]. Convert image to uint8 prior to saving to suppress this warning.\n"
          ],
          "name": "stderr"
        },
        {
          "output_type": "stream",
          "text": [
            "/content/drive/MyDrive/COVID-META/STAR Work/COVID-19/COVID cases/augmented_image_2023.png\n",
            "/content/drive/MyDrive/COVID-META/STAR Work/COVID-19/COVID cases/augmented_image_2024.png\n"
          ],
          "name": "stdout"
        },
        {
          "output_type": "stream",
          "text": [
            "WARNING:root:Lossy conversion from float64 to uint8. Range [0, 1]. Convert image to uint8 prior to saving to suppress this warning.\n"
          ],
          "name": "stderr"
        },
        {
          "output_type": "stream",
          "text": [
            "/content/drive/MyDrive/COVID-META/STAR Work/COVID-19/COVID cases/augmented_image_2025.png\n",
            "/content/drive/MyDrive/COVID-META/STAR Work/COVID-19/Augmented/Tri_cov_150.jpg\n"
          ],
          "name": "stdout"
        },
        {
          "output_type": "stream",
          "text": [
            "WARNING:root:Lossy conversion from float64 to uint8. Range [0, 1]. Convert image to uint8 prior to saving to suppress this warning.\n"
          ],
          "name": "stderr"
        },
        {
          "output_type": "stream",
          "text": [
            "/content/drive/MyDrive/COVID-META/STAR Work/COVID-19/COVID cases/augmented_image_2026.png\n"
          ],
          "name": "stdout"
        },
        {
          "output_type": "stream",
          "text": [
            "WARNING:root:Lossy conversion from float64 to uint8. Range [0, 1]. Convert image to uint8 prior to saving to suppress this warning.\n"
          ],
          "name": "stderr"
        },
        {
          "output_type": "stream",
          "text": [
            "/content/drive/MyDrive/COVID-META/STAR Work/COVID-19/COVID cases/augmented_image_2027.png\n"
          ],
          "name": "stdout"
        },
        {
          "output_type": "stream",
          "text": [
            "WARNING:root:Lossy conversion from float64 to uint8. Range [0, 1]. Convert image to uint8 prior to saving to suppress this warning.\n"
          ],
          "name": "stderr"
        },
        {
          "output_type": "stream",
          "text": [
            "/content/drive/MyDrive/COVID-META/STAR Work/COVID-19/COVID cases/augmented_image_2028.png\n"
          ],
          "name": "stdout"
        },
        {
          "output_type": "stream",
          "text": [
            "WARNING:root:Lossy conversion from float64 to uint8. Range [0, 1]. Convert image to uint8 prior to saving to suppress this warning.\n"
          ],
          "name": "stderr"
        },
        {
          "output_type": "stream",
          "text": [
            "/content/drive/MyDrive/COVID-META/STAR Work/COVID-19/COVID cases/augmented_image_2029.png\n",
            "/content/drive/MyDrive/COVID-META/STAR Work/COVID-19/Augmented/Tri_cov_364.jpg\n"
          ],
          "name": "stdout"
        },
        {
          "output_type": "stream",
          "text": [
            "WARNING:root:Lossy conversion from float64 to uint8. Range [0, 1]. Convert image to uint8 prior to saving to suppress this warning.\n"
          ],
          "name": "stderr"
        },
        {
          "output_type": "stream",
          "text": [
            "/content/drive/MyDrive/COVID-META/STAR Work/COVID-19/COVID cases/augmented_image_2030.png\n"
          ],
          "name": "stdout"
        },
        {
          "output_type": "stream",
          "text": [
            "WARNING:root:Lossy conversion from float64 to uint8. Range [0, 1]. Convert image to uint8 prior to saving to suppress this warning.\n"
          ],
          "name": "stderr"
        },
        {
          "output_type": "stream",
          "text": [
            "/content/drive/MyDrive/COVID-META/STAR Work/COVID-19/COVID cases/augmented_image_2031.png\n"
          ],
          "name": "stdout"
        },
        {
          "output_type": "stream",
          "text": [
            "WARNING:root:Lossy conversion from float64 to uint8. Range [0, 1]. Convert image to uint8 prior to saving to suppress this warning.\n"
          ],
          "name": "stderr"
        },
        {
          "output_type": "stream",
          "text": [
            "/content/drive/MyDrive/COVID-META/STAR Work/COVID-19/COVID cases/augmented_image_2032.png\n",
            "/content/drive/MyDrive/COVID-META/STAR Work/COVID-19/COVID cases/augmented_image_2033.png\n",
            "/content/drive/MyDrive/COVID-META/STAR Work/COVID-19/Augmented/Tri_cov_382.jpg\n"
          ],
          "name": "stdout"
        },
        {
          "output_type": "stream",
          "text": [
            "WARNING:root:Lossy conversion from float64 to uint8. Range [0, 1]. Convert image to uint8 prior to saving to suppress this warning.\n"
          ],
          "name": "stderr"
        },
        {
          "output_type": "stream",
          "text": [
            "/content/drive/MyDrive/COVID-META/STAR Work/COVID-19/COVID cases/augmented_image_2034.png\n"
          ],
          "name": "stdout"
        },
        {
          "output_type": "stream",
          "text": [
            "WARNING:root:Lossy conversion from float64 to uint8. Range [0, 1]. Convert image to uint8 prior to saving to suppress this warning.\n"
          ],
          "name": "stderr"
        },
        {
          "output_type": "stream",
          "text": [
            "/content/drive/MyDrive/COVID-META/STAR Work/COVID-19/COVID cases/augmented_image_2035.png\n",
            "/content/drive/MyDrive/COVID-META/STAR Work/COVID-19/COVID cases/augmented_image_2036.png\n",
            "/content/drive/MyDrive/COVID-META/STAR Work/COVID-19/Augmented/Tri_cov_406.jpg\n"
          ],
          "name": "stdout"
        },
        {
          "output_type": "stream",
          "text": [
            "WARNING:root:Lossy conversion from float64 to uint8. Range [0, 1]. Convert image to uint8 prior to saving to suppress this warning.\n"
          ],
          "name": "stderr"
        },
        {
          "output_type": "stream",
          "text": [
            "/content/drive/MyDrive/COVID-META/STAR Work/COVID-19/COVID cases/augmented_image_2037.png\n"
          ],
          "name": "stdout"
        },
        {
          "output_type": "stream",
          "text": [
            "WARNING:root:Lossy conversion from float64 to uint8. Range [0, 1]. Convert image to uint8 prior to saving to suppress this warning.\n"
          ],
          "name": "stderr"
        },
        {
          "output_type": "stream",
          "text": [
            "/content/drive/MyDrive/COVID-META/STAR Work/COVID-19/COVID cases/augmented_image_2038.png\n"
          ],
          "name": "stdout"
        },
        {
          "output_type": "stream",
          "text": [
            "WARNING:root:Lossy conversion from float64 to uint8. Range [0, 1]. Convert image to uint8 prior to saving to suppress this warning.\n"
          ],
          "name": "stderr"
        },
        {
          "output_type": "stream",
          "text": [
            "/content/drive/MyDrive/COVID-META/STAR Work/COVID-19/COVID cases/augmented_image_2039.png\n"
          ],
          "name": "stdout"
        },
        {
          "output_type": "stream",
          "text": [
            "WARNING:root:Lossy conversion from float64 to uint8. Range [0, 1]. Convert image to uint8 prior to saving to suppress this warning.\n"
          ],
          "name": "stderr"
        },
        {
          "output_type": "stream",
          "text": [
            "/content/drive/MyDrive/COVID-META/STAR Work/COVID-19/COVID cases/augmented_image_2040.png\n",
            "/content/drive/MyDrive/COVID-META/STAR Work/COVID-19/Augmented/Tri_cov_151.jpg\n"
          ],
          "name": "stdout"
        },
        {
          "output_type": "stream",
          "text": [
            "WARNING:root:Lossy conversion from float64 to uint8. Range [0, 1]. Convert image to uint8 prior to saving to suppress this warning.\n"
          ],
          "name": "stderr"
        },
        {
          "output_type": "stream",
          "text": [
            "/content/drive/MyDrive/COVID-META/STAR Work/COVID-19/COVID cases/augmented_image_2041.png\n",
            "/content/drive/MyDrive/COVID-META/STAR Work/COVID-19/COVID cases/augmented_image_2042.png\n"
          ],
          "name": "stdout"
        },
        {
          "output_type": "stream",
          "text": [
            "WARNING:root:Lossy conversion from float64 to uint8. Range [0, 1]. Convert image to uint8 prior to saving to suppress this warning.\n"
          ],
          "name": "stderr"
        },
        {
          "output_type": "stream",
          "text": [
            "/content/drive/MyDrive/COVID-META/STAR Work/COVID-19/COVID cases/augmented_image_2043.png\n",
            "/content/drive/MyDrive/COVID-META/STAR Work/COVID-19/Augmented/Tri_cov_511.jpg\n"
          ],
          "name": "stdout"
        },
        {
          "output_type": "stream",
          "text": [
            "WARNING:root:Lossy conversion from float64 to uint8. Range [0, 1]. Convert image to uint8 prior to saving to suppress this warning.\n"
          ],
          "name": "stderr"
        },
        {
          "output_type": "stream",
          "text": [
            "/content/drive/MyDrive/COVID-META/STAR Work/COVID-19/COVID cases/augmented_image_2044.png\n",
            "/content/drive/MyDrive/COVID-META/STAR Work/COVID-19/COVID cases/augmented_image_2045.png\n"
          ],
          "name": "stdout"
        },
        {
          "output_type": "stream",
          "text": [
            "WARNING:root:Lossy conversion from float64 to uint8. Range [0, 1]. Convert image to uint8 prior to saving to suppress this warning.\n"
          ],
          "name": "stderr"
        },
        {
          "output_type": "stream",
          "text": [
            "/content/drive/MyDrive/COVID-META/STAR Work/COVID-19/COVID cases/augmented_image_2046.png\n",
            "/content/drive/MyDrive/COVID-META/STAR Work/COVID-19/Augmented/Tri_cov_283.jpg\n"
          ],
          "name": "stdout"
        },
        {
          "output_type": "stream",
          "text": [
            "WARNING:root:Lossy conversion from float64 to uint8. Range [0, 1]. Convert image to uint8 prior to saving to suppress this warning.\n"
          ],
          "name": "stderr"
        },
        {
          "output_type": "stream",
          "text": [
            "/content/drive/MyDrive/COVID-META/STAR Work/COVID-19/COVID cases/augmented_image_2047.png\n"
          ],
          "name": "stdout"
        },
        {
          "output_type": "stream",
          "text": [
            "WARNING:root:Lossy conversion from float64 to uint8. Range [0, 1]. Convert image to uint8 prior to saving to suppress this warning.\n"
          ],
          "name": "stderr"
        },
        {
          "output_type": "stream",
          "text": [
            "/content/drive/MyDrive/COVID-META/STAR Work/COVID-19/COVID cases/augmented_image_2048.png\n",
            "/content/drive/MyDrive/COVID-META/STAR Work/COVID-19/Augmented/Tri_cov_308.jpg\n"
          ],
          "name": "stdout"
        },
        {
          "output_type": "stream",
          "text": [
            "WARNING:root:Lossy conversion from float64 to uint8. Range [0, 1]. Convert image to uint8 prior to saving to suppress this warning.\n"
          ],
          "name": "stderr"
        },
        {
          "output_type": "stream",
          "text": [
            "/content/drive/MyDrive/COVID-META/STAR Work/COVID-19/COVID cases/augmented_image_2049.png\n"
          ],
          "name": "stdout"
        },
        {
          "output_type": "stream",
          "text": [
            "WARNING:root:Lossy conversion from float64 to uint8. Range [0, 1]. Convert image to uint8 prior to saving to suppress this warning.\n"
          ],
          "name": "stderr"
        },
        {
          "output_type": "stream",
          "text": [
            "/content/drive/MyDrive/COVID-META/STAR Work/COVID-19/COVID cases/augmented_image_2050.png\n"
          ],
          "name": "stdout"
        },
        {
          "output_type": "stream",
          "text": [
            "WARNING:root:Lossy conversion from float64 to uint8. Range [0, 1]. Convert image to uint8 prior to saving to suppress this warning.\n"
          ],
          "name": "stderr"
        },
        {
          "output_type": "stream",
          "text": [
            "/content/drive/MyDrive/COVID-META/STAR Work/COVID-19/COVID cases/augmented_image_2051.png\n"
          ],
          "name": "stdout"
        },
        {
          "output_type": "stream",
          "text": [
            "WARNING:root:Lossy conversion from float64 to uint8. Range [0, 1]. Convert image to uint8 prior to saving to suppress this warning.\n"
          ],
          "name": "stderr"
        },
        {
          "output_type": "stream",
          "text": [
            "/content/drive/MyDrive/COVID-META/STAR Work/COVID-19/COVID cases/augmented_image_2052.png\n",
            "/content/drive/MyDrive/COVID-META/STAR Work/COVID-19/Augmented/Tri_cov_459.jpg\n"
          ],
          "name": "stdout"
        },
        {
          "output_type": "stream",
          "text": [
            "WARNING:root:Lossy conversion from float64 to uint8. Range [0, 1]. Convert image to uint8 prior to saving to suppress this warning.\n"
          ],
          "name": "stderr"
        },
        {
          "output_type": "stream",
          "text": [
            "/content/drive/MyDrive/COVID-META/STAR Work/COVID-19/COVID cases/augmented_image_2053.png\n"
          ],
          "name": "stdout"
        },
        {
          "output_type": "stream",
          "text": [
            "WARNING:root:Lossy conversion from float64 to uint8. Range [0, 1]. Convert image to uint8 prior to saving to suppress this warning.\n"
          ],
          "name": "stderr"
        },
        {
          "output_type": "stream",
          "text": [
            "/content/drive/MyDrive/COVID-META/STAR Work/COVID-19/COVID cases/augmented_image_2054.png\n"
          ],
          "name": "stdout"
        },
        {
          "output_type": "stream",
          "text": [
            "WARNING:root:Lossy conversion from float64 to uint8. Range [0, 1]. Convert image to uint8 prior to saving to suppress this warning.\n"
          ],
          "name": "stderr"
        },
        {
          "output_type": "stream",
          "text": [
            "/content/drive/MyDrive/COVID-META/STAR Work/COVID-19/COVID cases/augmented_image_2055.png\n",
            "/content/drive/MyDrive/COVID-META/STAR Work/COVID-19/COVID cases/augmented_image_2056.png\n",
            "/content/drive/MyDrive/COVID-META/STAR Work/COVID-19/Augmented/Tri_cov_117.jpg\n",
            "/content/drive/MyDrive/COVID-META/STAR Work/COVID-19/COVID cases/augmented_image_2057.png\n",
            "/content/drive/MyDrive/COVID-META/STAR Work/COVID-19/COVID cases/augmented_image_2058.png\n",
            "/content/drive/MyDrive/COVID-META/STAR Work/COVID-19/Augmented/Tri_cov_307.jpg\n",
            "/content/drive/MyDrive/COVID-META/STAR Work/COVID-19/COVID cases/augmented_image_2059.png\n"
          ],
          "name": "stdout"
        },
        {
          "output_type": "stream",
          "text": [
            "WARNING:root:Lossy conversion from float64 to uint8. Range [0, 1]. Convert image to uint8 prior to saving to suppress this warning.\n"
          ],
          "name": "stderr"
        },
        {
          "output_type": "stream",
          "text": [
            "/content/drive/MyDrive/COVID-META/STAR Work/COVID-19/COVID cases/augmented_image_2060.png\n",
            "/content/drive/MyDrive/COVID-META/STAR Work/COVID-19/Augmented/Tri_cov_79.jpg\n"
          ],
          "name": "stdout"
        },
        {
          "output_type": "stream",
          "text": [
            "WARNING:root:Lossy conversion from float64 to uint8. Range [0, 1]. Convert image to uint8 prior to saving to suppress this warning.\n"
          ],
          "name": "stderr"
        },
        {
          "output_type": "stream",
          "text": [
            "/content/drive/MyDrive/COVID-META/STAR Work/COVID-19/COVID cases/augmented_image_2061.png\n"
          ],
          "name": "stdout"
        },
        {
          "output_type": "stream",
          "text": [
            "WARNING:root:Lossy conversion from float64 to uint8. Range [0, 1]. Convert image to uint8 prior to saving to suppress this warning.\n"
          ],
          "name": "stderr"
        },
        {
          "output_type": "stream",
          "text": [
            "/content/drive/MyDrive/COVID-META/STAR Work/COVID-19/COVID cases/augmented_image_2062.png\n",
            "/content/drive/MyDrive/COVID-META/STAR Work/COVID-19/Augmented/Tri_cov_209.jpg\n"
          ],
          "name": "stdout"
        },
        {
          "output_type": "stream",
          "text": [
            "WARNING:root:Lossy conversion from float64 to uint8. Range [0, 1]. Convert image to uint8 prior to saving to suppress this warning.\n"
          ],
          "name": "stderr"
        },
        {
          "output_type": "stream",
          "text": [
            "/content/drive/MyDrive/COVID-META/STAR Work/COVID-19/COVID cases/augmented_image_2063.png\n",
            "/content/drive/MyDrive/COVID-META/STAR Work/COVID-19/COVID cases/augmented_image_2064.png\n",
            "/content/drive/MyDrive/COVID-META/STAR Work/COVID-19/COVID cases/augmented_image_2065.png\n",
            "/content/drive/MyDrive/COVID-META/STAR Work/COVID-19/COVID cases/augmented_image_2066.png\n",
            "/content/drive/MyDrive/COVID-META/STAR Work/COVID-19/Augmented/Tri_cov_61.jpg\n",
            "/content/drive/MyDrive/COVID-META/STAR Work/COVID-19/COVID cases/augmented_image_2067.png\n"
          ],
          "name": "stdout"
        },
        {
          "output_type": "stream",
          "text": [
            "WARNING:root:Lossy conversion from float64 to uint8. Range [0, 1]. Convert image to uint8 prior to saving to suppress this warning.\n"
          ],
          "name": "stderr"
        },
        {
          "output_type": "stream",
          "text": [
            "/content/drive/MyDrive/COVID-META/STAR Work/COVID-19/COVID cases/augmented_image_2068.png\n"
          ],
          "name": "stdout"
        },
        {
          "output_type": "stream",
          "text": [
            "WARNING:root:Lossy conversion from float64 to uint8. Range [0, 1]. Convert image to uint8 prior to saving to suppress this warning.\n"
          ],
          "name": "stderr"
        },
        {
          "output_type": "stream",
          "text": [
            "/content/drive/MyDrive/COVID-META/STAR Work/COVID-19/COVID cases/augmented_image_2069.png\n",
            "/content/drive/MyDrive/COVID-META/STAR Work/COVID-19/COVID cases/augmented_image_2070.png\n",
            "/content/drive/MyDrive/COVID-META/STAR Work/COVID-19/Augmented/Tri_cov_90.jpg\n"
          ],
          "name": "stdout"
        },
        {
          "output_type": "stream",
          "text": [
            "WARNING:root:Lossy conversion from float64 to uint8. Range [0, 1]. Convert image to uint8 prior to saving to suppress this warning.\n"
          ],
          "name": "stderr"
        },
        {
          "output_type": "stream",
          "text": [
            "/content/drive/MyDrive/COVID-META/STAR Work/COVID-19/COVID cases/augmented_image_2071.png\n",
            "/content/drive/MyDrive/COVID-META/STAR Work/COVID-19/COVID cases/augmented_image_2072.png\n",
            "/content/drive/MyDrive/COVID-META/STAR Work/COVID-19/Augmented/Tri_cov_457.jpg\n"
          ],
          "name": "stdout"
        },
        {
          "output_type": "stream",
          "text": [
            "WARNING:root:Lossy conversion from float64 to uint8. Range [0, 1]. Convert image to uint8 prior to saving to suppress this warning.\n"
          ],
          "name": "stderr"
        },
        {
          "output_type": "stream",
          "text": [
            "/content/drive/MyDrive/COVID-META/STAR Work/COVID-19/COVID cases/augmented_image_2073.png\n",
            "/content/drive/MyDrive/COVID-META/STAR Work/COVID-19/COVID cases/augmented_image_2074.png\n"
          ],
          "name": "stdout"
        },
        {
          "output_type": "stream",
          "text": [
            "WARNING:root:Lossy conversion from float64 to uint8. Range [0, 1]. Convert image to uint8 prior to saving to suppress this warning.\n"
          ],
          "name": "stderr"
        },
        {
          "output_type": "stream",
          "text": [
            "/content/drive/MyDrive/COVID-META/STAR Work/COVID-19/COVID cases/augmented_image_2075.png\n",
            "/content/drive/MyDrive/COVID-META/STAR Work/COVID-19/COVID cases/augmented_image_2076.png\n",
            "/content/drive/MyDrive/COVID-META/STAR Work/COVID-19/Augmented/Tri_cov_479.jpg\n"
          ],
          "name": "stdout"
        },
        {
          "output_type": "stream",
          "text": [
            "WARNING:root:Lossy conversion from float64 to uint8. Range [0, 1]. Convert image to uint8 prior to saving to suppress this warning.\n"
          ],
          "name": "stderr"
        },
        {
          "output_type": "stream",
          "text": [
            "/content/drive/MyDrive/COVID-META/STAR Work/COVID-19/COVID cases/augmented_image_2077.png\n",
            "/content/drive/MyDrive/COVID-META/STAR Work/COVID-19/COVID cases/augmented_image_2078.png\n"
          ],
          "name": "stdout"
        },
        {
          "output_type": "stream",
          "text": [
            "WARNING:root:Lossy conversion from float64 to uint8. Range [0, 1]. Convert image to uint8 prior to saving to suppress this warning.\n"
          ],
          "name": "stderr"
        },
        {
          "output_type": "stream",
          "text": [
            "/content/drive/MyDrive/COVID-META/STAR Work/COVID-19/COVID cases/augmented_image_2079.png\n",
            "/content/drive/MyDrive/COVID-META/STAR Work/COVID-19/Augmented/Tri_cov_324.jpg\n"
          ],
          "name": "stdout"
        },
        {
          "output_type": "stream",
          "text": [
            "WARNING:root:Lossy conversion from float64 to uint8. Range [0, 1]. Convert image to uint8 prior to saving to suppress this warning.\n"
          ],
          "name": "stderr"
        },
        {
          "output_type": "stream",
          "text": [
            "/content/drive/MyDrive/COVID-META/STAR Work/COVID-19/COVID cases/augmented_image_2080.png\n"
          ],
          "name": "stdout"
        },
        {
          "output_type": "stream",
          "text": [
            "WARNING:root:Lossy conversion from float64 to uint8. Range [0, 1]. Convert image to uint8 prior to saving to suppress this warning.\n"
          ],
          "name": "stderr"
        },
        {
          "output_type": "stream",
          "text": [
            "/content/drive/MyDrive/COVID-META/STAR Work/COVID-19/COVID cases/augmented_image_2081.png\n",
            "/content/drive/MyDrive/COVID-META/STAR Work/COVID-19/Augmented/Tri_cov_138.jpg\n",
            "/content/drive/MyDrive/COVID-META/STAR Work/COVID-19/COVID cases/augmented_image_2082.png\n",
            "/content/drive/MyDrive/COVID-META/STAR Work/COVID-19/COVID cases/augmented_image_2083.png\n"
          ],
          "name": "stdout"
        },
        {
          "output_type": "stream",
          "text": [
            "WARNING:root:Lossy conversion from float64 to uint8. Range [0, 1]. Convert image to uint8 prior to saving to suppress this warning.\n"
          ],
          "name": "stderr"
        },
        {
          "output_type": "stream",
          "text": [
            "/content/drive/MyDrive/COVID-META/STAR Work/COVID-19/COVID cases/augmented_image_2084.png\n",
            "/content/drive/MyDrive/COVID-META/STAR Work/COVID-19/Augmented/Tri_cov_413.jpg\n",
            "/content/drive/MyDrive/COVID-META/STAR Work/COVID-19/COVID cases/augmented_image_2085.png\n"
          ],
          "name": "stdout"
        },
        {
          "output_type": "stream",
          "text": [
            "WARNING:root:Lossy conversion from float64 to uint8. Range [0, 1]. Convert image to uint8 prior to saving to suppress this warning.\n"
          ],
          "name": "stderr"
        },
        {
          "output_type": "stream",
          "text": [
            "/content/drive/MyDrive/COVID-META/STAR Work/COVID-19/COVID cases/augmented_image_2086.png\n"
          ],
          "name": "stdout"
        },
        {
          "output_type": "stream",
          "text": [
            "WARNING:root:Lossy conversion from float64 to uint8. Range [0, 1]. Convert image to uint8 prior to saving to suppress this warning.\n"
          ],
          "name": "stderr"
        },
        {
          "output_type": "stream",
          "text": [
            "/content/drive/MyDrive/COVID-META/STAR Work/COVID-19/COVID cases/augmented_image_2087.png\n",
            "/content/drive/MyDrive/COVID-META/STAR Work/COVID-19/Augmented/Tri_cov_472.jpg\n"
          ],
          "name": "stdout"
        },
        {
          "output_type": "stream",
          "text": [
            "WARNING:root:Lossy conversion from float64 to uint8. Range [0, 1]. Convert image to uint8 prior to saving to suppress this warning.\n"
          ],
          "name": "stderr"
        },
        {
          "output_type": "stream",
          "text": [
            "/content/drive/MyDrive/COVID-META/STAR Work/COVID-19/COVID cases/augmented_image_2088.png\n"
          ],
          "name": "stdout"
        },
        {
          "output_type": "stream",
          "text": [
            "WARNING:root:Lossy conversion from float64 to uint8. Range [0, 1]. Convert image to uint8 prior to saving to suppress this warning.\n"
          ],
          "name": "stderr"
        },
        {
          "output_type": "stream",
          "text": [
            "/content/drive/MyDrive/COVID-META/STAR Work/COVID-19/COVID cases/augmented_image_2089.png\n",
            "/content/drive/MyDrive/COVID-META/STAR Work/COVID-19/Augmented/Tri_cov_51.jpg\n"
          ],
          "name": "stdout"
        },
        {
          "output_type": "stream",
          "text": [
            "WARNING:root:Lossy conversion from float64 to uint8. Range [0, 1]. Convert image to uint8 prior to saving to suppress this warning.\n"
          ],
          "name": "stderr"
        },
        {
          "output_type": "stream",
          "text": [
            "/content/drive/MyDrive/COVID-META/STAR Work/COVID-19/COVID cases/augmented_image_2090.png\n"
          ],
          "name": "stdout"
        },
        {
          "output_type": "stream",
          "text": [
            "WARNING:root:Lossy conversion from float64 to uint8. Range [0, 1]. Convert image to uint8 prior to saving to suppress this warning.\n"
          ],
          "name": "stderr"
        },
        {
          "output_type": "stream",
          "text": [
            "/content/drive/MyDrive/COVID-META/STAR Work/COVID-19/COVID cases/augmented_image_2091.png\n",
            "/content/drive/MyDrive/COVID-META/STAR Work/COVID-19/COVID cases/augmented_image_2092.png\n"
          ],
          "name": "stdout"
        },
        {
          "output_type": "stream",
          "text": [
            "WARNING:root:Lossy conversion from float64 to uint8. Range [0, 1]. Convert image to uint8 prior to saving to suppress this warning.\n"
          ],
          "name": "stderr"
        },
        {
          "output_type": "stream",
          "text": [
            "/content/drive/MyDrive/COVID-META/STAR Work/COVID-19/COVID cases/augmented_image_2093.png\n",
            "/content/drive/MyDrive/COVID-META/STAR Work/COVID-19/Augmented/Tri_cov_452.jpg\n"
          ],
          "name": "stdout"
        },
        {
          "output_type": "stream",
          "text": [
            "WARNING:root:Lossy conversion from float64 to uint8. Range [0, 1]. Convert image to uint8 prior to saving to suppress this warning.\n"
          ],
          "name": "stderr"
        },
        {
          "output_type": "stream",
          "text": [
            "/content/drive/MyDrive/COVID-META/STAR Work/COVID-19/COVID cases/augmented_image_2094.png\n"
          ],
          "name": "stdout"
        },
        {
          "output_type": "stream",
          "text": [
            "WARNING:root:Lossy conversion from float64 to uint8. Range [0, 1]. Convert image to uint8 prior to saving to suppress this warning.\n"
          ],
          "name": "stderr"
        },
        {
          "output_type": "stream",
          "text": [
            "/content/drive/MyDrive/COVID-META/STAR Work/COVID-19/COVID cases/augmented_image_2095.png\n",
            "/content/drive/MyDrive/COVID-META/STAR Work/COVID-19/COVID cases/augmented_image_2096.png\n",
            "/content/drive/MyDrive/COVID-META/STAR Work/COVID-19/Augmented/Tri_cov_563.jpg\n"
          ],
          "name": "stdout"
        },
        {
          "output_type": "stream",
          "text": [
            "WARNING:root:Lossy conversion from float64 to uint8. Range [0, 1]. Convert image to uint8 prior to saving to suppress this warning.\n"
          ],
          "name": "stderr"
        },
        {
          "output_type": "stream",
          "text": [
            "/content/drive/MyDrive/COVID-META/STAR Work/COVID-19/COVID cases/augmented_image_2097.png\n"
          ],
          "name": "stdout"
        },
        {
          "output_type": "stream",
          "text": [
            "WARNING:root:Lossy conversion from float64 to uint8. Range [0, 1]. Convert image to uint8 prior to saving to suppress this warning.\n"
          ],
          "name": "stderr"
        },
        {
          "output_type": "stream",
          "text": [
            "/content/drive/MyDrive/COVID-META/STAR Work/COVID-19/COVID cases/augmented_image_2098.png\n"
          ],
          "name": "stdout"
        },
        {
          "output_type": "stream",
          "text": [
            "WARNING:root:Lossy conversion from float64 to uint8. Range [0, 1]. Convert image to uint8 prior to saving to suppress this warning.\n"
          ],
          "name": "stderr"
        },
        {
          "output_type": "stream",
          "text": [
            "/content/drive/MyDrive/COVID-META/STAR Work/COVID-19/COVID cases/augmented_image_2099.png\n",
            "/content/drive/MyDrive/COVID-META/STAR Work/COVID-19/Augmented/Tri_cov_215.jpg\n",
            "/content/drive/MyDrive/COVID-META/STAR Work/COVID-19/COVID cases/augmented_image_2100.png\n",
            "/content/drive/MyDrive/COVID-META/STAR Work/COVID-19/COVID cases/augmented_image_2101.png\n"
          ],
          "name": "stdout"
        },
        {
          "output_type": "stream",
          "text": [
            "WARNING:root:Lossy conversion from float64 to uint8. Range [0, 1]. Convert image to uint8 prior to saving to suppress this warning.\n"
          ],
          "name": "stderr"
        },
        {
          "output_type": "stream",
          "text": [
            "/content/drive/MyDrive/COVID-META/STAR Work/COVID-19/COVID cases/augmented_image_2102.png\n"
          ],
          "name": "stdout"
        },
        {
          "output_type": "stream",
          "text": [
            "WARNING:root:Lossy conversion from float64 to uint8. Range [0, 1]. Convert image to uint8 prior to saving to suppress this warning.\n"
          ],
          "name": "stderr"
        },
        {
          "output_type": "stream",
          "text": [
            "/content/drive/MyDrive/COVID-META/STAR Work/COVID-19/Augmented/Tri_cov_577.jpg\n",
            "/content/drive/MyDrive/COVID-META/STAR Work/COVID-19/COVID cases/augmented_image_2103.png\n"
          ],
          "name": "stdout"
        },
        {
          "output_type": "stream",
          "text": [
            "WARNING:root:Lossy conversion from float64 to uint8. Range [0, 1]. Convert image to uint8 prior to saving to suppress this warning.\n"
          ],
          "name": "stderr"
        },
        {
          "output_type": "stream",
          "text": [
            "/content/drive/MyDrive/COVID-META/STAR Work/COVID-19/COVID cases/augmented_image_2104.png\n",
            "/content/drive/MyDrive/COVID-META/STAR Work/COVID-19/Augmented/Tri_cov_531.jpg\n",
            "/content/drive/MyDrive/COVID-META/STAR Work/COVID-19/COVID cases/augmented_image_2105.png\n",
            "/content/drive/MyDrive/COVID-META/STAR Work/COVID-19/COVID cases/augmented_image_2106.png\n",
            "/content/drive/MyDrive/COVID-META/STAR Work/COVID-19/Augmented/Tri_cov_491.jpg\n"
          ],
          "name": "stdout"
        },
        {
          "output_type": "stream",
          "text": [
            "WARNING:root:Lossy conversion from float64 to uint8. Range [0, 1]. Convert image to uint8 prior to saving to suppress this warning.\n"
          ],
          "name": "stderr"
        },
        {
          "output_type": "stream",
          "text": [
            "/content/drive/MyDrive/COVID-META/STAR Work/COVID-19/COVID cases/augmented_image_2107.png\n",
            "/content/drive/MyDrive/COVID-META/STAR Work/COVID-19/COVID cases/augmented_image_2108.png\n",
            "/content/drive/MyDrive/COVID-META/STAR Work/COVID-19/Augmented/Tri_cov_58.jpg\n"
          ],
          "name": "stdout"
        },
        {
          "output_type": "stream",
          "text": [
            "WARNING:root:Lossy conversion from float64 to uint8. Range [0, 1]. Convert image to uint8 prior to saving to suppress this warning.\n"
          ],
          "name": "stderr"
        },
        {
          "output_type": "stream",
          "text": [
            "/content/drive/MyDrive/COVID-META/STAR Work/COVID-19/COVID cases/augmented_image_2109.png\n"
          ],
          "name": "stdout"
        },
        {
          "output_type": "stream",
          "text": [
            "WARNING:root:Lossy conversion from float64 to uint8. Range [0, 1]. Convert image to uint8 prior to saving to suppress this warning.\n"
          ],
          "name": "stderr"
        },
        {
          "output_type": "stream",
          "text": [
            "/content/drive/MyDrive/COVID-META/STAR Work/COVID-19/COVID cases/augmented_image_2110.png\n",
            "/content/drive/MyDrive/COVID-META/STAR Work/COVID-19/COVID cases/augmented_image_2111.png\n",
            "/content/drive/MyDrive/COVID-META/STAR Work/COVID-19/Augmented/Tri_cov_520.jpg\n",
            "/content/drive/MyDrive/COVID-META/STAR Work/COVID-19/COVID cases/augmented_image_2112.png\n"
          ],
          "name": "stdout"
        },
        {
          "output_type": "stream",
          "text": [
            "WARNING:root:Lossy conversion from float64 to uint8. Range [0, 1]. Convert image to uint8 prior to saving to suppress this warning.\n"
          ],
          "name": "stderr"
        },
        {
          "output_type": "stream",
          "text": [
            "/content/drive/MyDrive/COVID-META/STAR Work/COVID-19/COVID cases/augmented_image_2113.png\n"
          ],
          "name": "stdout"
        },
        {
          "output_type": "stream",
          "text": [
            "WARNING:root:Lossy conversion from float64 to uint8. Range [0, 1]. Convert image to uint8 prior to saving to suppress this warning.\n"
          ],
          "name": "stderr"
        },
        {
          "output_type": "stream",
          "text": [
            "/content/drive/MyDrive/COVID-META/STAR Work/COVID-19/COVID cases/augmented_image_2114.png\n",
            "/content/drive/MyDrive/COVID-META/STAR Work/COVID-19/Augmented/Tri_cov_129.jpg\n",
            "/content/drive/MyDrive/COVID-META/STAR Work/COVID-19/COVID cases/augmented_image_2115.png\n",
            "/content/drive/MyDrive/COVID-META/STAR Work/COVID-19/COVID cases/augmented_image_2116.png\n",
            "/content/drive/MyDrive/COVID-META/STAR Work/COVID-19/COVID cases/augmented_image_2117.png\n"
          ],
          "name": "stdout"
        },
        {
          "output_type": "stream",
          "text": [
            "WARNING:root:Lossy conversion from float64 to uint8. Range [0, 1]. Convert image to uint8 prior to saving to suppress this warning.\n"
          ],
          "name": "stderr"
        },
        {
          "output_type": "stream",
          "text": [
            "/content/drive/MyDrive/COVID-META/STAR Work/COVID-19/Augmented/Tri_cov_510.jpg\n",
            "/content/drive/MyDrive/COVID-META/STAR Work/COVID-19/COVID cases/augmented_image_2118.png\n"
          ],
          "name": "stdout"
        },
        {
          "output_type": "stream",
          "text": [
            "WARNING:root:Lossy conversion from float64 to uint8. Range [0, 1]. Convert image to uint8 prior to saving to suppress this warning.\n"
          ],
          "name": "stderr"
        },
        {
          "output_type": "stream",
          "text": [
            "/content/drive/MyDrive/COVID-META/STAR Work/COVID-19/COVID cases/augmented_image_2119.png\n"
          ],
          "name": "stdout"
        },
        {
          "output_type": "stream",
          "text": [
            "WARNING:root:Lossy conversion from float64 to uint8. Range [0, 1]. Convert image to uint8 prior to saving to suppress this warning.\n"
          ],
          "name": "stderr"
        },
        {
          "output_type": "stream",
          "text": [
            "/content/drive/MyDrive/COVID-META/STAR Work/COVID-19/COVID cases/augmented_image_2120.png\n"
          ],
          "name": "stdout"
        },
        {
          "output_type": "stream",
          "text": [
            "WARNING:root:Lossy conversion from float64 to uint8. Range [0, 1]. Convert image to uint8 prior to saving to suppress this warning.\n"
          ],
          "name": "stderr"
        },
        {
          "output_type": "stream",
          "text": [
            "/content/drive/MyDrive/COVID-META/STAR Work/COVID-19/COVID cases/augmented_image_2121.png\n",
            "/content/drive/MyDrive/COVID-META/STAR Work/COVID-19/Augmented/Tri_cov_505.jpg\n",
            "/content/drive/MyDrive/COVID-META/STAR Work/COVID-19/COVID cases/augmented_image_2122.png\n"
          ],
          "name": "stdout"
        },
        {
          "output_type": "stream",
          "text": [
            "WARNING:root:Lossy conversion from float64 to uint8. Range [0, 1]. Convert image to uint8 prior to saving to suppress this warning.\n"
          ],
          "name": "stderr"
        },
        {
          "output_type": "stream",
          "text": [
            "/content/drive/MyDrive/COVID-META/STAR Work/COVID-19/COVID cases/augmented_image_2123.png\n"
          ],
          "name": "stdout"
        },
        {
          "output_type": "stream",
          "text": [
            "WARNING:root:Lossy conversion from float64 to uint8. Range [0, 1]. Convert image to uint8 prior to saving to suppress this warning.\n"
          ],
          "name": "stderr"
        },
        {
          "output_type": "stream",
          "text": [
            "/content/drive/MyDrive/COVID-META/STAR Work/COVID-19/COVID cases/augmented_image_2124.png\n",
            "/content/drive/MyDrive/COVID-META/STAR Work/COVID-19/COVID cases/augmented_image_2125.png\n",
            "/content/drive/MyDrive/COVID-META/STAR Work/COVID-19/Augmented/Tri_cov_256.jpg\n"
          ],
          "name": "stdout"
        },
        {
          "output_type": "stream",
          "text": [
            "WARNING:root:Lossy conversion from float64 to uint8. Range [0, 1]. Convert image to uint8 prior to saving to suppress this warning.\n"
          ],
          "name": "stderr"
        },
        {
          "output_type": "stream",
          "text": [
            "/content/drive/MyDrive/COVID-META/STAR Work/COVID-19/COVID cases/augmented_image_2126.png\n",
            "/content/drive/MyDrive/COVID-META/STAR Work/COVID-19/COVID cases/augmented_image_2127.png\n",
            "/content/drive/MyDrive/COVID-META/STAR Work/COVID-19/COVID cases/augmented_image_2128.png\n",
            "/content/drive/MyDrive/COVID-META/STAR Work/COVID-19/COVID cases/augmented_image_2129.png\n",
            "/content/drive/MyDrive/COVID-META/STAR Work/COVID-19/Augmented/Tri_cov_9.jpg\n",
            "/content/drive/MyDrive/COVID-META/STAR Work/COVID-19/COVID cases/augmented_image_2130.png\n"
          ],
          "name": "stdout"
        },
        {
          "output_type": "stream",
          "text": [
            "WARNING:root:Lossy conversion from float64 to uint8. Range [0, 1]. Convert image to uint8 prior to saving to suppress this warning.\n"
          ],
          "name": "stderr"
        },
        {
          "output_type": "stream",
          "text": [
            "/content/drive/MyDrive/COVID-META/STAR Work/COVID-19/COVID cases/augmented_image_2131.png\n",
            "/content/drive/MyDrive/COVID-META/STAR Work/COVID-19/COVID cases/augmented_image_2132.png\n",
            "/content/drive/MyDrive/COVID-META/STAR Work/COVID-19/Augmented/Tri_cov_208.jpg\n",
            "/content/drive/MyDrive/COVID-META/STAR Work/COVID-19/COVID cases/augmented_image_2133.png\n"
          ],
          "name": "stdout"
        },
        {
          "output_type": "stream",
          "text": [
            "WARNING:root:Lossy conversion from float64 to uint8. Range [0, 1]. Convert image to uint8 prior to saving to suppress this warning.\n"
          ],
          "name": "stderr"
        },
        {
          "output_type": "stream",
          "text": [
            "/content/drive/MyDrive/COVID-META/STAR Work/COVID-19/COVID cases/augmented_image_2134.png\n"
          ],
          "name": "stdout"
        },
        {
          "output_type": "stream",
          "text": [
            "WARNING:root:Lossy conversion from float64 to uint8. Range [0, 1]. Convert image to uint8 prior to saving to suppress this warning.\n"
          ],
          "name": "stderr"
        },
        {
          "output_type": "stream",
          "text": [
            "/content/drive/MyDrive/COVID-META/STAR Work/COVID-19/COVID cases/augmented_image_2135.png\n"
          ],
          "name": "stdout"
        },
        {
          "output_type": "stream",
          "text": [
            "WARNING:root:Lossy conversion from float64 to uint8. Range [0, 1]. Convert image to uint8 prior to saving to suppress this warning.\n"
          ],
          "name": "stderr"
        },
        {
          "output_type": "stream",
          "text": [
            "/content/drive/MyDrive/COVID-META/STAR Work/COVID-19/COVID cases/augmented_image_2136.png\n",
            "/content/drive/MyDrive/COVID-META/STAR Work/COVID-19/Augmented/Tri_cov_34.jpg\n"
          ],
          "name": "stdout"
        },
        {
          "output_type": "stream",
          "text": [
            "WARNING:root:Lossy conversion from uint16 to uint8. Losing 8 bits of resolution. Convert image to uint8 prior to saving to suppress this warning.\n"
          ],
          "name": "stderr"
        },
        {
          "output_type": "stream",
          "text": [
            "/content/drive/MyDrive/COVID-META/STAR Work/COVID-19/COVID cases/augmented_image_2137.png\n"
          ],
          "name": "stdout"
        },
        {
          "output_type": "stream",
          "text": [
            "WARNING:root:Lossy conversion from uint16 to uint8. Losing 8 bits of resolution. Convert image to uint8 prior to saving to suppress this warning.\n"
          ],
          "name": "stderr"
        },
        {
          "output_type": "stream",
          "text": [
            "/content/drive/MyDrive/COVID-META/STAR Work/COVID-19/COVID cases/augmented_image_2138.png\n",
            "/content/drive/MyDrive/COVID-META/STAR Work/COVID-19/Augmented/Tri_cov_110.jpg\n"
          ],
          "name": "stdout"
        },
        {
          "output_type": "stream",
          "text": [
            "WARNING:root:Lossy conversion from float64 to uint8. Range [0, 1]. Convert image to uint8 prior to saving to suppress this warning.\n"
          ],
          "name": "stderr"
        },
        {
          "output_type": "stream",
          "text": [
            "/content/drive/MyDrive/COVID-META/STAR Work/COVID-19/COVID cases/augmented_image_2139.png\n",
            "/content/drive/MyDrive/COVID-META/STAR Work/COVID-19/COVID cases/augmented_image_2140.png\n"
          ],
          "name": "stdout"
        },
        {
          "output_type": "stream",
          "text": [
            "WARNING:root:Lossy conversion from float64 to uint8. Range [0, 1]. Convert image to uint8 prior to saving to suppress this warning.\n"
          ],
          "name": "stderr"
        },
        {
          "output_type": "stream",
          "text": [
            "/content/drive/MyDrive/COVID-META/STAR Work/COVID-19/COVID cases/augmented_image_2141.png\n"
          ],
          "name": "stdout"
        },
        {
          "output_type": "stream",
          "text": [
            "WARNING:root:Lossy conversion from float64 to uint8. Range [0, 1]. Convert image to uint8 prior to saving to suppress this warning.\n"
          ],
          "name": "stderr"
        },
        {
          "output_type": "stream",
          "text": [
            "/content/drive/MyDrive/COVID-META/STAR Work/COVID-19/COVID cases/augmented_image_2142.png\n",
            "/content/drive/MyDrive/COVID-META/STAR Work/COVID-19/Augmented/Tri_cov_507.jpg\n",
            "/content/drive/MyDrive/COVID-META/STAR Work/COVID-19/COVID cases/augmented_image_2143.png\n"
          ],
          "name": "stdout"
        },
        {
          "output_type": "stream",
          "text": [
            "WARNING:root:Lossy conversion from float64 to uint8. Range [0, 1]. Convert image to uint8 prior to saving to suppress this warning.\n"
          ],
          "name": "stderr"
        },
        {
          "output_type": "stream",
          "text": [
            "/content/drive/MyDrive/COVID-META/STAR Work/COVID-19/COVID cases/augmented_image_2144.png\n"
          ],
          "name": "stdout"
        },
        {
          "output_type": "stream",
          "text": [
            "WARNING:root:Lossy conversion from float64 to uint8. Range [0, 1]. Convert image to uint8 prior to saving to suppress this warning.\n"
          ],
          "name": "stderr"
        },
        {
          "output_type": "stream",
          "text": [
            "/content/drive/MyDrive/COVID-META/STAR Work/COVID-19/COVID cases/augmented_image_2145.png\n",
            "/content/drive/MyDrive/COVID-META/STAR Work/COVID-19/Augmented/Tri_cov_351.jpg\n",
            "/content/drive/MyDrive/COVID-META/STAR Work/COVID-19/COVID cases/augmented_image_2146.png\n"
          ],
          "name": "stdout"
        },
        {
          "output_type": "stream",
          "text": [
            "WARNING:root:Lossy conversion from float64 to uint8. Range [0, 1]. Convert image to uint8 prior to saving to suppress this warning.\n"
          ],
          "name": "stderr"
        },
        {
          "output_type": "stream",
          "text": [
            "/content/drive/MyDrive/COVID-META/STAR Work/COVID-19/COVID cases/augmented_image_2147.png\n"
          ],
          "name": "stdout"
        },
        {
          "output_type": "stream",
          "text": [
            "WARNING:root:Lossy conversion from float64 to uint8. Range [0, 1]. Convert image to uint8 prior to saving to suppress this warning.\n"
          ],
          "name": "stderr"
        },
        {
          "output_type": "stream",
          "text": [
            "/content/drive/MyDrive/COVID-META/STAR Work/COVID-19/COVID cases/augmented_image_2148.png\n"
          ],
          "name": "stdout"
        },
        {
          "output_type": "stream",
          "text": [
            "WARNING:root:Lossy conversion from float64 to uint8. Range [0, 1]. Convert image to uint8 prior to saving to suppress this warning.\n"
          ],
          "name": "stderr"
        },
        {
          "output_type": "stream",
          "text": [
            "/content/drive/MyDrive/COVID-META/STAR Work/COVID-19/COVID cases/augmented_image_2149.png\n",
            "/content/drive/MyDrive/COVID-META/STAR Work/COVID-19/Augmented/Tri_cov_492.jpg\n"
          ],
          "name": "stdout"
        },
        {
          "output_type": "stream",
          "text": [
            "WARNING:root:Lossy conversion from float64 to uint8. Range [0, 1]. Convert image to uint8 prior to saving to suppress this warning.\n"
          ],
          "name": "stderr"
        },
        {
          "output_type": "stream",
          "text": [
            "/content/drive/MyDrive/COVID-META/STAR Work/COVID-19/COVID cases/augmented_image_2150.png\n"
          ],
          "name": "stdout"
        },
        {
          "output_type": "stream",
          "text": [
            "WARNING:root:Lossy conversion from float64 to uint8. Range [0, 1]. Convert image to uint8 prior to saving to suppress this warning.\n"
          ],
          "name": "stderr"
        },
        {
          "output_type": "stream",
          "text": [
            "/content/drive/MyDrive/COVID-META/STAR Work/COVID-19/COVID cases/augmented_image_2151.png\n",
            "/content/drive/MyDrive/COVID-META/STAR Work/COVID-19/COVID cases/augmented_image_2152.png\n"
          ],
          "name": "stdout"
        },
        {
          "output_type": "stream",
          "text": [
            "WARNING:root:Lossy conversion from float64 to uint8. Range [0, 1]. Convert image to uint8 prior to saving to suppress this warning.\n"
          ],
          "name": "stderr"
        },
        {
          "output_type": "stream",
          "text": [
            "/content/drive/MyDrive/COVID-META/STAR Work/COVID-19/COVID cases/augmented_image_2153.png\n",
            "/content/drive/MyDrive/COVID-META/STAR Work/COVID-19/Augmented/Tri_cov_191.jpg\n",
            "/content/drive/MyDrive/COVID-META/STAR Work/COVID-19/COVID cases/augmented_image_2154.png\n",
            "/content/drive/MyDrive/COVID-META/STAR Work/COVID-19/COVID cases/augmented_image_2155.png\n",
            "/content/drive/MyDrive/COVID-META/STAR Work/COVID-19/COVID cases/augmented_image_2156.png\n"
          ],
          "name": "stdout"
        },
        {
          "output_type": "stream",
          "text": [
            "WARNING:root:Lossy conversion from float64 to uint8. Range [0, 1]. Convert image to uint8 prior to saving to suppress this warning.\n"
          ],
          "name": "stderr"
        },
        {
          "output_type": "stream",
          "text": [
            "/content/drive/MyDrive/COVID-META/STAR Work/COVID-19/COVID cases/augmented_image_2157.png\n",
            "/content/drive/MyDrive/COVID-META/STAR Work/COVID-19/Augmented/Tri_cov_114.jpg\n"
          ],
          "name": "stdout"
        },
        {
          "output_type": "stream",
          "text": [
            "WARNING:root:Lossy conversion from float64 to uint8. Range [0, 1]. Convert image to uint8 prior to saving to suppress this warning.\n"
          ],
          "name": "stderr"
        },
        {
          "output_type": "stream",
          "text": [
            "/content/drive/MyDrive/COVID-META/STAR Work/COVID-19/COVID cases/augmented_image_2158.png\n"
          ],
          "name": "stdout"
        },
        {
          "output_type": "stream",
          "text": [
            "WARNING:root:Lossy conversion from float64 to uint8. Range [0, 1]. Convert image to uint8 prior to saving to suppress this warning.\n"
          ],
          "name": "stderr"
        },
        {
          "output_type": "stream",
          "text": [
            "/content/drive/MyDrive/COVID-META/STAR Work/COVID-19/COVID cases/augmented_image_2159.png\n"
          ],
          "name": "stdout"
        },
        {
          "output_type": "stream",
          "text": [
            "WARNING:root:Lossy conversion from float64 to uint8. Range [0, 1]. Convert image to uint8 prior to saving to suppress this warning.\n"
          ],
          "name": "stderr"
        },
        {
          "output_type": "stream",
          "text": [
            "/content/drive/MyDrive/COVID-META/STAR Work/COVID-19/COVID cases/augmented_image_2160.png\n",
            "/content/drive/MyDrive/COVID-META/STAR Work/COVID-19/Augmented/Tri_cov_32.jpg\n",
            "/content/drive/MyDrive/COVID-META/STAR Work/COVID-19/COVID cases/augmented_image_2161.png\n"
          ],
          "name": "stdout"
        },
        {
          "output_type": "stream",
          "text": [
            "WARNING:root:Lossy conversion from float64 to uint8. Range [0, 1]. Convert image to uint8 prior to saving to suppress this warning.\n"
          ],
          "name": "stderr"
        },
        {
          "output_type": "stream",
          "text": [
            "/content/drive/MyDrive/COVID-META/STAR Work/COVID-19/COVID cases/augmented_image_2162.png\n",
            "/content/drive/MyDrive/COVID-META/STAR Work/COVID-19/Augmented/Tri_cov_515.jpg\n",
            "/content/drive/MyDrive/COVID-META/STAR Work/COVID-19/COVID cases/augmented_image_2163.png\n"
          ],
          "name": "stdout"
        },
        {
          "output_type": "stream",
          "text": [
            "WARNING:root:Lossy conversion from float64 to uint8. Range [0, 1]. Convert image to uint8 prior to saving to suppress this warning.\n"
          ],
          "name": "stderr"
        },
        {
          "output_type": "stream",
          "text": [
            "/content/drive/MyDrive/COVID-META/STAR Work/COVID-19/COVID cases/augmented_image_2164.png\n",
            "/content/drive/MyDrive/COVID-META/STAR Work/COVID-19/Augmented/Tri_cov_441.jpg\n"
          ],
          "name": "stdout"
        },
        {
          "output_type": "stream",
          "text": [
            "WARNING:root:Lossy conversion from float64 to uint8. Range [0, 1]. Convert image to uint8 prior to saving to suppress this warning.\n"
          ],
          "name": "stderr"
        },
        {
          "output_type": "stream",
          "text": [
            "/content/drive/MyDrive/COVID-META/STAR Work/COVID-19/COVID cases/augmented_image_2165.png\n",
            "/content/drive/MyDrive/COVID-META/STAR Work/COVID-19/COVID cases/augmented_image_2166.png\n",
            "/content/drive/MyDrive/COVID-META/STAR Work/COVID-19/COVID cases/augmented_image_2167.png\n"
          ],
          "name": "stdout"
        },
        {
          "output_type": "stream",
          "text": [
            "WARNING:root:Lossy conversion from float64 to uint8. Range [0, 1]. Convert image to uint8 prior to saving to suppress this warning.\n"
          ],
          "name": "stderr"
        },
        {
          "output_type": "stream",
          "text": [
            "/content/drive/MyDrive/COVID-META/STAR Work/COVID-19/COVID cases/augmented_image_2168.png\n",
            "/content/drive/MyDrive/COVID-META/STAR Work/COVID-19/Augmented/Tri_cov_91.jpg\n"
          ],
          "name": "stdout"
        },
        {
          "output_type": "stream",
          "text": [
            "WARNING:root:Lossy conversion from float64 to uint8. Range [0, 1]. Convert image to uint8 prior to saving to suppress this warning.\n"
          ],
          "name": "stderr"
        },
        {
          "output_type": "stream",
          "text": [
            "/content/drive/MyDrive/COVID-META/STAR Work/COVID-19/COVID cases/augmented_image_2169.png\n"
          ],
          "name": "stdout"
        },
        {
          "output_type": "stream",
          "text": [
            "WARNING:root:Lossy conversion from float64 to uint8. Range [0, 1]. Convert image to uint8 prior to saving to suppress this warning.\n",
            "WARNING:root:Lossy conversion from float64 to uint8. Range [0, 1]. Convert image to uint8 prior to saving to suppress this warning.\n"
          ],
          "name": "stderr"
        },
        {
          "output_type": "stream",
          "text": [
            "/content/drive/MyDrive/COVID-META/STAR Work/COVID-19/COVID cases/augmented_image_2170.png\n",
            "/content/drive/MyDrive/COVID-META/STAR Work/COVID-19/COVID cases/augmented_image_2171.png\n",
            "/content/drive/MyDrive/COVID-META/STAR Work/COVID-19/Augmented/Tri_cov_264.jpg\n"
          ],
          "name": "stdout"
        },
        {
          "output_type": "stream",
          "text": [
            "WARNING:root:Lossy conversion from float64 to uint8. Range [0, 1]. Convert image to uint8 prior to saving to suppress this warning.\n"
          ],
          "name": "stderr"
        },
        {
          "output_type": "stream",
          "text": [
            "/content/drive/MyDrive/COVID-META/STAR Work/COVID-19/COVID cases/augmented_image_2172.png\n",
            "/content/drive/MyDrive/COVID-META/STAR Work/COVID-19/COVID cases/augmented_image_2173.png\n",
            "/content/drive/MyDrive/COVID-META/STAR Work/COVID-19/Augmented/Tri_cov_444.jpg\n"
          ],
          "name": "stdout"
        },
        {
          "output_type": "stream",
          "text": [
            "WARNING:root:Lossy conversion from float64 to uint8. Range [0, 1]. Convert image to uint8 prior to saving to suppress this warning.\n"
          ],
          "name": "stderr"
        },
        {
          "output_type": "stream",
          "text": [
            "/content/drive/MyDrive/COVID-META/STAR Work/COVID-19/COVID cases/augmented_image_2174.png\n"
          ],
          "name": "stdout"
        },
        {
          "output_type": "stream",
          "text": [
            "WARNING:root:Lossy conversion from float64 to uint8. Range [0, 1]. Convert image to uint8 prior to saving to suppress this warning.\n"
          ],
          "name": "stderr"
        },
        {
          "output_type": "stream",
          "text": [
            "/content/drive/MyDrive/COVID-META/STAR Work/COVID-19/COVID cases/augmented_image_2175.png\n",
            "/content/drive/MyDrive/COVID-META/STAR Work/COVID-19/Augmented/Tri_cov_474.jpg\n"
          ],
          "name": "stdout"
        },
        {
          "output_type": "stream",
          "text": [
            "WARNING:root:Lossy conversion from float64 to uint8. Range [0, 1]. Convert image to uint8 prior to saving to suppress this warning.\n"
          ],
          "name": "stderr"
        },
        {
          "output_type": "stream",
          "text": [
            "/content/drive/MyDrive/COVID-META/STAR Work/COVID-19/COVID cases/augmented_image_2176.png\n",
            "/content/drive/MyDrive/COVID-META/STAR Work/COVID-19/COVID cases/augmented_image_2177.png\n",
            "/content/drive/MyDrive/COVID-META/STAR Work/COVID-19/COVID cases/augmented_image_2178.png\n",
            "/content/drive/MyDrive/COVID-META/STAR Work/COVID-19/COVID cases/augmented_image_2179.png\n",
            "/content/drive/MyDrive/COVID-META/STAR Work/COVID-19/Augmented/Tri_cov_125.jpg\n"
          ],
          "name": "stdout"
        },
        {
          "output_type": "stream",
          "text": [
            "WARNING:root:Lossy conversion from float64 to uint8. Range [0, 1]. Convert image to uint8 prior to saving to suppress this warning.\n"
          ],
          "name": "stderr"
        },
        {
          "output_type": "stream",
          "text": [
            "/content/drive/MyDrive/COVID-META/STAR Work/COVID-19/COVID cases/augmented_image_2180.png\n",
            "/content/drive/MyDrive/COVID-META/STAR Work/COVID-19/COVID cases/augmented_image_2181.png\n",
            "/content/drive/MyDrive/COVID-META/STAR Work/COVID-19/COVID cases/augmented_image_2182.png\n",
            "/content/drive/MyDrive/COVID-META/STAR Work/COVID-19/Augmented/Tri_cov_266.jpg\n",
            "/content/drive/MyDrive/COVID-META/STAR Work/COVID-19/COVID cases/augmented_image_2183.png\n"
          ],
          "name": "stdout"
        },
        {
          "output_type": "stream",
          "text": [
            "WARNING:root:Lossy conversion from float64 to uint8. Range [0, 1]. Convert image to uint8 prior to saving to suppress this warning.\n"
          ],
          "name": "stderr"
        },
        {
          "output_type": "stream",
          "text": [
            "/content/drive/MyDrive/COVID-META/STAR Work/COVID-19/COVID cases/augmented_image_2184.png\n"
          ],
          "name": "stdout"
        },
        {
          "output_type": "stream",
          "text": [
            "WARNING:root:Lossy conversion from float64 to uint8. Range [0, 1]. Convert image to uint8 prior to saving to suppress this warning.\n"
          ],
          "name": "stderr"
        },
        {
          "output_type": "stream",
          "text": [
            "/content/drive/MyDrive/COVID-META/STAR Work/COVID-19/COVID cases/augmented_image_2185.png\n",
            "/content/drive/MyDrive/COVID-META/STAR Work/COVID-19/Augmented/Tri_cov_77.jpg\n"
          ],
          "name": "stdout"
        },
        {
          "output_type": "stream",
          "text": [
            "WARNING:root:Lossy conversion from float64 to uint8. Range [0, 1]. Convert image to uint8 prior to saving to suppress this warning.\n",
            "WARNING:root:Lossy conversion from float64 to uint8. Range [0, 1]. Convert image to uint8 prior to saving to suppress this warning.\n"
          ],
          "name": "stderr"
        },
        {
          "output_type": "stream",
          "text": [
            "/content/drive/MyDrive/COVID-META/STAR Work/COVID-19/COVID cases/augmented_image_2186.png\n",
            "/content/drive/MyDrive/COVID-META/STAR Work/COVID-19/COVID cases/augmented_image_2187.png\n"
          ],
          "name": "stdout"
        },
        {
          "output_type": "stream",
          "text": [
            "WARNING:root:Lossy conversion from float64 to uint8. Range [0, 1]. Convert image to uint8 prior to saving to suppress this warning.\n"
          ],
          "name": "stderr"
        },
        {
          "output_type": "stream",
          "text": [
            "/content/drive/MyDrive/COVID-META/STAR Work/COVID-19/COVID cases/augmented_image_2188.png\n",
            "/content/drive/MyDrive/COVID-META/STAR Work/COVID-19/COVID cases/augmented_image_2189.png\n",
            "/content/drive/MyDrive/COVID-META/STAR Work/COVID-19/Augmented/Tri_cov_563.jpg\n"
          ],
          "name": "stdout"
        },
        {
          "output_type": "stream",
          "text": [
            "WARNING:root:Lossy conversion from float64 to uint8. Range [0, 1]. Convert image to uint8 prior to saving to suppress this warning.\n"
          ],
          "name": "stderr"
        },
        {
          "output_type": "stream",
          "text": [
            "/content/drive/MyDrive/COVID-META/STAR Work/COVID-19/COVID cases/augmented_image_2190.png\n"
          ],
          "name": "stdout"
        },
        {
          "output_type": "stream",
          "text": [
            "WARNING:root:Lossy conversion from float64 to uint8. Range [0, 1]. Convert image to uint8 prior to saving to suppress this warning.\n"
          ],
          "name": "stderr"
        },
        {
          "output_type": "stream",
          "text": [
            "/content/drive/MyDrive/COVID-META/STAR Work/COVID-19/COVID cases/augmented_image_2191.png\n",
            "/content/drive/MyDrive/COVID-META/STAR Work/COVID-19/Augmented/Tri_cov_370.jpg\n"
          ],
          "name": "stdout"
        },
        {
          "output_type": "stream",
          "text": [
            "WARNING:root:Lossy conversion from float64 to uint8. Range [0, 1]. Convert image to uint8 prior to saving to suppress this warning.\n"
          ],
          "name": "stderr"
        },
        {
          "output_type": "stream",
          "text": [
            "/content/drive/MyDrive/COVID-META/STAR Work/COVID-19/COVID cases/augmented_image_2192.png\n"
          ],
          "name": "stdout"
        },
        {
          "output_type": "stream",
          "text": [
            "WARNING:root:Lossy conversion from float64 to uint8. Range [0, 1]. Convert image to uint8 prior to saving to suppress this warning.\n"
          ],
          "name": "stderr"
        },
        {
          "output_type": "stream",
          "text": [
            "/content/drive/MyDrive/COVID-META/STAR Work/COVID-19/COVID cases/augmented_image_2193.png\n",
            "/content/drive/MyDrive/COVID-META/STAR Work/COVID-19/Augmented/Tri_cov_484.jpg\n",
            "/content/drive/MyDrive/COVID-META/STAR Work/COVID-19/COVID cases/augmented_image_2194.png\n"
          ],
          "name": "stdout"
        },
        {
          "output_type": "stream",
          "text": [
            "WARNING:root:Lossy conversion from float64 to uint8. Range [0, 1]. Convert image to uint8 prior to saving to suppress this warning.\n"
          ],
          "name": "stderr"
        },
        {
          "output_type": "stream",
          "text": [
            "/content/drive/MyDrive/COVID-META/STAR Work/COVID-19/COVID cases/augmented_image_2195.png\n",
            "/content/drive/MyDrive/COVID-META/STAR Work/COVID-19/Augmented/Tri_cov_129.jpg\n",
            "/content/drive/MyDrive/COVID-META/STAR Work/COVID-19/COVID cases/augmented_image_2196.png\n"
          ],
          "name": "stdout"
        },
        {
          "output_type": "stream",
          "text": [
            "WARNING:root:Lossy conversion from float64 to uint8. Range [0, 1]. Convert image to uint8 prior to saving to suppress this warning.\n"
          ],
          "name": "stderr"
        },
        {
          "output_type": "stream",
          "text": [
            "/content/drive/MyDrive/COVID-META/STAR Work/COVID-19/COVID cases/augmented_image_2197.png\n",
            "/content/drive/MyDrive/COVID-META/STAR Work/COVID-19/COVID cases/augmented_image_2198.png\n"
          ],
          "name": "stdout"
        },
        {
          "output_type": "stream",
          "text": [
            "WARNING:root:Lossy conversion from float64 to uint8. Range [0, 1]. Convert image to uint8 prior to saving to suppress this warning.\n"
          ],
          "name": "stderr"
        },
        {
          "output_type": "stream",
          "text": [
            "/content/drive/MyDrive/COVID-META/STAR Work/COVID-19/Augmented/Tri_cov_23.jpg\n",
            "/content/drive/MyDrive/COVID-META/STAR Work/COVID-19/COVID cases/augmented_image_2199.png\n"
          ],
          "name": "stdout"
        },
        {
          "output_type": "stream",
          "text": [
            "WARNING:root:Lossy conversion from float64 to uint8. Range [0, 1]. Convert image to uint8 prior to saving to suppress this warning.\n"
          ],
          "name": "stderr"
        },
        {
          "output_type": "stream",
          "text": [
            "/content/drive/MyDrive/COVID-META/STAR Work/COVID-19/COVID cases/augmented_image_2200.png\n",
            "/content/drive/MyDrive/COVID-META/STAR Work/COVID-19/Augmented/Tri_cov_549.jpg\n"
          ],
          "name": "stdout"
        },
        {
          "output_type": "stream",
          "text": [
            "WARNING:root:Lossy conversion from float64 to uint8. Range [0, 1]. Convert image to uint8 prior to saving to suppress this warning.\n"
          ],
          "name": "stderr"
        },
        {
          "output_type": "stream",
          "text": [
            "/content/drive/MyDrive/COVID-META/STAR Work/COVID-19/COVID cases/augmented_image_2201.png\n",
            "/content/drive/MyDrive/COVID-META/STAR Work/COVID-19/COVID cases/augmented_image_2202.png\n"
          ],
          "name": "stdout"
        },
        {
          "output_type": "stream",
          "text": [
            "WARNING:root:Lossy conversion from float64 to uint8. Range [0, 1]. Convert image to uint8 prior to saving to suppress this warning.\n"
          ],
          "name": "stderr"
        },
        {
          "output_type": "stream",
          "text": [
            "/content/drive/MyDrive/COVID-META/STAR Work/COVID-19/COVID cases/augmented_image_2203.png\n",
            "/content/drive/MyDrive/COVID-META/STAR Work/COVID-19/COVID cases/augmented_image_2204.png\n"
          ],
          "name": "stdout"
        },
        {
          "output_type": "stream",
          "text": [
            "WARNING:root:Lossy conversion from float64 to uint8. Range [0, 1]. Convert image to uint8 prior to saving to suppress this warning.\n"
          ],
          "name": "stderr"
        },
        {
          "output_type": "stream",
          "text": [
            "/content/drive/MyDrive/COVID-META/STAR Work/COVID-19/Augmented/Tri_cov_101.jpg\n",
            "/content/drive/MyDrive/COVID-META/STAR Work/COVID-19/COVID cases/augmented_image_2205.png\n",
            "/content/drive/MyDrive/COVID-META/STAR Work/COVID-19/COVID cases/augmented_image_2206.png\n"
          ],
          "name": "stdout"
        },
        {
          "output_type": "stream",
          "text": [
            "WARNING:root:Lossy conversion from float64 to uint8. Range [0, 1]. Convert image to uint8 prior to saving to suppress this warning.\n"
          ],
          "name": "stderr"
        },
        {
          "output_type": "stream",
          "text": [
            "/content/drive/MyDrive/COVID-META/STAR Work/COVID-19/COVID cases/augmented_image_2207.png\n",
            "/content/drive/MyDrive/COVID-META/STAR Work/COVID-19/Augmented/Tri_cov_179.jpg\n"
          ],
          "name": "stdout"
        },
        {
          "output_type": "stream",
          "text": [
            "WARNING:root:Lossy conversion from float64 to uint8. Range [0, 1]. Convert image to uint8 prior to saving to suppress this warning.\n",
            "WARNING:root:Lossy conversion from float64 to uint8. Range [0, 1]. Convert image to uint8 prior to saving to suppress this warning.\n"
          ],
          "name": "stderr"
        },
        {
          "output_type": "stream",
          "text": [
            "/content/drive/MyDrive/COVID-META/STAR Work/COVID-19/COVID cases/augmented_image_2208.png\n",
            "/content/drive/MyDrive/COVID-META/STAR Work/COVID-19/COVID cases/augmented_image_2209.png\n",
            "/content/drive/MyDrive/COVID-META/STAR Work/COVID-19/COVID cases/augmented_image_2210.png\n"
          ],
          "name": "stdout"
        },
        {
          "output_type": "stream",
          "text": [
            "WARNING:root:Lossy conversion from float64 to uint8. Range [0, 1]. Convert image to uint8 prior to saving to suppress this warning.\n"
          ],
          "name": "stderr"
        },
        {
          "output_type": "stream",
          "text": [
            "/content/drive/MyDrive/COVID-META/STAR Work/COVID-19/Augmented/Tri_cov_208.jpg\n",
            "/content/drive/MyDrive/COVID-META/STAR Work/COVID-19/COVID cases/augmented_image_2211.png\n",
            "/content/drive/MyDrive/COVID-META/STAR Work/COVID-19/COVID cases/augmented_image_2212.png\n",
            "/content/drive/MyDrive/COVID-META/STAR Work/COVID-19/Augmented/Tri_cov_447.jpg\n"
          ],
          "name": "stdout"
        },
        {
          "output_type": "stream",
          "text": [
            "WARNING:root:Lossy conversion from float64 to uint8. Range [0, 1]. Convert image to uint8 prior to saving to suppress this warning.\n"
          ],
          "name": "stderr"
        },
        {
          "output_type": "stream",
          "text": [
            "/content/drive/MyDrive/COVID-META/STAR Work/COVID-19/COVID cases/augmented_image_2213.png\n",
            "/content/drive/MyDrive/COVID-META/STAR Work/COVID-19/COVID cases/augmented_image_2214.png\n",
            "/content/drive/MyDrive/COVID-META/STAR Work/COVID-19/Augmented/Tri_cov_221.jpg\n"
          ],
          "name": "stdout"
        },
        {
          "output_type": "stream",
          "text": [
            "WARNING:root:Lossy conversion from float64 to uint8. Range [0, 1]. Convert image to uint8 prior to saving to suppress this warning.\n"
          ],
          "name": "stderr"
        },
        {
          "output_type": "stream",
          "text": [
            "/content/drive/MyDrive/COVID-META/STAR Work/COVID-19/COVID cases/augmented_image_2215.png\n",
            "/content/drive/MyDrive/COVID-META/STAR Work/COVID-19/COVID cases/augmented_image_2216.png\n"
          ],
          "name": "stdout"
        },
        {
          "output_type": "stream",
          "text": [
            "WARNING:root:Lossy conversion from float64 to uint8. Range [0, 1]. Convert image to uint8 prior to saving to suppress this warning.\n"
          ],
          "name": "stderr"
        },
        {
          "output_type": "stream",
          "text": [
            "/content/drive/MyDrive/COVID-META/STAR Work/COVID-19/COVID cases/augmented_image_2217.png\n",
            "/content/drive/MyDrive/COVID-META/STAR Work/COVID-19/COVID cases/augmented_image_2218.png\n",
            "/content/drive/MyDrive/COVID-META/STAR Work/COVID-19/Augmented/Tri_cov_74.jpg\n",
            "/content/drive/MyDrive/COVID-META/STAR Work/COVID-19/COVID cases/augmented_image_2219.png\n"
          ],
          "name": "stdout"
        },
        {
          "output_type": "stream",
          "text": [
            "WARNING:root:Lossy conversion from float64 to uint8. Range [0, 1]. Convert image to uint8 prior to saving to suppress this warning.\n"
          ],
          "name": "stderr"
        },
        {
          "output_type": "stream",
          "text": [
            "/content/drive/MyDrive/COVID-META/STAR Work/COVID-19/COVID cases/augmented_image_2220.png\n"
          ],
          "name": "stdout"
        },
        {
          "output_type": "stream",
          "text": [
            "WARNING:root:Lossy conversion from float64 to uint8. Range [0, 1]. Convert image to uint8 prior to saving to suppress this warning.\n"
          ],
          "name": "stderr"
        },
        {
          "output_type": "stream",
          "text": [
            "/content/drive/MyDrive/COVID-META/STAR Work/COVID-19/COVID cases/augmented_image_2221.png\n"
          ],
          "name": "stdout"
        },
        {
          "output_type": "stream",
          "text": [
            "WARNING:root:Lossy conversion from float64 to uint8. Range [0, 1]. Convert image to uint8 prior to saving to suppress this warning.\n"
          ],
          "name": "stderr"
        },
        {
          "output_type": "stream",
          "text": [
            "/content/drive/MyDrive/COVID-META/STAR Work/COVID-19/COVID cases/augmented_image_2222.png\n",
            "/content/drive/MyDrive/COVID-META/STAR Work/COVID-19/Augmented/Tri_cov_546.jpg\n",
            "/content/drive/MyDrive/COVID-META/STAR Work/COVID-19/COVID cases/augmented_image_2223.png\n"
          ],
          "name": "stdout"
        },
        {
          "output_type": "stream",
          "text": [
            "WARNING:root:Lossy conversion from float64 to uint8. Range [0, 1]. Convert image to uint8 prior to saving to suppress this warning.\n",
            "WARNING:root:Lossy conversion from float64 to uint8. Range [0, 1]. Convert image to uint8 prior to saving to suppress this warning.\n"
          ],
          "name": "stderr"
        },
        {
          "output_type": "stream",
          "text": [
            "/content/drive/MyDrive/COVID-META/STAR Work/COVID-19/COVID cases/augmented_image_2224.png\n",
            "/content/drive/MyDrive/COVID-META/STAR Work/COVID-19/COVID cases/augmented_image_2225.png\n",
            "/content/drive/MyDrive/COVID-META/STAR Work/COVID-19/Augmented/Tri_cov_56.jpg\n"
          ],
          "name": "stdout"
        },
        {
          "output_type": "stream",
          "text": [
            "WARNING:root:Lossy conversion from float64 to uint8. Range [0, 1]. Convert image to uint8 prior to saving to suppress this warning.\n",
            "WARNING:root:Lossy conversion from float64 to uint8. Range [0, 1]. Convert image to uint8 prior to saving to suppress this warning.\n"
          ],
          "name": "stderr"
        },
        {
          "output_type": "stream",
          "text": [
            "/content/drive/MyDrive/COVID-META/STAR Work/COVID-19/COVID cases/augmented_image_2226.png\n",
            "/content/drive/MyDrive/COVID-META/STAR Work/COVID-19/COVID cases/augmented_image_2227.png\n"
          ],
          "name": "stdout"
        },
        {
          "output_type": "stream",
          "text": [
            "WARNING:root:Lossy conversion from float64 to uint8. Range [0, 1]. Convert image to uint8 prior to saving to suppress this warning.\n"
          ],
          "name": "stderr"
        },
        {
          "output_type": "stream",
          "text": [
            "/content/drive/MyDrive/COVID-META/STAR Work/COVID-19/COVID cases/augmented_image_2228.png\n"
          ],
          "name": "stdout"
        },
        {
          "output_type": "stream",
          "text": [
            "WARNING:root:Lossy conversion from float64 to uint8. Range [0, 1]. Convert image to uint8 prior to saving to suppress this warning.\n"
          ],
          "name": "stderr"
        },
        {
          "output_type": "stream",
          "text": [
            "/content/drive/MyDrive/COVID-META/STAR Work/COVID-19/COVID cases/augmented_image_2229.png\n",
            "/content/drive/MyDrive/COVID-META/STAR Work/COVID-19/Augmented/Tri_cov_376.jpg\n"
          ],
          "name": "stdout"
        },
        {
          "output_type": "stream",
          "text": [
            "WARNING:root:Lossy conversion from float64 to uint8. Range [0, 1]. Convert image to uint8 prior to saving to suppress this warning.\n"
          ],
          "name": "stderr"
        },
        {
          "output_type": "stream",
          "text": [
            "/content/drive/MyDrive/COVID-META/STAR Work/COVID-19/COVID cases/augmented_image_2230.png\n",
            "/content/drive/MyDrive/COVID-META/STAR Work/COVID-19/COVID cases/augmented_image_2231.png\n"
          ],
          "name": "stdout"
        },
        {
          "output_type": "stream",
          "text": [
            "WARNING:root:Lossy conversion from float64 to uint8. Range [0, 1]. Convert image to uint8 prior to saving to suppress this warning.\n"
          ],
          "name": "stderr"
        },
        {
          "output_type": "stream",
          "text": [
            "/content/drive/MyDrive/COVID-META/STAR Work/COVID-19/COVID cases/augmented_image_2232.png\n",
            "/content/drive/MyDrive/COVID-META/STAR Work/COVID-19/Augmented/Tri_cov_239.jpg\n"
          ],
          "name": "stdout"
        },
        {
          "output_type": "stream",
          "text": [
            "WARNING:root:Lossy conversion from float64 to uint8. Range [0, 1]. Convert image to uint8 prior to saving to suppress this warning.\n"
          ],
          "name": "stderr"
        },
        {
          "output_type": "stream",
          "text": [
            "/content/drive/MyDrive/COVID-META/STAR Work/COVID-19/COVID cases/augmented_image_2233.png\n",
            "/content/drive/MyDrive/COVID-META/STAR Work/COVID-19/COVID cases/augmented_image_2234.png\n",
            "/content/drive/MyDrive/COVID-META/STAR Work/COVID-19/Augmented/Tri_cov_2.jpg\n"
          ],
          "name": "stdout"
        },
        {
          "output_type": "stream",
          "text": [
            "WARNING:root:Lossy conversion from float64 to uint8. Range [0, 1]. Convert image to uint8 prior to saving to suppress this warning.\n"
          ],
          "name": "stderr"
        },
        {
          "output_type": "stream",
          "text": [
            "/content/drive/MyDrive/COVID-META/STAR Work/COVID-19/COVID cases/augmented_image_2235.png\n",
            "/content/drive/MyDrive/COVID-META/STAR Work/COVID-19/COVID cases/augmented_image_2236.png\n"
          ],
          "name": "stdout"
        },
        {
          "output_type": "stream",
          "text": [
            "WARNING:root:Lossy conversion from float64 to uint8. Range [0, 1]. Convert image to uint8 prior to saving to suppress this warning.\n"
          ],
          "name": "stderr"
        },
        {
          "output_type": "stream",
          "text": [
            "/content/drive/MyDrive/COVID-META/STAR Work/COVID-19/COVID cases/augmented_image_2237.png\n"
          ],
          "name": "stdout"
        },
        {
          "output_type": "stream",
          "text": [
            "WARNING:root:Lossy conversion from float64 to uint8. Range [0, 1]. Convert image to uint8 prior to saving to suppress this warning.\n"
          ],
          "name": "stderr"
        },
        {
          "output_type": "stream",
          "text": [
            "/content/drive/MyDrive/COVID-META/STAR Work/COVID-19/COVID cases/augmented_image_2238.png\n",
            "/content/drive/MyDrive/COVID-META/STAR Work/COVID-19/Augmented/Tri_cov_201.jpg\n"
          ],
          "name": "stdout"
        },
        {
          "output_type": "stream",
          "text": [
            "WARNING:root:Lossy conversion from float64 to uint8. Range [0, 1]. Convert image to uint8 prior to saving to suppress this warning.\n"
          ],
          "name": "stderr"
        },
        {
          "output_type": "stream",
          "text": [
            "/content/drive/MyDrive/COVID-META/STAR Work/COVID-19/COVID cases/augmented_image_2239.png\n",
            "/content/drive/MyDrive/COVID-META/STAR Work/COVID-19/COVID cases/augmented_image_2240.png\n",
            "/content/drive/MyDrive/COVID-META/STAR Work/COVID-19/Augmented/Tri_cov_405.jpg\n"
          ],
          "name": "stdout"
        },
        {
          "output_type": "stream",
          "text": [
            "WARNING:root:Lossy conversion from float64 to uint8. Range [0, 1]. Convert image to uint8 prior to saving to suppress this warning.\n"
          ],
          "name": "stderr"
        },
        {
          "output_type": "stream",
          "text": [
            "/content/drive/MyDrive/COVID-META/STAR Work/COVID-19/COVID cases/augmented_image_2241.png\n"
          ],
          "name": "stdout"
        },
        {
          "output_type": "stream",
          "text": [
            "WARNING:root:Lossy conversion from float64 to uint8. Range [0, 1]. Convert image to uint8 prior to saving to suppress this warning.\n"
          ],
          "name": "stderr"
        },
        {
          "output_type": "stream",
          "text": [
            "/content/drive/MyDrive/COVID-META/STAR Work/COVID-19/COVID cases/augmented_image_2242.png\n",
            "/content/drive/MyDrive/COVID-META/STAR Work/COVID-19/Augmented/Tri_cov_381.jpg\n",
            "/content/drive/MyDrive/COVID-META/STAR Work/COVID-19/COVID cases/augmented_image_2243.png\n"
          ],
          "name": "stdout"
        },
        {
          "output_type": "stream",
          "text": [
            "WARNING:root:Lossy conversion from float64 to uint8. Range [0, 1]. Convert image to uint8 prior to saving to suppress this warning.\n"
          ],
          "name": "stderr"
        },
        {
          "output_type": "stream",
          "text": [
            "/content/drive/MyDrive/COVID-META/STAR Work/COVID-19/COVID cases/augmented_image_2244.png\n",
            "/content/drive/MyDrive/COVID-META/STAR Work/COVID-19/COVID cases/augmented_image_2245.png\n",
            "/content/drive/MyDrive/COVID-META/STAR Work/COVID-19/COVID cases/augmented_image_2246.png\n",
            "/content/drive/MyDrive/COVID-META/STAR Work/COVID-19/Augmented/Tri_cov_326.jpg\n"
          ],
          "name": "stdout"
        },
        {
          "output_type": "stream",
          "text": [
            "WARNING:root:Lossy conversion from float64 to uint8. Range [0, 1]. Convert image to uint8 prior to saving to suppress this warning.\n"
          ],
          "name": "stderr"
        },
        {
          "output_type": "stream",
          "text": [
            "/content/drive/MyDrive/COVID-META/STAR Work/COVID-19/COVID cases/augmented_image_2247.png\n"
          ],
          "name": "stdout"
        },
        {
          "output_type": "stream",
          "text": [
            "WARNING:root:Lossy conversion from float64 to uint8. Range [0, 1]. Convert image to uint8 prior to saving to suppress this warning.\n"
          ],
          "name": "stderr"
        },
        {
          "output_type": "stream",
          "text": [
            "/content/drive/MyDrive/COVID-META/STAR Work/COVID-19/COVID cases/augmented_image_2248.png\n",
            "/content/drive/MyDrive/COVID-META/STAR Work/COVID-19/Augmented/Tri_cov_474.jpg\n",
            "/content/drive/MyDrive/COVID-META/STAR Work/COVID-19/COVID cases/augmented_image_2249.png\n",
            "/content/drive/MyDrive/COVID-META/STAR Work/COVID-19/COVID cases/augmented_image_2250.png\n",
            "/content/drive/MyDrive/COVID-META/STAR Work/COVID-19/COVID cases/augmented_image_2251.png\n"
          ],
          "name": "stdout"
        },
        {
          "output_type": "stream",
          "text": [
            "WARNING:root:Lossy conversion from float64 to uint8. Range [0, 1]. Convert image to uint8 prior to saving to suppress this warning.\n"
          ],
          "name": "stderr"
        },
        {
          "output_type": "stream",
          "text": [
            "/content/drive/MyDrive/COVID-META/STAR Work/COVID-19/COVID cases/augmented_image_2252.png\n"
          ],
          "name": "stdout"
        },
        {
          "output_type": "stream",
          "text": [
            "WARNING:root:Lossy conversion from float64 to uint8. Range [0, 1]. Convert image to uint8 prior to saving to suppress this warning.\n"
          ],
          "name": "stderr"
        },
        {
          "output_type": "stream",
          "text": [
            "/content/drive/MyDrive/COVID-META/STAR Work/COVID-19/Augmented/Tri_cov_516.jpg\n",
            "/content/drive/MyDrive/COVID-META/STAR Work/COVID-19/COVID cases/augmented_image_2253.png\n",
            "/content/drive/MyDrive/COVID-META/STAR Work/COVID-19/COVID cases/augmented_image_2254.png\n"
          ],
          "name": "stdout"
        },
        {
          "output_type": "stream",
          "text": [
            "WARNING:root:Lossy conversion from float64 to uint8. Range [0, 1]. Convert image to uint8 prior to saving to suppress this warning.\n",
            "WARNING:root:Lossy conversion from float64 to uint8. Range [0, 1]. Convert image to uint8 prior to saving to suppress this warning.\n"
          ],
          "name": "stderr"
        },
        {
          "output_type": "stream",
          "text": [
            "/content/drive/MyDrive/COVID-META/STAR Work/COVID-19/COVID cases/augmented_image_2255.png\n",
            "/content/drive/MyDrive/COVID-META/STAR Work/COVID-19/COVID cases/augmented_image_2256.png\n",
            "/content/drive/MyDrive/COVID-META/STAR Work/COVID-19/Augmented/Tri_cov_202.jpg\n",
            "/content/drive/MyDrive/COVID-META/STAR Work/COVID-19/COVID cases/augmented_image_2257.png\n",
            "/content/drive/MyDrive/COVID-META/STAR Work/COVID-19/COVID cases/augmented_image_2258.png\n",
            "/content/drive/MyDrive/COVID-META/STAR Work/COVID-19/Augmented/Tri_cov_497.jpg\n"
          ],
          "name": "stdout"
        },
        {
          "output_type": "stream",
          "text": [
            "WARNING:root:Lossy conversion from float64 to uint8. Range [0, 1]. Convert image to uint8 prior to saving to suppress this warning.\n"
          ],
          "name": "stderr"
        },
        {
          "output_type": "stream",
          "text": [
            "/content/drive/MyDrive/COVID-META/STAR Work/COVID-19/COVID cases/augmented_image_2259.png\n"
          ],
          "name": "stdout"
        },
        {
          "output_type": "stream",
          "text": [
            "WARNING:root:Lossy conversion from float64 to uint8. Range [0, 1]. Convert image to uint8 prior to saving to suppress this warning.\n"
          ],
          "name": "stderr"
        },
        {
          "output_type": "stream",
          "text": [
            "/content/drive/MyDrive/COVID-META/STAR Work/COVID-19/COVID cases/augmented_image_2260.png\n",
            "/content/drive/MyDrive/COVID-META/STAR Work/COVID-19/Augmented/Tri_cov_99.jpg\n"
          ],
          "name": "stdout"
        },
        {
          "output_type": "stream",
          "text": [
            "WARNING:root:Lossy conversion from float64 to uint8. Range [0, 1]. Convert image to uint8 prior to saving to suppress this warning.\n"
          ],
          "name": "stderr"
        },
        {
          "output_type": "stream",
          "text": [
            "/content/drive/MyDrive/COVID-META/STAR Work/COVID-19/COVID cases/augmented_image_2261.png\n",
            "/content/drive/MyDrive/COVID-META/STAR Work/COVID-19/COVID cases/augmented_image_2262.png\n",
            "/content/drive/MyDrive/COVID-META/STAR Work/COVID-19/COVID cases/augmented_image_2263.png\n",
            "/content/drive/MyDrive/COVID-META/STAR Work/COVID-19/COVID cases/augmented_image_2264.png\n",
            "/content/drive/MyDrive/COVID-META/STAR Work/COVID-19/Augmented/Tri_cov_132.jpg\n",
            "/content/drive/MyDrive/COVID-META/STAR Work/COVID-19/COVID cases/augmented_image_2265.png\n"
          ],
          "name": "stdout"
        },
        {
          "output_type": "stream",
          "text": [
            "WARNING:root:Lossy conversion from float64 to uint8. Range [0, 1]. Convert image to uint8 prior to saving to suppress this warning.\n"
          ],
          "name": "stderr"
        },
        {
          "output_type": "stream",
          "text": [
            "/content/drive/MyDrive/COVID-META/STAR Work/COVID-19/COVID cases/augmented_image_2266.png\n",
            "/content/drive/MyDrive/COVID-META/STAR Work/COVID-19/Augmented/Tri_cov_281.jpg\n",
            "/content/drive/MyDrive/COVID-META/STAR Work/COVID-19/COVID cases/augmented_image_2267.png\n"
          ],
          "name": "stdout"
        },
        {
          "output_type": "stream",
          "text": [
            "WARNING:root:Lossy conversion from float64 to uint8. Range [0, 1]. Convert image to uint8 prior to saving to suppress this warning.\n"
          ],
          "name": "stderr"
        },
        {
          "output_type": "stream",
          "text": [
            "/content/drive/MyDrive/COVID-META/STAR Work/COVID-19/COVID cases/augmented_image_2268.png\n",
            "/content/drive/MyDrive/COVID-META/STAR Work/COVID-19/Augmented/Tri_cov_385.jpg\n",
            "/content/drive/MyDrive/COVID-META/STAR Work/COVID-19/COVID cases/augmented_image_2269.png\n"
          ],
          "name": "stdout"
        },
        {
          "output_type": "stream",
          "text": [
            "WARNING:root:Lossy conversion from float64 to uint8. Range [0, 1]. Convert image to uint8 prior to saving to suppress this warning.\n"
          ],
          "name": "stderr"
        },
        {
          "output_type": "stream",
          "text": [
            "/content/drive/MyDrive/COVID-META/STAR Work/COVID-19/COVID cases/augmented_image_2270.png\n"
          ],
          "name": "stdout"
        },
        {
          "output_type": "stream",
          "text": [
            "WARNING:root:Lossy conversion from float64 to uint8. Range [0, 1]. Convert image to uint8 prior to saving to suppress this warning.\n"
          ],
          "name": "stderr"
        },
        {
          "output_type": "stream",
          "text": [
            "/content/drive/MyDrive/COVID-META/STAR Work/COVID-19/COVID cases/augmented_image_2271.png\n"
          ],
          "name": "stdout"
        },
        {
          "output_type": "stream",
          "text": [
            "WARNING:root:Lossy conversion from float64 to uint8. Range [0, 1]. Convert image to uint8 prior to saving to suppress this warning.\n"
          ],
          "name": "stderr"
        },
        {
          "output_type": "stream",
          "text": [
            "/content/drive/MyDrive/COVID-META/STAR Work/COVID-19/COVID cases/augmented_image_2272.png\n",
            "/content/drive/MyDrive/COVID-META/STAR Work/COVID-19/Augmented/Tri_cov_222.jpg\n",
            "/content/drive/MyDrive/COVID-META/STAR Work/COVID-19/COVID cases/augmented_image_2273.png\n"
          ],
          "name": "stdout"
        },
        {
          "output_type": "stream",
          "text": [
            "WARNING:root:Lossy conversion from float64 to uint8. Range [0, 1]. Convert image to uint8 prior to saving to suppress this warning.\n"
          ],
          "name": "stderr"
        },
        {
          "output_type": "stream",
          "text": [
            "/content/drive/MyDrive/COVID-META/STAR Work/COVID-19/COVID cases/augmented_image_2274.png\n",
            "/content/drive/MyDrive/COVID-META/STAR Work/COVID-19/COVID cases/augmented_image_2275.png\n"
          ],
          "name": "stdout"
        },
        {
          "output_type": "stream",
          "text": [
            "WARNING:root:Lossy conversion from float64 to uint8. Range [0, 1]. Convert image to uint8 prior to saving to suppress this warning.\n"
          ],
          "name": "stderr"
        },
        {
          "output_type": "stream",
          "text": [
            "/content/drive/MyDrive/COVID-META/STAR Work/COVID-19/COVID cases/augmented_image_2276.png\n",
            "/content/drive/MyDrive/COVID-META/STAR Work/COVID-19/Augmented/Tri_cov_81.jpg\n"
          ],
          "name": "stdout"
        },
        {
          "output_type": "stream",
          "text": [
            "WARNING:root:Lossy conversion from float64 to uint8. Range [0, 1]. Convert image to uint8 prior to saving to suppress this warning.\n"
          ],
          "name": "stderr"
        },
        {
          "output_type": "stream",
          "text": [
            "/content/drive/MyDrive/COVID-META/STAR Work/COVID-19/COVID cases/augmented_image_2277.png\n"
          ],
          "name": "stdout"
        },
        {
          "output_type": "stream",
          "text": [
            "WARNING:root:Lossy conversion from float64 to uint8. Range [0, 1]. Convert image to uint8 prior to saving to suppress this warning.\n"
          ],
          "name": "stderr"
        },
        {
          "output_type": "stream",
          "text": [
            "/content/drive/MyDrive/COVID-META/STAR Work/COVID-19/COVID cases/augmented_image_2278.png\n",
            "/content/drive/MyDrive/COVID-META/STAR Work/COVID-19/COVID cases/augmented_image_2279.png\n",
            "/content/drive/MyDrive/COVID-META/STAR Work/COVID-19/Augmented/Tri_cov_193.jpg\n"
          ],
          "name": "stdout"
        },
        {
          "output_type": "stream",
          "text": [
            "WARNING:root:Lossy conversion from float64 to uint8. Range [0, 1]. Convert image to uint8 prior to saving to suppress this warning.\n"
          ],
          "name": "stderr"
        },
        {
          "output_type": "stream",
          "text": [
            "/content/drive/MyDrive/COVID-META/STAR Work/COVID-19/COVID cases/augmented_image_2280.png\n"
          ],
          "name": "stdout"
        },
        {
          "output_type": "stream",
          "text": [
            "WARNING:root:Lossy conversion from float64 to uint8. Range [0, 1]. Convert image to uint8 prior to saving to suppress this warning.\n"
          ],
          "name": "stderr"
        },
        {
          "output_type": "stream",
          "text": [
            "/content/drive/MyDrive/COVID-META/STAR Work/COVID-19/COVID cases/augmented_image_2281.png\n"
          ],
          "name": "stdout"
        },
        {
          "output_type": "stream",
          "text": [
            "WARNING:root:Lossy conversion from float64 to uint8. Range [0, 1]. Convert image to uint8 prior to saving to suppress this warning.\n"
          ],
          "name": "stderr"
        },
        {
          "output_type": "stream",
          "text": [
            "/content/drive/MyDrive/COVID-META/STAR Work/COVID-19/COVID cases/augmented_image_2282.png\n"
          ],
          "name": "stdout"
        },
        {
          "output_type": "stream",
          "text": [
            "WARNING:root:Lossy conversion from float64 to uint8. Range [0, 1]. Convert image to uint8 prior to saving to suppress this warning.\n"
          ],
          "name": "stderr"
        },
        {
          "output_type": "stream",
          "text": [
            "/content/drive/MyDrive/COVID-META/STAR Work/COVID-19/COVID cases/augmented_image_2283.png\n",
            "/content/drive/MyDrive/COVID-META/STAR Work/COVID-19/Augmented/Tri_cov_359.jpg\n"
          ],
          "name": "stdout"
        },
        {
          "output_type": "stream",
          "text": [
            "WARNING:root:Lossy conversion from float64 to uint8. Range [0, 1]. Convert image to uint8 prior to saving to suppress this warning.\n"
          ],
          "name": "stderr"
        },
        {
          "output_type": "stream",
          "text": [
            "/content/drive/MyDrive/COVID-META/STAR Work/COVID-19/COVID cases/augmented_image_2284.png\n"
          ],
          "name": "stdout"
        },
        {
          "output_type": "stream",
          "text": [
            "WARNING:root:Lossy conversion from float64 to uint8. Range [0, 1]. Convert image to uint8 prior to saving to suppress this warning.\n"
          ],
          "name": "stderr"
        },
        {
          "output_type": "stream",
          "text": [
            "/content/drive/MyDrive/COVID-META/STAR Work/COVID-19/COVID cases/augmented_image_2285.png\n",
            "/content/drive/MyDrive/COVID-META/STAR Work/COVID-19/Augmented/Tri_cov_310.jpg\n"
          ],
          "name": "stdout"
        },
        {
          "output_type": "stream",
          "text": [
            "WARNING:root:Lossy conversion from float64 to uint8. Range [0, 1]. Convert image to uint8 prior to saving to suppress this warning.\n"
          ],
          "name": "stderr"
        },
        {
          "output_type": "stream",
          "text": [
            "/content/drive/MyDrive/COVID-META/STAR Work/COVID-19/COVID cases/augmented_image_2286.png\n"
          ],
          "name": "stdout"
        },
        {
          "output_type": "stream",
          "text": [
            "WARNING:root:Lossy conversion from float64 to uint8. Range [0, 1]. Convert image to uint8 prior to saving to suppress this warning.\n"
          ],
          "name": "stderr"
        },
        {
          "output_type": "stream",
          "text": [
            "/content/drive/MyDrive/COVID-META/STAR Work/COVID-19/COVID cases/augmented_image_2287.png\n"
          ],
          "name": "stdout"
        },
        {
          "output_type": "stream",
          "text": [
            "WARNING:root:Lossy conversion from float64 to uint8. Range [0, 1]. Convert image to uint8 prior to saving to suppress this warning.\n"
          ],
          "name": "stderr"
        },
        {
          "output_type": "stream",
          "text": [
            "/content/drive/MyDrive/COVID-META/STAR Work/COVID-19/COVID cases/augmented_image_2288.png\n"
          ],
          "name": "stdout"
        },
        {
          "output_type": "stream",
          "text": [
            "WARNING:root:Lossy conversion from float64 to uint8. Range [0, 1]. Convert image to uint8 prior to saving to suppress this warning.\n"
          ],
          "name": "stderr"
        },
        {
          "output_type": "stream",
          "text": [
            "/content/drive/MyDrive/COVID-META/STAR Work/COVID-19/COVID cases/augmented_image_2289.png\n",
            "/content/drive/MyDrive/COVID-META/STAR Work/COVID-19/Augmented/Tri_cov_497.jpg\n",
            "/content/drive/MyDrive/COVID-META/STAR Work/COVID-19/COVID cases/augmented_image_2290.png\n"
          ],
          "name": "stdout"
        },
        {
          "output_type": "stream",
          "text": [
            "WARNING:root:Lossy conversion from float64 to uint8. Range [0, 1]. Convert image to uint8 prior to saving to suppress this warning.\n"
          ],
          "name": "stderr"
        },
        {
          "output_type": "stream",
          "text": [
            "/content/drive/MyDrive/COVID-META/STAR Work/COVID-19/COVID cases/augmented_image_2291.png\n"
          ],
          "name": "stdout"
        },
        {
          "output_type": "stream",
          "text": [
            "WARNING:root:Lossy conversion from float64 to uint8. Range [0, 1]. Convert image to uint8 prior to saving to suppress this warning.\n"
          ],
          "name": "stderr"
        },
        {
          "output_type": "stream",
          "text": [
            "/content/drive/MyDrive/COVID-META/STAR Work/COVID-19/COVID cases/augmented_image_2292.png\n",
            "/content/drive/MyDrive/COVID-META/STAR Work/COVID-19/Augmented/Tri_cov_558.jpg\n",
            "/content/drive/MyDrive/COVID-META/STAR Work/COVID-19/COVID cases/augmented_image_2293.png\n"
          ],
          "name": "stdout"
        },
        {
          "output_type": "stream",
          "text": [
            "WARNING:root:Lossy conversion from float64 to uint8. Range [0, 1]. Convert image to uint8 prior to saving to suppress this warning.\n"
          ],
          "name": "stderr"
        },
        {
          "output_type": "stream",
          "text": [
            "/content/drive/MyDrive/COVID-META/STAR Work/COVID-19/COVID cases/augmented_image_2294.png\n",
            "/content/drive/MyDrive/COVID-META/STAR Work/COVID-19/COVID cases/augmented_image_2295.png\n"
          ],
          "name": "stdout"
        },
        {
          "output_type": "stream",
          "text": [
            "WARNING:root:Lossy conversion from float64 to uint8. Range [0, 1]. Convert image to uint8 prior to saving to suppress this warning.\n"
          ],
          "name": "stderr"
        },
        {
          "output_type": "stream",
          "text": [
            "/content/drive/MyDrive/COVID-META/STAR Work/COVID-19/Augmented/Tri_cov_283.jpg\n",
            "/content/drive/MyDrive/COVID-META/STAR Work/COVID-19/COVID cases/augmented_image_2296.png\n"
          ],
          "name": "stdout"
        },
        {
          "output_type": "stream",
          "text": [
            "WARNING:root:Lossy conversion from float64 to uint8. Range [0, 1]. Convert image to uint8 prior to saving to suppress this warning.\n"
          ],
          "name": "stderr"
        },
        {
          "output_type": "stream",
          "text": [
            "/content/drive/MyDrive/COVID-META/STAR Work/COVID-19/COVID cases/augmented_image_2297.png\n",
            "/content/drive/MyDrive/COVID-META/STAR Work/COVID-19/COVID cases/augmented_image_2298.png\n"
          ],
          "name": "stdout"
        },
        {
          "output_type": "stream",
          "text": [
            "WARNING:root:Lossy conversion from float64 to uint8. Range [0, 1]. Convert image to uint8 prior to saving to suppress this warning.\n"
          ],
          "name": "stderr"
        },
        {
          "output_type": "stream",
          "text": [
            "/content/drive/MyDrive/COVID-META/STAR Work/COVID-19/COVID cases/augmented_image_2299.png\n",
            "/content/drive/MyDrive/COVID-META/STAR Work/COVID-19/Augmented/Tri_cov_350.jpg\n"
          ],
          "name": "stdout"
        },
        {
          "output_type": "stream",
          "text": [
            "WARNING:root:Lossy conversion from float64 to uint8. Range [0, 1]. Convert image to uint8 prior to saving to suppress this warning.\n"
          ],
          "name": "stderr"
        },
        {
          "output_type": "stream",
          "text": [
            "/content/drive/MyDrive/COVID-META/STAR Work/COVID-19/COVID cases/augmented_image_2300.png\n",
            "/content/drive/MyDrive/COVID-META/STAR Work/COVID-19/COVID cases/augmented_image_2301.png\n",
            "/content/drive/MyDrive/COVID-META/STAR Work/COVID-19/COVID cases/augmented_image_2302.png\n"
          ],
          "name": "stdout"
        },
        {
          "output_type": "stream",
          "text": [
            "WARNING:root:Lossy conversion from float64 to uint8. Range [0, 1]. Convert image to uint8 prior to saving to suppress this warning.\n"
          ],
          "name": "stderr"
        },
        {
          "output_type": "stream",
          "text": [
            "/content/drive/MyDrive/COVID-META/STAR Work/COVID-19/COVID cases/augmented_image_2303.png\n",
            "/content/drive/MyDrive/COVID-META/STAR Work/COVID-19/Augmented/Tri_cov_191.jpg\n",
            "/content/drive/MyDrive/COVID-META/STAR Work/COVID-19/COVID cases/augmented_image_2304.png\n"
          ],
          "name": "stdout"
        },
        {
          "output_type": "stream",
          "text": [
            "WARNING:root:Lossy conversion from float64 to uint8. Range [0, 1]. Convert image to uint8 prior to saving to suppress this warning.\n"
          ],
          "name": "stderr"
        },
        {
          "output_type": "stream",
          "text": [
            "/content/drive/MyDrive/COVID-META/STAR Work/COVID-19/COVID cases/augmented_image_2305.png\n",
            "/content/drive/MyDrive/COVID-META/STAR Work/COVID-19/COVID cases/augmented_image_2306.png\n",
            "/content/drive/MyDrive/COVID-META/STAR Work/COVID-19/COVID cases/augmented_image_2307.png\n",
            "/content/drive/MyDrive/COVID-META/STAR Work/COVID-19/Augmented/Tri_cov_430.jpg\n"
          ],
          "name": "stdout"
        },
        {
          "output_type": "stream",
          "text": [
            "WARNING:root:Lossy conversion from float64 to uint8. Range [0, 1]. Convert image to uint8 prior to saving to suppress this warning.\n"
          ],
          "name": "stderr"
        },
        {
          "output_type": "stream",
          "text": [
            "/content/drive/MyDrive/COVID-META/STAR Work/COVID-19/COVID cases/augmented_image_2308.png\n"
          ],
          "name": "stdout"
        },
        {
          "output_type": "stream",
          "text": [
            "WARNING:root:Lossy conversion from float64 to uint8. Range [0, 1]. Convert image to uint8 prior to saving to suppress this warning.\n"
          ],
          "name": "stderr"
        },
        {
          "output_type": "stream",
          "text": [
            "/content/drive/MyDrive/COVID-META/STAR Work/COVID-19/COVID cases/augmented_image_2309.png\n"
          ],
          "name": "stdout"
        },
        {
          "output_type": "stream",
          "text": [
            "WARNING:root:Lossy conversion from float64 to uint8. Range [0, 1]. Convert image to uint8 prior to saving to suppress this warning.\n"
          ],
          "name": "stderr"
        },
        {
          "output_type": "stream",
          "text": [
            "/content/drive/MyDrive/COVID-META/STAR Work/COVID-19/COVID cases/augmented_image_2310.png\n",
            "/content/drive/MyDrive/COVID-META/STAR Work/COVID-19/COVID cases/augmented_image_2311.png\n",
            "/content/drive/MyDrive/COVID-META/STAR Work/COVID-19/Augmented/Tri_cov_259.jpg\n"
          ],
          "name": "stdout"
        },
        {
          "output_type": "stream",
          "text": [
            "WARNING:root:Lossy conversion from float64 to uint8. Range [0, 1]. Convert image to uint8 prior to saving to suppress this warning.\n"
          ],
          "name": "stderr"
        },
        {
          "output_type": "stream",
          "text": [
            "/content/drive/MyDrive/COVID-META/STAR Work/COVID-19/COVID cases/augmented_image_2312.png\n"
          ],
          "name": "stdout"
        },
        {
          "output_type": "stream",
          "text": [
            "WARNING:root:Lossy conversion from float64 to uint8. Range [0, 1]. Convert image to uint8 prior to saving to suppress this warning.\n"
          ],
          "name": "stderr"
        },
        {
          "output_type": "stream",
          "text": [
            "/content/drive/MyDrive/COVID-META/STAR Work/COVID-19/COVID cases/augmented_image_2313.png\n"
          ],
          "name": "stdout"
        },
        {
          "output_type": "stream",
          "text": [
            "WARNING:root:Lossy conversion from float64 to uint8. Range [0, 1]. Convert image to uint8 prior to saving to suppress this warning.\n"
          ],
          "name": "stderr"
        },
        {
          "output_type": "stream",
          "text": [
            "/content/drive/MyDrive/COVID-META/STAR Work/COVID-19/COVID cases/augmented_image_2314.png\n"
          ],
          "name": "stdout"
        },
        {
          "output_type": "stream",
          "text": [
            "WARNING:root:Lossy conversion from float64 to uint8. Range [0, 1]. Convert image to uint8 prior to saving to suppress this warning.\n"
          ],
          "name": "stderr"
        },
        {
          "output_type": "stream",
          "text": [
            "/content/drive/MyDrive/COVID-META/STAR Work/COVID-19/COVID cases/augmented_image_2315.png\n",
            "/content/drive/MyDrive/COVID-META/STAR Work/COVID-19/Augmented/Tri_cov_499.jpg\n"
          ],
          "name": "stdout"
        },
        {
          "output_type": "stream",
          "text": [
            "WARNING:root:Lossy conversion from float64 to uint8. Range [0, 1]. Convert image to uint8 prior to saving to suppress this warning.\n"
          ],
          "name": "stderr"
        },
        {
          "output_type": "stream",
          "text": [
            "/content/drive/MyDrive/COVID-META/STAR Work/COVID-19/COVID cases/augmented_image_2316.png\n",
            "/content/drive/MyDrive/COVID-META/STAR Work/COVID-19/COVID cases/augmented_image_2317.png\n"
          ],
          "name": "stdout"
        },
        {
          "output_type": "stream",
          "text": [
            "WARNING:root:Lossy conversion from float64 to uint8. Range [0, 1]. Convert image to uint8 prior to saving to suppress this warning.\n"
          ],
          "name": "stderr"
        },
        {
          "output_type": "stream",
          "text": [
            "/content/drive/MyDrive/COVID-META/STAR Work/COVID-19/COVID cases/augmented_image_2318.png\n",
            "/content/drive/MyDrive/COVID-META/STAR Work/COVID-19/COVID cases/augmented_image_2319.png\n",
            "/content/drive/MyDrive/COVID-META/STAR Work/COVID-19/Augmented/Tri_cov_486.jpg\n"
          ],
          "name": "stdout"
        },
        {
          "output_type": "stream",
          "text": [
            "WARNING:root:Lossy conversion from float64 to uint8. Range [0, 1]. Convert image to uint8 prior to saving to suppress this warning.\n"
          ],
          "name": "stderr"
        },
        {
          "output_type": "stream",
          "text": [
            "/content/drive/MyDrive/COVID-META/STAR Work/COVID-19/COVID cases/augmented_image_2320.png\n"
          ],
          "name": "stdout"
        },
        {
          "output_type": "stream",
          "text": [
            "WARNING:root:Lossy conversion from float64 to uint8. Range [0, 1]. Convert image to uint8 prior to saving to suppress this warning.\n"
          ],
          "name": "stderr"
        },
        {
          "output_type": "stream",
          "text": [
            "/content/drive/MyDrive/COVID-META/STAR Work/COVID-19/COVID cases/augmented_image_2321.png\n",
            "/content/drive/MyDrive/COVID-META/STAR Work/COVID-19/Augmented/Tri_cov_375.jpg\n",
            "/content/drive/MyDrive/COVID-META/STAR Work/COVID-19/COVID cases/augmented_image_2322.png\n"
          ],
          "name": "stdout"
        },
        {
          "output_type": "stream",
          "text": [
            "WARNING:root:Lossy conversion from float64 to uint8. Range [0, 1]. Convert image to uint8 prior to saving to suppress this warning.\n",
            "WARNING:root:Lossy conversion from float64 to uint8. Range [0, 1]. Convert image to uint8 prior to saving to suppress this warning.\n"
          ],
          "name": "stderr"
        },
        {
          "output_type": "stream",
          "text": [
            "/content/drive/MyDrive/COVID-META/STAR Work/COVID-19/COVID cases/augmented_image_2323.png\n"
          ],
          "name": "stdout"
        },
        {
          "output_type": "stream",
          "text": [
            "WARNING:root:Lossy conversion from float64 to uint8. Range [0, 1]. Convert image to uint8 prior to saving to suppress this warning.\n"
          ],
          "name": "stderr"
        },
        {
          "output_type": "stream",
          "text": [
            "/content/drive/MyDrive/COVID-META/STAR Work/COVID-19/COVID cases/augmented_image_2324.png\n",
            "/content/drive/MyDrive/COVID-META/STAR Work/COVID-19/Augmented/Tri_cov_174.jpg\n"
          ],
          "name": "stdout"
        },
        {
          "output_type": "stream",
          "text": [
            "WARNING:root:Lossy conversion from float64 to uint8. Range [0, 1]. Convert image to uint8 prior to saving to suppress this warning.\n"
          ],
          "name": "stderr"
        },
        {
          "output_type": "stream",
          "text": [
            "/content/drive/MyDrive/COVID-META/STAR Work/COVID-19/COVID cases/augmented_image_2325.png\n"
          ],
          "name": "stdout"
        },
        {
          "output_type": "stream",
          "text": [
            "WARNING:root:Lossy conversion from float64 to uint8. Range [0, 1]. Convert image to uint8 prior to saving to suppress this warning.\n"
          ],
          "name": "stderr"
        },
        {
          "output_type": "stream",
          "text": [
            "/content/drive/MyDrive/COVID-META/STAR Work/COVID-19/COVID cases/augmented_image_2326.png\n",
            "/content/drive/MyDrive/COVID-META/STAR Work/COVID-19/COVID cases/augmented_image_2327.png\n"
          ],
          "name": "stdout"
        },
        {
          "output_type": "stream",
          "text": [
            "WARNING:root:Lossy conversion from float64 to uint8. Range [0, 1]. Convert image to uint8 prior to saving to suppress this warning.\n"
          ],
          "name": "stderr"
        },
        {
          "output_type": "stream",
          "text": [
            "/content/drive/MyDrive/COVID-META/STAR Work/COVID-19/Augmented/Tri_cov_558.jpg\n",
            "/content/drive/MyDrive/COVID-META/STAR Work/COVID-19/COVID cases/augmented_image_2328.png\n"
          ],
          "name": "stdout"
        },
        {
          "output_type": "stream",
          "text": [
            "WARNING:root:Lossy conversion from float64 to uint8. Range [0, 1]. Convert image to uint8 prior to saving to suppress this warning.\n"
          ],
          "name": "stderr"
        },
        {
          "output_type": "stream",
          "text": [
            "/content/drive/MyDrive/COVID-META/STAR Work/COVID-19/COVID cases/augmented_image_2329.png\n"
          ],
          "name": "stdout"
        },
        {
          "output_type": "stream",
          "text": [
            "WARNING:root:Lossy conversion from float64 to uint8. Range [0, 1]. Convert image to uint8 prior to saving to suppress this warning.\n"
          ],
          "name": "stderr"
        },
        {
          "output_type": "stream",
          "text": [
            "/content/drive/MyDrive/COVID-META/STAR Work/COVID-19/COVID cases/augmented_image_2330.png\n",
            "/content/drive/MyDrive/COVID-META/STAR Work/COVID-19/Augmented/Tri_cov_260.jpg\n",
            "/content/drive/MyDrive/COVID-META/STAR Work/COVID-19/COVID cases/augmented_image_2331.png\n"
          ],
          "name": "stdout"
        },
        {
          "output_type": "stream",
          "text": [
            "WARNING:root:Lossy conversion from float64 to uint8. Range [0, 1]. Convert image to uint8 prior to saving to suppress this warning.\n"
          ],
          "name": "stderr"
        },
        {
          "output_type": "stream",
          "text": [
            "/content/drive/MyDrive/COVID-META/STAR Work/COVID-19/COVID cases/augmented_image_2332.png\n",
            "/content/drive/MyDrive/COVID-META/STAR Work/COVID-19/COVID cases/augmented_image_2333.png\n",
            "/content/drive/MyDrive/COVID-META/STAR Work/COVID-19/Augmented/Tri_cov_251.jpg\n"
          ],
          "name": "stdout"
        },
        {
          "output_type": "stream",
          "text": [
            "WARNING:root:Lossy conversion from float64 to uint8. Range [0, 1]. Convert image to uint8 prior to saving to suppress this warning.\n"
          ],
          "name": "stderr"
        },
        {
          "output_type": "stream",
          "text": [
            "/content/drive/MyDrive/COVID-META/STAR Work/COVID-19/COVID cases/augmented_image_2334.png\n"
          ],
          "name": "stdout"
        },
        {
          "output_type": "stream",
          "text": [
            "WARNING:root:Lossy conversion from float64 to uint8. Range [0, 1]. Convert image to uint8 prior to saving to suppress this warning.\n"
          ],
          "name": "stderr"
        },
        {
          "output_type": "stream",
          "text": [
            "/content/drive/MyDrive/COVID-META/STAR Work/COVID-19/COVID cases/augmented_image_2335.png\n"
          ],
          "name": "stdout"
        },
        {
          "output_type": "stream",
          "text": [
            "WARNING:root:Lossy conversion from float64 to uint8. Range [0, 1]. Convert image to uint8 prior to saving to suppress this warning.\n"
          ],
          "name": "stderr"
        },
        {
          "output_type": "stream",
          "text": [
            "/content/drive/MyDrive/COVID-META/STAR Work/COVID-19/COVID cases/augmented_image_2336.png\n"
          ],
          "name": "stdout"
        },
        {
          "output_type": "stream",
          "text": [
            "WARNING:root:Lossy conversion from float64 to uint8. Range [0, 1]. Convert image to uint8 prior to saving to suppress this warning.\n"
          ],
          "name": "stderr"
        },
        {
          "output_type": "stream",
          "text": [
            "/content/drive/MyDrive/COVID-META/STAR Work/COVID-19/COVID cases/augmented_image_2337.png\n",
            "/content/drive/MyDrive/COVID-META/STAR Work/COVID-19/Augmented/Tri_cov_152.jpg\n",
            "/content/drive/MyDrive/COVID-META/STAR Work/COVID-19/COVID cases/augmented_image_2338.png\n",
            "/content/drive/MyDrive/COVID-META/STAR Work/COVID-19/COVID cases/augmented_image_2339.png\n"
          ],
          "name": "stdout"
        },
        {
          "output_type": "stream",
          "text": [
            "WARNING:root:Lossy conversion from float64 to uint8. Range [0, 1]. Convert image to uint8 prior to saving to suppress this warning.\n",
            "WARNING:root:Lossy conversion from float64 to uint8. Range [0, 1]. Convert image to uint8 prior to saving to suppress this warning.\n"
          ],
          "name": "stderr"
        },
        {
          "output_type": "stream",
          "text": [
            "/content/drive/MyDrive/COVID-META/STAR Work/COVID-19/COVID cases/augmented_image_2340.png\n",
            "/content/drive/MyDrive/COVID-META/STAR Work/COVID-19/COVID cases/augmented_image_2341.png\n",
            "/content/drive/MyDrive/COVID-META/STAR Work/COVID-19/Augmented/Tri_cov_198.jpg\n"
          ],
          "name": "stdout"
        },
        {
          "output_type": "stream",
          "text": [
            "WARNING:root:Lossy conversion from float64 to uint8. Range [0, 1]. Convert image to uint8 prior to saving to suppress this warning.\n"
          ],
          "name": "stderr"
        },
        {
          "output_type": "stream",
          "text": [
            "/content/drive/MyDrive/COVID-META/STAR Work/COVID-19/COVID cases/augmented_image_2342.png\n",
            "/content/drive/MyDrive/COVID-META/STAR Work/COVID-19/COVID cases/augmented_image_2343.png\n"
          ],
          "name": "stdout"
        },
        {
          "output_type": "stream",
          "text": [
            "WARNING:root:Lossy conversion from float64 to uint8. Range [0, 1]. Convert image to uint8 prior to saving to suppress this warning.\n"
          ],
          "name": "stderr"
        },
        {
          "output_type": "stream",
          "text": [
            "/content/drive/MyDrive/COVID-META/STAR Work/COVID-19/COVID cases/augmented_image_2344.png\n",
            "/content/drive/MyDrive/COVID-META/STAR Work/COVID-19/Augmented/Tri_cov_382.jpg\n"
          ],
          "name": "stdout"
        },
        {
          "output_type": "stream",
          "text": [
            "WARNING:root:Lossy conversion from float64 to uint8. Range [0, 1]. Convert image to uint8 prior to saving to suppress this warning.\n"
          ],
          "name": "stderr"
        },
        {
          "output_type": "stream",
          "text": [
            "/content/drive/MyDrive/COVID-META/STAR Work/COVID-19/COVID cases/augmented_image_2345.png\n"
          ],
          "name": "stdout"
        },
        {
          "output_type": "stream",
          "text": [
            "WARNING:root:Lossy conversion from float64 to uint8. Range [0, 1]. Convert image to uint8 prior to saving to suppress this warning.\n"
          ],
          "name": "stderr"
        },
        {
          "output_type": "stream",
          "text": [
            "/content/drive/MyDrive/COVID-META/STAR Work/COVID-19/COVID cases/augmented_image_2346.png\n",
            "/content/drive/MyDrive/COVID-META/STAR Work/COVID-19/Augmented/Tri_cov_477.jpg\n"
          ],
          "name": "stdout"
        },
        {
          "output_type": "stream",
          "text": [
            "WARNING:root:Lossy conversion from float64 to uint8. Range [0, 1]. Convert image to uint8 prior to saving to suppress this warning.\n"
          ],
          "name": "stderr"
        },
        {
          "output_type": "stream",
          "text": [
            "/content/drive/MyDrive/COVID-META/STAR Work/COVID-19/COVID cases/augmented_image_2347.png\n"
          ],
          "name": "stdout"
        },
        {
          "output_type": "stream",
          "text": [
            "WARNING:root:Lossy conversion from float64 to uint8. Range [0, 1]. Convert image to uint8 prior to saving to suppress this warning.\n"
          ],
          "name": "stderr"
        },
        {
          "output_type": "stream",
          "text": [
            "/content/drive/MyDrive/COVID-META/STAR Work/COVID-19/COVID cases/augmented_image_2348.png\n",
            "/content/drive/MyDrive/COVID-META/STAR Work/COVID-19/Augmented/Tri_cov_185.jpg\n"
          ],
          "name": "stdout"
        },
        {
          "output_type": "stream",
          "text": [
            "WARNING:root:Lossy conversion from float64 to uint8. Range [0, 1]. Convert image to uint8 prior to saving to suppress this warning.\n"
          ],
          "name": "stderr"
        },
        {
          "output_type": "stream",
          "text": [
            "/content/drive/MyDrive/COVID-META/STAR Work/COVID-19/COVID cases/augmented_image_2349.png\n",
            "/content/drive/MyDrive/COVID-META/STAR Work/COVID-19/COVID cases/augmented_image_2350.png\n",
            "/content/drive/MyDrive/COVID-META/STAR Work/COVID-19/COVID cases/augmented_image_2351.png\n"
          ],
          "name": "stdout"
        },
        {
          "output_type": "stream",
          "text": [
            "WARNING:root:Lossy conversion from float64 to uint8. Range [0, 1]. Convert image to uint8 prior to saving to suppress this warning.\n"
          ],
          "name": "stderr"
        },
        {
          "output_type": "stream",
          "text": [
            "/content/drive/MyDrive/COVID-META/STAR Work/COVID-19/COVID cases/augmented_image_2352.png\n",
            "/content/drive/MyDrive/COVID-META/STAR Work/COVID-19/Augmented/Tri_cov_238.jpg\n"
          ],
          "name": "stdout"
        },
        {
          "output_type": "stream",
          "text": [
            "WARNING:root:Lossy conversion from float64 to uint8. Range [0, 1]. Convert image to uint8 prior to saving to suppress this warning.\n"
          ],
          "name": "stderr"
        },
        {
          "output_type": "stream",
          "text": [
            "/content/drive/MyDrive/COVID-META/STAR Work/COVID-19/COVID cases/augmented_image_2353.png\n"
          ],
          "name": "stdout"
        },
        {
          "output_type": "stream",
          "text": [
            "WARNING:root:Lossy conversion from float64 to uint8. Range [0, 1]. Convert image to uint8 prior to saving to suppress this warning.\n"
          ],
          "name": "stderr"
        },
        {
          "output_type": "stream",
          "text": [
            "/content/drive/MyDrive/COVID-META/STAR Work/COVID-19/COVID cases/augmented_image_2354.png\n",
            "/content/drive/MyDrive/COVID-META/STAR Work/COVID-19/Augmented/Tri_cov_164.jpg\n"
          ],
          "name": "stdout"
        },
        {
          "output_type": "stream",
          "text": [
            "WARNING:root:Lossy conversion from float64 to uint8. Range [0, 1]. Convert image to uint8 prior to saving to suppress this warning.\n"
          ],
          "name": "stderr"
        },
        {
          "output_type": "stream",
          "text": [
            "/content/drive/MyDrive/COVID-META/STAR Work/COVID-19/COVID cases/augmented_image_2355.png\n"
          ],
          "name": "stdout"
        },
        {
          "output_type": "stream",
          "text": [
            "WARNING:root:Lossy conversion from float64 to uint8. Range [0, 1]. Convert image to uint8 prior to saving to suppress this warning.\n"
          ],
          "name": "stderr"
        },
        {
          "output_type": "stream",
          "text": [
            "/content/drive/MyDrive/COVID-META/STAR Work/COVID-19/COVID cases/augmented_image_2356.png\n",
            "/content/drive/MyDrive/COVID-META/STAR Work/COVID-19/COVID cases/augmented_image_2357.png\n"
          ],
          "name": "stdout"
        },
        {
          "output_type": "stream",
          "text": [
            "WARNING:root:Lossy conversion from float64 to uint8. Range [0, 1]. Convert image to uint8 prior to saving to suppress this warning.\n"
          ],
          "name": "stderr"
        },
        {
          "output_type": "stream",
          "text": [
            "/content/drive/MyDrive/COVID-META/STAR Work/COVID-19/Augmented/Tri_cov_202.jpg\n",
            "/content/drive/MyDrive/COVID-META/STAR Work/COVID-19/COVID cases/augmented_image_2358.png\n"
          ],
          "name": "stdout"
        },
        {
          "output_type": "stream",
          "text": [
            "WARNING:root:Lossy conversion from float64 to uint8. Range [0, 1]. Convert image to uint8 prior to saving to suppress this warning.\n"
          ],
          "name": "stderr"
        },
        {
          "output_type": "stream",
          "text": [
            "/content/drive/MyDrive/COVID-META/STAR Work/COVID-19/COVID cases/augmented_image_2359.png\n"
          ],
          "name": "stdout"
        },
        {
          "output_type": "stream",
          "text": [
            "WARNING:root:Lossy conversion from float64 to uint8. Range [0, 1]. Convert image to uint8 prior to saving to suppress this warning.\n"
          ],
          "name": "stderr"
        },
        {
          "output_type": "stream",
          "text": [
            "/content/drive/MyDrive/COVID-META/STAR Work/COVID-19/COVID cases/augmented_image_2360.png\n",
            "/content/drive/MyDrive/COVID-META/STAR Work/COVID-19/Augmented/Tri_cov_27.jpg\n"
          ],
          "name": "stdout"
        },
        {
          "output_type": "stream",
          "text": [
            "WARNING:root:Lossy conversion from float64 to uint8. Range [0, 1]. Convert image to uint8 prior to saving to suppress this warning.\n"
          ],
          "name": "stderr"
        },
        {
          "output_type": "stream",
          "text": [
            "/content/drive/MyDrive/COVID-META/STAR Work/COVID-19/COVID cases/augmented_image_2361.png\n",
            "/content/drive/MyDrive/COVID-META/STAR Work/COVID-19/COVID cases/augmented_image_2362.png\n"
          ],
          "name": "stdout"
        },
        {
          "output_type": "stream",
          "text": [
            "WARNING:root:Lossy conversion from float64 to uint8. Range [0, 1]. Convert image to uint8 prior to saving to suppress this warning.\n"
          ],
          "name": "stderr"
        },
        {
          "output_type": "stream",
          "text": [
            "/content/drive/MyDrive/COVID-META/STAR Work/COVID-19/COVID cases/augmented_image_2363.png\n",
            "/content/drive/MyDrive/COVID-META/STAR Work/COVID-19/COVID cases/augmented_image_2364.png\n",
            "/content/drive/MyDrive/COVID-META/STAR Work/COVID-19/Augmented/Tri_cov_475.jpg\n"
          ],
          "name": "stdout"
        },
        {
          "output_type": "stream",
          "text": [
            "WARNING:root:Lossy conversion from float64 to uint8. Range [0, 1]. Convert image to uint8 prior to saving to suppress this warning.\n"
          ],
          "name": "stderr"
        },
        {
          "output_type": "stream",
          "text": [
            "/content/drive/MyDrive/COVID-META/STAR Work/COVID-19/COVID cases/augmented_image_2365.png\n"
          ],
          "name": "stdout"
        },
        {
          "output_type": "stream",
          "text": [
            "WARNING:root:Lossy conversion from float64 to uint8. Range [0, 1]. Convert image to uint8 prior to saving to suppress this warning.\n"
          ],
          "name": "stderr"
        },
        {
          "output_type": "stream",
          "text": [
            "/content/drive/MyDrive/COVID-META/STAR Work/COVID-19/COVID cases/augmented_image_2366.png\n",
            "/content/drive/MyDrive/COVID-META/STAR Work/COVID-19/Augmented/Tri_cov_569.jpg\n"
          ],
          "name": "stdout"
        },
        {
          "output_type": "stream",
          "text": [
            "WARNING:root:Lossy conversion from float64 to uint8. Range [0, 1]. Convert image to uint8 prior to saving to suppress this warning.\n"
          ],
          "name": "stderr"
        },
        {
          "output_type": "stream",
          "text": [
            "/content/drive/MyDrive/COVID-META/STAR Work/COVID-19/COVID cases/augmented_image_2367.png\n"
          ],
          "name": "stdout"
        },
        {
          "output_type": "stream",
          "text": [
            "WARNING:root:Lossy conversion from float64 to uint8. Range [0, 1]. Convert image to uint8 prior to saving to suppress this warning.\n"
          ],
          "name": "stderr"
        },
        {
          "output_type": "stream",
          "text": [
            "/content/drive/MyDrive/COVID-META/STAR Work/COVID-19/COVID cases/augmented_image_2368.png\n"
          ],
          "name": "stdout"
        },
        {
          "output_type": "stream",
          "text": [
            "WARNING:root:Lossy conversion from float64 to uint8. Range [0, 1]. Convert image to uint8 prior to saving to suppress this warning.\n"
          ],
          "name": "stderr"
        },
        {
          "output_type": "stream",
          "text": [
            "/content/drive/MyDrive/COVID-META/STAR Work/COVID-19/COVID cases/augmented_image_2369.png\n"
          ],
          "name": "stdout"
        },
        {
          "output_type": "stream",
          "text": [
            "WARNING:root:Lossy conversion from float64 to uint8. Range [0, 1]. Convert image to uint8 prior to saving to suppress this warning.\n"
          ],
          "name": "stderr"
        },
        {
          "output_type": "stream",
          "text": [
            "/content/drive/MyDrive/COVID-META/STAR Work/COVID-19/COVID cases/augmented_image_2370.png\n",
            "/content/drive/MyDrive/COVID-META/STAR Work/COVID-19/Augmented/Tri_cov_218.jpg\n"
          ],
          "name": "stdout"
        },
        {
          "output_type": "stream",
          "text": [
            "WARNING:root:Lossy conversion from float64 to uint8. Range [0, 1]. Convert image to uint8 prior to saving to suppress this warning.\n"
          ],
          "name": "stderr"
        },
        {
          "output_type": "stream",
          "text": [
            "/content/drive/MyDrive/COVID-META/STAR Work/COVID-19/COVID cases/augmented_image_2371.png\n",
            "/content/drive/MyDrive/COVID-META/STAR Work/COVID-19/COVID cases/augmented_image_2372.png\n",
            "/content/drive/MyDrive/COVID-META/STAR Work/COVID-19/Augmented/Tri_cov_538.jpg\n"
          ],
          "name": "stdout"
        },
        {
          "output_type": "stream",
          "text": [
            "WARNING:root:Lossy conversion from float64 to uint8. Range [0, 1]. Convert image to uint8 prior to saving to suppress this warning.\n"
          ],
          "name": "stderr"
        },
        {
          "output_type": "stream",
          "text": [
            "/content/drive/MyDrive/COVID-META/STAR Work/COVID-19/COVID cases/augmented_image_2373.png\n"
          ],
          "name": "stdout"
        },
        {
          "output_type": "stream",
          "text": [
            "WARNING:root:Lossy conversion from float64 to uint8. Range [0, 1]. Convert image to uint8 prior to saving to suppress this warning.\n"
          ],
          "name": "stderr"
        },
        {
          "output_type": "stream",
          "text": [
            "/content/drive/MyDrive/COVID-META/STAR Work/COVID-19/COVID cases/augmented_image_2374.png\n"
          ],
          "name": "stdout"
        },
        {
          "output_type": "stream",
          "text": [
            "WARNING:root:Lossy conversion from float64 to uint8. Range [0, 1]. Convert image to uint8 prior to saving to suppress this warning.\n"
          ],
          "name": "stderr"
        },
        {
          "output_type": "stream",
          "text": [
            "/content/drive/MyDrive/COVID-META/STAR Work/COVID-19/COVID cases/augmented_image_2375.png\n"
          ],
          "name": "stdout"
        },
        {
          "output_type": "stream",
          "text": [
            "WARNING:root:Lossy conversion from float64 to uint8. Range [0, 1]. Convert image to uint8 prior to saving to suppress this warning.\n"
          ],
          "name": "stderr"
        },
        {
          "output_type": "stream",
          "text": [
            "/content/drive/MyDrive/COVID-META/STAR Work/COVID-19/COVID cases/augmented_image_2376.png\n",
            "/content/drive/MyDrive/COVID-META/STAR Work/COVID-19/Augmented/Tri_cov_560.jpg\n",
            "/content/drive/MyDrive/COVID-META/STAR Work/COVID-19/COVID cases/augmented_image_2377.png\n"
          ],
          "name": "stdout"
        },
        {
          "output_type": "stream",
          "text": [
            "WARNING:root:Lossy conversion from float64 to uint8. Range [0, 1]. Convert image to uint8 prior to saving to suppress this warning.\n",
            "WARNING:root:Lossy conversion from float64 to uint8. Range [0, 1]. Convert image to uint8 prior to saving to suppress this warning.\n"
          ],
          "name": "stderr"
        },
        {
          "output_type": "stream",
          "text": [
            "/content/drive/MyDrive/COVID-META/STAR Work/COVID-19/COVID cases/augmented_image_2378.png\n",
            "/content/drive/MyDrive/COVID-META/STAR Work/COVID-19/COVID cases/augmented_image_2379.png\n",
            "/content/drive/MyDrive/COVID-META/STAR Work/COVID-19/COVID cases/augmented_image_2380.png\n",
            "/content/drive/MyDrive/COVID-META/STAR Work/COVID-19/Augmented/Tri_cov_505.jpg\n",
            "/content/drive/MyDrive/COVID-META/STAR Work/COVID-19/COVID cases/augmented_image_2381.png\n"
          ],
          "name": "stdout"
        },
        {
          "output_type": "stream",
          "text": [
            "WARNING:root:Lossy conversion from float64 to uint8. Range [0, 1]. Convert image to uint8 prior to saving to suppress this warning.\n"
          ],
          "name": "stderr"
        },
        {
          "output_type": "stream",
          "text": [
            "/content/drive/MyDrive/COVID-META/STAR Work/COVID-19/COVID cases/augmented_image_2382.png\n"
          ],
          "name": "stdout"
        },
        {
          "output_type": "stream",
          "text": [
            "WARNING:root:Lossy conversion from float64 to uint8. Range [0, 1]. Convert image to uint8 prior to saving to suppress this warning.\n",
            "WARNING:root:Lossy conversion from float64 to uint8. Range [0, 1]. Convert image to uint8 prior to saving to suppress this warning.\n"
          ],
          "name": "stderr"
        },
        {
          "output_type": "stream",
          "text": [
            "/content/drive/MyDrive/COVID-META/STAR Work/COVID-19/Augmented/Tri_cov_91.jpg\n",
            "/content/drive/MyDrive/COVID-META/STAR Work/COVID-19/COVID cases/augmented_image_2383.png\n"
          ],
          "name": "stdout"
        },
        {
          "output_type": "stream",
          "text": [
            "WARNING:root:Lossy conversion from float64 to uint8. Range [0, 1]. Convert image to uint8 prior to saving to suppress this warning.\n"
          ],
          "name": "stderr"
        },
        {
          "output_type": "stream",
          "text": [
            "/content/drive/MyDrive/COVID-META/STAR Work/COVID-19/COVID cases/augmented_image_2384.png\n",
            "/content/drive/MyDrive/COVID-META/STAR Work/COVID-19/Augmented/Tri_cov_233.jpg\n"
          ],
          "name": "stdout"
        },
        {
          "output_type": "stream",
          "text": [
            "WARNING:root:Lossy conversion from float64 to uint8. Range [0, 1]. Convert image to uint8 prior to saving to suppress this warning.\n"
          ],
          "name": "stderr"
        },
        {
          "output_type": "stream",
          "text": [
            "/content/drive/MyDrive/COVID-META/STAR Work/COVID-19/COVID cases/augmented_image_2385.png\n",
            "/content/drive/MyDrive/COVID-META/STAR Work/COVID-19/COVID cases/augmented_image_2386.png\n",
            "/content/drive/MyDrive/COVID-META/STAR Work/COVID-19/COVID cases/augmented_image_2387.png\n"
          ],
          "name": "stdout"
        },
        {
          "output_type": "stream",
          "text": [
            "WARNING:root:Lossy conversion from float64 to uint8. Range [0, 1]. Convert image to uint8 prior to saving to suppress this warning.\n"
          ],
          "name": "stderr"
        },
        {
          "output_type": "stream",
          "text": [
            "/content/drive/MyDrive/COVID-META/STAR Work/COVID-19/COVID cases/augmented_image_2388.png\n",
            "/content/drive/MyDrive/COVID-META/STAR Work/COVID-19/Augmented/Tri_cov_135.jpg\n"
          ],
          "name": "stdout"
        },
        {
          "output_type": "stream",
          "text": [
            "WARNING:root:Lossy conversion from float64 to uint8. Range [0, 1]. Convert image to uint8 prior to saving to suppress this warning.\n"
          ],
          "name": "stderr"
        },
        {
          "output_type": "stream",
          "text": [
            "/content/drive/MyDrive/COVID-META/STAR Work/COVID-19/COVID cases/augmented_image_2389.png\n"
          ],
          "name": "stdout"
        },
        {
          "output_type": "stream",
          "text": [
            "WARNING:root:Lossy conversion from float64 to uint8. Range [0, 1]. Convert image to uint8 prior to saving to suppress this warning.\n"
          ],
          "name": "stderr"
        },
        {
          "output_type": "stream",
          "text": [
            "/content/drive/MyDrive/COVID-META/STAR Work/COVID-19/COVID cases/augmented_image_2390.png\n"
          ],
          "name": "stdout"
        },
        {
          "output_type": "stream",
          "text": [
            "WARNING:root:Lossy conversion from float64 to uint8. Range [0, 1]. Convert image to uint8 prior to saving to suppress this warning.\n"
          ],
          "name": "stderr"
        },
        {
          "output_type": "stream",
          "text": [
            "/content/drive/MyDrive/COVID-META/STAR Work/COVID-19/COVID cases/augmented_image_2391.png\n",
            "/content/drive/MyDrive/COVID-META/STAR Work/COVID-19/COVID cases/augmented_image_2392.png\n",
            "/content/drive/MyDrive/COVID-META/STAR Work/COVID-19/Augmented/Tri_cov_213.jpg\n"
          ],
          "name": "stdout"
        },
        {
          "output_type": "stream",
          "text": [
            "WARNING:root:Lossy conversion from float64 to uint8. Range [0, 1]. Convert image to uint8 prior to saving to suppress this warning.\n"
          ],
          "name": "stderr"
        },
        {
          "output_type": "stream",
          "text": [
            "/content/drive/MyDrive/COVID-META/STAR Work/COVID-19/COVID cases/augmented_image_2393.png\n"
          ],
          "name": "stdout"
        },
        {
          "output_type": "stream",
          "text": [
            "WARNING:root:Lossy conversion from float64 to uint8. Range [0, 1]. Convert image to uint8 prior to saving to suppress this warning.\n",
            "WARNING:root:Lossy conversion from float64 to uint8. Range [0, 1]. Convert image to uint8 prior to saving to suppress this warning.\n"
          ],
          "name": "stderr"
        },
        {
          "output_type": "stream",
          "text": [
            "/content/drive/MyDrive/COVID-META/STAR Work/COVID-19/COVID cases/augmented_image_2394.png\n",
            "/content/drive/MyDrive/COVID-META/STAR Work/COVID-19/COVID cases/augmented_image_2395.png\n",
            "/content/drive/MyDrive/COVID-META/STAR Work/COVID-19/Augmented/Tri_cov_511.jpg\n"
          ],
          "name": "stdout"
        },
        {
          "output_type": "stream",
          "text": [
            "WARNING:root:Lossy conversion from float64 to uint8. Range [0, 1]. Convert image to uint8 prior to saving to suppress this warning.\n"
          ],
          "name": "stderr"
        },
        {
          "output_type": "stream",
          "text": [
            "/content/drive/MyDrive/COVID-META/STAR Work/COVID-19/COVID cases/augmented_image_2396.png\n"
          ],
          "name": "stdout"
        },
        {
          "output_type": "stream",
          "text": [
            "WARNING:root:Lossy conversion from float64 to uint8. Range [0, 1]. Convert image to uint8 prior to saving to suppress this warning.\n"
          ],
          "name": "stderr"
        },
        {
          "output_type": "stream",
          "text": [
            "/content/drive/MyDrive/COVID-META/STAR Work/COVID-19/COVID cases/augmented_image_2397.png\n"
          ],
          "name": "stdout"
        },
        {
          "output_type": "stream",
          "text": [
            "WARNING:root:Lossy conversion from float64 to uint8. Range [0, 1]. Convert image to uint8 prior to saving to suppress this warning.\n"
          ],
          "name": "stderr"
        },
        {
          "output_type": "stream",
          "text": [
            "/content/drive/MyDrive/COVID-META/STAR Work/COVID-19/COVID cases/augmented_image_2398.png\n"
          ],
          "name": "stdout"
        },
        {
          "output_type": "stream",
          "text": [
            "WARNING:root:Lossy conversion from float64 to uint8. Range [0, 1]. Convert image to uint8 prior to saving to suppress this warning.\n"
          ],
          "name": "stderr"
        },
        {
          "output_type": "stream",
          "text": [
            "/content/drive/MyDrive/COVID-META/STAR Work/COVID-19/Augmented/Tri_cov_50.jpg\n",
            "/content/drive/MyDrive/COVID-META/STAR Work/COVID-19/COVID cases/augmented_image_2399.png\n"
          ],
          "name": "stdout"
        },
        {
          "output_type": "stream",
          "text": [
            "WARNING:root:Lossy conversion from float64 to uint8. Range [0, 1]. Convert image to uint8 prior to saving to suppress this warning.\n"
          ],
          "name": "stderr"
        },
        {
          "output_type": "stream",
          "text": [
            "/content/drive/MyDrive/COVID-META/STAR Work/COVID-19/COVID cases/augmented_image_2400.png\n"
          ],
          "name": "stdout"
        },
        {
          "output_type": "stream",
          "text": [
            "WARNING:root:Lossy conversion from float64 to uint8. Range [0, 1]. Convert image to uint8 prior to saving to suppress this warning.\n"
          ],
          "name": "stderr"
        },
        {
          "output_type": "stream",
          "text": [
            "/content/drive/MyDrive/COVID-META/STAR Work/COVID-19/COVID cases/augmented_image_2401.png\n",
            "/content/drive/MyDrive/COVID-META/STAR Work/COVID-19/Augmented/Tri_cov_188.jpg\n"
          ],
          "name": "stdout"
        },
        {
          "output_type": "stream",
          "text": [
            "WARNING:root:Lossy conversion from float64 to uint8. Range [0, 1]. Convert image to uint8 prior to saving to suppress this warning.\n"
          ],
          "name": "stderr"
        },
        {
          "output_type": "stream",
          "text": [
            "/content/drive/MyDrive/COVID-META/STAR Work/COVID-19/COVID cases/augmented_image_2402.png\n"
          ],
          "name": "stdout"
        },
        {
          "output_type": "stream",
          "text": [
            "WARNING:root:Lossy conversion from float64 to uint8. Range [0, 1]. Convert image to uint8 prior to saving to suppress this warning.\n"
          ],
          "name": "stderr"
        },
        {
          "output_type": "stream",
          "text": [
            "/content/drive/MyDrive/COVID-META/STAR Work/COVID-19/COVID cases/augmented_image_2403.png\n",
            "/content/drive/MyDrive/COVID-META/STAR Work/COVID-19/COVID cases/augmented_image_2404.png\n",
            "/content/drive/MyDrive/COVID-META/STAR Work/COVID-19/COVID cases/augmented_image_2405.png\n",
            "/content/drive/MyDrive/COVID-META/STAR Work/COVID-19/Augmented/Tri_cov_158.jpg\n"
          ],
          "name": "stdout"
        },
        {
          "output_type": "stream",
          "text": [
            "WARNING:root:Lossy conversion from float64 to uint8. Range [0, 1]. Convert image to uint8 prior to saving to suppress this warning.\n",
            "WARNING:root:Lossy conversion from float64 to uint8. Range [0, 1]. Convert image to uint8 prior to saving to suppress this warning.\n"
          ],
          "name": "stderr"
        },
        {
          "output_type": "stream",
          "text": [
            "/content/drive/MyDrive/COVID-META/STAR Work/COVID-19/COVID cases/augmented_image_2406.png\n",
            "/content/drive/MyDrive/COVID-META/STAR Work/COVID-19/COVID cases/augmented_image_2407.png\n",
            "/content/drive/MyDrive/COVID-META/STAR Work/COVID-19/COVID cases/augmented_image_2408.png\n",
            "/content/drive/MyDrive/COVID-META/STAR Work/COVID-19/Augmented/Tri_cov_369.jpg\n"
          ],
          "name": "stdout"
        },
        {
          "output_type": "stream",
          "text": [
            "WARNING:root:Lossy conversion from float64 to uint8. Range [0, 1]. Convert image to uint8 prior to saving to suppress this warning.\n"
          ],
          "name": "stderr"
        },
        {
          "output_type": "stream",
          "text": [
            "/content/drive/MyDrive/COVID-META/STAR Work/COVID-19/COVID cases/augmented_image_2409.png\n",
            "/content/drive/MyDrive/COVID-META/STAR Work/COVID-19/COVID cases/augmented_image_2410.png\n",
            "/content/drive/MyDrive/COVID-META/STAR Work/COVID-19/COVID cases/augmented_image_2411.png\n"
          ],
          "name": "stdout"
        },
        {
          "output_type": "stream",
          "text": [
            "WARNING:root:Lossy conversion from float64 to uint8. Range [0, 1]. Convert image to uint8 prior to saving to suppress this warning.\n"
          ],
          "name": "stderr"
        },
        {
          "output_type": "stream",
          "text": [
            "/content/drive/MyDrive/COVID-META/STAR Work/COVID-19/COVID cases/augmented_image_2412.png\n",
            "/content/drive/MyDrive/COVID-META/STAR Work/COVID-19/Augmented/Tri_cov_549.jpg\n",
            "/content/drive/MyDrive/COVID-META/STAR Work/COVID-19/COVID cases/augmented_image_2413.png\n"
          ],
          "name": "stdout"
        },
        {
          "output_type": "stream",
          "text": [
            "WARNING:root:Lossy conversion from float64 to uint8. Range [0, 1]. Convert image to uint8 prior to saving to suppress this warning.\n"
          ],
          "name": "stderr"
        },
        {
          "output_type": "stream",
          "text": [
            "/content/drive/MyDrive/COVID-META/STAR Work/COVID-19/COVID cases/augmented_image_2414.png\n",
            "/content/drive/MyDrive/COVID-META/STAR Work/COVID-19/Augmented/Tri_cov_96.jpg\n",
            "/content/drive/MyDrive/COVID-META/STAR Work/COVID-19/COVID cases/augmented_image_2415.png\n"
          ],
          "name": "stdout"
        },
        {
          "output_type": "stream",
          "text": [
            "WARNING:root:Lossy conversion from float64 to uint8. Range [0, 1]. Convert image to uint8 prior to saving to suppress this warning.\n"
          ],
          "name": "stderr"
        },
        {
          "output_type": "stream",
          "text": [
            "/content/drive/MyDrive/COVID-META/STAR Work/COVID-19/COVID cases/augmented_image_2416.png\n"
          ],
          "name": "stdout"
        },
        {
          "output_type": "stream",
          "text": [
            "WARNING:root:Lossy conversion from float64 to uint8. Range [0, 1]. Convert image to uint8 prior to saving to suppress this warning.\n"
          ],
          "name": "stderr"
        },
        {
          "output_type": "stream",
          "text": [
            "/content/drive/MyDrive/COVID-META/STAR Work/COVID-19/COVID cases/augmented_image_2417.png\n"
          ],
          "name": "stdout"
        },
        {
          "output_type": "stream",
          "text": [
            "WARNING:root:Lossy conversion from float64 to uint8. Range [0, 1]. Convert image to uint8 prior to saving to suppress this warning.\n"
          ],
          "name": "stderr"
        },
        {
          "output_type": "stream",
          "text": [
            "/content/drive/MyDrive/COVID-META/STAR Work/COVID-19/Augmented/Tri_cov_546.jpg\n",
            "/content/drive/MyDrive/COVID-META/STAR Work/COVID-19/COVID cases/augmented_image_2418.png\n"
          ],
          "name": "stdout"
        },
        {
          "output_type": "stream",
          "text": [
            "WARNING:root:Lossy conversion from float64 to uint8. Range [0, 1]. Convert image to uint8 prior to saving to suppress this warning.\n"
          ],
          "name": "stderr"
        },
        {
          "output_type": "stream",
          "text": [
            "/content/drive/MyDrive/COVID-META/STAR Work/COVID-19/COVID cases/augmented_image_2419.png\n",
            "/content/drive/MyDrive/COVID-META/STAR Work/COVID-19/Augmented/Tri_cov_55.jpg\n",
            "/content/drive/MyDrive/COVID-META/STAR Work/COVID-19/COVID cases/augmented_image_2420.png\n",
            "/content/drive/MyDrive/COVID-META/STAR Work/COVID-19/COVID cases/augmented_image_2421.png\n",
            "/content/drive/MyDrive/COVID-META/STAR Work/COVID-19/COVID cases/augmented_image_2422.png\n"
          ],
          "name": "stdout"
        },
        {
          "output_type": "stream",
          "text": [
            "WARNING:root:Lossy conversion from float64 to uint8. Range [0, 1]. Convert image to uint8 prior to saving to suppress this warning.\n"
          ],
          "name": "stderr"
        },
        {
          "output_type": "stream",
          "text": [
            "/content/drive/MyDrive/COVID-META/STAR Work/COVID-19/COVID cases/augmented_image_2423.png\n",
            "/content/drive/MyDrive/COVID-META/STAR Work/COVID-19/Augmented/Tri_cov_438.jpg\n"
          ],
          "name": "stdout"
        },
        {
          "output_type": "stream",
          "text": [
            "WARNING:root:Lossy conversion from float64 to uint8. Range [0, 1]. Convert image to uint8 prior to saving to suppress this warning.\n"
          ],
          "name": "stderr"
        },
        {
          "output_type": "stream",
          "text": [
            "/content/drive/MyDrive/COVID-META/STAR Work/COVID-19/COVID cases/augmented_image_2424.png\n",
            "/content/drive/MyDrive/COVID-META/STAR Work/COVID-19/COVID cases/augmented_image_2425.png\n",
            "/content/drive/MyDrive/COVID-META/STAR Work/COVID-19/COVID cases/augmented_image_2426.png\n",
            "/content/drive/MyDrive/COVID-META/STAR Work/COVID-19/Augmented/Tri_cov_415.jpg\n"
          ],
          "name": "stdout"
        },
        {
          "output_type": "stream",
          "text": [
            "WARNING:root:Lossy conversion from float64 to uint8. Range [0, 1]. Convert image to uint8 prior to saving to suppress this warning.\n"
          ],
          "name": "stderr"
        },
        {
          "output_type": "stream",
          "text": [
            "/content/drive/MyDrive/COVID-META/STAR Work/COVID-19/COVID cases/augmented_image_2427.png\n"
          ],
          "name": "stdout"
        },
        {
          "output_type": "stream",
          "text": [
            "WARNING:root:Lossy conversion from float64 to uint8. Range [0, 1]. Convert image to uint8 prior to saving to suppress this warning.\n"
          ],
          "name": "stderr"
        },
        {
          "output_type": "stream",
          "text": [
            "/content/drive/MyDrive/COVID-META/STAR Work/COVID-19/COVID cases/augmented_image_2428.png\n",
            "/content/drive/MyDrive/COVID-META/STAR Work/COVID-19/Augmented/Tri_cov_425.jpg\n"
          ],
          "name": "stdout"
        },
        {
          "output_type": "stream",
          "text": [
            "WARNING:root:Lossy conversion from float64 to uint8. Range [0, 1]. Convert image to uint8 prior to saving to suppress this warning.\n"
          ],
          "name": "stderr"
        },
        {
          "output_type": "stream",
          "text": [
            "/content/drive/MyDrive/COVID-META/STAR Work/COVID-19/COVID cases/augmented_image_2429.png\n"
          ],
          "name": "stdout"
        },
        {
          "output_type": "stream",
          "text": [
            "WARNING:root:Lossy conversion from float64 to uint8. Range [0, 1]. Convert image to uint8 prior to saving to suppress this warning.\n"
          ],
          "name": "stderr"
        },
        {
          "output_type": "stream",
          "text": [
            "/content/drive/MyDrive/COVID-META/STAR Work/COVID-19/COVID cases/augmented_image_2430.png\n",
            "/content/drive/MyDrive/COVID-META/STAR Work/COVID-19/COVID cases/augmented_image_2431.png\n",
            "/content/drive/MyDrive/COVID-META/STAR Work/COVID-19/Augmented/Tri_cov_550.jpg\n"
          ],
          "name": "stdout"
        },
        {
          "output_type": "stream",
          "text": [
            "WARNING:root:Lossy conversion from float64 to uint8. Range [0, 1]. Convert image to uint8 prior to saving to suppress this warning.\n"
          ],
          "name": "stderr"
        },
        {
          "output_type": "stream",
          "text": [
            "/content/drive/MyDrive/COVID-META/STAR Work/COVID-19/COVID cases/augmented_image_2432.png\n"
          ],
          "name": "stdout"
        },
        {
          "output_type": "stream",
          "text": [
            "WARNING:root:Lossy conversion from float64 to uint8. Range [0, 1]. Convert image to uint8 prior to saving to suppress this warning.\n"
          ],
          "name": "stderr"
        },
        {
          "output_type": "stream",
          "text": [
            "/content/drive/MyDrive/COVID-META/STAR Work/COVID-19/COVID cases/augmented_image_2433.png\n",
            "/content/drive/MyDrive/COVID-META/STAR Work/COVID-19/COVID cases/augmented_image_2434.png\n",
            "/content/drive/MyDrive/COVID-META/STAR Work/COVID-19/Augmented/Tri_cov_312.jpg\n",
            "/content/drive/MyDrive/COVID-META/STAR Work/COVID-19/COVID cases/augmented_image_2435.png\n"
          ],
          "name": "stdout"
        },
        {
          "output_type": "stream",
          "text": [
            "WARNING:root:Lossy conversion from float64 to uint8. Range [0, 1]. Convert image to uint8 prior to saving to suppress this warning.\n"
          ],
          "name": "stderr"
        },
        {
          "output_type": "stream",
          "text": [
            "/content/drive/MyDrive/COVID-META/STAR Work/COVID-19/COVID cases/augmented_image_2436.png\n",
            "/content/drive/MyDrive/COVID-META/STAR Work/COVID-19/COVID cases/augmented_image_2437.png\n",
            "/content/drive/MyDrive/COVID-META/STAR Work/COVID-19/Augmented/Tri_cov_145.jpg\n",
            "/content/drive/MyDrive/COVID-META/STAR Work/COVID-19/COVID cases/augmented_image_2438.png\n"
          ],
          "name": "stdout"
        },
        {
          "output_type": "stream",
          "text": [
            "WARNING:root:Lossy conversion from float64 to uint8. Range [0, 1]. Convert image to uint8 prior to saving to suppress this warning.\n"
          ],
          "name": "stderr"
        },
        {
          "output_type": "stream",
          "text": [
            "/content/drive/MyDrive/COVID-META/STAR Work/COVID-19/COVID cases/augmented_image_2439.png\n",
            "/content/drive/MyDrive/COVID-META/STAR Work/COVID-19/COVID cases/augmented_image_2440.png\n"
          ],
          "name": "stdout"
        },
        {
          "output_type": "stream",
          "text": [
            "WARNING:root:Lossy conversion from float64 to uint8. Range [0, 1]. Convert image to uint8 prior to saving to suppress this warning.\n"
          ],
          "name": "stderr"
        },
        {
          "output_type": "stream",
          "text": [
            "/content/drive/MyDrive/COVID-META/STAR Work/COVID-19/COVID cases/augmented_image_2441.png\n",
            "/content/drive/MyDrive/COVID-META/STAR Work/COVID-19/Augmented/Tri_cov_553.jpg\n",
            "/content/drive/MyDrive/COVID-META/STAR Work/COVID-19/COVID cases/augmented_image_2442.png\n",
            "/content/drive/MyDrive/COVID-META/STAR Work/COVID-19/COVID cases/augmented_image_2443.png\n"
          ],
          "name": "stdout"
        },
        {
          "output_type": "stream",
          "text": [
            "WARNING:root:Lossy conversion from float64 to uint8. Range [0, 1]. Convert image to uint8 prior to saving to suppress this warning.\n"
          ],
          "name": "stderr"
        },
        {
          "output_type": "stream",
          "text": [
            "/content/drive/MyDrive/COVID-META/STAR Work/COVID-19/Augmented/Tri_cov_103.jpg\n"
          ],
          "name": "stdout"
        },
        {
          "output_type": "stream",
          "text": [
            "WARNING:root:Lossy conversion from float64 to uint8. Range [0, 1]. Convert image to uint8 prior to saving to suppress this warning.\n"
          ],
          "name": "stderr"
        },
        {
          "output_type": "stream",
          "text": [
            "/content/drive/MyDrive/COVID-META/STAR Work/COVID-19/COVID cases/augmented_image_2444.png\n"
          ],
          "name": "stdout"
        },
        {
          "output_type": "stream",
          "text": [
            "WARNING:root:Lossy conversion from float64 to uint8. Range [0, 1]. Convert image to uint8 prior to saving to suppress this warning.\n"
          ],
          "name": "stderr"
        },
        {
          "output_type": "stream",
          "text": [
            "/content/drive/MyDrive/COVID-META/STAR Work/COVID-19/COVID cases/augmented_image_2445.png\n"
          ],
          "name": "stdout"
        },
        {
          "output_type": "stream",
          "text": [
            "WARNING:root:Lossy conversion from float64 to uint8. Range [0, 1]. Convert image to uint8 prior to saving to suppress this warning.\n"
          ],
          "name": "stderr"
        },
        {
          "output_type": "stream",
          "text": [
            "/content/drive/MyDrive/COVID-META/STAR Work/COVID-19/COVID cases/augmented_image_2446.png\n"
          ],
          "name": "stdout"
        },
        {
          "output_type": "stream",
          "text": [
            "WARNING:root:Lossy conversion from float64 to uint8. Range [0, 1]. Convert image to uint8 prior to saving to suppress this warning.\n"
          ],
          "name": "stderr"
        },
        {
          "output_type": "stream",
          "text": [
            "/content/drive/MyDrive/COVID-META/STAR Work/COVID-19/COVID cases/augmented_image_2447.png\n",
            "/content/drive/MyDrive/COVID-META/STAR Work/COVID-19/Augmented/Tri_cov_117.jpg\n",
            "/content/drive/MyDrive/COVID-META/STAR Work/COVID-19/COVID cases/augmented_image_2448.png\n"
          ],
          "name": "stdout"
        },
        {
          "output_type": "stream",
          "text": [
            "WARNING:root:Lossy conversion from float64 to uint8. Range [0, 1]. Convert image to uint8 prior to saving to suppress this warning.\n"
          ],
          "name": "stderr"
        },
        {
          "output_type": "stream",
          "text": [
            "/content/drive/MyDrive/COVID-META/STAR Work/COVID-19/COVID cases/augmented_image_2449.png\n",
            "/content/drive/MyDrive/COVID-META/STAR Work/COVID-19/COVID cases/augmented_image_2450.png\n"
          ],
          "name": "stdout"
        },
        {
          "output_type": "stream",
          "text": [
            "WARNING:root:Lossy conversion from float64 to uint8. Range [0, 1]. Convert image to uint8 prior to saving to suppress this warning.\n"
          ],
          "name": "stderr"
        },
        {
          "output_type": "stream",
          "text": [
            "/content/drive/MyDrive/COVID-META/STAR Work/COVID-19/COVID cases/augmented_image_2451.png\n",
            "/content/drive/MyDrive/COVID-META/STAR Work/COVID-19/Augmented/Tri_cov_398.jpg\n"
          ],
          "name": "stdout"
        },
        {
          "output_type": "stream",
          "text": [
            "WARNING:root:Lossy conversion from float64 to uint8. Range [0, 1]. Convert image to uint8 prior to saving to suppress this warning.\n"
          ],
          "name": "stderr"
        },
        {
          "output_type": "stream",
          "text": [
            "/content/drive/MyDrive/COVID-META/STAR Work/COVID-19/COVID cases/augmented_image_2452.png\n"
          ],
          "name": "stdout"
        },
        {
          "output_type": "stream",
          "text": [
            "WARNING:root:Lossy conversion from float64 to uint8. Range [0, 1]. Convert image to uint8 prior to saving to suppress this warning.\n"
          ],
          "name": "stderr"
        },
        {
          "output_type": "stream",
          "text": [
            "/content/drive/MyDrive/COVID-META/STAR Work/COVID-19/COVID cases/augmented_image_2453.png\n",
            "/content/drive/MyDrive/COVID-META/STAR Work/COVID-19/COVID cases/augmented_image_2454.png\n"
          ],
          "name": "stdout"
        },
        {
          "output_type": "stream",
          "text": [
            "WARNING:root:Lossy conversion from float64 to uint8. Range [0, 1]. Convert image to uint8 prior to saving to suppress this warning.\n"
          ],
          "name": "stderr"
        },
        {
          "output_type": "stream",
          "text": [
            "/content/drive/MyDrive/COVID-META/STAR Work/COVID-19/COVID cases/augmented_image_2455.png\n",
            "/content/drive/MyDrive/COVID-META/STAR Work/COVID-19/Augmented/Tri_cov_198.jpg\n"
          ],
          "name": "stdout"
        },
        {
          "output_type": "stream",
          "text": [
            "WARNING:root:Lossy conversion from float64 to uint8. Range [0, 1]. Convert image to uint8 prior to saving to suppress this warning.\n"
          ],
          "name": "stderr"
        },
        {
          "output_type": "stream",
          "text": [
            "/content/drive/MyDrive/COVID-META/STAR Work/COVID-19/COVID cases/augmented_image_2456.png\n"
          ],
          "name": "stdout"
        },
        {
          "output_type": "stream",
          "text": [
            "WARNING:root:Lossy conversion from float64 to uint8. Range [0, 1]. Convert image to uint8 prior to saving to suppress this warning.\n"
          ],
          "name": "stderr"
        },
        {
          "output_type": "stream",
          "text": [
            "/content/drive/MyDrive/COVID-META/STAR Work/COVID-19/COVID cases/augmented_image_2457.png\n",
            "/content/drive/MyDrive/COVID-META/STAR Work/COVID-19/Augmented/Tri_cov_161.jpg\n"
          ],
          "name": "stdout"
        },
        {
          "output_type": "stream",
          "text": [
            "WARNING:root:Lossy conversion from float64 to uint8. Range [0, 1]. Convert image to uint8 prior to saving to suppress this warning.\n"
          ],
          "name": "stderr"
        },
        {
          "output_type": "stream",
          "text": [
            "/content/drive/MyDrive/COVID-META/STAR Work/COVID-19/COVID cases/augmented_image_2458.png\n"
          ],
          "name": "stdout"
        },
        {
          "output_type": "stream",
          "text": [
            "WARNING:root:Lossy conversion from float64 to uint8. Range [0, 1]. Convert image to uint8 prior to saving to suppress this warning.\n"
          ],
          "name": "stderr"
        },
        {
          "output_type": "stream",
          "text": [
            "/content/drive/MyDrive/COVID-META/STAR Work/COVID-19/COVID cases/augmented_image_2459.png\n"
          ],
          "name": "stdout"
        },
        {
          "output_type": "stream",
          "text": [
            "WARNING:root:Lossy conversion from float64 to uint8. Range [0, 1]. Convert image to uint8 prior to saving to suppress this warning.\n"
          ],
          "name": "stderr"
        },
        {
          "output_type": "stream",
          "text": [
            "/content/drive/MyDrive/COVID-META/STAR Work/COVID-19/COVID cases/augmented_image_2460.png\n"
          ],
          "name": "stdout"
        },
        {
          "output_type": "stream",
          "text": [
            "WARNING:root:Lossy conversion from float64 to uint8. Range [0, 1]. Convert image to uint8 prior to saving to suppress this warning.\n"
          ],
          "name": "stderr"
        },
        {
          "output_type": "stream",
          "text": [
            "/content/drive/MyDrive/COVID-META/STAR Work/COVID-19/COVID cases/augmented_image_2461.png\n"
          ],
          "name": "stdout"
        },
        {
          "output_type": "stream",
          "text": [
            "WARNING:root:Lossy conversion from float64 to uint8. Range [0, 1]. Convert image to uint8 prior to saving to suppress this warning.\n"
          ],
          "name": "stderr"
        },
        {
          "output_type": "stream",
          "text": [
            "/content/drive/MyDrive/COVID-META/STAR Work/COVID-19/Augmented/Tri_cov_51.jpg\n",
            "/content/drive/MyDrive/COVID-META/STAR Work/COVID-19/COVID cases/augmented_image_2462.png\n",
            "/content/drive/MyDrive/COVID-META/STAR Work/COVID-19/COVID cases/augmented_image_2463.png\n",
            "/content/drive/MyDrive/COVID-META/STAR Work/COVID-19/Augmented/Tri_cov_532.jpg\n"
          ],
          "name": "stdout"
        },
        {
          "output_type": "stream",
          "text": [
            "WARNING:root:Lossy conversion from float64 to uint8. Range [0, 1]. Convert image to uint8 prior to saving to suppress this warning.\n"
          ],
          "name": "stderr"
        },
        {
          "output_type": "stream",
          "text": [
            "/content/drive/MyDrive/COVID-META/STAR Work/COVID-19/COVID cases/augmented_image_2464.png\n"
          ],
          "name": "stdout"
        },
        {
          "output_type": "stream",
          "text": [
            "WARNING:root:Lossy conversion from float64 to uint8. Range [0, 1]. Convert image to uint8 prior to saving to suppress this warning.\n"
          ],
          "name": "stderr"
        },
        {
          "output_type": "stream",
          "text": [
            "/content/drive/MyDrive/COVID-META/STAR Work/COVID-19/COVID cases/augmented_image_2465.png\n",
            "/content/drive/MyDrive/COVID-META/STAR Work/COVID-19/Augmented/Tri_cov_386.jpg\n"
          ],
          "name": "stdout"
        },
        {
          "output_type": "stream",
          "text": [
            "WARNING:root:Lossy conversion from float64 to uint8. Range [0, 1]. Convert image to uint8 prior to saving to suppress this warning.\n"
          ],
          "name": "stderr"
        },
        {
          "output_type": "stream",
          "text": [
            "/content/drive/MyDrive/COVID-META/STAR Work/COVID-19/COVID cases/augmented_image_2466.png\n"
          ],
          "name": "stdout"
        },
        {
          "output_type": "stream",
          "text": [
            "WARNING:root:Lossy conversion from float64 to uint8. Range [0, 1]. Convert image to uint8 prior to saving to suppress this warning.\n"
          ],
          "name": "stderr"
        },
        {
          "output_type": "stream",
          "text": [
            "/content/drive/MyDrive/COVID-META/STAR Work/COVID-19/COVID cases/augmented_image_2467.png\n"
          ],
          "name": "stdout"
        },
        {
          "output_type": "stream",
          "text": [
            "WARNING:root:Lossy conversion from float64 to uint8. Range [0, 1]. Convert image to uint8 prior to saving to suppress this warning.\n"
          ],
          "name": "stderr"
        },
        {
          "output_type": "stream",
          "text": [
            "/content/drive/MyDrive/COVID-META/STAR Work/COVID-19/COVID cases/augmented_image_2468.png\n",
            "/content/drive/MyDrive/COVID-META/STAR Work/COVID-19/COVID cases/augmented_image_2469.png\n",
            "/content/drive/MyDrive/COVID-META/STAR Work/COVID-19/Augmented/Tri_cov_536.jpg\n",
            "/content/drive/MyDrive/COVID-META/STAR Work/COVID-19/COVID cases/augmented_image_2470.png\n",
            "/content/drive/MyDrive/COVID-META/STAR Work/COVID-19/COVID cases/augmented_image_2471.png\n"
          ],
          "name": "stdout"
        },
        {
          "output_type": "stream",
          "text": [
            "WARNING:root:Lossy conversion from float64 to uint8. Range [0, 1]. Convert image to uint8 prior to saving to suppress this warning.\n"
          ],
          "name": "stderr"
        },
        {
          "output_type": "stream",
          "text": [
            "/content/drive/MyDrive/COVID-META/STAR Work/COVID-19/Augmented/Tri_cov_44.jpg\n"
          ],
          "name": "stdout"
        },
        {
          "output_type": "stream",
          "text": [
            "WARNING:root:Lossy conversion from float64 to uint8. Range [0, 1]. Convert image to uint8 prior to saving to suppress this warning.\n"
          ],
          "name": "stderr"
        },
        {
          "output_type": "stream",
          "text": [
            "/content/drive/MyDrive/COVID-META/STAR Work/COVID-19/COVID cases/augmented_image_2472.png\n"
          ],
          "name": "stdout"
        },
        {
          "output_type": "stream",
          "text": [
            "WARNING:root:Lossy conversion from float64 to uint8. Range [0, 1]. Convert image to uint8 prior to saving to suppress this warning.\n"
          ],
          "name": "stderr"
        },
        {
          "output_type": "stream",
          "text": [
            "/content/drive/MyDrive/COVID-META/STAR Work/COVID-19/COVID cases/augmented_image_2473.png\n",
            "/content/drive/MyDrive/COVID-META/STAR Work/COVID-19/COVID cases/augmented_image_2474.png\n",
            "/content/drive/MyDrive/COVID-META/STAR Work/COVID-19/Augmented/Tri_cov_104.jpg\n",
            "/content/drive/MyDrive/COVID-META/STAR Work/COVID-19/COVID cases/augmented_image_2475.png\n"
          ],
          "name": "stdout"
        },
        {
          "output_type": "stream",
          "text": [
            "WARNING:root:Lossy conversion from float64 to uint8. Range [0, 1]. Convert image to uint8 prior to saving to suppress this warning.\n"
          ],
          "name": "stderr"
        },
        {
          "output_type": "stream",
          "text": [
            "/content/drive/MyDrive/COVID-META/STAR Work/COVID-19/COVID cases/augmented_image_2476.png\n",
            "/content/drive/MyDrive/COVID-META/STAR Work/COVID-19/COVID cases/augmented_image_2477.png\n",
            "/content/drive/MyDrive/COVID-META/STAR Work/COVID-19/Augmented/Tri_cov_32.jpg\n",
            "/content/drive/MyDrive/COVID-META/STAR Work/COVID-19/COVID cases/augmented_image_2478.png\n"
          ],
          "name": "stdout"
        },
        {
          "output_type": "stream",
          "text": [
            "WARNING:root:Lossy conversion from float64 to uint8. Range [0, 1]. Convert image to uint8 prior to saving to suppress this warning.\n"
          ],
          "name": "stderr"
        },
        {
          "output_type": "stream",
          "text": [
            "/content/drive/MyDrive/COVID-META/STAR Work/COVID-19/COVID cases/augmented_image_2479.png\n"
          ],
          "name": "stdout"
        },
        {
          "output_type": "stream",
          "text": [
            "WARNING:root:Lossy conversion from float64 to uint8. Range [0, 1]. Convert image to uint8 prior to saving to suppress this warning.\n"
          ],
          "name": "stderr"
        },
        {
          "output_type": "stream",
          "text": [
            "/content/drive/MyDrive/COVID-META/STAR Work/COVID-19/COVID cases/augmented_image_2480.png\n"
          ],
          "name": "stdout"
        },
        {
          "output_type": "stream",
          "text": [
            "WARNING:root:Lossy conversion from float64 to uint8. Range [0, 1]. Convert image to uint8 prior to saving to suppress this warning.\n"
          ],
          "name": "stderr"
        },
        {
          "output_type": "stream",
          "text": [
            "/content/drive/MyDrive/COVID-META/STAR Work/COVID-19/COVID cases/augmented_image_2481.png\n",
            "/content/drive/MyDrive/COVID-META/STAR Work/COVID-19/Augmented/Tri_cov_10.jpg\n",
            "/content/drive/MyDrive/COVID-META/STAR Work/COVID-19/COVID cases/augmented_image_2482.png\n"
          ],
          "name": "stdout"
        },
        {
          "output_type": "stream",
          "text": [
            "WARNING:root:Lossy conversion from float64 to uint8. Range [0, 1]. Convert image to uint8 prior to saving to suppress this warning.\n"
          ],
          "name": "stderr"
        },
        {
          "output_type": "stream",
          "text": [
            "/content/drive/MyDrive/COVID-META/STAR Work/COVID-19/COVID cases/augmented_image_2483.png\n"
          ],
          "name": "stdout"
        },
        {
          "output_type": "stream",
          "text": [
            "WARNING:root:Lossy conversion from float64 to uint8. Range [0, 1]. Convert image to uint8 prior to saving to suppress this warning.\n"
          ],
          "name": "stderr"
        },
        {
          "output_type": "stream",
          "text": [
            "/content/drive/MyDrive/COVID-META/STAR Work/COVID-19/COVID cases/augmented_image_2484.png\n",
            "/content/drive/MyDrive/COVID-META/STAR Work/COVID-19/Augmented/Tri_cov_50.jpg\n",
            "/content/drive/MyDrive/COVID-META/STAR Work/COVID-19/COVID cases/augmented_image_2485.png\n"
          ],
          "name": "stdout"
        },
        {
          "output_type": "stream",
          "text": [
            "WARNING:root:Lossy conversion from float64 to uint8. Range [0, 1]. Convert image to uint8 prior to saving to suppress this warning.\n"
          ],
          "name": "stderr"
        },
        {
          "output_type": "stream",
          "text": [
            "/content/drive/MyDrive/COVID-META/STAR Work/COVID-19/COVID cases/augmented_image_2486.png\n",
            "/content/drive/MyDrive/COVID-META/STAR Work/COVID-19/COVID cases/augmented_image_2487.png\n"
          ],
          "name": "stdout"
        },
        {
          "output_type": "stream",
          "text": [
            "WARNING:root:Lossy conversion from float64 to uint8. Range [0, 1]. Convert image to uint8 prior to saving to suppress this warning.\n"
          ],
          "name": "stderr"
        },
        {
          "output_type": "stream",
          "text": [
            "/content/drive/MyDrive/COVID-META/STAR Work/COVID-19/COVID cases/augmented_image_2488.png\n",
            "/content/drive/MyDrive/COVID-META/STAR Work/COVID-19/Augmented/Tri_cov_404.jpg\n"
          ],
          "name": "stdout"
        },
        {
          "output_type": "stream",
          "text": [
            "WARNING:root:Lossy conversion from float64 to uint8. Range [0, 1]. Convert image to uint8 prior to saving to suppress this warning.\n"
          ],
          "name": "stderr"
        },
        {
          "output_type": "stream",
          "text": [
            "/content/drive/MyDrive/COVID-META/STAR Work/COVID-19/COVID cases/augmented_image_2489.png\n"
          ],
          "name": "stdout"
        },
        {
          "output_type": "stream",
          "text": [
            "WARNING:root:Lossy conversion from float64 to uint8. Range [0, 1]. Convert image to uint8 prior to saving to suppress this warning.\n"
          ],
          "name": "stderr"
        },
        {
          "output_type": "stream",
          "text": [
            "/content/drive/MyDrive/COVID-META/STAR Work/COVID-19/COVID cases/augmented_image_2490.png\n"
          ],
          "name": "stdout"
        },
        {
          "output_type": "stream",
          "text": [
            "WARNING:root:Lossy conversion from float64 to uint8. Range [0, 1]. Convert image to uint8 prior to saving to suppress this warning.\n"
          ],
          "name": "stderr"
        },
        {
          "output_type": "stream",
          "text": [
            "/content/drive/MyDrive/COVID-META/STAR Work/COVID-19/Augmented/Tri_cov_341.jpg\n",
            "/content/drive/MyDrive/COVID-META/STAR Work/COVID-19/COVID cases/augmented_image_2491.png\n"
          ],
          "name": "stdout"
        },
        {
          "output_type": "stream",
          "text": [
            "WARNING:root:Lossy conversion from float64 to uint8. Range [0, 1]. Convert image to uint8 prior to saving to suppress this warning.\n"
          ],
          "name": "stderr"
        },
        {
          "output_type": "stream",
          "text": [
            "/content/drive/MyDrive/COVID-META/STAR Work/COVID-19/COVID cases/augmented_image_2492.png\n"
          ],
          "name": "stdout"
        },
        {
          "output_type": "stream",
          "text": [
            "WARNING:root:Lossy conversion from float64 to uint8. Range [0, 1]. Convert image to uint8 prior to saving to suppress this warning.\n"
          ],
          "name": "stderr"
        },
        {
          "output_type": "stream",
          "text": [
            "/content/drive/MyDrive/COVID-META/STAR Work/COVID-19/COVID cases/augmented_image_2493.png\n",
            "/content/drive/MyDrive/COVID-META/STAR Work/COVID-19/Augmented/Tri_cov_526.jpg\n"
          ],
          "name": "stdout"
        },
        {
          "output_type": "stream",
          "text": [
            "WARNING:root:Lossy conversion from float64 to uint8. Range [0, 1]. Convert image to uint8 prior to saving to suppress this warning.\n"
          ],
          "name": "stderr"
        },
        {
          "output_type": "stream",
          "text": [
            "/content/drive/MyDrive/COVID-META/STAR Work/COVID-19/COVID cases/augmented_image_2494.png\n",
            "/content/drive/MyDrive/COVID-META/STAR Work/COVID-19/COVID cases/augmented_image_2495.png\n"
          ],
          "name": "stdout"
        },
        {
          "output_type": "stream",
          "text": [
            "WARNING:root:Lossy conversion from float64 to uint8. Range [0, 1]. Convert image to uint8 prior to saving to suppress this warning.\n"
          ],
          "name": "stderr"
        },
        {
          "output_type": "stream",
          "text": [
            "/content/drive/MyDrive/COVID-META/STAR Work/COVID-19/COVID cases/augmented_image_2496.png\n"
          ],
          "name": "stdout"
        },
        {
          "output_type": "stream",
          "text": [
            "WARNING:root:Lossy conversion from float64 to uint8. Range [0, 1]. Convert image to uint8 prior to saving to suppress this warning.\n"
          ],
          "name": "stderr"
        },
        {
          "output_type": "stream",
          "text": [
            "/content/drive/MyDrive/COVID-META/STAR Work/COVID-19/COVID cases/augmented_image_2497.png\n",
            "/content/drive/MyDrive/COVID-META/STAR Work/COVID-19/Augmented/Tri_cov_411.jpg\n"
          ],
          "name": "stdout"
        },
        {
          "output_type": "stream",
          "text": [
            "WARNING:root:Lossy conversion from float64 to uint8. Range [0, 1]. Convert image to uint8 prior to saving to suppress this warning.\n"
          ],
          "name": "stderr"
        },
        {
          "output_type": "stream",
          "text": [
            "/content/drive/MyDrive/COVID-META/STAR Work/COVID-19/COVID cases/augmented_image_2498.png\n",
            "/content/drive/MyDrive/COVID-META/STAR Work/COVID-19/COVID cases/augmented_image_2499.png\n",
            "/content/drive/MyDrive/COVID-META/STAR Work/COVID-19/Augmented/Tri_cov_42.jpg\n",
            "/content/drive/MyDrive/COVID-META/STAR Work/COVID-19/COVID cases/augmented_image_2500.png\n"
          ],
          "name": "stdout"
        },
        {
          "output_type": "stream",
          "text": [
            "WARNING:root:Lossy conversion from float64 to uint8. Range [0, 1]. Convert image to uint8 prior to saving to suppress this warning.\n",
            "WARNING:root:Lossy conversion from float64 to uint8. Range [0, 1]. Convert image to uint8 prior to saving to suppress this warning.\n"
          ],
          "name": "stderr"
        },
        {
          "output_type": "stream",
          "text": [
            "/content/drive/MyDrive/COVID-META/STAR Work/COVID-19/COVID cases/augmented_image_2501.png\n",
            "/content/drive/MyDrive/COVID-META/STAR Work/COVID-19/Augmented/Tri_cov_401.jpg\n"
          ],
          "name": "stdout"
        },
        {
          "output_type": "stream",
          "text": [
            "WARNING:root:Lossy conversion from float64 to uint8. Range [0, 1]. Convert image to uint8 prior to saving to suppress this warning.\n"
          ],
          "name": "stderr"
        },
        {
          "output_type": "stream",
          "text": [
            "/content/drive/MyDrive/COVID-META/STAR Work/COVID-19/COVID cases/augmented_image_2502.png\n",
            "/content/drive/MyDrive/COVID-META/STAR Work/COVID-19/COVID cases/augmented_image_2503.png\n",
            "/content/drive/MyDrive/COVID-META/STAR Work/COVID-19/Augmented/Tri_cov_305.jpg\n"
          ],
          "name": "stdout"
        },
        {
          "output_type": "stream",
          "text": [
            "WARNING:root:Lossy conversion from float64 to uint8. Range [0, 1]. Convert image to uint8 prior to saving to suppress this warning.\n"
          ],
          "name": "stderr"
        },
        {
          "output_type": "stream",
          "text": [
            "/content/drive/MyDrive/COVID-META/STAR Work/COVID-19/COVID cases/augmented_image_2504.png\n"
          ],
          "name": "stdout"
        },
        {
          "output_type": "stream",
          "text": [
            "WARNING:root:Lossy conversion from float64 to uint8. Range [0, 1]. Convert image to uint8 prior to saving to suppress this warning.\n"
          ],
          "name": "stderr"
        },
        {
          "output_type": "stream",
          "text": [
            "/content/drive/MyDrive/COVID-META/STAR Work/COVID-19/COVID cases/augmented_image_2505.png\n",
            "/content/drive/MyDrive/COVID-META/STAR Work/COVID-19/Augmented/Tri_cov_212.jpg\n"
          ],
          "name": "stdout"
        },
        {
          "output_type": "stream",
          "text": [
            "WARNING:root:Lossy conversion from float64 to uint8. Range [0, 1]. Convert image to uint8 prior to saving to suppress this warning.\n"
          ],
          "name": "stderr"
        },
        {
          "output_type": "stream",
          "text": [
            "/content/drive/MyDrive/COVID-META/STAR Work/COVID-19/COVID cases/augmented_image_2506.png\n",
            "/content/drive/MyDrive/COVID-META/STAR Work/COVID-19/COVID cases/augmented_image_2507.png\n"
          ],
          "name": "stdout"
        },
        {
          "output_type": "stream",
          "text": [
            "WARNING:root:Lossy conversion from float64 to uint8. Range [0, 1]. Convert image to uint8 prior to saving to suppress this warning.\n"
          ],
          "name": "stderr"
        },
        {
          "output_type": "stream",
          "text": [
            "/content/drive/MyDrive/COVID-META/STAR Work/COVID-19/COVID cases/augmented_image_2508.png\n",
            "/content/drive/MyDrive/COVID-META/STAR Work/COVID-19/Augmented/Tri_cov_173.jpg\n"
          ],
          "name": "stdout"
        },
        {
          "output_type": "stream",
          "text": [
            "WARNING:root:Lossy conversion from float64 to uint8. Range [0, 1]. Convert image to uint8 prior to saving to suppress this warning.\n"
          ],
          "name": "stderr"
        },
        {
          "output_type": "stream",
          "text": [
            "/content/drive/MyDrive/COVID-META/STAR Work/COVID-19/COVID cases/augmented_image_2509.png\n",
            "/content/drive/MyDrive/COVID-META/STAR Work/COVID-19/COVID cases/augmented_image_2510.png\n",
            "/content/drive/MyDrive/COVID-META/STAR Work/COVID-19/Augmented/Tri_cov_300.jpg\n",
            "/content/drive/MyDrive/COVID-META/STAR Work/COVID-19/COVID cases/augmented_image_2511.png\n"
          ],
          "name": "stdout"
        },
        {
          "output_type": "stream",
          "text": [
            "WARNING:root:Lossy conversion from float64 to uint8. Range [0, 1]. Convert image to uint8 prior to saving to suppress this warning.\n"
          ],
          "name": "stderr"
        },
        {
          "output_type": "stream",
          "text": [
            "/content/drive/MyDrive/COVID-META/STAR Work/COVID-19/COVID cases/augmented_image_2512.png\n",
            "/content/drive/MyDrive/COVID-META/STAR Work/COVID-19/Augmented/Tri_cov_417.jpg\n"
          ],
          "name": "stdout"
        },
        {
          "output_type": "stream",
          "text": [
            "WARNING:root:Lossy conversion from float64 to uint8. Range [0, 1]. Convert image to uint8 prior to saving to suppress this warning.\n"
          ],
          "name": "stderr"
        },
        {
          "output_type": "stream",
          "text": [
            "/content/drive/MyDrive/COVID-META/STAR Work/COVID-19/COVID cases/augmented_image_2513.png\n"
          ],
          "name": "stdout"
        },
        {
          "output_type": "stream",
          "text": [
            "WARNING:root:Lossy conversion from float64 to uint8. Range [0, 1]. Convert image to uint8 prior to saving to suppress this warning.\n"
          ],
          "name": "stderr"
        },
        {
          "output_type": "stream",
          "text": [
            "/content/drive/MyDrive/COVID-META/STAR Work/COVID-19/COVID cases/augmented_image_2514.png\n",
            "/content/drive/MyDrive/COVID-META/STAR Work/COVID-19/Augmented/Tri_cov_181.jpg\n"
          ],
          "name": "stdout"
        },
        {
          "output_type": "stream",
          "text": [
            "WARNING:root:Lossy conversion from float64 to uint8. Range [0, 1]. Convert image to uint8 prior to saving to suppress this warning.\n"
          ],
          "name": "stderr"
        },
        {
          "output_type": "stream",
          "text": [
            "/content/drive/MyDrive/COVID-META/STAR Work/COVID-19/COVID cases/augmented_image_2515.png\n"
          ],
          "name": "stdout"
        },
        {
          "output_type": "stream",
          "text": [
            "WARNING:root:Lossy conversion from float64 to uint8. Range [0, 1]. Convert image to uint8 prior to saving to suppress this warning.\n"
          ],
          "name": "stderr"
        },
        {
          "output_type": "stream",
          "text": [
            "/content/drive/MyDrive/COVID-META/STAR Work/COVID-19/COVID cases/augmented_image_2516.png\n",
            "/content/drive/MyDrive/COVID-META/STAR Work/COVID-19/COVID cases/augmented_image_2517.png\n",
            "/content/drive/MyDrive/COVID-META/STAR Work/COVID-19/Augmented/Tri_cov_119.jpg\n"
          ],
          "name": "stdout"
        },
        {
          "output_type": "stream",
          "text": [
            "WARNING:root:Lossy conversion from float64 to uint8. Range [0, 1]. Convert image to uint8 prior to saving to suppress this warning.\n"
          ],
          "name": "stderr"
        },
        {
          "output_type": "stream",
          "text": [
            "/content/drive/MyDrive/COVID-META/STAR Work/COVID-19/COVID cases/augmented_image_2518.png\n"
          ],
          "name": "stdout"
        },
        {
          "output_type": "stream",
          "text": [
            "WARNING:root:Lossy conversion from float64 to uint8. Range [0, 1]. Convert image to uint8 prior to saving to suppress this warning.\n"
          ],
          "name": "stderr"
        },
        {
          "output_type": "stream",
          "text": [
            "/content/drive/MyDrive/COVID-META/STAR Work/COVID-19/COVID cases/augmented_image_2519.png\n",
            "/content/drive/MyDrive/COVID-META/STAR Work/COVID-19/COVID cases/augmented_image_2520.png\n",
            "/content/drive/MyDrive/COVID-META/STAR Work/COVID-19/Augmented/Tri_cov_369.jpg\n",
            "/content/drive/MyDrive/COVID-META/STAR Work/COVID-19/COVID cases/augmented_image_2521.png\n"
          ],
          "name": "stdout"
        },
        {
          "output_type": "stream",
          "text": [
            "WARNING:root:Lossy conversion from float64 to uint8. Range [0, 1]. Convert image to uint8 prior to saving to suppress this warning.\n"
          ],
          "name": "stderr"
        },
        {
          "output_type": "stream",
          "text": [
            "/content/drive/MyDrive/COVID-META/STAR Work/COVID-19/COVID cases/augmented_image_2522.png\n"
          ],
          "name": "stdout"
        },
        {
          "output_type": "stream",
          "text": [
            "WARNING:root:Lossy conversion from float64 to uint8. Range [0, 1]. Convert image to uint8 prior to saving to suppress this warning.\n"
          ],
          "name": "stderr"
        },
        {
          "output_type": "stream",
          "text": [
            "/content/drive/MyDrive/COVID-META/STAR Work/COVID-19/COVID cases/augmented_image_2523.png\n",
            "/content/drive/MyDrive/COVID-META/STAR Work/COVID-19/Augmented/Tri_cov_286.jpg\n"
          ],
          "name": "stdout"
        },
        {
          "output_type": "stream",
          "text": [
            "WARNING:root:Lossy conversion from float64 to uint8. Range [0, 1]. Convert image to uint8 prior to saving to suppress this warning.\n"
          ],
          "name": "stderr"
        },
        {
          "output_type": "stream",
          "text": [
            "/content/drive/MyDrive/COVID-META/STAR Work/COVID-19/COVID cases/augmented_image_2524.png\n"
          ],
          "name": "stdout"
        },
        {
          "output_type": "stream",
          "text": [
            "WARNING:root:Lossy conversion from float64 to uint8. Range [0, 1]. Convert image to uint8 prior to saving to suppress this warning.\n"
          ],
          "name": "stderr"
        },
        {
          "output_type": "stream",
          "text": [
            "/content/drive/MyDrive/COVID-META/STAR Work/COVID-19/COVID cases/augmented_image_2525.png\n",
            "/content/drive/MyDrive/COVID-META/STAR Work/COVID-19/Augmented/Tri_cov_494.jpg\n"
          ],
          "name": "stdout"
        },
        {
          "output_type": "stream",
          "text": [
            "WARNING:root:Lossy conversion from float64 to uint8. Range [0, 1]. Convert image to uint8 prior to saving to suppress this warning.\n"
          ],
          "name": "stderr"
        },
        {
          "output_type": "stream",
          "text": [
            "/content/drive/MyDrive/COVID-META/STAR Work/COVID-19/COVID cases/augmented_image_2526.png\n"
          ],
          "name": "stdout"
        },
        {
          "output_type": "stream",
          "text": [
            "WARNING:root:Lossy conversion from float64 to uint8. Range [0, 1]. Convert image to uint8 prior to saving to suppress this warning.\n"
          ],
          "name": "stderr"
        },
        {
          "output_type": "stream",
          "text": [
            "/content/drive/MyDrive/COVID-META/STAR Work/COVID-19/COVID cases/augmented_image_2527.png\n"
          ],
          "name": "stdout"
        },
        {
          "output_type": "stream",
          "text": [
            "WARNING:root:Lossy conversion from float64 to uint8. Range [0, 1]. Convert image to uint8 prior to saving to suppress this warning.\n"
          ],
          "name": "stderr"
        },
        {
          "output_type": "stream",
          "text": [
            "/content/drive/MyDrive/COVID-META/STAR Work/COVID-19/COVID cases/augmented_image_2528.png\n",
            "/content/drive/MyDrive/COVID-META/STAR Work/COVID-19/Augmented/Tri_cov_414.jpg\n",
            "/content/drive/MyDrive/COVID-META/STAR Work/COVID-19/COVID cases/augmented_image_2529.png\n",
            "/content/drive/MyDrive/COVID-META/STAR Work/COVID-19/COVID cases/augmented_image_2530.png\n",
            "/content/drive/MyDrive/COVID-META/STAR Work/COVID-19/COVID cases/augmented_image_2531.png\n"
          ],
          "name": "stdout"
        },
        {
          "output_type": "stream",
          "text": [
            "WARNING:root:Lossy conversion from float64 to uint8. Range [0, 1]. Convert image to uint8 prior to saving to suppress this warning.\n"
          ],
          "name": "stderr"
        },
        {
          "output_type": "stream",
          "text": [
            "/content/drive/MyDrive/COVID-META/STAR Work/COVID-19/COVID cases/augmented_image_2532.png\n",
            "/content/drive/MyDrive/COVID-META/STAR Work/COVID-19/Augmented/Tri_cov_39.jpg\n"
          ],
          "name": "stdout"
        },
        {
          "output_type": "stream",
          "text": [
            "WARNING:root:Lossy conversion from float64 to uint8. Range [0, 1]. Convert image to uint8 prior to saving to suppress this warning.\n"
          ],
          "name": "stderr"
        },
        {
          "output_type": "stream",
          "text": [
            "/content/drive/MyDrive/COVID-META/STAR Work/COVID-19/COVID cases/augmented_image_2533.png\n"
          ],
          "name": "stdout"
        },
        {
          "output_type": "stream",
          "text": [
            "WARNING:root:Lossy conversion from float64 to uint8. Range [0, 1]. Convert image to uint8 prior to saving to suppress this warning.\n"
          ],
          "name": "stderr"
        },
        {
          "output_type": "stream",
          "text": [
            "/content/drive/MyDrive/COVID-META/STAR Work/COVID-19/COVID cases/augmented_image_2534.png\n",
            "/content/drive/MyDrive/COVID-META/STAR Work/COVID-19/Augmented/Tri_cov_444.jpg\n",
            "/content/drive/MyDrive/COVID-META/STAR Work/COVID-19/COVID cases/augmented_image_2535.png\n"
          ],
          "name": "stdout"
        },
        {
          "output_type": "stream",
          "text": [
            "WARNING:root:Lossy conversion from float64 to uint8. Range [0, 1]. Convert image to uint8 prior to saving to suppress this warning.\n"
          ],
          "name": "stderr"
        },
        {
          "output_type": "stream",
          "text": [
            "/content/drive/MyDrive/COVID-META/STAR Work/COVID-19/COVID cases/augmented_image_2536.png\n"
          ],
          "name": "stdout"
        },
        {
          "output_type": "stream",
          "text": [
            "WARNING:root:Lossy conversion from float64 to uint8. Range [0, 1]. Convert image to uint8 prior to saving to suppress this warning.\n"
          ],
          "name": "stderr"
        },
        {
          "output_type": "stream",
          "text": [
            "/content/drive/MyDrive/COVID-META/STAR Work/COVID-19/COVID cases/augmented_image_2537.png\n",
            "/content/drive/MyDrive/COVID-META/STAR Work/COVID-19/COVID cases/augmented_image_2538.png\n",
            "/content/drive/MyDrive/COVID-META/STAR Work/COVID-19/Augmented/Tri_cov_352.jpg\n"
          ],
          "name": "stdout"
        },
        {
          "output_type": "stream",
          "text": [
            "WARNING:root:Lossy conversion from float64 to uint8. Range [0, 1]. Convert image to uint8 prior to saving to suppress this warning.\n"
          ],
          "name": "stderr"
        },
        {
          "output_type": "stream",
          "text": [
            "/content/drive/MyDrive/COVID-META/STAR Work/COVID-19/COVID cases/augmented_image_2539.png\n",
            "/content/drive/MyDrive/COVID-META/STAR Work/COVID-19/COVID cases/augmented_image_2540.png\n"
          ],
          "name": "stdout"
        },
        {
          "output_type": "stream",
          "text": [
            "WARNING:root:Lossy conversion from float64 to uint8. Range [0, 1]. Convert image to uint8 prior to saving to suppress this warning.\n"
          ],
          "name": "stderr"
        },
        {
          "output_type": "stream",
          "text": [
            "/content/drive/MyDrive/COVID-META/STAR Work/COVID-19/COVID cases/augmented_image_2541.png\n"
          ],
          "name": "stdout"
        },
        {
          "output_type": "stream",
          "text": [
            "WARNING:root:Lossy conversion from float64 to uint8. Range [0, 1]. Convert image to uint8 prior to saving to suppress this warning.\n"
          ],
          "name": "stderr"
        },
        {
          "output_type": "stream",
          "text": [
            "/content/drive/MyDrive/COVID-META/STAR Work/COVID-19/Augmented/Tri_cov_105.jpg\n",
            "/content/drive/MyDrive/COVID-META/STAR Work/COVID-19/COVID cases/augmented_image_2542.png\n"
          ],
          "name": "stdout"
        },
        {
          "output_type": "stream",
          "text": [
            "WARNING:root:Lossy conversion from float64 to uint8. Range [0, 1]. Convert image to uint8 prior to saving to suppress this warning.\n"
          ],
          "name": "stderr"
        },
        {
          "output_type": "stream",
          "text": [
            "/content/drive/MyDrive/COVID-META/STAR Work/COVID-19/COVID cases/augmented_image_2543.png\n"
          ],
          "name": "stdout"
        },
        {
          "output_type": "stream",
          "text": [
            "WARNING:root:Lossy conversion from float64 to uint8. Range [0, 1]. Convert image to uint8 prior to saving to suppress this warning.\n"
          ],
          "name": "stderr"
        },
        {
          "output_type": "stream",
          "text": [
            "/content/drive/MyDrive/COVID-META/STAR Work/COVID-19/COVID cases/augmented_image_2544.png\n",
            "/content/drive/MyDrive/COVID-META/STAR Work/COVID-19/Augmented/Tri_cov_529.jpg\n"
          ],
          "name": "stdout"
        },
        {
          "output_type": "stream",
          "text": [
            "WARNING:root:Lossy conversion from float64 to uint8. Range [0, 1]. Convert image to uint8 prior to saving to suppress this warning.\n"
          ],
          "name": "stderr"
        },
        {
          "output_type": "stream",
          "text": [
            "/content/drive/MyDrive/COVID-META/STAR Work/COVID-19/COVID cases/augmented_image_2545.png\n"
          ],
          "name": "stdout"
        },
        {
          "output_type": "stream",
          "text": [
            "WARNING:root:Lossy conversion from float64 to uint8. Range [0, 1]. Convert image to uint8 prior to saving to suppress this warning.\n"
          ],
          "name": "stderr"
        },
        {
          "output_type": "stream",
          "text": [
            "/content/drive/MyDrive/COVID-META/STAR Work/COVID-19/COVID cases/augmented_image_2546.png\n",
            "/content/drive/MyDrive/COVID-META/STAR Work/COVID-19/Augmented/Tri_cov_40.jpg\n"
          ],
          "name": "stdout"
        },
        {
          "output_type": "stream",
          "text": [
            "WARNING:root:Lossy conversion from float64 to uint8. Range [0, 1]. Convert image to uint8 prior to saving to suppress this warning.\n",
            "WARNING:root:Lossy conversion from float64 to uint8. Range [0, 1]. Convert image to uint8 prior to saving to suppress this warning.\n"
          ],
          "name": "stderr"
        },
        {
          "output_type": "stream",
          "text": [
            "/content/drive/MyDrive/COVID-META/STAR Work/COVID-19/COVID cases/augmented_image_2547.png\n",
            "/content/drive/MyDrive/COVID-META/STAR Work/COVID-19/COVID cases/augmented_image_2548.png\n",
            "/content/drive/MyDrive/COVID-META/STAR Work/COVID-19/COVID cases/augmented_image_2549.png\n",
            "/content/drive/MyDrive/COVID-META/STAR Work/COVID-19/Augmented/Tri_cov_3.jpg\n",
            "/content/drive/MyDrive/COVID-META/STAR Work/COVID-19/COVID cases/augmented_image_2550.png\n"
          ],
          "name": "stdout"
        },
        {
          "output_type": "stream",
          "text": [
            "WARNING:root:Lossy conversion from float64 to uint8. Range [0, 1]. Convert image to uint8 prior to saving to suppress this warning.\n"
          ],
          "name": "stderr"
        },
        {
          "output_type": "stream",
          "text": [
            "/content/drive/MyDrive/COVID-META/STAR Work/COVID-19/COVID cases/augmented_image_2551.png\n"
          ],
          "name": "stdout"
        },
        {
          "output_type": "stream",
          "text": [
            "WARNING:root:Lossy conversion from float64 to uint8. Range [0, 1]. Convert image to uint8 prior to saving to suppress this warning.\n"
          ],
          "name": "stderr"
        },
        {
          "output_type": "stream",
          "text": [
            "/content/drive/MyDrive/COVID-META/STAR Work/COVID-19/COVID cases/augmented_image_2552.png\n",
            "/content/drive/MyDrive/COVID-META/STAR Work/COVID-19/COVID cases/augmented_image_2553.png\n",
            "/content/drive/MyDrive/COVID-META/STAR Work/COVID-19/Augmented/Tri_cov_561.jpg\n"
          ],
          "name": "stdout"
        },
        {
          "output_type": "stream",
          "text": [
            "WARNING:root:Lossy conversion from float64 to uint8. Range [0, 1]. Convert image to uint8 prior to saving to suppress this warning.\n"
          ],
          "name": "stderr"
        },
        {
          "output_type": "stream",
          "text": [
            "/content/drive/MyDrive/COVID-META/STAR Work/COVID-19/COVID cases/augmented_image_2554.png\n"
          ],
          "name": "stdout"
        },
        {
          "output_type": "stream",
          "text": [
            "WARNING:root:Lossy conversion from float64 to uint8. Range [0, 1]. Convert image to uint8 prior to saving to suppress this warning.\n"
          ],
          "name": "stderr"
        },
        {
          "output_type": "stream",
          "text": [
            "/content/drive/MyDrive/COVID-META/STAR Work/COVID-19/COVID cases/augmented_image_2555.png\n",
            "/content/drive/MyDrive/COVID-META/STAR Work/COVID-19/COVID cases/augmented_image_2556.png\n"
          ],
          "name": "stdout"
        },
        {
          "output_type": "stream",
          "text": [
            "WARNING:root:Lossy conversion from float64 to uint8. Range [0, 1]. Convert image to uint8 prior to saving to suppress this warning.\n"
          ],
          "name": "stderr"
        },
        {
          "output_type": "stream",
          "text": [
            "/content/drive/MyDrive/COVID-META/STAR Work/COVID-19/COVID cases/augmented_image_2557.png\n"
          ],
          "name": "stdout"
        },
        {
          "output_type": "stream",
          "text": [
            "WARNING:root:Lossy conversion from uint16 to uint8. Losing 8 bits of resolution. Convert image to uint8 prior to saving to suppress this warning.\n"
          ],
          "name": "stderr"
        },
        {
          "output_type": "stream",
          "text": [
            "/content/drive/MyDrive/COVID-META/STAR Work/COVID-19/Augmented/Tri_cov_34.jpg\n",
            "/content/drive/MyDrive/COVID-META/STAR Work/COVID-19/COVID cases/augmented_image_2558.png\n"
          ],
          "name": "stdout"
        },
        {
          "output_type": "stream",
          "text": [
            "WARNING:root:Lossy conversion from float64 to uint8. Range [0, 1]. Convert image to uint8 prior to saving to suppress this warning.\n"
          ],
          "name": "stderr"
        },
        {
          "output_type": "stream",
          "text": [
            "/content/drive/MyDrive/COVID-META/STAR Work/COVID-19/COVID cases/augmented_image_2559.png\n"
          ],
          "name": "stdout"
        },
        {
          "output_type": "stream",
          "text": [
            "WARNING:root:Lossy conversion from uint16 to uint8. Losing 8 bits of resolution. Convert image to uint8 prior to saving to suppress this warning.\n"
          ],
          "name": "stderr"
        },
        {
          "output_type": "stream",
          "text": [
            "/content/drive/MyDrive/COVID-META/STAR Work/COVID-19/COVID cases/augmented_image_2560.png\n",
            "/content/drive/MyDrive/COVID-META/STAR Work/COVID-19/Augmented/Tri_cov_510.jpg\n"
          ],
          "name": "stdout"
        },
        {
          "output_type": "stream",
          "text": [
            "WARNING:root:Lossy conversion from float64 to uint8. Range [0, 1]. Convert image to uint8 prior to saving to suppress this warning.\n"
          ],
          "name": "stderr"
        },
        {
          "output_type": "stream",
          "text": [
            "/content/drive/MyDrive/COVID-META/STAR Work/COVID-19/COVID cases/augmented_image_2561.png\n",
            "/content/drive/MyDrive/COVID-META/STAR Work/COVID-19/COVID cases/augmented_image_2562.png\n"
          ],
          "name": "stdout"
        },
        {
          "output_type": "stream",
          "text": [
            "WARNING:root:Lossy conversion from float64 to uint8. Range [0, 1]. Convert image to uint8 prior to saving to suppress this warning.\n",
            "WARNING:root:Lossy conversion from float64 to uint8. Range [0, 1]. Convert image to uint8 prior to saving to suppress this warning.\n"
          ],
          "name": "stderr"
        },
        {
          "output_type": "stream",
          "text": [
            "/content/drive/MyDrive/COVID-META/STAR Work/COVID-19/Augmented/Tri_cov_51.jpg\n",
            "/content/drive/MyDrive/COVID-META/STAR Work/COVID-19/COVID cases/augmented_image_2563.png\n"
          ],
          "name": "stdout"
        },
        {
          "output_type": "stream",
          "text": [
            "WARNING:root:Lossy conversion from float64 to uint8. Range [0, 1]. Convert image to uint8 prior to saving to suppress this warning.\n"
          ],
          "name": "stderr"
        },
        {
          "output_type": "stream",
          "text": [
            "/content/drive/MyDrive/COVID-META/STAR Work/COVID-19/COVID cases/augmented_image_2564.png\n",
            "/content/drive/MyDrive/COVID-META/STAR Work/COVID-19/Augmented/Tri_cov_450.jpg\n"
          ],
          "name": "stdout"
        },
        {
          "output_type": "stream",
          "text": [
            "WARNING:root:Lossy conversion from float64 to uint8. Range [0, 1]. Convert image to uint8 prior to saving to suppress this warning.\n"
          ],
          "name": "stderr"
        },
        {
          "output_type": "stream",
          "text": [
            "/content/drive/MyDrive/COVID-META/STAR Work/COVID-19/COVID cases/augmented_image_2565.png\n"
          ],
          "name": "stdout"
        },
        {
          "output_type": "stream",
          "text": [
            "WARNING:root:Lossy conversion from float64 to uint8. Range [0, 1]. Convert image to uint8 prior to saving to suppress this warning.\n"
          ],
          "name": "stderr"
        },
        {
          "output_type": "stream",
          "text": [
            "/content/drive/MyDrive/COVID-META/STAR Work/COVID-19/COVID cases/augmented_image_2566.png\n"
          ],
          "name": "stdout"
        },
        {
          "output_type": "stream",
          "text": [
            "WARNING:root:Lossy conversion from float64 to uint8. Range [0, 1]. Convert image to uint8 prior to saving to suppress this warning.\n"
          ],
          "name": "stderr"
        },
        {
          "output_type": "stream",
          "text": [
            "/content/drive/MyDrive/COVID-META/STAR Work/COVID-19/Augmented/Tri_cov_209.jpg\n",
            "/content/drive/MyDrive/COVID-META/STAR Work/COVID-19/COVID cases/augmented_image_2567.png\n"
          ],
          "name": "stdout"
        },
        {
          "output_type": "stream",
          "text": [
            "WARNING:root:Lossy conversion from float64 to uint8. Range [0, 1]. Convert image to uint8 prior to saving to suppress this warning.\n"
          ],
          "name": "stderr"
        },
        {
          "output_type": "stream",
          "text": [
            "/content/drive/MyDrive/COVID-META/STAR Work/COVID-19/COVID cases/augmented_image_2568.png\n"
          ],
          "name": "stdout"
        },
        {
          "output_type": "stream",
          "text": [
            "WARNING:root:Lossy conversion from float64 to uint8. Range [0, 1]. Convert image to uint8 prior to saving to suppress this warning.\n"
          ],
          "name": "stderr"
        },
        {
          "output_type": "stream",
          "text": [
            "/content/drive/MyDrive/COVID-META/STAR Work/COVID-19/COVID cases/augmented_image_2569.png\n",
            "/content/drive/MyDrive/COVID-META/STAR Work/COVID-19/COVID cases/augmented_image_2570.png\n",
            "/content/drive/MyDrive/COVID-META/STAR Work/COVID-19/Augmented/Tri_cov_577.jpg\n",
            "/content/drive/MyDrive/COVID-META/STAR Work/COVID-19/COVID cases/augmented_image_2571.png\n"
          ],
          "name": "stdout"
        },
        {
          "output_type": "stream",
          "text": [
            "WARNING:root:Lossy conversion from float64 to uint8. Range [0, 1]. Convert image to uint8 prior to saving to suppress this warning.\n"
          ],
          "name": "stderr"
        },
        {
          "output_type": "stream",
          "text": [
            "/content/drive/MyDrive/COVID-META/STAR Work/COVID-19/COVID cases/augmented_image_2572.png\n"
          ],
          "name": "stdout"
        },
        {
          "output_type": "stream",
          "text": [
            "WARNING:root:Lossy conversion from float64 to uint8. Range [0, 1]. Convert image to uint8 prior to saving to suppress this warning.\n"
          ],
          "name": "stderr"
        },
        {
          "output_type": "stream",
          "text": [
            "/content/drive/MyDrive/COVID-META/STAR Work/COVID-19/COVID cases/augmented_image_2573.png\n"
          ],
          "name": "stdout"
        },
        {
          "output_type": "stream",
          "text": [
            "WARNING:root:Lossy conversion from float64 to uint8. Range [0, 1]. Convert image to uint8 prior to saving to suppress this warning.\n"
          ],
          "name": "stderr"
        },
        {
          "output_type": "stream",
          "text": [
            "/content/drive/MyDrive/COVID-META/STAR Work/COVID-19/COVID cases/augmented_image_2574.png\n",
            "/content/drive/MyDrive/COVID-META/STAR Work/COVID-19/Augmented/Tri_cov_416.jpg\n"
          ],
          "name": "stdout"
        },
        {
          "output_type": "stream",
          "text": [
            "WARNING:root:Lossy conversion from float64 to uint8. Range [0, 1]. Convert image to uint8 prior to saving to suppress this warning.\n"
          ],
          "name": "stderr"
        },
        {
          "output_type": "stream",
          "text": [
            "/content/drive/MyDrive/COVID-META/STAR Work/COVID-19/COVID cases/augmented_image_2575.png\n"
          ],
          "name": "stdout"
        },
        {
          "output_type": "stream",
          "text": [
            "WARNING:root:Lossy conversion from float64 to uint8. Range [0, 1]. Convert image to uint8 prior to saving to suppress this warning.\n"
          ],
          "name": "stderr"
        },
        {
          "output_type": "stream",
          "text": [
            "/content/drive/MyDrive/COVID-META/STAR Work/COVID-19/COVID cases/augmented_image_2576.png\n",
            "/content/drive/MyDrive/COVID-META/STAR Work/COVID-19/COVID cases/augmented_image_2577.png\n",
            "/content/drive/MyDrive/COVID-META/STAR Work/COVID-19/COVID cases/augmented_image_2578.png\n",
            "/content/drive/MyDrive/COVID-META/STAR Work/COVID-19/Augmented/Tri_cov_183.jpg\n",
            "/content/drive/MyDrive/COVID-META/STAR Work/COVID-19/COVID cases/augmented_image_2579.png\n",
            "/content/drive/MyDrive/COVID-META/STAR Work/COVID-19/COVID cases/augmented_image_2580.png\n",
            "/content/drive/MyDrive/COVID-META/STAR Work/COVID-19/COVID cases/augmented_image_2581.png\n",
            "/content/drive/MyDrive/COVID-META/STAR Work/COVID-19/COVID cases/augmented_image_2582.png\n",
            "/content/drive/MyDrive/COVID-META/STAR Work/COVID-19/Augmented/Tri_cov_196.jpg\n"
          ],
          "name": "stdout"
        },
        {
          "output_type": "stream",
          "text": [
            "WARNING:root:Lossy conversion from float64 to uint8. Range [0, 1]. Convert image to uint8 prior to saving to suppress this warning.\n"
          ],
          "name": "stderr"
        },
        {
          "output_type": "stream",
          "text": [
            "/content/drive/MyDrive/COVID-META/STAR Work/COVID-19/COVID cases/augmented_image_2583.png\n",
            "/content/drive/MyDrive/COVID-META/STAR Work/COVID-19/COVID cases/augmented_image_2584.png\n"
          ],
          "name": "stdout"
        },
        {
          "output_type": "stream",
          "text": [
            "WARNING:root:Lossy conversion from float64 to uint8. Range [0, 1]. Convert image to uint8 prior to saving to suppress this warning.\n"
          ],
          "name": "stderr"
        },
        {
          "output_type": "stream",
          "text": [
            "/content/drive/MyDrive/COVID-META/STAR Work/COVID-19/COVID cases/augmented_image_2585.png\n"
          ],
          "name": "stdout"
        },
        {
          "output_type": "stream",
          "text": [
            "WARNING:root:Lossy conversion from float64 to uint8. Range [0, 1]. Convert image to uint8 prior to saving to suppress this warning.\n"
          ],
          "name": "stderr"
        },
        {
          "output_type": "stream",
          "text": [
            "/content/drive/MyDrive/COVID-META/STAR Work/COVID-19/COVID cases/augmented_image_2586.png\n",
            "/content/drive/MyDrive/COVID-META/STAR Work/COVID-19/Augmented/Tri_cov_156.jpg\n",
            "/content/drive/MyDrive/COVID-META/STAR Work/COVID-19/COVID cases/augmented_image_2587.png\n"
          ],
          "name": "stdout"
        },
        {
          "output_type": "stream",
          "text": [
            "WARNING:root:Lossy conversion from float64 to uint8. Range [0, 1]. Convert image to uint8 prior to saving to suppress this warning.\n"
          ],
          "name": "stderr"
        },
        {
          "output_type": "stream",
          "text": [
            "/content/drive/MyDrive/COVID-META/STAR Work/COVID-19/COVID cases/augmented_image_2588.png\n",
            "/content/drive/MyDrive/COVID-META/STAR Work/COVID-19/COVID cases/augmented_image_2589.png\n"
          ],
          "name": "stdout"
        },
        {
          "output_type": "stream",
          "text": [
            "WARNING:root:Lossy conversion from float64 to uint8. Range [0, 1]. Convert image to uint8 prior to saving to suppress this warning.\n"
          ],
          "name": "stderr"
        },
        {
          "output_type": "stream",
          "text": [
            "/content/drive/MyDrive/COVID-META/STAR Work/COVID-19/COVID cases/augmented_image_2590.png\n",
            "/content/drive/MyDrive/COVID-META/STAR Work/COVID-19/Augmented/Tri_cov_91.jpg\n"
          ],
          "name": "stdout"
        },
        {
          "output_type": "stream",
          "text": [
            "WARNING:root:Lossy conversion from float64 to uint8. Range [0, 1]. Convert image to uint8 prior to saving to suppress this warning.\n",
            "WARNING:root:Lossy conversion from float64 to uint8. Range [0, 1]. Convert image to uint8 prior to saving to suppress this warning.\n"
          ],
          "name": "stderr"
        },
        {
          "output_type": "stream",
          "text": [
            "/content/drive/MyDrive/COVID-META/STAR Work/COVID-19/COVID cases/augmented_image_2591.png\n",
            "/content/drive/MyDrive/COVID-META/STAR Work/COVID-19/COVID cases/augmented_image_2592.png\n",
            "/content/drive/MyDrive/COVID-META/STAR Work/COVID-19/COVID cases/augmented_image_2593.png\n",
            "/content/drive/MyDrive/COVID-META/STAR Work/COVID-19/Augmented/Tri_cov_43.jpg\n"
          ],
          "name": "stdout"
        },
        {
          "output_type": "stream",
          "text": [
            "WARNING:root:Lossy conversion from float64 to uint8. Range [0, 1]. Convert image to uint8 prior to saving to suppress this warning.\n"
          ],
          "name": "stderr"
        },
        {
          "output_type": "stream",
          "text": [
            "/content/drive/MyDrive/COVID-META/STAR Work/COVID-19/COVID cases/augmented_image_2594.png\n"
          ],
          "name": "stdout"
        },
        {
          "output_type": "stream",
          "text": [
            "WARNING:root:Lossy conversion from float64 to uint8. Range [0, 1]. Convert image to uint8 prior to saving to suppress this warning.\n"
          ],
          "name": "stderr"
        },
        {
          "output_type": "stream",
          "text": [
            "/content/drive/MyDrive/COVID-META/STAR Work/COVID-19/COVID cases/augmented_image_2595.png\n"
          ],
          "name": "stdout"
        },
        {
          "output_type": "stream",
          "text": [
            "WARNING:root:Lossy conversion from float64 to uint8. Range [0, 1]. Convert image to uint8 prior to saving to suppress this warning.\n"
          ],
          "name": "stderr"
        },
        {
          "output_type": "stream",
          "text": [
            "/content/drive/MyDrive/COVID-META/STAR Work/COVID-19/Augmented/Tri_cov_561.jpg\n",
            "/content/drive/MyDrive/COVID-META/STAR Work/COVID-19/COVID cases/augmented_image_2596.png\n"
          ],
          "name": "stdout"
        },
        {
          "output_type": "stream",
          "text": [
            "WARNING:root:Lossy conversion from float64 to uint8. Range [0, 1]. Convert image to uint8 prior to saving to suppress this warning.\n"
          ],
          "name": "stderr"
        },
        {
          "output_type": "stream",
          "text": [
            "/content/drive/MyDrive/COVID-META/STAR Work/COVID-19/COVID cases/augmented_image_2597.png\n",
            "/content/drive/MyDrive/COVID-META/STAR Work/COVID-19/COVID cases/augmented_image_2598.png\n",
            "/content/drive/MyDrive/COVID-META/STAR Work/COVID-19/Augmented/Tri_cov_29.jpg\n",
            "/content/drive/MyDrive/COVID-META/STAR Work/COVID-19/COVID cases/augmented_image_2599.png\n",
            "/content/drive/MyDrive/COVID-META/STAR Work/COVID-19/COVID cases/augmented_image_2600.png\n"
          ],
          "name": "stdout"
        },
        {
          "output_type": "stream",
          "text": [
            "WARNING:root:Lossy conversion from float64 to uint8. Range [0, 1]. Convert image to uint8 prior to saving to suppress this warning.\n"
          ],
          "name": "stderr"
        },
        {
          "output_type": "stream",
          "text": [
            "/content/drive/MyDrive/COVID-META/STAR Work/COVID-19/COVID cases/augmented_image_2601.png\n"
          ],
          "name": "stdout"
        },
        {
          "output_type": "stream",
          "text": [
            "WARNING:root:Lossy conversion from float64 to uint8. Range [0, 1]. Convert image to uint8 prior to saving to suppress this warning.\n"
          ],
          "name": "stderr"
        },
        {
          "output_type": "stream",
          "text": [
            "/content/drive/MyDrive/COVID-META/STAR Work/COVID-19/COVID cases/augmented_image_2602.png\n",
            "/content/drive/MyDrive/COVID-META/STAR Work/COVID-19/Augmented/Tri_cov_112.jpg\n"
          ],
          "name": "stdout"
        },
        {
          "output_type": "stream",
          "text": [
            "WARNING:root:Lossy conversion from float64 to uint8. Range [0, 1]. Convert image to uint8 prior to saving to suppress this warning.\n"
          ],
          "name": "stderr"
        },
        {
          "output_type": "stream",
          "text": [
            "/content/drive/MyDrive/COVID-META/STAR Work/COVID-19/COVID cases/augmented_image_2603.png\n",
            "/content/drive/MyDrive/COVID-META/STAR Work/COVID-19/COVID cases/augmented_image_2604.png\n",
            "/content/drive/MyDrive/COVID-META/STAR Work/COVID-19/COVID cases/augmented_image_2605.png\n",
            "/content/drive/MyDrive/COVID-META/STAR Work/COVID-19/Augmented/Tri_cov_409.jpg\n"
          ],
          "name": "stdout"
        },
        {
          "output_type": "stream",
          "text": [
            "WARNING:root:Lossy conversion from float64 to uint8. Range [0, 1]. Convert image to uint8 prior to saving to suppress this warning.\n"
          ],
          "name": "stderr"
        },
        {
          "output_type": "stream",
          "text": [
            "/content/drive/MyDrive/COVID-META/STAR Work/COVID-19/COVID cases/augmented_image_2606.png\n"
          ],
          "name": "stdout"
        },
        {
          "output_type": "stream",
          "text": [
            "WARNING:root:Lossy conversion from float64 to uint8. Range [0, 1]. Convert image to uint8 prior to saving to suppress this warning.\n"
          ],
          "name": "stderr"
        },
        {
          "output_type": "stream",
          "text": [
            "/content/drive/MyDrive/COVID-META/STAR Work/COVID-19/COVID cases/augmented_image_2607.png\n"
          ],
          "name": "stdout"
        },
        {
          "output_type": "stream",
          "text": [
            "WARNING:root:Lossy conversion from float64 to uint8. Range [0, 1]. Convert image to uint8 prior to saving to suppress this warning.\n"
          ],
          "name": "stderr"
        },
        {
          "output_type": "stream",
          "text": [
            "/content/drive/MyDrive/COVID-META/STAR Work/COVID-19/COVID cases/augmented_image_2608.png\n"
          ],
          "name": "stdout"
        },
        {
          "output_type": "stream",
          "text": [
            "WARNING:root:Lossy conversion from float64 to uint8. Range [0, 1]. Convert image to uint8 prior to saving to suppress this warning.\n"
          ],
          "name": "stderr"
        },
        {
          "output_type": "stream",
          "text": [
            "/content/drive/MyDrive/COVID-META/STAR Work/COVID-19/COVID cases/augmented_image_2609.png\n",
            "/content/drive/MyDrive/COVID-META/STAR Work/COVID-19/Augmented/Tri_cov_360.jpg\n"
          ],
          "name": "stdout"
        },
        {
          "output_type": "stream",
          "text": [
            "WARNING:root:Lossy conversion from float64 to uint8. Range [0, 1]. Convert image to uint8 prior to saving to suppress this warning.\n"
          ],
          "name": "stderr"
        },
        {
          "output_type": "stream",
          "text": [
            "/content/drive/MyDrive/COVID-META/STAR Work/COVID-19/COVID cases/augmented_image_2610.png\n"
          ],
          "name": "stdout"
        },
        {
          "output_type": "stream",
          "text": [
            "WARNING:root:Lossy conversion from float64 to uint8. Range [0, 1]. Convert image to uint8 prior to saving to suppress this warning.\n"
          ],
          "name": "stderr"
        },
        {
          "output_type": "stream",
          "text": [
            "/content/drive/MyDrive/COVID-META/STAR Work/COVID-19/COVID cases/augmented_image_2611.png\n"
          ],
          "name": "stdout"
        },
        {
          "output_type": "stream",
          "text": [
            "WARNING:root:Lossy conversion from float64 to uint8. Range [0, 1]. Convert image to uint8 prior to saving to suppress this warning.\n"
          ],
          "name": "stderr"
        },
        {
          "output_type": "stream",
          "text": [
            "/content/drive/MyDrive/COVID-META/STAR Work/COVID-19/COVID cases/augmented_image_2612.png\n",
            "/content/drive/MyDrive/COVID-META/STAR Work/COVID-19/Augmented/Tri_cov_87.jpg\n"
          ],
          "name": "stdout"
        },
        {
          "output_type": "stream",
          "text": [
            "WARNING:root:Lossy conversion from float64 to uint8. Range [0, 1]. Convert image to uint8 prior to saving to suppress this warning.\n"
          ],
          "name": "stderr"
        },
        {
          "output_type": "stream",
          "text": [
            "/content/drive/MyDrive/COVID-META/STAR Work/COVID-19/COVID cases/augmented_image_2613.png\n",
            "/content/drive/MyDrive/COVID-META/STAR Work/COVID-19/COVID cases/augmented_image_2614.png\n",
            "/content/drive/MyDrive/COVID-META/STAR Work/COVID-19/Augmented/Tri_cov_180.jpg\n"
          ],
          "name": "stdout"
        },
        {
          "output_type": "stream",
          "text": [
            "WARNING:root:Lossy conversion from float64 to uint8. Range [0, 1]. Convert image to uint8 prior to saving to suppress this warning.\n"
          ],
          "name": "stderr"
        },
        {
          "output_type": "stream",
          "text": [
            "/content/drive/MyDrive/COVID-META/STAR Work/COVID-19/COVID cases/augmented_image_2615.png\n"
          ],
          "name": "stdout"
        },
        {
          "output_type": "stream",
          "text": [
            "WARNING:root:Lossy conversion from float64 to uint8. Range [0, 1]. Convert image to uint8 prior to saving to suppress this warning.\n",
            "WARNING:root:Lossy conversion from float64 to uint8. Range [0, 1]. Convert image to uint8 prior to saving to suppress this warning.\n"
          ],
          "name": "stderr"
        },
        {
          "output_type": "stream",
          "text": [
            "/content/drive/MyDrive/COVID-META/STAR Work/COVID-19/COVID cases/augmented_image_2616.png\n",
            "/content/drive/MyDrive/COVID-META/STAR Work/COVID-19/COVID cases/augmented_image_2617.png\n"
          ],
          "name": "stdout"
        },
        {
          "output_type": "stream",
          "text": [
            "WARNING:root:Lossy conversion from float64 to uint8. Range [0, 1]. Convert image to uint8 prior to saving to suppress this warning.\n"
          ],
          "name": "stderr"
        },
        {
          "output_type": "stream",
          "text": [
            "/content/drive/MyDrive/COVID-META/STAR Work/COVID-19/COVID cases/augmented_image_2618.png\n",
            "/content/drive/MyDrive/COVID-META/STAR Work/COVID-19/Augmented/Tri_cov_277.jpg\n"
          ],
          "name": "stdout"
        },
        {
          "output_type": "stream",
          "text": [
            "WARNING:root:Lossy conversion from float64 to uint8. Range [0, 1]. Convert image to uint8 prior to saving to suppress this warning.\n"
          ],
          "name": "stderr"
        },
        {
          "output_type": "stream",
          "text": [
            "/content/drive/MyDrive/COVID-META/STAR Work/COVID-19/COVID cases/augmented_image_2619.png\n"
          ],
          "name": "stdout"
        },
        {
          "output_type": "stream",
          "text": [
            "WARNING:root:Lossy conversion from float64 to uint8. Range [0, 1]. Convert image to uint8 prior to saving to suppress this warning.\n"
          ],
          "name": "stderr"
        },
        {
          "output_type": "stream",
          "text": [
            "/content/drive/MyDrive/COVID-META/STAR Work/COVID-19/COVID cases/augmented_image_2620.png\n",
            "/content/drive/MyDrive/COVID-META/STAR Work/COVID-19/COVID cases/augmented_image_2621.png\n"
          ],
          "name": "stdout"
        },
        {
          "output_type": "stream",
          "text": [
            "WARNING:root:Lossy conversion from float64 to uint8. Range [0, 1]. Convert image to uint8 prior to saving to suppress this warning.\n"
          ],
          "name": "stderr"
        },
        {
          "output_type": "stream",
          "text": [
            "/content/drive/MyDrive/COVID-META/STAR Work/COVID-19/COVID cases/augmented_image_2622.png\n",
            "/content/drive/MyDrive/COVID-META/STAR Work/COVID-19/Augmented/Tri_cov_51.jpg\n"
          ],
          "name": "stdout"
        },
        {
          "output_type": "stream",
          "text": [
            "WARNING:root:Lossy conversion from float64 to uint8. Range [0, 1]. Convert image to uint8 prior to saving to suppress this warning.\n"
          ],
          "name": "stderr"
        },
        {
          "output_type": "stream",
          "text": [
            "/content/drive/MyDrive/COVID-META/STAR Work/COVID-19/COVID cases/augmented_image_2623.png\n"
          ],
          "name": "stdout"
        },
        {
          "output_type": "stream",
          "text": [
            "WARNING:root:Lossy conversion from float64 to uint8. Range [0, 1]. Convert image to uint8 prior to saving to suppress this warning.\n"
          ],
          "name": "stderr"
        },
        {
          "output_type": "stream",
          "text": [
            "/content/drive/MyDrive/COVID-META/STAR Work/COVID-19/COVID cases/augmented_image_2624.png\n",
            "/content/drive/MyDrive/COVID-META/STAR Work/COVID-19/Augmented/Tri_cov_28.jpg\n"
          ],
          "name": "stdout"
        },
        {
          "output_type": "stream",
          "text": [
            "WARNING:root:Lossy conversion from float64 to uint8. Range [0, 1]. Convert image to uint8 prior to saving to suppress this warning.\n"
          ],
          "name": "stderr"
        },
        {
          "output_type": "stream",
          "text": [
            "/content/drive/MyDrive/COVID-META/STAR Work/COVID-19/COVID cases/augmented_image_2625.png\n"
          ],
          "name": "stdout"
        },
        {
          "output_type": "stream",
          "text": [
            "WARNING:root:Lossy conversion from float64 to uint8. Range [0, 1]. Convert image to uint8 prior to saving to suppress this warning.\n"
          ],
          "name": "stderr"
        },
        {
          "output_type": "stream",
          "text": [
            "/content/drive/MyDrive/COVID-META/STAR Work/COVID-19/COVID cases/augmented_image_2626.png\n",
            "/content/drive/MyDrive/COVID-META/STAR Work/COVID-19/COVID cases/augmented_image_2627.png\n"
          ],
          "name": "stdout"
        },
        {
          "output_type": "stream",
          "text": [
            "WARNING:root:Lossy conversion from float64 to uint8. Range [0, 1]. Convert image to uint8 prior to saving to suppress this warning.\n"
          ],
          "name": "stderr"
        },
        {
          "output_type": "stream",
          "text": [
            "/content/drive/MyDrive/COVID-META/STAR Work/COVID-19/COVID cases/augmented_image_2628.png\n"
          ],
          "name": "stdout"
        },
        {
          "output_type": "stream",
          "text": [
            "WARNING:root:Lossy conversion from float64 to uint8. Range [0, 1]. Convert image to uint8 prior to saving to suppress this warning.\n"
          ],
          "name": "stderr"
        },
        {
          "output_type": "stream",
          "text": [
            "/content/drive/MyDrive/COVID-META/STAR Work/COVID-19/Augmented/Tri_cov_3.jpg\n",
            "/content/drive/MyDrive/COVID-META/STAR Work/COVID-19/COVID cases/augmented_image_2629.png\n"
          ],
          "name": "stdout"
        },
        {
          "output_type": "stream",
          "text": [
            "WARNING:root:Lossy conversion from float64 to uint8. Range [0, 1]. Convert image to uint8 prior to saving to suppress this warning.\n"
          ],
          "name": "stderr"
        },
        {
          "output_type": "stream",
          "text": [
            "/content/drive/MyDrive/COVID-META/STAR Work/COVID-19/COVID cases/augmented_image_2630.png\n",
            "/content/drive/MyDrive/COVID-META/STAR Work/COVID-19/COVID cases/augmented_image_2631.png\n",
            "/content/drive/MyDrive/COVID-META/STAR Work/COVID-19/COVID cases/augmented_image_2632.png\n"
          ],
          "name": "stdout"
        },
        {
          "output_type": "stream",
          "text": [
            "WARNING:root:Lossy conversion from float64 to uint8. Range [0, 1]. Convert image to uint8 prior to saving to suppress this warning.\n"
          ],
          "name": "stderr"
        },
        {
          "output_type": "stream",
          "text": [
            "/content/drive/MyDrive/COVID-META/STAR Work/COVID-19/Augmented/Tri_cov_385.jpg\n",
            "/content/drive/MyDrive/COVID-META/STAR Work/COVID-19/COVID cases/augmented_image_2633.png\n"
          ],
          "name": "stdout"
        },
        {
          "output_type": "stream",
          "text": [
            "WARNING:root:Lossy conversion from float64 to uint8. Range [0, 1]. Convert image to uint8 prior to saving to suppress this warning.\n"
          ],
          "name": "stderr"
        },
        {
          "output_type": "stream",
          "text": [
            "/content/drive/MyDrive/COVID-META/STAR Work/COVID-19/COVID cases/augmented_image_2634.png\n",
            "/content/drive/MyDrive/COVID-META/STAR Work/COVID-19/Augmented/Tri_cov_394.jpg\n"
          ],
          "name": "stdout"
        },
        {
          "output_type": "stream",
          "text": [
            "WARNING:root:Lossy conversion from float64 to uint8. Range [0, 1]. Convert image to uint8 prior to saving to suppress this warning.\n"
          ],
          "name": "stderr"
        },
        {
          "output_type": "stream",
          "text": [
            "/content/drive/MyDrive/COVID-META/STAR Work/COVID-19/COVID cases/augmented_image_2635.png\n"
          ],
          "name": "stdout"
        },
        {
          "output_type": "stream",
          "text": [
            "WARNING:root:Lossy conversion from float64 to uint8. Range [0, 1]. Convert image to uint8 prior to saving to suppress this warning.\n"
          ],
          "name": "stderr"
        },
        {
          "output_type": "stream",
          "text": [
            "/content/drive/MyDrive/COVID-META/STAR Work/COVID-19/COVID cases/augmented_image_2636.png\n"
          ],
          "name": "stdout"
        },
        {
          "output_type": "stream",
          "text": [
            "WARNING:root:Lossy conversion from float64 to uint8. Range [0, 1]. Convert image to uint8 prior to saving to suppress this warning.\n"
          ],
          "name": "stderr"
        },
        {
          "output_type": "stream",
          "text": [
            "/content/drive/MyDrive/COVID-META/STAR Work/COVID-19/COVID cases/augmented_image_2637.png\n",
            "/content/drive/MyDrive/COVID-META/STAR Work/COVID-19/Augmented/Tri_cov_488.jpg\n",
            "/content/drive/MyDrive/COVID-META/STAR Work/COVID-19/COVID cases/augmented_image_2638.png\n",
            "/content/drive/MyDrive/COVID-META/STAR Work/COVID-19/COVID cases/augmented_image_2639.png\n",
            "/content/drive/MyDrive/COVID-META/STAR Work/COVID-19/COVID cases/augmented_image_2640.png\n"
          ],
          "name": "stdout"
        },
        {
          "output_type": "stream",
          "text": [
            "WARNING:root:Lossy conversion from float64 to uint8. Range [0, 1]. Convert image to uint8 prior to saving to suppress this warning.\n"
          ],
          "name": "stderr"
        },
        {
          "output_type": "stream",
          "text": [
            "/content/drive/MyDrive/COVID-META/STAR Work/COVID-19/COVID cases/augmented_image_2641.png\n",
            "/content/drive/MyDrive/COVID-META/STAR Work/COVID-19/Augmented/Tri_cov_577.jpg\n"
          ],
          "name": "stdout"
        },
        {
          "output_type": "stream",
          "text": [
            "WARNING:root:Lossy conversion from float64 to uint8. Range [0, 1]. Convert image to uint8 prior to saving to suppress this warning.\n"
          ],
          "name": "stderr"
        },
        {
          "output_type": "stream",
          "text": [
            "/content/drive/MyDrive/COVID-META/STAR Work/COVID-19/COVID cases/augmented_image_2642.png\n"
          ],
          "name": "stdout"
        },
        {
          "output_type": "stream",
          "text": [
            "WARNING:root:Lossy conversion from float64 to uint8. Range [0, 1]. Convert image to uint8 prior to saving to suppress this warning.\n"
          ],
          "name": "stderr"
        },
        {
          "output_type": "stream",
          "text": [
            "/content/drive/MyDrive/COVID-META/STAR Work/COVID-19/COVID cases/augmented_image_2643.png\n",
            "/content/drive/MyDrive/COVID-META/STAR Work/COVID-19/COVID cases/augmented_image_2644.png\n",
            "/content/drive/MyDrive/COVID-META/STAR Work/COVID-19/Augmented/Tri_cov_436.jpg\n",
            "/content/drive/MyDrive/COVID-META/STAR Work/COVID-19/COVID cases/augmented_image_2645.png\n",
            "/content/drive/MyDrive/COVID-META/STAR Work/COVID-19/COVID cases/augmented_image_2646.png\n",
            "/content/drive/MyDrive/COVID-META/STAR Work/COVID-19/COVID cases/augmented_image_2647.png\n",
            "/content/drive/MyDrive/COVID-META/STAR Work/COVID-19/COVID cases/augmented_image_2648.png\n",
            "/content/drive/MyDrive/COVID-META/STAR Work/COVID-19/Augmented/Tri_cov_429.jpg\n",
            "/content/drive/MyDrive/COVID-META/STAR Work/COVID-19/COVID cases/augmented_image_2649.png\n"
          ],
          "name": "stdout"
        },
        {
          "output_type": "stream",
          "text": [
            "WARNING:root:Lossy conversion from float64 to uint8. Range [0, 1]. Convert image to uint8 prior to saving to suppress this warning.\n"
          ],
          "name": "stderr"
        },
        {
          "output_type": "stream",
          "text": [
            "/content/drive/MyDrive/COVID-META/STAR Work/COVID-19/COVID cases/augmented_image_2650.png\n"
          ],
          "name": "stdout"
        },
        {
          "output_type": "stream",
          "text": [
            "WARNING:root:Lossy conversion from float64 to uint8. Range [0, 1]. Convert image to uint8 prior to saving to suppress this warning.\n"
          ],
          "name": "stderr"
        },
        {
          "output_type": "stream",
          "text": [
            "/content/drive/MyDrive/COVID-META/STAR Work/COVID-19/COVID cases/augmented_image_2651.png\n",
            "/content/drive/MyDrive/COVID-META/STAR Work/COVID-19/COVID cases/augmented_image_2652.png\n",
            "/content/drive/MyDrive/COVID-META/STAR Work/COVID-19/Augmented/Tri_cov_533.jpg\n"
          ],
          "name": "stdout"
        },
        {
          "output_type": "stream",
          "text": [
            "WARNING:root:Lossy conversion from float64 to uint8. Range [0, 1]. Convert image to uint8 prior to saving to suppress this warning.\n"
          ],
          "name": "stderr"
        },
        {
          "output_type": "stream",
          "text": [
            "/content/drive/MyDrive/COVID-META/STAR Work/COVID-19/COVID cases/augmented_image_2653.png\n",
            "/content/drive/MyDrive/COVID-META/STAR Work/COVID-19/COVID cases/augmented_image_2654.png\n",
            "/content/drive/MyDrive/COVID-META/STAR Work/COVID-19/COVID cases/augmented_image_2655.png\n"
          ],
          "name": "stdout"
        },
        {
          "output_type": "stream",
          "text": [
            "WARNING:root:Lossy conversion from float64 to uint8. Range [0, 1]. Convert image to uint8 prior to saving to suppress this warning.\n"
          ],
          "name": "stderr"
        },
        {
          "output_type": "stream",
          "text": [
            "/content/drive/MyDrive/COVID-META/STAR Work/COVID-19/COVID cases/augmented_image_2656.png\n",
            "/content/drive/MyDrive/COVID-META/STAR Work/COVID-19/Augmented/Tri_cov_83.jpg\n",
            "/content/drive/MyDrive/COVID-META/STAR Work/COVID-19/COVID cases/augmented_image_2657.png\n"
          ],
          "name": "stdout"
        },
        {
          "output_type": "stream",
          "text": [
            "WARNING:root:Lossy conversion from float64 to uint8. Range [0, 1]. Convert image to uint8 prior to saving to suppress this warning.\n"
          ],
          "name": "stderr"
        },
        {
          "output_type": "stream",
          "text": [
            "/content/drive/MyDrive/COVID-META/STAR Work/COVID-19/COVID cases/augmented_image_2658.png\n"
          ],
          "name": "stdout"
        },
        {
          "output_type": "stream",
          "text": [
            "WARNING:root:Lossy conversion from float64 to uint8. Range [0, 1]. Convert image to uint8 prior to saving to suppress this warning.\n"
          ],
          "name": "stderr"
        },
        {
          "output_type": "stream",
          "text": [
            "/content/drive/MyDrive/COVID-META/STAR Work/COVID-19/COVID cases/augmented_image_2659.png\n",
            "/content/drive/MyDrive/COVID-META/STAR Work/COVID-19/Augmented/Tri_cov_557.jpg\n"
          ],
          "name": "stdout"
        },
        {
          "output_type": "stream",
          "text": [
            "WARNING:root:Lossy conversion from float64 to uint8. Range [0, 1]. Convert image to uint8 prior to saving to suppress this warning.\n"
          ],
          "name": "stderr"
        },
        {
          "output_type": "stream",
          "text": [
            "/content/drive/MyDrive/COVID-META/STAR Work/COVID-19/COVID cases/augmented_image_2660.png\n"
          ],
          "name": "stdout"
        },
        {
          "output_type": "stream",
          "text": [
            "WARNING:root:Lossy conversion from float64 to uint8. Range [0, 1]. Convert image to uint8 prior to saving to suppress this warning.\n"
          ],
          "name": "stderr"
        },
        {
          "output_type": "stream",
          "text": [
            "/content/drive/MyDrive/COVID-META/STAR Work/COVID-19/COVID cases/augmented_image_2661.png\n"
          ],
          "name": "stdout"
        },
        {
          "output_type": "stream",
          "text": [
            "WARNING:root:Lossy conversion from float64 to uint8. Range [0, 1]. Convert image to uint8 prior to saving to suppress this warning.\n"
          ],
          "name": "stderr"
        },
        {
          "output_type": "stream",
          "text": [
            "/content/drive/MyDrive/COVID-META/STAR Work/COVID-19/COVID cases/augmented_image_2662.png\n"
          ],
          "name": "stdout"
        },
        {
          "output_type": "stream",
          "text": [
            "WARNING:root:Lossy conversion from float64 to uint8. Range [0, 1]. Convert image to uint8 prior to saving to suppress this warning.\n"
          ],
          "name": "stderr"
        },
        {
          "output_type": "stream",
          "text": [
            "/content/drive/MyDrive/COVID-META/STAR Work/COVID-19/COVID cases/augmented_image_2663.png\n"
          ],
          "name": "stdout"
        },
        {
          "output_type": "stream",
          "text": [
            "WARNING:root:Lossy conversion from float64 to uint8. Range [0, 1]. Convert image to uint8 prior to saving to suppress this warning.\n"
          ],
          "name": "stderr"
        },
        {
          "output_type": "stream",
          "text": [
            "/content/drive/MyDrive/COVID-META/STAR Work/COVID-19/Augmented/Tri_cov_531.jpg\n",
            "/content/drive/MyDrive/COVID-META/STAR Work/COVID-19/COVID cases/augmented_image_2664.png\n"
          ],
          "name": "stdout"
        },
        {
          "output_type": "stream",
          "text": [
            "WARNING:root:Lossy conversion from float64 to uint8. Range [0, 1]. Convert image to uint8 prior to saving to suppress this warning.\n"
          ],
          "name": "stderr"
        },
        {
          "output_type": "stream",
          "text": [
            "/content/drive/MyDrive/COVID-META/STAR Work/COVID-19/COVID cases/augmented_image_2665.png\n",
            "/content/drive/MyDrive/COVID-META/STAR Work/COVID-19/Augmented/Tri_cov_115.jpg\n",
            "/content/drive/MyDrive/COVID-META/STAR Work/COVID-19/COVID cases/augmented_image_2666.png\n"
          ],
          "name": "stdout"
        },
        {
          "output_type": "stream",
          "text": [
            "WARNING:root:Lossy conversion from float64 to uint8. Range [0, 1]. Convert image to uint8 prior to saving to suppress this warning.\n",
            "WARNING:root:Lossy conversion from float64 to uint8. Range [0, 1]. Convert image to uint8 prior to saving to suppress this warning.\n"
          ],
          "name": "stderr"
        },
        {
          "output_type": "stream",
          "text": [
            "/content/drive/MyDrive/COVID-META/STAR Work/COVID-19/COVID cases/augmented_image_2667.png\n",
            "/content/drive/MyDrive/COVID-META/STAR Work/COVID-19/Augmented/Tri_cov_262.jpg\n"
          ],
          "name": "stdout"
        },
        {
          "output_type": "stream",
          "text": [
            "WARNING:root:Lossy conversion from float64 to uint8. Range [0, 1]. Convert image to uint8 prior to saving to suppress this warning.\n"
          ],
          "name": "stderr"
        },
        {
          "output_type": "stream",
          "text": [
            "/content/drive/MyDrive/COVID-META/STAR Work/COVID-19/COVID cases/augmented_image_2668.png\n",
            "/content/drive/MyDrive/COVID-META/STAR Work/COVID-19/COVID cases/augmented_image_2669.png\n"
          ],
          "name": "stdout"
        },
        {
          "output_type": "stream",
          "text": [
            "WARNING:root:Lossy conversion from float64 to uint8. Range [0, 1]. Convert image to uint8 prior to saving to suppress this warning.\n",
            "WARNING:root:Lossy conversion from float64 to uint8. Range [0, 1]. Convert image to uint8 prior to saving to suppress this warning.\n"
          ],
          "name": "stderr"
        },
        {
          "output_type": "stream",
          "text": [
            "/content/drive/MyDrive/COVID-META/STAR Work/COVID-19/COVID cases/augmented_image_2670.png\n",
            "/content/drive/MyDrive/COVID-META/STAR Work/COVID-19/Augmented/Tri_cov_472.jpg\n"
          ],
          "name": "stdout"
        },
        {
          "output_type": "stream",
          "text": [
            "WARNING:root:Lossy conversion from float64 to uint8. Range [0, 1]. Convert image to uint8 prior to saving to suppress this warning.\n"
          ],
          "name": "stderr"
        },
        {
          "output_type": "stream",
          "text": [
            "/content/drive/MyDrive/COVID-META/STAR Work/COVID-19/COVID cases/augmented_image_2671.png\n"
          ],
          "name": "stdout"
        },
        {
          "output_type": "stream",
          "text": [
            "WARNING:root:Lossy conversion from float64 to uint8. Range [0, 1]. Convert image to uint8 prior to saving to suppress this warning.\n"
          ],
          "name": "stderr"
        },
        {
          "output_type": "stream",
          "text": [
            "/content/drive/MyDrive/COVID-META/STAR Work/COVID-19/COVID cases/augmented_image_2672.png\n",
            "/content/drive/MyDrive/COVID-META/STAR Work/COVID-19/Augmented/Tri_cov_254.jpg\n"
          ],
          "name": "stdout"
        },
        {
          "output_type": "stream",
          "text": [
            "WARNING:root:Lossy conversion from float64 to uint8. Range [0, 1]. Convert image to uint8 prior to saving to suppress this warning.\n"
          ],
          "name": "stderr"
        },
        {
          "output_type": "stream",
          "text": [
            "/content/drive/MyDrive/COVID-META/STAR Work/COVID-19/COVID cases/augmented_image_2673.png\n"
          ],
          "name": "stdout"
        },
        {
          "output_type": "stream",
          "text": [
            "WARNING:root:Lossy conversion from float64 to uint8. Range [0, 1]. Convert image to uint8 prior to saving to suppress this warning.\n"
          ],
          "name": "stderr"
        },
        {
          "output_type": "stream",
          "text": [
            "/content/drive/MyDrive/COVID-META/STAR Work/COVID-19/COVID cases/augmented_image_2674.png\n"
          ],
          "name": "stdout"
        },
        {
          "output_type": "stream",
          "text": [
            "WARNING:root:Lossy conversion from float64 to uint8. Range [0, 1]. Convert image to uint8 prior to saving to suppress this warning.\n"
          ],
          "name": "stderr"
        },
        {
          "output_type": "stream",
          "text": [
            "/content/drive/MyDrive/COVID-META/STAR Work/COVID-19/COVID cases/augmented_image_2675.png\n"
          ],
          "name": "stdout"
        },
        {
          "output_type": "stream",
          "text": [
            "WARNING:root:Lossy conversion from float64 to uint8. Range [0, 1]. Convert image to uint8 prior to saving to suppress this warning.\n"
          ],
          "name": "stderr"
        },
        {
          "output_type": "stream",
          "text": [
            "/content/drive/MyDrive/COVID-META/STAR Work/COVID-19/Augmented/Tri_cov_166.jpg\n",
            "/content/drive/MyDrive/COVID-META/STAR Work/COVID-19/COVID cases/augmented_image_2676.png\n",
            "/content/drive/MyDrive/COVID-META/STAR Work/COVID-19/COVID cases/augmented_image_2677.png\n",
            "/content/drive/MyDrive/COVID-META/STAR Work/COVID-19/Augmented/Tri_cov_255.jpg\n",
            "/content/drive/MyDrive/COVID-META/STAR Work/COVID-19/COVID cases/augmented_image_2678.png\n",
            "/content/drive/MyDrive/COVID-META/STAR Work/COVID-19/COVID cases/augmented_image_2679.png\n"
          ],
          "name": "stdout"
        },
        {
          "output_type": "stream",
          "text": [
            "WARNING:root:Lossy conversion from float64 to uint8. Range [0, 1]. Convert image to uint8 prior to saving to suppress this warning.\n"
          ],
          "name": "stderr"
        },
        {
          "output_type": "stream",
          "text": [
            "/content/drive/MyDrive/COVID-META/STAR Work/COVID-19/COVID cases/augmented_image_2680.png\n",
            "/content/drive/MyDrive/COVID-META/STAR Work/COVID-19/Augmented/Tri_cov_445.jpg\n",
            "/content/drive/MyDrive/COVID-META/STAR Work/COVID-19/COVID cases/augmented_image_2681.png\n",
            "/content/drive/MyDrive/COVID-META/STAR Work/COVID-19/COVID cases/augmented_image_2682.png\n",
            "/content/drive/MyDrive/COVID-META/STAR Work/COVID-19/Augmented/Tri_cov_97.jpg\n"
          ],
          "name": "stdout"
        },
        {
          "output_type": "stream",
          "text": [
            "WARNING:root:Lossy conversion from float64 to uint8. Range [0, 1]. Convert image to uint8 prior to saving to suppress this warning.\n"
          ],
          "name": "stderr"
        },
        {
          "output_type": "stream",
          "text": [
            "/content/drive/MyDrive/COVID-META/STAR Work/COVID-19/COVID cases/augmented_image_2683.png\n",
            "/content/drive/MyDrive/COVID-META/STAR Work/COVID-19/COVID cases/augmented_image_2684.png\n"
          ],
          "name": "stdout"
        },
        {
          "output_type": "stream",
          "text": [
            "WARNING:root:Lossy conversion from float64 to uint8. Range [0, 1]. Convert image to uint8 prior to saving to suppress this warning.\n"
          ],
          "name": "stderr"
        },
        {
          "output_type": "stream",
          "text": [
            "/content/drive/MyDrive/COVID-META/STAR Work/COVID-19/COVID cases/augmented_image_2685.png\n",
            "/content/drive/MyDrive/COVID-META/STAR Work/COVID-19/Augmented/Tri_cov_454.jpg\n"
          ],
          "name": "stdout"
        },
        {
          "output_type": "stream",
          "text": [
            "WARNING:root:Lossy conversion from float64 to uint8. Range [0, 1]. Convert image to uint8 prior to saving to suppress this warning.\n"
          ],
          "name": "stderr"
        },
        {
          "output_type": "stream",
          "text": [
            "/content/drive/MyDrive/COVID-META/STAR Work/COVID-19/COVID cases/augmented_image_2686.png\n"
          ],
          "name": "stdout"
        },
        {
          "output_type": "stream",
          "text": [
            "WARNING:root:Lossy conversion from float64 to uint8. Range [0, 1]. Convert image to uint8 prior to saving to suppress this warning.\n"
          ],
          "name": "stderr"
        },
        {
          "output_type": "stream",
          "text": [
            "/content/drive/MyDrive/COVID-META/STAR Work/COVID-19/COVID cases/augmented_image_2687.png\n"
          ],
          "name": "stdout"
        },
        {
          "output_type": "stream",
          "text": [
            "WARNING:root:Lossy conversion from float64 to uint8. Range [0, 1]. Convert image to uint8 prior to saving to suppress this warning.\n"
          ],
          "name": "stderr"
        },
        {
          "output_type": "stream",
          "text": [
            "/content/drive/MyDrive/COVID-META/STAR Work/COVID-19/COVID cases/augmented_image_2688.png\n",
            "/content/drive/MyDrive/COVID-META/STAR Work/COVID-19/Augmented/Tri_cov_308.jpg\n"
          ],
          "name": "stdout"
        },
        {
          "output_type": "stream",
          "text": [
            "WARNING:root:Lossy conversion from float64 to uint8. Range [0, 1]. Convert image to uint8 prior to saving to suppress this warning.\n"
          ],
          "name": "stderr"
        },
        {
          "output_type": "stream",
          "text": [
            "/content/drive/MyDrive/COVID-META/STAR Work/COVID-19/COVID cases/augmented_image_2689.png\n"
          ],
          "name": "stdout"
        },
        {
          "output_type": "stream",
          "text": [
            "WARNING:root:Lossy conversion from float64 to uint8. Range [0, 1]. Convert image to uint8 prior to saving to suppress this warning.\n"
          ],
          "name": "stderr"
        },
        {
          "output_type": "stream",
          "text": [
            "/content/drive/MyDrive/COVID-META/STAR Work/COVID-19/COVID cases/augmented_image_2690.png\n",
            "/content/drive/MyDrive/COVID-META/STAR Work/COVID-19/COVID cases/augmented_image_2691.png\n",
            "/content/drive/MyDrive/COVID-META/STAR Work/COVID-19/Augmented/Tri_cov_337.jpg\n",
            "/content/drive/MyDrive/COVID-META/STAR Work/COVID-19/COVID cases/augmented_image_2692.png\n",
            "/content/drive/MyDrive/COVID-META/STAR Work/COVID-19/COVID cases/augmented_image_2693.png\n",
            "/content/drive/MyDrive/COVID-META/STAR Work/COVID-19/Augmented/Tri_cov_359.jpg\n",
            "/content/drive/MyDrive/COVID-META/STAR Work/COVID-19/COVID cases/augmented_image_2694.png\n"
          ],
          "name": "stdout"
        },
        {
          "output_type": "stream",
          "text": [
            "WARNING:root:Lossy conversion from float64 to uint8. Range [0, 1]. Convert image to uint8 prior to saving to suppress this warning.\n"
          ],
          "name": "stderr"
        },
        {
          "output_type": "stream",
          "text": [
            "/content/drive/MyDrive/COVID-META/STAR Work/COVID-19/COVID cases/augmented_image_2695.png\n",
            "/content/drive/MyDrive/COVID-META/STAR Work/COVID-19/Augmented/Tri_cov_18.jpg\n"
          ],
          "name": "stdout"
        },
        {
          "output_type": "stream",
          "text": [
            "WARNING:root:Lossy conversion from float64 to uint8. Range [0, 1]. Convert image to uint8 prior to saving to suppress this warning.\n",
            "WARNING:root:Lossy conversion from float64 to uint8. Range [0, 1]. Convert image to uint8 prior to saving to suppress this warning.\n"
          ],
          "name": "stderr"
        },
        {
          "output_type": "stream",
          "text": [
            "/content/drive/MyDrive/COVID-META/STAR Work/COVID-19/COVID cases/augmented_image_2696.png\n",
            "/content/drive/MyDrive/COVID-META/STAR Work/COVID-19/COVID cases/augmented_image_2697.png\n",
            "/content/drive/MyDrive/COVID-META/STAR Work/COVID-19/Augmented/Tri_cov_235.jpg\n",
            "/content/drive/MyDrive/COVID-META/STAR Work/COVID-19/COVID cases/augmented_image_2698.png\n"
          ],
          "name": "stdout"
        },
        {
          "output_type": "stream",
          "text": [
            "WARNING:root:Lossy conversion from float64 to uint8. Range [0, 1]. Convert image to uint8 prior to saving to suppress this warning.\n"
          ],
          "name": "stderr"
        },
        {
          "output_type": "stream",
          "text": [
            "/content/drive/MyDrive/COVID-META/STAR Work/COVID-19/COVID cases/augmented_image_2699.png\n"
          ],
          "name": "stdout"
        },
        {
          "output_type": "stream",
          "text": [
            "WARNING:root:Lossy conversion from float64 to uint8. Range [0, 1]. Convert image to uint8 prior to saving to suppress this warning.\n"
          ],
          "name": "stderr"
        },
        {
          "output_type": "stream",
          "text": [
            "/content/drive/MyDrive/COVID-META/STAR Work/COVID-19/COVID cases/augmented_image_2700.png\n",
            "/content/drive/MyDrive/COVID-META/STAR Work/COVID-19/Augmented/Tri_cov_10.jpg\n",
            "/content/drive/MyDrive/COVID-META/STAR Work/COVID-19/COVID cases/augmented_image_2701.png\n"
          ],
          "name": "stdout"
        },
        {
          "output_type": "stream",
          "text": [
            "WARNING:root:Lossy conversion from float64 to uint8. Range [0, 1]. Convert image to uint8 prior to saving to suppress this warning.\n"
          ],
          "name": "stderr"
        },
        {
          "output_type": "stream",
          "text": [
            "/content/drive/MyDrive/COVID-META/STAR Work/COVID-19/COVID cases/augmented_image_2702.png\n"
          ],
          "name": "stdout"
        },
        {
          "output_type": "stream",
          "text": [
            "WARNING:root:Lossy conversion from float64 to uint8. Range [0, 1]. Convert image to uint8 prior to saving to suppress this warning.\n"
          ],
          "name": "stderr"
        },
        {
          "output_type": "stream",
          "text": [
            "/content/drive/MyDrive/COVID-META/STAR Work/COVID-19/Augmented/Tri_cov_323.jpg\n",
            "/content/drive/MyDrive/COVID-META/STAR Work/COVID-19/COVID cases/augmented_image_2703.png\n"
          ],
          "name": "stdout"
        },
        {
          "output_type": "stream",
          "text": [
            "WARNING:root:Lossy conversion from float64 to uint8. Range [0, 1]. Convert image to uint8 prior to saving to suppress this warning.\n"
          ],
          "name": "stderr"
        },
        {
          "output_type": "stream",
          "text": [
            "/content/drive/MyDrive/COVID-META/STAR Work/COVID-19/COVID cases/augmented_image_2704.png\n"
          ],
          "name": "stdout"
        },
        {
          "output_type": "stream",
          "text": [
            "WARNING:root:Lossy conversion from float64 to uint8. Range [0, 1]. Convert image to uint8 prior to saving to suppress this warning.\n"
          ],
          "name": "stderr"
        },
        {
          "output_type": "stream",
          "text": [
            "/content/drive/MyDrive/COVID-META/STAR Work/COVID-19/COVID cases/augmented_image_2705.png\n",
            "/content/drive/MyDrive/COVID-META/STAR Work/COVID-19/Augmented/Tri_cov_344.jpg\n"
          ],
          "name": "stdout"
        },
        {
          "output_type": "stream",
          "text": [
            "WARNING:root:Lossy conversion from float64 to uint8. Range [0, 1]. Convert image to uint8 prior to saving to suppress this warning.\n"
          ],
          "name": "stderr"
        },
        {
          "output_type": "stream",
          "text": [
            "/content/drive/MyDrive/COVID-META/STAR Work/COVID-19/COVID cases/augmented_image_2706.png\n"
          ],
          "name": "stdout"
        },
        {
          "output_type": "stream",
          "text": [
            "WARNING:root:Lossy conversion from float64 to uint8. Range [0, 1]. Convert image to uint8 prior to saving to suppress this warning.\n"
          ],
          "name": "stderr"
        },
        {
          "output_type": "stream",
          "text": [
            "/content/drive/MyDrive/COVID-META/STAR Work/COVID-19/COVID cases/augmented_image_2707.png\n"
          ],
          "name": "stdout"
        },
        {
          "output_type": "stream",
          "text": [
            "WARNING:root:Lossy conversion from float64 to uint8. Range [0, 1]. Convert image to uint8 prior to saving to suppress this warning.\n"
          ],
          "name": "stderr"
        },
        {
          "output_type": "stream",
          "text": [
            "/content/drive/MyDrive/COVID-META/STAR Work/COVID-19/COVID cases/augmented_image_2708.png\n",
            "/content/drive/MyDrive/COVID-META/STAR Work/COVID-19/Augmented/Tri_cov_201.jpg\n",
            "/content/drive/MyDrive/COVID-META/STAR Work/COVID-19/COVID cases/augmented_image_2709.png\n"
          ],
          "name": "stdout"
        },
        {
          "output_type": "stream",
          "text": [
            "WARNING:root:Lossy conversion from float64 to uint8. Range [0, 1]. Convert image to uint8 prior to saving to suppress this warning.\n",
            "WARNING:root:Lossy conversion from float64 to uint8. Range [0, 1]. Convert image to uint8 prior to saving to suppress this warning.\n"
          ],
          "name": "stderr"
        },
        {
          "output_type": "stream",
          "text": [
            "/content/drive/MyDrive/COVID-META/STAR Work/COVID-19/COVID cases/augmented_image_2710.png\n",
            "/content/drive/MyDrive/COVID-META/STAR Work/COVID-19/COVID cases/augmented_image_2711.png\n",
            "/content/drive/MyDrive/COVID-META/STAR Work/COVID-19/COVID cases/augmented_image_2712.png\n",
            "/content/drive/MyDrive/COVID-META/STAR Work/COVID-19/Augmented/Tri_cov_366.jpg\n"
          ],
          "name": "stdout"
        },
        {
          "output_type": "stream",
          "text": [
            "WARNING:root:Lossy conversion from float64 to uint8. Range [0, 1]. Convert image to uint8 prior to saving to suppress this warning.\n"
          ],
          "name": "stderr"
        },
        {
          "output_type": "stream",
          "text": [
            "/content/drive/MyDrive/COVID-META/STAR Work/COVID-19/COVID cases/augmented_image_2713.png\n"
          ],
          "name": "stdout"
        },
        {
          "output_type": "stream",
          "text": [
            "WARNING:root:Lossy conversion from float64 to uint8. Range [0, 1]. Convert image to uint8 prior to saving to suppress this warning.\n"
          ],
          "name": "stderr"
        },
        {
          "output_type": "stream",
          "text": [
            "/content/drive/MyDrive/COVID-META/STAR Work/COVID-19/COVID cases/augmented_image_2714.png\n",
            "/content/drive/MyDrive/COVID-META/STAR Work/COVID-19/Augmented/Tri_cov_417.jpg\n",
            "/content/drive/MyDrive/COVID-META/STAR Work/COVID-19/COVID cases/augmented_image_2715.png\n",
            "/content/drive/MyDrive/COVID-META/STAR Work/COVID-19/COVID cases/augmented_image_2716.png\n",
            "/content/drive/MyDrive/COVID-META/STAR Work/COVID-19/COVID cases/augmented_image_2717.png\n",
            "/content/drive/MyDrive/COVID-META/STAR Work/COVID-19/Augmented/Tri_cov_216.jpg\n"
          ],
          "name": "stdout"
        },
        {
          "output_type": "stream",
          "text": [
            "WARNING:root:Lossy conversion from float64 to uint8. Range [0, 1]. Convert image to uint8 prior to saving to suppress this warning.\n",
            "WARNING:root:Lossy conversion from float64 to uint8. Range [0, 1]. Convert image to uint8 prior to saving to suppress this warning.\n"
          ],
          "name": "stderr"
        },
        {
          "output_type": "stream",
          "text": [
            "/content/drive/MyDrive/COVID-META/STAR Work/COVID-19/COVID cases/augmented_image_2718.png\n",
            "/content/drive/MyDrive/COVID-META/STAR Work/COVID-19/COVID cases/augmented_image_2719.png\n",
            "/content/drive/MyDrive/COVID-META/STAR Work/COVID-19/Augmented/Tri_cov_564.jpg\n"
          ],
          "name": "stdout"
        },
        {
          "output_type": "stream",
          "text": [
            "WARNING:root:Lossy conversion from float64 to uint8. Range [0, 1]. Convert image to uint8 prior to saving to suppress this warning.\n"
          ],
          "name": "stderr"
        },
        {
          "output_type": "stream",
          "text": [
            "/content/drive/MyDrive/COVID-META/STAR Work/COVID-19/COVID cases/augmented_image_2720.png\n",
            "/content/drive/MyDrive/COVID-META/STAR Work/COVID-19/COVID cases/augmented_image_2721.png\n",
            "/content/drive/MyDrive/COVID-META/STAR Work/COVID-19/Augmented/Tri_cov_557.jpg\n",
            "/content/drive/MyDrive/COVID-META/STAR Work/COVID-19/COVID cases/augmented_image_2722.png\n"
          ],
          "name": "stdout"
        },
        {
          "output_type": "stream",
          "text": [
            "WARNING:root:Lossy conversion from float64 to uint8. Range [0, 1]. Convert image to uint8 prior to saving to suppress this warning.\n"
          ],
          "name": "stderr"
        },
        {
          "output_type": "stream",
          "text": [
            "/content/drive/MyDrive/COVID-META/STAR Work/COVID-19/COVID cases/augmented_image_2723.png\n"
          ],
          "name": "stdout"
        },
        {
          "output_type": "stream",
          "text": [
            "WARNING:root:Lossy conversion from float64 to uint8. Range [0, 1]. Convert image to uint8 prior to saving to suppress this warning.\n"
          ],
          "name": "stderr"
        },
        {
          "output_type": "stream",
          "text": [
            "/content/drive/MyDrive/COVID-META/STAR Work/COVID-19/Augmented/Tri_cov_72.jpg\n",
            "/content/drive/MyDrive/COVID-META/STAR Work/COVID-19/COVID cases/augmented_image_2724.png\n",
            "/content/drive/MyDrive/COVID-META/STAR Work/COVID-19/COVID cases/augmented_image_2725.png\n",
            "/content/drive/MyDrive/COVID-META/STAR Work/COVID-19/COVID cases/augmented_image_2726.png\n"
          ],
          "name": "stdout"
        },
        {
          "output_type": "stream",
          "text": [
            "WARNING:root:Lossy conversion from float64 to uint8. Range [0, 1]. Convert image to uint8 prior to saving to suppress this warning.\n"
          ],
          "name": "stderr"
        },
        {
          "output_type": "stream",
          "text": [
            "/content/drive/MyDrive/COVID-META/STAR Work/COVID-19/Augmented/Tri_cov_222.jpg\n",
            "/content/drive/MyDrive/COVID-META/STAR Work/COVID-19/COVID cases/augmented_image_2727.png\n"
          ],
          "name": "stdout"
        },
        {
          "output_type": "stream",
          "text": [
            "WARNING:root:Lossy conversion from float64 to uint8. Range [0, 1]. Convert image to uint8 prior to saving to suppress this warning.\n"
          ],
          "name": "stderr"
        },
        {
          "output_type": "stream",
          "text": [
            "/content/drive/MyDrive/COVID-META/STAR Work/COVID-19/COVID cases/augmented_image_2728.png\n",
            "/content/drive/MyDrive/COVID-META/STAR Work/COVID-19/Augmented/Tri_cov_318.jpg\n",
            "/content/drive/MyDrive/COVID-META/STAR Work/COVID-19/COVID cases/augmented_image_2729.png\n",
            "/content/drive/MyDrive/COVID-META/STAR Work/COVID-19/COVID cases/augmented_image_2730.png\n"
          ],
          "name": "stdout"
        },
        {
          "output_type": "stream",
          "text": [
            "WARNING:root:Lossy conversion from float64 to uint8. Range [0, 1]. Convert image to uint8 prior to saving to suppress this warning.\n"
          ],
          "name": "stderr"
        },
        {
          "output_type": "stream",
          "text": [
            "/content/drive/MyDrive/COVID-META/STAR Work/COVID-19/COVID cases/augmented_image_2731.png\n",
            "/content/drive/MyDrive/COVID-META/STAR Work/COVID-19/Augmented/Tri_cov_420.jpg\n",
            "/content/drive/MyDrive/COVID-META/STAR Work/COVID-19/COVID cases/augmented_image_2732.png\n",
            "/content/drive/MyDrive/COVID-META/STAR Work/COVID-19/COVID cases/augmented_image_2733.png\n"
          ],
          "name": "stdout"
        },
        {
          "output_type": "stream",
          "text": [
            "WARNING:root:Lossy conversion from float64 to uint8. Range [0, 1]. Convert image to uint8 prior to saving to suppress this warning.\n"
          ],
          "name": "stderr"
        },
        {
          "output_type": "stream",
          "text": [
            "/content/drive/MyDrive/COVID-META/STAR Work/COVID-19/COVID cases/augmented_image_2734.png\n",
            "/content/drive/MyDrive/COVID-META/STAR Work/COVID-19/Augmented/Tri_cov_59.jpg\n"
          ],
          "name": "stdout"
        },
        {
          "output_type": "stream",
          "text": [
            "WARNING:root:Lossy conversion from float64 to uint8. Range [0, 1]. Convert image to uint8 prior to saving to suppress this warning.\n"
          ],
          "name": "stderr"
        },
        {
          "output_type": "stream",
          "text": [
            "/content/drive/MyDrive/COVID-META/STAR Work/COVID-19/COVID cases/augmented_image_2735.png\n",
            "/content/drive/MyDrive/COVID-META/STAR Work/COVID-19/COVID cases/augmented_image_2736.png\n"
          ],
          "name": "stdout"
        },
        {
          "output_type": "stream",
          "text": [
            "WARNING:root:Lossy conversion from float64 to uint8. Range [0, 1]. Convert image to uint8 prior to saving to suppress this warning.\n"
          ],
          "name": "stderr"
        },
        {
          "output_type": "stream",
          "text": [
            "/content/drive/MyDrive/COVID-META/STAR Work/COVID-19/COVID cases/augmented_image_2737.png\n",
            "/content/drive/MyDrive/COVID-META/STAR Work/COVID-19/Augmented/Tri_cov_468.jpg\n",
            "/content/drive/MyDrive/COVID-META/STAR Work/COVID-19/COVID cases/augmented_image_2738.png\n"
          ],
          "name": "stdout"
        },
        {
          "output_type": "stream",
          "text": [
            "WARNING:root:Lossy conversion from float64 to uint8. Range [0, 1]. Convert image to uint8 prior to saving to suppress this warning.\n"
          ],
          "name": "stderr"
        },
        {
          "output_type": "stream",
          "text": [
            "/content/drive/MyDrive/COVID-META/STAR Work/COVID-19/COVID cases/augmented_image_2739.png\n",
            "/content/drive/MyDrive/COVID-META/STAR Work/COVID-19/Augmented/Tri_cov_427.jpg\n",
            "/content/drive/MyDrive/COVID-META/STAR Work/COVID-19/COVID cases/augmented_image_2740.png\n",
            "/content/drive/MyDrive/COVID-META/STAR Work/COVID-19/COVID cases/augmented_image_2741.png\n",
            "/content/drive/MyDrive/COVID-META/STAR Work/COVID-19/COVID cases/augmented_image_2742.png\n"
          ],
          "name": "stdout"
        },
        {
          "output_type": "stream",
          "text": [
            "WARNING:root:Lossy conversion from float64 to uint8. Range [0, 1]. Convert image to uint8 prior to saving to suppress this warning.\n"
          ],
          "name": "stderr"
        },
        {
          "output_type": "stream",
          "text": [
            "/content/drive/MyDrive/COVID-META/STAR Work/COVID-19/COVID cases/augmented_image_2743.png\n"
          ],
          "name": "stdout"
        },
        {
          "output_type": "stream",
          "text": [
            "WARNING:root:Lossy conversion from float64 to uint8. Range [0, 1]. Convert image to uint8 prior to saving to suppress this warning.\n"
          ],
          "name": "stderr"
        },
        {
          "output_type": "stream",
          "text": [
            "/content/drive/MyDrive/COVID-META/STAR Work/COVID-19/Augmented/Tri_cov_405.jpg\n",
            "/content/drive/MyDrive/COVID-META/STAR Work/COVID-19/COVID cases/augmented_image_2744.png\n"
          ],
          "name": "stdout"
        },
        {
          "output_type": "stream",
          "text": [
            "WARNING:root:Lossy conversion from float64 to uint8. Range [0, 1]. Convert image to uint8 prior to saving to suppress this warning.\n"
          ],
          "name": "stderr"
        },
        {
          "output_type": "stream",
          "text": [
            "/content/drive/MyDrive/COVID-META/STAR Work/COVID-19/COVID cases/augmented_image_2745.png\n"
          ],
          "name": "stdout"
        },
        {
          "output_type": "stream",
          "text": [
            "WARNING:root:Lossy conversion from float64 to uint8. Range [0, 1]. Convert image to uint8 prior to saving to suppress this warning.\n"
          ],
          "name": "stderr"
        },
        {
          "output_type": "stream",
          "text": [
            "/content/drive/MyDrive/COVID-META/STAR Work/COVID-19/Augmented/Tri_cov_323.jpg\n",
            "/content/drive/MyDrive/COVID-META/STAR Work/COVID-19/COVID cases/augmented_image_2746.png\n",
            "/content/drive/MyDrive/COVID-META/STAR Work/COVID-19/COVID cases/augmented_image_2747.png\n",
            "/content/drive/MyDrive/COVID-META/STAR Work/COVID-19/COVID cases/augmented_image_2748.png\n"
          ],
          "name": "stdout"
        },
        {
          "output_type": "stream",
          "text": [
            "WARNING:root:Lossy conversion from float64 to uint8. Range [0, 1]. Convert image to uint8 prior to saving to suppress this warning.\n"
          ],
          "name": "stderr"
        },
        {
          "output_type": "stream",
          "text": [
            "/content/drive/MyDrive/COVID-META/STAR Work/COVID-19/COVID cases/augmented_image_2749.png\n",
            "/content/drive/MyDrive/COVID-META/STAR Work/COVID-19/Augmented/Tri_cov_508.jpg\n",
            "/content/drive/MyDrive/COVID-META/STAR Work/COVID-19/COVID cases/augmented_image_2750.png\n"
          ],
          "name": "stdout"
        },
        {
          "output_type": "stream",
          "text": [
            "WARNING:root:Lossy conversion from float64 to uint8. Range [0, 1]. Convert image to uint8 prior to saving to suppress this warning.\n"
          ],
          "name": "stderr"
        },
        {
          "output_type": "stream",
          "text": [
            "/content/drive/MyDrive/COVID-META/STAR Work/COVID-19/COVID cases/augmented_image_2751.png\n"
          ],
          "name": "stdout"
        },
        {
          "output_type": "stream",
          "text": [
            "WARNING:root:Lossy conversion from float64 to uint8. Range [0, 1]. Convert image to uint8 prior to saving to suppress this warning.\n"
          ],
          "name": "stderr"
        },
        {
          "output_type": "stream",
          "text": [
            "/content/drive/MyDrive/COVID-META/STAR Work/COVID-19/COVID cases/augmented_image_2752.png\n"
          ],
          "name": "stdout"
        },
        {
          "output_type": "stream",
          "text": [
            "WARNING:root:Lossy conversion from float64 to uint8. Range [0, 1]. Convert image to uint8 prior to saving to suppress this warning.\n"
          ],
          "name": "stderr"
        },
        {
          "output_type": "stream",
          "text": [
            "/content/drive/MyDrive/COVID-META/STAR Work/COVID-19/COVID cases/augmented_image_2753.png\n",
            "/content/drive/MyDrive/COVID-META/STAR Work/COVID-19/Augmented/Tri_cov_97.jpg\n"
          ],
          "name": "stdout"
        },
        {
          "output_type": "stream",
          "text": [
            "WARNING:root:Lossy conversion from float64 to uint8. Range [0, 1]. Convert image to uint8 prior to saving to suppress this warning.\n"
          ],
          "name": "stderr"
        },
        {
          "output_type": "stream",
          "text": [
            "/content/drive/MyDrive/COVID-META/STAR Work/COVID-19/COVID cases/augmented_image_2754.png\n"
          ],
          "name": "stdout"
        },
        {
          "output_type": "stream",
          "text": [
            "WARNING:root:Lossy conversion from float64 to uint8. Range [0, 1]. Convert image to uint8 prior to saving to suppress this warning.\n"
          ],
          "name": "stderr"
        },
        {
          "output_type": "stream",
          "text": [
            "/content/drive/MyDrive/COVID-META/STAR Work/COVID-19/COVID cases/augmented_image_2755.png\n",
            "/content/drive/MyDrive/COVID-META/STAR Work/COVID-19/COVID cases/augmented_image_2756.png\n"
          ],
          "name": "stdout"
        },
        {
          "output_type": "stream",
          "text": [
            "WARNING:root:Lossy conversion from float64 to uint8. Range [0, 1]. Convert image to uint8 prior to saving to suppress this warning.\n"
          ],
          "name": "stderr"
        },
        {
          "output_type": "stream",
          "text": [
            "/content/drive/MyDrive/COVID-META/STAR Work/COVID-19/COVID cases/augmented_image_2757.png\n",
            "/content/drive/MyDrive/COVID-META/STAR Work/COVID-19/Augmented/Tri_cov_81.jpg\n",
            "/content/drive/MyDrive/COVID-META/STAR Work/COVID-19/COVID cases/augmented_image_2758.png\n"
          ],
          "name": "stdout"
        },
        {
          "output_type": "stream",
          "text": [
            "WARNING:root:Lossy conversion from float64 to uint8. Range [0, 1]. Convert image to uint8 prior to saving to suppress this warning.\n"
          ],
          "name": "stderr"
        },
        {
          "output_type": "stream",
          "text": [
            "/content/drive/MyDrive/COVID-META/STAR Work/COVID-19/COVID cases/augmented_image_2759.png\n",
            "/content/drive/MyDrive/COVID-META/STAR Work/COVID-19/Augmented/Tri_cov_236.jpg\n"
          ],
          "name": "stdout"
        },
        {
          "output_type": "stream",
          "text": [
            "WARNING:root:Lossy conversion from float64 to uint8. Range [0, 1]. Convert image to uint8 prior to saving to suppress this warning.\n"
          ],
          "name": "stderr"
        },
        {
          "output_type": "stream",
          "text": [
            "/content/drive/MyDrive/COVID-META/STAR Work/COVID-19/COVID cases/augmented_image_2760.png\n"
          ],
          "name": "stdout"
        },
        {
          "output_type": "stream",
          "text": [
            "WARNING:root:Lossy conversion from float64 to uint8. Range [0, 1]. Convert image to uint8 prior to saving to suppress this warning.\n"
          ],
          "name": "stderr"
        },
        {
          "output_type": "stream",
          "text": [
            "/content/drive/MyDrive/COVID-META/STAR Work/COVID-19/COVID cases/augmented_image_2761.png\n",
            "/content/drive/MyDrive/COVID-META/STAR Work/COVID-19/COVID cases/augmented_image_2762.png\n"
          ],
          "name": "stdout"
        },
        {
          "output_type": "stream",
          "text": [
            "WARNING:root:Lossy conversion from float64 to uint8. Range [0, 1]. Convert image to uint8 prior to saving to suppress this warning.\n"
          ],
          "name": "stderr"
        },
        {
          "output_type": "stream",
          "text": [
            "/content/drive/MyDrive/COVID-META/STAR Work/COVID-19/COVID cases/augmented_image_2763.png\n",
            "/content/drive/MyDrive/COVID-META/STAR Work/COVID-19/Augmented/Tri_cov_62.jpg\n"
          ],
          "name": "stdout"
        },
        {
          "output_type": "stream",
          "text": [
            "WARNING:root:Lossy conversion from float64 to uint8. Range [0, 1]. Convert image to uint8 prior to saving to suppress this warning.\n"
          ],
          "name": "stderr"
        },
        {
          "output_type": "stream",
          "text": [
            "/content/drive/MyDrive/COVID-META/STAR Work/COVID-19/COVID cases/augmented_image_2764.png\n"
          ],
          "name": "stdout"
        },
        {
          "output_type": "stream",
          "text": [
            "WARNING:root:Lossy conversion from float64 to uint8. Range [0, 1]. Convert image to uint8 prior to saving to suppress this warning.\n"
          ],
          "name": "stderr"
        },
        {
          "output_type": "stream",
          "text": [
            "/content/drive/MyDrive/COVID-META/STAR Work/COVID-19/COVID cases/augmented_image_2765.png\n",
            "/content/drive/MyDrive/COVID-META/STAR Work/COVID-19/Augmented/Tri_cov_74.jpg\n",
            "/content/drive/MyDrive/COVID-META/STAR Work/COVID-19/COVID cases/augmented_image_2766.png\n"
          ],
          "name": "stdout"
        },
        {
          "output_type": "stream",
          "text": [
            "WARNING:root:Lossy conversion from float64 to uint8. Range [0, 1]. Convert image to uint8 prior to saving to suppress this warning.\n",
            "WARNING:root:Lossy conversion from float64 to uint8. Range [0, 1]. Convert image to uint8 prior to saving to suppress this warning.\n"
          ],
          "name": "stderr"
        },
        {
          "output_type": "stream",
          "text": [
            "/content/drive/MyDrive/COVID-META/STAR Work/COVID-19/COVID cases/augmented_image_2767.png\n",
            "/content/drive/MyDrive/COVID-META/STAR Work/COVID-19/COVID cases/augmented_image_2768.png\n",
            "/content/drive/MyDrive/COVID-META/STAR Work/COVID-19/Augmented/Tri_cov_442.jpg\n",
            "/content/drive/MyDrive/COVID-META/STAR Work/COVID-19/COVID cases/augmented_image_2769.png\n"
          ],
          "name": "stdout"
        },
        {
          "output_type": "stream",
          "text": [
            "WARNING:root:Lossy conversion from float64 to uint8. Range [0, 1]. Convert image to uint8 prior to saving to suppress this warning.\n"
          ],
          "name": "stderr"
        },
        {
          "output_type": "stream",
          "text": [
            "/content/drive/MyDrive/COVID-META/STAR Work/COVID-19/COVID cases/augmented_image_2770.png\n"
          ],
          "name": "stdout"
        },
        {
          "output_type": "stream",
          "text": [
            "WARNING:root:Lossy conversion from float64 to uint8. Range [0, 1]. Convert image to uint8 prior to saving to suppress this warning.\n"
          ],
          "name": "stderr"
        },
        {
          "output_type": "stream",
          "text": [
            "/content/drive/MyDrive/COVID-META/STAR Work/COVID-19/COVID cases/augmented_image_2771.png\n",
            "/content/drive/MyDrive/COVID-META/STAR Work/COVID-19/Augmented/Tri_cov_430.jpg\n",
            "/content/drive/MyDrive/COVID-META/STAR Work/COVID-19/COVID cases/augmented_image_2772.png\n"
          ],
          "name": "stdout"
        },
        {
          "output_type": "stream",
          "text": [
            "WARNING:root:Lossy conversion from float64 to uint8. Range [0, 1]. Convert image to uint8 prior to saving to suppress this warning.\n"
          ],
          "name": "stderr"
        },
        {
          "output_type": "stream",
          "text": [
            "/content/drive/MyDrive/COVID-META/STAR Work/COVID-19/COVID cases/augmented_image_2773.png\n"
          ],
          "name": "stdout"
        },
        {
          "output_type": "stream",
          "text": [
            "WARNING:root:Lossy conversion from float64 to uint8. Range [0, 1]. Convert image to uint8 prior to saving to suppress this warning.\n"
          ],
          "name": "stderr"
        },
        {
          "output_type": "stream",
          "text": [
            "/content/drive/MyDrive/COVID-META/STAR Work/COVID-19/COVID cases/augmented_image_2774.png\n",
            "/content/drive/MyDrive/COVID-META/STAR Work/COVID-19/Augmented/Tri_cov_508.jpg\n",
            "/content/drive/MyDrive/COVID-META/STAR Work/COVID-19/COVID cases/augmented_image_2775.png\n"
          ],
          "name": "stdout"
        },
        {
          "output_type": "stream",
          "text": [
            "WARNING:root:Lossy conversion from float64 to uint8. Range [0, 1]. Convert image to uint8 prior to saving to suppress this warning.\n"
          ],
          "name": "stderr"
        },
        {
          "output_type": "stream",
          "text": [
            "/content/drive/MyDrive/COVID-META/STAR Work/COVID-19/COVID cases/augmented_image_2776.png\n",
            "/content/drive/MyDrive/COVID-META/STAR Work/COVID-19/Augmented/Tri_cov_426.jpg\n"
          ],
          "name": "stdout"
        },
        {
          "output_type": "stream",
          "text": [
            "WARNING:root:Lossy conversion from float64 to uint8. Range [0, 1]. Convert image to uint8 prior to saving to suppress this warning.\n"
          ],
          "name": "stderr"
        },
        {
          "output_type": "stream",
          "text": [
            "/content/drive/MyDrive/COVID-META/STAR Work/COVID-19/COVID cases/augmented_image_2777.png\n",
            "/content/drive/MyDrive/COVID-META/STAR Work/COVID-19/COVID cases/augmented_image_2778.png\n"
          ],
          "name": "stdout"
        },
        {
          "output_type": "stream",
          "text": [
            "WARNING:root:Lossy conversion from float64 to uint8. Range [0, 1]. Convert image to uint8 prior to saving to suppress this warning.\n"
          ],
          "name": "stderr"
        },
        {
          "output_type": "stream",
          "text": [
            "/content/drive/MyDrive/COVID-META/STAR Work/COVID-19/COVID cases/augmented_image_2779.png\n",
            "/content/drive/MyDrive/COVID-META/STAR Work/COVID-19/Augmented/Tri_cov_140.jpg\n",
            "/content/drive/MyDrive/COVID-META/STAR Work/COVID-19/COVID cases/augmented_image_2780.png\n"
          ],
          "name": "stdout"
        },
        {
          "output_type": "stream",
          "text": [
            "WARNING:root:Lossy conversion from float64 to uint8. Range [0, 1]. Convert image to uint8 prior to saving to suppress this warning.\n"
          ],
          "name": "stderr"
        },
        {
          "output_type": "stream",
          "text": [
            "/content/drive/MyDrive/COVID-META/STAR Work/COVID-19/COVID cases/augmented_image_2781.png\n"
          ],
          "name": "stdout"
        },
        {
          "output_type": "stream",
          "text": [
            "WARNING:root:Lossy conversion from float64 to uint8. Range [0, 1]. Convert image to uint8 prior to saving to suppress this warning.\n",
            "WARNING:root:Lossy conversion from float64 to uint8. Range [0, 1]. Convert image to uint8 prior to saving to suppress this warning.\n"
          ],
          "name": "stderr"
        },
        {
          "output_type": "stream",
          "text": [
            "/content/drive/MyDrive/COVID-META/STAR Work/COVID-19/COVID cases/augmented_image_2782.png\n",
            "/content/drive/MyDrive/COVID-META/STAR Work/COVID-19/COVID cases/augmented_image_2783.png\n"
          ],
          "name": "stdout"
        },
        {
          "output_type": "stream",
          "text": [
            "WARNING:root:Lossy conversion from float64 to uint8. Range [0, 1]. Convert image to uint8 prior to saving to suppress this warning.\n"
          ],
          "name": "stderr"
        },
        {
          "output_type": "stream",
          "text": [
            "/content/drive/MyDrive/COVID-META/STAR Work/COVID-19/Augmented/Tri_cov_56.jpg\n",
            "/content/drive/MyDrive/COVID-META/STAR Work/COVID-19/COVID cases/augmented_image_2784.png\n"
          ],
          "name": "stdout"
        },
        {
          "output_type": "stream",
          "text": [
            "WARNING:root:Lossy conversion from float64 to uint8. Range [0, 1]. Convert image to uint8 prior to saving to suppress this warning.\n"
          ],
          "name": "stderr"
        },
        {
          "output_type": "stream",
          "text": [
            "/content/drive/MyDrive/COVID-META/STAR Work/COVID-19/COVID cases/augmented_image_2785.png\n",
            "/content/drive/MyDrive/COVID-META/STAR Work/COVID-19/Augmented/Tri_cov_210.jpg\n"
          ],
          "name": "stdout"
        },
        {
          "output_type": "stream",
          "text": [
            "WARNING:root:Lossy conversion from float64 to uint8. Range [0, 1]. Convert image to uint8 prior to saving to suppress this warning.\n"
          ],
          "name": "stderr"
        },
        {
          "output_type": "stream",
          "text": [
            "/content/drive/MyDrive/COVID-META/STAR Work/COVID-19/COVID cases/augmented_image_2786.png\n",
            "/content/drive/MyDrive/COVID-META/STAR Work/COVID-19/COVID cases/augmented_image_2787.png\n",
            "/content/drive/MyDrive/COVID-META/STAR Work/COVID-19/Augmented/Tri_cov_57.jpg\n"
          ],
          "name": "stdout"
        },
        {
          "output_type": "stream",
          "text": [
            "WARNING:root:Lossy conversion from float64 to uint8. Range [0, 1]. Convert image to uint8 prior to saving to suppress this warning.\n"
          ],
          "name": "stderr"
        },
        {
          "output_type": "stream",
          "text": [
            "/content/drive/MyDrive/COVID-META/STAR Work/COVID-19/COVID cases/augmented_image_2788.png\n",
            "/content/drive/MyDrive/COVID-META/STAR Work/COVID-19/COVID cases/augmented_image_2789.png\n",
            "/content/drive/MyDrive/COVID-META/STAR Work/COVID-19/Augmented/Tri_cov_146.jpg\n"
          ],
          "name": "stdout"
        },
        {
          "output_type": "stream",
          "text": [
            "WARNING:root:Lossy conversion from float64 to uint8. Range [0, 1]. Convert image to uint8 prior to saving to suppress this warning.\n"
          ],
          "name": "stderr"
        },
        {
          "output_type": "stream",
          "text": [
            "/content/drive/MyDrive/COVID-META/STAR Work/COVID-19/COVID cases/augmented_image_2790.png\n",
            "/content/drive/MyDrive/COVID-META/STAR Work/COVID-19/COVID cases/augmented_image_2791.png\n",
            "/content/drive/MyDrive/COVID-META/STAR Work/COVID-19/COVID cases/augmented_image_2792.png\n",
            "/content/drive/MyDrive/COVID-META/STAR Work/COVID-19/Augmented/Tri_cov_509.jpg\n",
            "/content/drive/MyDrive/COVID-META/STAR Work/COVID-19/COVID cases/augmented_image_2793.png\n"
          ],
          "name": "stdout"
        },
        {
          "output_type": "stream",
          "text": [
            "WARNING:root:Lossy conversion from float64 to uint8. Range [0, 1]. Convert image to uint8 prior to saving to suppress this warning.\n"
          ],
          "name": "stderr"
        },
        {
          "output_type": "stream",
          "text": [
            "/content/drive/MyDrive/COVID-META/STAR Work/COVID-19/COVID cases/augmented_image_2794.png\n"
          ],
          "name": "stdout"
        },
        {
          "output_type": "stream",
          "text": [
            "WARNING:root:Lossy conversion from float64 to uint8. Range [0, 1]. Convert image to uint8 prior to saving to suppress this warning.\n"
          ],
          "name": "stderr"
        },
        {
          "output_type": "stream",
          "text": [
            "/content/drive/MyDrive/COVID-META/STAR Work/COVID-19/Augmented/Tri_cov_158.jpg\n",
            "/content/drive/MyDrive/COVID-META/STAR Work/COVID-19/COVID cases/augmented_image_2795.png\n"
          ],
          "name": "stdout"
        },
        {
          "output_type": "stream",
          "text": [
            "WARNING:root:Lossy conversion from float64 to uint8. Range [0, 1]. Convert image to uint8 prior to saving to suppress this warning.\n"
          ],
          "name": "stderr"
        },
        {
          "output_type": "stream",
          "text": [
            "/content/drive/MyDrive/COVID-META/STAR Work/COVID-19/COVID cases/augmented_image_2796.png\n",
            "/content/drive/MyDrive/COVID-META/STAR Work/COVID-19/Augmented/Tri_cov_243.jpg\n",
            "/content/drive/MyDrive/COVID-META/STAR Work/COVID-19/COVID cases/augmented_image_2797.png\n"
          ],
          "name": "stdout"
        },
        {
          "output_type": "stream",
          "text": [
            "WARNING:root:Lossy conversion from float64 to uint8. Range [0, 1]. Convert image to uint8 prior to saving to suppress this warning.\n"
          ],
          "name": "stderr"
        },
        {
          "output_type": "stream",
          "text": [
            "/content/drive/MyDrive/COVID-META/STAR Work/COVID-19/COVID cases/augmented_image_2798.png\n"
          ],
          "name": "stdout"
        },
        {
          "output_type": "stream",
          "text": [
            "WARNING:root:Lossy conversion from float64 to uint8. Range [0, 1]. Convert image to uint8 prior to saving to suppress this warning.\n"
          ],
          "name": "stderr"
        },
        {
          "output_type": "stream",
          "text": [
            "/content/drive/MyDrive/COVID-META/STAR Work/COVID-19/COVID cases/augmented_image_2799.png\n"
          ],
          "name": "stdout"
        },
        {
          "output_type": "stream",
          "text": [
            "WARNING:root:Lossy conversion from float64 to uint8. Range [0, 1]. Convert image to uint8 prior to saving to suppress this warning.\n"
          ],
          "name": "stderr"
        },
        {
          "output_type": "stream",
          "text": [
            "/content/drive/MyDrive/COVID-META/STAR Work/COVID-19/COVID cases/augmented_image_2800.png\n",
            "/content/drive/MyDrive/COVID-META/STAR Work/COVID-19/Augmented/Tri_cov_491.jpg\n"
          ],
          "name": "stdout"
        },
        {
          "output_type": "stream",
          "text": [
            "WARNING:root:Lossy conversion from float64 to uint8. Range [0, 1]. Convert image to uint8 prior to saving to suppress this warning.\n"
          ],
          "name": "stderr"
        },
        {
          "output_type": "stream",
          "text": [
            "/content/drive/MyDrive/COVID-META/STAR Work/COVID-19/COVID cases/augmented_image_2801.png\n"
          ],
          "name": "stdout"
        },
        {
          "output_type": "stream",
          "text": [
            "WARNING:root:Lossy conversion from float64 to uint8. Range [0, 1]. Convert image to uint8 prior to saving to suppress this warning.\n"
          ],
          "name": "stderr"
        },
        {
          "output_type": "stream",
          "text": [
            "/content/drive/MyDrive/COVID-META/STAR Work/COVID-19/COVID cases/augmented_image_2802.png\n"
          ],
          "name": "stdout"
        },
        {
          "output_type": "stream",
          "text": [
            "WARNING:root:Lossy conversion from float64 to uint8. Range [0, 1]. Convert image to uint8 prior to saving to suppress this warning.\n"
          ],
          "name": "stderr"
        },
        {
          "output_type": "stream",
          "text": [
            "/content/drive/MyDrive/COVID-META/STAR Work/COVID-19/COVID cases/augmented_image_2803.png\n"
          ],
          "name": "stdout"
        },
        {
          "output_type": "stream",
          "text": [
            "WARNING:root:Lossy conversion from float64 to uint8. Range [0, 1]. Convert image to uint8 prior to saving to suppress this warning.\n"
          ],
          "name": "stderr"
        },
        {
          "output_type": "stream",
          "text": [
            "/content/drive/MyDrive/COVID-META/STAR Work/COVID-19/COVID cases/augmented_image_2804.png\n"
          ],
          "name": "stdout"
        },
        {
          "output_type": "stream",
          "text": [
            "WARNING:root:Lossy conversion from float64 to uint8. Range [0, 1]. Convert image to uint8 prior to saving to suppress this warning.\n"
          ],
          "name": "stderr"
        },
        {
          "output_type": "stream",
          "text": [
            "/content/drive/MyDrive/COVID-META/STAR Work/COVID-19/Augmented/Tri_cov_355.jpg\n",
            "/content/drive/MyDrive/COVID-META/STAR Work/COVID-19/COVID cases/augmented_image_2805.png\n"
          ],
          "name": "stdout"
        },
        {
          "output_type": "stream",
          "text": [
            "WARNING:root:Lossy conversion from float64 to uint8. Range [0, 1]. Convert image to uint8 prior to saving to suppress this warning.\n"
          ],
          "name": "stderr"
        },
        {
          "output_type": "stream",
          "text": [
            "/content/drive/MyDrive/COVID-META/STAR Work/COVID-19/COVID cases/augmented_image_2806.png\n",
            "/content/drive/MyDrive/COVID-META/STAR Work/COVID-19/COVID cases/augmented_image_2807.png\n"
          ],
          "name": "stdout"
        },
        {
          "output_type": "stream",
          "text": [
            "WARNING:root:Lossy conversion from float64 to uint8. Range [0, 1]. Convert image to uint8 prior to saving to suppress this warning.\n"
          ],
          "name": "stderr"
        },
        {
          "output_type": "stream",
          "text": [
            "/content/drive/MyDrive/COVID-META/STAR Work/COVID-19/COVID cases/augmented_image_2808.png\n",
            "/content/drive/MyDrive/COVID-META/STAR Work/COVID-19/Augmented/Tri_cov_450.jpg\n",
            "/content/drive/MyDrive/COVID-META/STAR Work/COVID-19/COVID cases/augmented_image_2809.png\n"
          ],
          "name": "stdout"
        },
        {
          "output_type": "stream",
          "text": [
            "WARNING:root:Lossy conversion from float64 to uint8. Range [0, 1]. Convert image to uint8 prior to saving to suppress this warning.\n"
          ],
          "name": "stderr"
        },
        {
          "output_type": "stream",
          "text": [
            "/content/drive/MyDrive/COVID-META/STAR Work/COVID-19/COVID cases/augmented_image_2810.png\n",
            "/content/drive/MyDrive/COVID-META/STAR Work/COVID-19/Augmented/Tri_cov_371.jpg\n"
          ],
          "name": "stdout"
        },
        {
          "output_type": "stream",
          "text": [
            "WARNING:root:Lossy conversion from float64 to uint8. Range [0, 1]. Convert image to uint8 prior to saving to suppress this warning.\n"
          ],
          "name": "stderr"
        },
        {
          "output_type": "stream",
          "text": [
            "/content/drive/MyDrive/COVID-META/STAR Work/COVID-19/COVID cases/augmented_image_2811.png\n"
          ],
          "name": "stdout"
        },
        {
          "output_type": "stream",
          "text": [
            "WARNING:root:Lossy conversion from float64 to uint8. Range [0, 1]. Convert image to uint8 prior to saving to suppress this warning.\n"
          ],
          "name": "stderr"
        },
        {
          "output_type": "stream",
          "text": [
            "/content/drive/MyDrive/COVID-META/STAR Work/COVID-19/COVID cases/augmented_image_2812.png\n"
          ],
          "name": "stdout"
        },
        {
          "output_type": "stream",
          "text": [
            "WARNING:root:Lossy conversion from float64 to uint8. Range [0, 1]. Convert image to uint8 prior to saving to suppress this warning.\n"
          ],
          "name": "stderr"
        },
        {
          "output_type": "stream",
          "text": [
            "/content/drive/MyDrive/COVID-META/STAR Work/COVID-19/COVID cases/augmented_image_2813.png\n"
          ],
          "name": "stdout"
        },
        {
          "output_type": "stream",
          "text": [
            "WARNING:root:Lossy conversion from float64 to uint8. Range [0, 1]. Convert image to uint8 prior to saving to suppress this warning.\n"
          ],
          "name": "stderr"
        },
        {
          "output_type": "stream",
          "text": [
            "/content/drive/MyDrive/COVID-META/STAR Work/COVID-19/COVID cases/augmented_image_2814.png\n",
            "/content/drive/MyDrive/COVID-META/STAR Work/COVID-19/Augmented/Tri_cov_355.jpg\n"
          ],
          "name": "stdout"
        },
        {
          "output_type": "stream",
          "text": [
            "WARNING:root:Lossy conversion from float64 to uint8. Range [0, 1]. Convert image to uint8 prior to saving to suppress this warning.\n"
          ],
          "name": "stderr"
        },
        {
          "output_type": "stream",
          "text": [
            "/content/drive/MyDrive/COVID-META/STAR Work/COVID-19/COVID cases/augmented_image_2815.png\n"
          ],
          "name": "stdout"
        },
        {
          "output_type": "stream",
          "text": [
            "WARNING:root:Lossy conversion from float64 to uint8. Range [0, 1]. Convert image to uint8 prior to saving to suppress this warning.\n"
          ],
          "name": "stderr"
        },
        {
          "output_type": "stream",
          "text": [
            "/content/drive/MyDrive/COVID-META/STAR Work/COVID-19/COVID cases/augmented_image_2816.png\n",
            "/content/drive/MyDrive/COVID-META/STAR Work/COVID-19/COVID cases/augmented_image_2817.png\n",
            "/content/drive/MyDrive/COVID-META/STAR Work/COVID-19/COVID cases/augmented_image_2818.png\n",
            "/content/drive/MyDrive/COVID-META/STAR Work/COVID-19/Augmented/Tri_cov_370.jpg\n",
            "/content/drive/MyDrive/COVID-META/STAR Work/COVID-19/COVID cases/augmented_image_2819.png\n",
            "/content/drive/MyDrive/COVID-META/STAR Work/COVID-19/COVID cases/augmented_image_2820.png\n",
            "/content/drive/MyDrive/COVID-META/STAR Work/COVID-19/Augmented/Tri_cov_520.jpg\n"
          ],
          "name": "stdout"
        },
        {
          "output_type": "stream",
          "text": [
            "WARNING:root:Lossy conversion from float64 to uint8. Range [0, 1]. Convert image to uint8 prior to saving to suppress this warning.\n"
          ],
          "name": "stderr"
        },
        {
          "output_type": "stream",
          "text": [
            "/content/drive/MyDrive/COVID-META/STAR Work/COVID-19/COVID cases/augmented_image_2821.png\n",
            "/content/drive/MyDrive/COVID-META/STAR Work/COVID-19/COVID cases/augmented_image_2822.png\n"
          ],
          "name": "stdout"
        },
        {
          "output_type": "stream",
          "text": [
            "WARNING:root:Lossy conversion from float64 to uint8. Range [0, 1]. Convert image to uint8 prior to saving to suppress this warning.\n"
          ],
          "name": "stderr"
        },
        {
          "output_type": "stream",
          "text": [
            "/content/drive/MyDrive/COVID-META/STAR Work/COVID-19/COVID cases/augmented_image_2823.png\n",
            "/content/drive/MyDrive/COVID-META/STAR Work/COVID-19/Augmented/Tri_cov_125.jpg\n",
            "/content/drive/MyDrive/COVID-META/STAR Work/COVID-19/COVID cases/augmented_image_2824.png\n"
          ],
          "name": "stdout"
        },
        {
          "output_type": "stream",
          "text": [
            "WARNING:root:Lossy conversion from float64 to uint8. Range [0, 1]. Convert image to uint8 prior to saving to suppress this warning.\n"
          ],
          "name": "stderr"
        },
        {
          "output_type": "stream",
          "text": [
            "/content/drive/MyDrive/COVID-META/STAR Work/COVID-19/COVID cases/augmented_image_2825.png\n",
            "/content/drive/MyDrive/COVID-META/STAR Work/COVID-19/Augmented/Tri_cov_538.jpg\n",
            "/content/drive/MyDrive/COVID-META/STAR Work/COVID-19/COVID cases/augmented_image_2826.png\n"
          ],
          "name": "stdout"
        },
        {
          "output_type": "stream",
          "text": [
            "WARNING:root:Lossy conversion from float64 to uint8. Range [0, 1]. Convert image to uint8 prior to saving to suppress this warning.\n"
          ],
          "name": "stderr"
        },
        {
          "output_type": "stream",
          "text": [
            "/content/drive/MyDrive/COVID-META/STAR Work/COVID-19/COVID cases/augmented_image_2827.png\n",
            "/content/drive/MyDrive/COVID-META/STAR Work/COVID-19/COVID cases/augmented_image_2828.png\n",
            "/content/drive/MyDrive/COVID-META/STAR Work/COVID-19/Augmented/Tri_cov_102.jpg\n"
          ],
          "name": "stdout"
        },
        {
          "output_type": "stream",
          "text": [
            "WARNING:root:Lossy conversion from float64 to uint8. Range [0, 1]. Convert image to uint8 prior to saving to suppress this warning.\n"
          ],
          "name": "stderr"
        },
        {
          "output_type": "stream",
          "text": [
            "/content/drive/MyDrive/COVID-META/STAR Work/COVID-19/COVID cases/augmented_image_2829.png\n",
            "/content/drive/MyDrive/COVID-META/STAR Work/COVID-19/COVID cases/augmented_image_2830.png\n"
          ],
          "name": "stdout"
        },
        {
          "output_type": "stream",
          "text": [
            "WARNING:root:Lossy conversion from float64 to uint8. Range [0, 1]. Convert image to uint8 prior to saving to suppress this warning.\n"
          ],
          "name": "stderr"
        },
        {
          "output_type": "stream",
          "text": [
            "/content/drive/MyDrive/COVID-META/STAR Work/COVID-19/COVID cases/augmented_image_2831.png\n"
          ],
          "name": "stdout"
        },
        {
          "output_type": "stream",
          "text": [
            "WARNING:root:Lossy conversion from float64 to uint8. Range [0, 1]. Convert image to uint8 prior to saving to suppress this warning.\n"
          ],
          "name": "stderr"
        },
        {
          "output_type": "stream",
          "text": [
            "/content/drive/MyDrive/COVID-META/STAR Work/COVID-19/COVID cases/augmented_image_2832.png\n",
            "/content/drive/MyDrive/COVID-META/STAR Work/COVID-19/Augmented/Tri_cov_268.jpg\n"
          ],
          "name": "stdout"
        },
        {
          "output_type": "stream",
          "text": [
            "WARNING:root:Lossy conversion from float64 to uint8. Range [0, 1]. Convert image to uint8 prior to saving to suppress this warning.\n"
          ],
          "name": "stderr"
        },
        {
          "output_type": "stream",
          "text": [
            "/content/drive/MyDrive/COVID-META/STAR Work/COVID-19/COVID cases/augmented_image_2833.png\n",
            "/content/drive/MyDrive/COVID-META/STAR Work/COVID-19/COVID cases/augmented_image_2834.png\n",
            "/content/drive/MyDrive/COVID-META/STAR Work/COVID-19/COVID cases/augmented_image_2835.png\n",
            "/content/drive/MyDrive/COVID-META/STAR Work/COVID-19/Augmented/Tri_cov_249.jpg\n",
            "/content/drive/MyDrive/COVID-META/STAR Work/COVID-19/COVID cases/augmented_image_2836.png\n"
          ],
          "name": "stdout"
        },
        {
          "output_type": "stream",
          "text": [
            "WARNING:root:Lossy conversion from float64 to uint8. Range [0, 1]. Convert image to uint8 prior to saving to suppress this warning.\n",
            "WARNING:root:Lossy conversion from float64 to uint8. Range [0, 1]. Convert image to uint8 prior to saving to suppress this warning.\n"
          ],
          "name": "stderr"
        },
        {
          "output_type": "stream",
          "text": [
            "/content/drive/MyDrive/COVID-META/STAR Work/COVID-19/COVID cases/augmented_image_2837.png\n",
            "/content/drive/MyDrive/COVID-META/STAR Work/COVID-19/COVID cases/augmented_image_2838.png\n"
          ],
          "name": "stdout"
        },
        {
          "output_type": "stream",
          "text": [
            "WARNING:root:Lossy conversion from float64 to uint8. Range [0, 1]. Convert image to uint8 prior to saving to suppress this warning.\n"
          ],
          "name": "stderr"
        },
        {
          "output_type": "stream",
          "text": [
            "/content/drive/MyDrive/COVID-META/STAR Work/COVID-19/COVID cases/augmented_image_2839.png\n",
            "/content/drive/MyDrive/COVID-META/STAR Work/COVID-19/Augmented/Tri_cov_355.jpg\n",
            "/content/drive/MyDrive/COVID-META/STAR Work/COVID-19/COVID cases/augmented_image_2840.png\n"
          ],
          "name": "stdout"
        },
        {
          "output_type": "stream",
          "text": [
            "WARNING:root:Lossy conversion from float64 to uint8. Range [0, 1]. Convert image to uint8 prior to saving to suppress this warning.\n"
          ],
          "name": "stderr"
        },
        {
          "output_type": "stream",
          "text": [
            "/content/drive/MyDrive/COVID-META/STAR Work/COVID-19/COVID cases/augmented_image_2841.png\n"
          ],
          "name": "stdout"
        },
        {
          "output_type": "stream",
          "text": [
            "WARNING:root:Lossy conversion from float64 to uint8. Range [0, 1]. Convert image to uint8 prior to saving to suppress this warning.\n"
          ],
          "name": "stderr"
        },
        {
          "output_type": "stream",
          "text": [
            "/content/drive/MyDrive/COVID-META/STAR Work/COVID-19/COVID cases/augmented_image_2842.png\n",
            "/content/drive/MyDrive/COVID-META/STAR Work/COVID-19/COVID cases/augmented_image_2843.png\n",
            "/content/drive/MyDrive/COVID-META/STAR Work/COVID-19/Augmented/Tri_cov_478.jpg\n"
          ],
          "name": "stdout"
        },
        {
          "output_type": "stream",
          "text": [
            "WARNING:root:Lossy conversion from float64 to uint8. Range [0, 1]. Convert image to uint8 prior to saving to suppress this warning.\n"
          ],
          "name": "stderr"
        },
        {
          "output_type": "stream",
          "text": [
            "/content/drive/MyDrive/COVID-META/STAR Work/COVID-19/COVID cases/augmented_image_2844.png\n"
          ],
          "name": "stdout"
        },
        {
          "output_type": "stream",
          "text": [
            "WARNING:root:Lossy conversion from float64 to uint8. Range [0, 1]. Convert image to uint8 prior to saving to suppress this warning.\n"
          ],
          "name": "stderr"
        },
        {
          "output_type": "stream",
          "text": [
            "/content/drive/MyDrive/COVID-META/STAR Work/COVID-19/COVID cases/augmented_image_2845.png\n"
          ],
          "name": "stdout"
        },
        {
          "output_type": "stream",
          "text": [
            "WARNING:root:Lossy conversion from float64 to uint8. Range [0, 1]. Convert image to uint8 prior to saving to suppress this warning.\n"
          ],
          "name": "stderr"
        },
        {
          "output_type": "stream",
          "text": [
            "/content/drive/MyDrive/COVID-META/STAR Work/COVID-19/COVID cases/augmented_image_2846.png\n"
          ],
          "name": "stdout"
        },
        {
          "output_type": "stream",
          "text": [
            "WARNING:root:Lossy conversion from float64 to uint8. Range [0, 1]. Convert image to uint8 prior to saving to suppress this warning.\n"
          ],
          "name": "stderr"
        },
        {
          "output_type": "stream",
          "text": [
            "/content/drive/MyDrive/COVID-META/STAR Work/COVID-19/COVID cases/augmented_image_2847.png\n"
          ],
          "name": "stdout"
        },
        {
          "output_type": "stream",
          "text": [
            "WARNING:root:Lossy conversion from float64 to uint8. Range [0, 1]. Convert image to uint8 prior to saving to suppress this warning.\n"
          ],
          "name": "stderr"
        },
        {
          "output_type": "stream",
          "text": [
            "/content/drive/MyDrive/COVID-META/STAR Work/COVID-19/Augmented/Tri_cov_569.jpg\n",
            "/content/drive/MyDrive/COVID-META/STAR Work/COVID-19/COVID cases/augmented_image_2848.png\n"
          ],
          "name": "stdout"
        },
        {
          "output_type": "stream",
          "text": [
            "WARNING:root:Lossy conversion from float64 to uint8. Range [0, 1]. Convert image to uint8 prior to saving to suppress this warning.\n"
          ],
          "name": "stderr"
        },
        {
          "output_type": "stream",
          "text": [
            "/content/drive/MyDrive/COVID-META/STAR Work/COVID-19/COVID cases/augmented_image_2849.png\n",
            "/content/drive/MyDrive/COVID-META/STAR Work/COVID-19/COVID cases/augmented_image_2850.png\n"
          ],
          "name": "stdout"
        },
        {
          "output_type": "stream",
          "text": [
            "WARNING:root:Lossy conversion from float64 to uint8. Range [0, 1]. Convert image to uint8 prior to saving to suppress this warning.\n"
          ],
          "name": "stderr"
        },
        {
          "output_type": "stream",
          "text": [
            "/content/drive/MyDrive/COVID-META/STAR Work/COVID-19/COVID cases/augmented_image_2851.png\n",
            "/content/drive/MyDrive/COVID-META/STAR Work/COVID-19/Augmented/Tri_cov_195.jpg\n"
          ],
          "name": "stdout"
        },
        {
          "output_type": "stream",
          "text": [
            "WARNING:root:Lossy conversion from float64 to uint8. Range [0, 1]. Convert image to uint8 prior to saving to suppress this warning.\n"
          ],
          "name": "stderr"
        },
        {
          "output_type": "stream",
          "text": [
            "/content/drive/MyDrive/COVID-META/STAR Work/COVID-19/COVID cases/augmented_image_2852.png\n"
          ],
          "name": "stdout"
        },
        {
          "output_type": "stream",
          "text": [
            "WARNING:root:Lossy conversion from float64 to uint8. Range [0, 1]. Convert image to uint8 prior to saving to suppress this warning.\n"
          ],
          "name": "stderr"
        },
        {
          "output_type": "stream",
          "text": [
            "/content/drive/MyDrive/COVID-META/STAR Work/COVID-19/COVID cases/augmented_image_2853.png\n",
            "/content/drive/MyDrive/COVID-META/STAR Work/COVID-19/Augmented/Tri_cov_54.jpg\n"
          ],
          "name": "stdout"
        },
        {
          "output_type": "stream",
          "text": [
            "WARNING:root:Lossy conversion from float64 to uint8. Range [0, 1]. Convert image to uint8 prior to saving to suppress this warning.\n",
            "WARNING:root:Lossy conversion from float64 to uint8. Range [0, 1]. Convert image to uint8 prior to saving to suppress this warning.\n"
          ],
          "name": "stderr"
        },
        {
          "output_type": "stream",
          "text": [
            "/content/drive/MyDrive/COVID-META/STAR Work/COVID-19/COVID cases/augmented_image_2854.png\n",
            "/content/drive/MyDrive/COVID-META/STAR Work/COVID-19/COVID cases/augmented_image_2855.png\n",
            "/content/drive/MyDrive/COVID-META/STAR Work/COVID-19/Augmented/Tri_cov_487.jpg\n",
            "/content/drive/MyDrive/COVID-META/STAR Work/COVID-19/COVID cases/augmented_image_2856.png\n"
          ],
          "name": "stdout"
        },
        {
          "output_type": "stream",
          "text": [
            "WARNING:root:Lossy conversion from float64 to uint8. Range [0, 1]. Convert image to uint8 prior to saving to suppress this warning.\n",
            "WARNING:root:Lossy conversion from float64 to uint8. Range [0, 1]. Convert image to uint8 prior to saving to suppress this warning.\n"
          ],
          "name": "stderr"
        },
        {
          "output_type": "stream",
          "text": [
            "/content/drive/MyDrive/COVID-META/STAR Work/COVID-19/COVID cases/augmented_image_2857.png\n",
            "/content/drive/MyDrive/COVID-META/STAR Work/COVID-19/COVID cases/augmented_image_2858.png\n",
            "/content/drive/MyDrive/COVID-META/STAR Work/COVID-19/Augmented/Tri_cov_169.jpg\n"
          ],
          "name": "stdout"
        },
        {
          "output_type": "stream",
          "text": [
            "WARNING:root:Lossy conversion from float64 to uint8. Range [0, 1]. Convert image to uint8 prior to saving to suppress this warning.\n"
          ],
          "name": "stderr"
        },
        {
          "output_type": "stream",
          "text": [
            "/content/drive/MyDrive/COVID-META/STAR Work/COVID-19/COVID cases/augmented_image_2859.png\n"
          ],
          "name": "stdout"
        },
        {
          "output_type": "stream",
          "text": [
            "WARNING:root:Lossy conversion from float64 to uint8. Range [0, 1]. Convert image to uint8 prior to saving to suppress this warning.\n"
          ],
          "name": "stderr"
        },
        {
          "output_type": "stream",
          "text": [
            "/content/drive/MyDrive/COVID-META/STAR Work/COVID-19/COVID cases/augmented_image_2860.png\n",
            "/content/drive/MyDrive/COVID-META/STAR Work/COVID-19/COVID cases/augmented_image_2861.png\n",
            "/content/drive/MyDrive/COVID-META/STAR Work/COVID-19/COVID cases/augmented_image_2862.png\n",
            "/content/drive/MyDrive/COVID-META/STAR Work/COVID-19/Augmented/Tri_cov_66.jpg\n"
          ],
          "name": "stdout"
        },
        {
          "output_type": "stream",
          "text": [
            "WARNING:root:Lossy conversion from float64 to uint8. Range [0, 1]. Convert image to uint8 prior to saving to suppress this warning.\n"
          ],
          "name": "stderr"
        },
        {
          "output_type": "stream",
          "text": [
            "/content/drive/MyDrive/COVID-META/STAR Work/COVID-19/COVID cases/augmented_image_2863.png\n"
          ],
          "name": "stdout"
        },
        {
          "output_type": "stream",
          "text": [
            "WARNING:root:Lossy conversion from float64 to uint8. Range [0, 1]. Convert image to uint8 prior to saving to suppress this warning.\n"
          ],
          "name": "stderr"
        },
        {
          "output_type": "stream",
          "text": [
            "/content/drive/MyDrive/COVID-META/STAR Work/COVID-19/COVID cases/augmented_image_2864.png\n"
          ],
          "name": "stdout"
        },
        {
          "output_type": "stream",
          "text": [
            "WARNING:root:Lossy conversion from float64 to uint8. Range [0, 1]. Convert image to uint8 prior to saving to suppress this warning.\n"
          ],
          "name": "stderr"
        },
        {
          "output_type": "stream",
          "text": [
            "/content/drive/MyDrive/COVID-META/STAR Work/COVID-19/COVID cases/augmented_image_2865.png\n",
            "/content/drive/MyDrive/COVID-META/STAR Work/COVID-19/Augmented/Tri_cov_161.jpg\n"
          ],
          "name": "stdout"
        },
        {
          "output_type": "stream",
          "text": [
            "WARNING:root:Lossy conversion from float64 to uint8. Range [0, 1]. Convert image to uint8 prior to saving to suppress this warning.\n"
          ],
          "name": "stderr"
        },
        {
          "output_type": "stream",
          "text": [
            "/content/drive/MyDrive/COVID-META/STAR Work/COVID-19/COVID cases/augmented_image_2866.png\n"
          ],
          "name": "stdout"
        },
        {
          "output_type": "stream",
          "text": [
            "WARNING:root:Lossy conversion from float64 to uint8. Range [0, 1]. Convert image to uint8 prior to saving to suppress this warning.\n"
          ],
          "name": "stderr"
        },
        {
          "output_type": "stream",
          "text": [
            "/content/drive/MyDrive/COVID-META/STAR Work/COVID-19/COVID cases/augmented_image_2867.png\n",
            "/content/drive/MyDrive/COVID-META/STAR Work/COVID-19/Augmented/Tri_cov_291.jpg\n",
            "/content/drive/MyDrive/COVID-META/STAR Work/COVID-19/COVID cases/augmented_image_2868.png\n"
          ],
          "name": "stdout"
        },
        {
          "output_type": "stream",
          "text": [
            "WARNING:root:Lossy conversion from float64 to uint8. Range [0, 1]. Convert image to uint8 prior to saving to suppress this warning.\n"
          ],
          "name": "stderr"
        },
        {
          "output_type": "stream",
          "text": [
            "/content/drive/MyDrive/COVID-META/STAR Work/COVID-19/COVID cases/augmented_image_2869.png\n",
            "/content/drive/MyDrive/COVID-META/STAR Work/COVID-19/COVID cases/augmented_image_2870.png\n",
            "/content/drive/MyDrive/COVID-META/STAR Work/COVID-19/Augmented/Tri_cov_277.jpg\n",
            "/content/drive/MyDrive/COVID-META/STAR Work/COVID-19/COVID cases/augmented_image_2871.png\n"
          ],
          "name": "stdout"
        },
        {
          "output_type": "stream",
          "text": [
            "WARNING:root:Lossy conversion from float64 to uint8. Range [0, 1]. Convert image to uint8 prior to saving to suppress this warning.\n"
          ],
          "name": "stderr"
        },
        {
          "output_type": "stream",
          "text": [
            "/content/drive/MyDrive/COVID-META/STAR Work/COVID-19/COVID cases/augmented_image_2872.png\n",
            "/content/drive/MyDrive/COVID-META/STAR Work/COVID-19/Augmented/Tri_cov_537.jpg\n"
          ],
          "name": "stdout"
        },
        {
          "output_type": "stream",
          "text": [
            "WARNING:root:Lossy conversion from float64 to uint8. Range [0, 1]. Convert image to uint8 prior to saving to suppress this warning.\n"
          ],
          "name": "stderr"
        },
        {
          "output_type": "stream",
          "text": [
            "/content/drive/MyDrive/COVID-META/STAR Work/COVID-19/COVID cases/augmented_image_2873.png\n"
          ],
          "name": "stdout"
        },
        {
          "output_type": "stream",
          "text": [
            "WARNING:root:Lossy conversion from float64 to uint8. Range [0, 1]. Convert image to uint8 prior to saving to suppress this warning.\n"
          ],
          "name": "stderr"
        },
        {
          "output_type": "stream",
          "text": [
            "/content/drive/MyDrive/COVID-META/STAR Work/COVID-19/COVID cases/augmented_image_2874.png\n"
          ],
          "name": "stdout"
        },
        {
          "output_type": "stream",
          "text": [
            "WARNING:root:Lossy conversion from float64 to uint8. Range [0, 1]. Convert image to uint8 prior to saving to suppress this warning.\n"
          ],
          "name": "stderr"
        },
        {
          "output_type": "stream",
          "text": [
            "/content/drive/MyDrive/COVID-META/STAR Work/COVID-19/COVID cases/augmented_image_2875.png\n"
          ],
          "name": "stdout"
        },
        {
          "output_type": "stream",
          "text": [
            "WARNING:root:Lossy conversion from float64 to uint8. Range [0, 1]. Convert image to uint8 prior to saving to suppress this warning.\n"
          ],
          "name": "stderr"
        },
        {
          "output_type": "stream",
          "text": [
            "/content/drive/MyDrive/COVID-META/STAR Work/COVID-19/COVID cases/augmented_image_2876.png\n",
            "/content/drive/MyDrive/COVID-META/STAR Work/COVID-19/Augmented/Tri_cov_245.jpg\n",
            "/content/drive/MyDrive/COVID-META/STAR Work/COVID-19/COVID cases/augmented_image_2877.png\n"
          ],
          "name": "stdout"
        },
        {
          "output_type": "stream",
          "text": [
            "WARNING:root:Lossy conversion from float64 to uint8. Range [0, 1]. Convert image to uint8 prior to saving to suppress this warning.\n"
          ],
          "name": "stderr"
        },
        {
          "output_type": "stream",
          "text": [
            "/content/drive/MyDrive/COVID-META/STAR Work/COVID-19/COVID cases/augmented_image_2878.png\n",
            "/content/drive/MyDrive/COVID-META/STAR Work/COVID-19/Augmented/Tri_cov_76.jpg\n"
          ],
          "name": "stdout"
        },
        {
          "output_type": "stream",
          "text": [
            "WARNING:root:Lossy conversion from float64 to uint8. Range [0, 1]. Convert image to uint8 prior to saving to suppress this warning.\n"
          ],
          "name": "stderr"
        },
        {
          "output_type": "stream",
          "text": [
            "/content/drive/MyDrive/COVID-META/STAR Work/COVID-19/COVID cases/augmented_image_2879.png\n",
            "/content/drive/MyDrive/COVID-META/STAR Work/COVID-19/COVID cases/augmented_image_2880.png\n"
          ],
          "name": "stdout"
        },
        {
          "output_type": "stream",
          "text": [
            "WARNING:root:Lossy conversion from float64 to uint8. Range [0, 1]. Convert image to uint8 prior to saving to suppress this warning.\n",
            "WARNING:root:Lossy conversion from float64 to uint8. Range [0, 1]. Convert image to uint8 prior to saving to suppress this warning.\n"
          ],
          "name": "stderr"
        },
        {
          "output_type": "stream",
          "text": [
            "/content/drive/MyDrive/COVID-META/STAR Work/COVID-19/COVID cases/augmented_image_2881.png\n",
            "/content/drive/MyDrive/COVID-META/STAR Work/COVID-19/Augmented/Tri_cov_17.jpg\n",
            "/content/drive/MyDrive/COVID-META/STAR Work/COVID-19/COVID cases/augmented_image_2882.png\n",
            "/content/drive/MyDrive/COVID-META/STAR Work/COVID-19/COVID cases/augmented_image_2883.png\n"
          ],
          "name": "stdout"
        },
        {
          "output_type": "stream",
          "text": [
            "WARNING:root:Lossy conversion from float64 to uint8. Range [0, 1]. Convert image to uint8 prior to saving to suppress this warning.\n"
          ],
          "name": "stderr"
        },
        {
          "output_type": "stream",
          "text": [
            "/content/drive/MyDrive/COVID-META/STAR Work/COVID-19/COVID cases/augmented_image_2884.png\n",
            "/content/drive/MyDrive/COVID-META/STAR Work/COVID-19/Augmented/Tri_cov_86.jpg\n"
          ],
          "name": "stdout"
        },
        {
          "output_type": "stream",
          "text": [
            "WARNING:root:Lossy conversion from float64 to uint8. Range [0, 1]. Convert image to uint8 prior to saving to suppress this warning.\n"
          ],
          "name": "stderr"
        },
        {
          "output_type": "stream",
          "text": [
            "/content/drive/MyDrive/COVID-META/STAR Work/COVID-19/COVID cases/augmented_image_2885.png\n",
            "/content/drive/MyDrive/COVID-META/STAR Work/COVID-19/COVID cases/augmented_image_2886.png\n"
          ],
          "name": "stdout"
        },
        {
          "output_type": "stream",
          "text": [
            "WARNING:root:Lossy conversion from float64 to uint8. Range [0, 1]. Convert image to uint8 prior to saving to suppress this warning.\n"
          ],
          "name": "stderr"
        },
        {
          "output_type": "stream",
          "text": [
            "/content/drive/MyDrive/COVID-META/STAR Work/COVID-19/COVID cases/augmented_image_2887.png\n"
          ],
          "name": "stdout"
        },
        {
          "output_type": "stream",
          "text": [
            "WARNING:root:Lossy conversion from float64 to uint8. Range [0, 1]. Convert image to uint8 prior to saving to suppress this warning.\n"
          ],
          "name": "stderr"
        },
        {
          "output_type": "stream",
          "text": [
            "/content/drive/MyDrive/COVID-META/STAR Work/COVID-19/COVID cases/augmented_image_2888.png\n",
            "/content/drive/MyDrive/COVID-META/STAR Work/COVID-19/Augmented/Tri_cov_331.jpg\n"
          ],
          "name": "stdout"
        },
        {
          "output_type": "stream",
          "text": [
            "WARNING:root:Lossy conversion from float64 to uint8. Range [0, 1]. Convert image to uint8 prior to saving to suppress this warning.\n"
          ],
          "name": "stderr"
        },
        {
          "output_type": "stream",
          "text": [
            "/content/drive/MyDrive/COVID-META/STAR Work/COVID-19/COVID cases/augmented_image_2889.png\n"
          ],
          "name": "stdout"
        },
        {
          "output_type": "stream",
          "text": [
            "WARNING:root:Lossy conversion from float64 to uint8. Range [0, 1]. Convert image to uint8 prior to saving to suppress this warning.\n"
          ],
          "name": "stderr"
        },
        {
          "output_type": "stream",
          "text": [
            "/content/drive/MyDrive/COVID-META/STAR Work/COVID-19/COVID cases/augmented_image_2890.png\n",
            "/content/drive/MyDrive/COVID-META/STAR Work/COVID-19/COVID cases/augmented_image_2891.png\n",
            "/content/drive/MyDrive/COVID-META/STAR Work/COVID-19/Augmented/Tri_cov_483.jpg\n"
          ],
          "name": "stdout"
        },
        {
          "output_type": "stream",
          "text": [
            "WARNING:root:Lossy conversion from float64 to uint8. Range [0, 1]. Convert image to uint8 prior to saving to suppress this warning.\n"
          ],
          "name": "stderr"
        },
        {
          "output_type": "stream",
          "text": [
            "/content/drive/MyDrive/COVID-META/STAR Work/COVID-19/COVID cases/augmented_image_2892.png\n"
          ],
          "name": "stdout"
        },
        {
          "output_type": "stream",
          "text": [
            "WARNING:root:Lossy conversion from float64 to uint8. Range [0, 1]. Convert image to uint8 prior to saving to suppress this warning.\n"
          ],
          "name": "stderr"
        },
        {
          "output_type": "stream",
          "text": [
            "/content/drive/MyDrive/COVID-META/STAR Work/COVID-19/COVID cases/augmented_image_2893.png\n"
          ],
          "name": "stdout"
        },
        {
          "output_type": "stream",
          "text": [
            "WARNING:root:Lossy conversion from float64 to uint8. Range [0, 1]. Convert image to uint8 prior to saving to suppress this warning.\n"
          ],
          "name": "stderr"
        },
        {
          "output_type": "stream",
          "text": [
            "/content/drive/MyDrive/COVID-META/STAR Work/COVID-19/COVID cases/augmented_image_2894.png\n"
          ],
          "name": "stdout"
        },
        {
          "output_type": "stream",
          "text": [
            "WARNING:root:Lossy conversion from float64 to uint8. Range [0, 1]. Convert image to uint8 prior to saving to suppress this warning.\n"
          ],
          "name": "stderr"
        },
        {
          "output_type": "stream",
          "text": [
            "/content/drive/MyDrive/COVID-META/STAR Work/COVID-19/Augmented/Tri_cov_411.jpg\n",
            "/content/drive/MyDrive/COVID-META/STAR Work/COVID-19/COVID cases/augmented_image_2895.png\n",
            "/content/drive/MyDrive/COVID-META/STAR Work/COVID-19/COVID cases/augmented_image_2896.png\n",
            "/content/drive/MyDrive/COVID-META/STAR Work/COVID-19/COVID cases/augmented_image_2897.png\n",
            "/content/drive/MyDrive/COVID-META/STAR Work/COVID-19/Augmented/Tri_cov_171.jpg\n"
          ],
          "name": "stdout"
        },
        {
          "output_type": "stream",
          "text": [
            "WARNING:root:Lossy conversion from float64 to uint8. Range [0, 1]. Convert image to uint8 prior to saving to suppress this warning.\n"
          ],
          "name": "stderr"
        },
        {
          "output_type": "stream",
          "text": [
            "/content/drive/MyDrive/COVID-META/STAR Work/COVID-19/COVID cases/augmented_image_2898.png\n"
          ],
          "name": "stdout"
        },
        {
          "output_type": "stream",
          "text": [
            "WARNING:root:Lossy conversion from float64 to uint8. Range [0, 1]. Convert image to uint8 prior to saving to suppress this warning.\n"
          ],
          "name": "stderr"
        },
        {
          "output_type": "stream",
          "text": [
            "/content/drive/MyDrive/COVID-META/STAR Work/COVID-19/COVID cases/augmented_image_2899.png\n",
            "/content/drive/MyDrive/COVID-META/STAR Work/COVID-19/Augmented/Tri_cov_155.jpg\n"
          ],
          "name": "stdout"
        },
        {
          "output_type": "stream",
          "text": [
            "WARNING:root:Lossy conversion from float64 to uint8. Range [0, 1]. Convert image to uint8 prior to saving to suppress this warning.\n",
            "WARNING:root:Lossy conversion from float64 to uint8. Range [0, 1]. Convert image to uint8 prior to saving to suppress this warning.\n"
          ],
          "name": "stderr"
        },
        {
          "output_type": "stream",
          "text": [
            "/content/drive/MyDrive/COVID-META/STAR Work/COVID-19/COVID cases/augmented_image_2900.png\n",
            "/content/drive/MyDrive/COVID-META/STAR Work/COVID-19/COVID cases/augmented_image_2901.png\n",
            "/content/drive/MyDrive/COVID-META/STAR Work/COVID-19/Augmented/Tri_cov_282.jpg\n"
          ],
          "name": "stdout"
        },
        {
          "output_type": "stream",
          "text": [
            "WARNING:root:Lossy conversion from float64 to uint8. Range [0, 1]. Convert image to uint8 prior to saving to suppress this warning.\n"
          ],
          "name": "stderr"
        },
        {
          "output_type": "stream",
          "text": [
            "/content/drive/MyDrive/COVID-META/STAR Work/COVID-19/COVID cases/augmented_image_2902.png\n",
            "/content/drive/MyDrive/COVID-META/STAR Work/COVID-19/COVID cases/augmented_image_2903.png\n",
            "/content/drive/MyDrive/COVID-META/STAR Work/COVID-19/Augmented/Tri_cov_215.jpg\n",
            "/content/drive/MyDrive/COVID-META/STAR Work/COVID-19/COVID cases/augmented_image_2904.png\n",
            "/content/drive/MyDrive/COVID-META/STAR Work/COVID-19/COVID cases/augmented_image_2905.png\n"
          ],
          "name": "stdout"
        },
        {
          "output_type": "stream",
          "text": [
            "WARNING:root:Lossy conversion from float64 to uint8. Range [0, 1]. Convert image to uint8 prior to saving to suppress this warning.\n"
          ],
          "name": "stderr"
        },
        {
          "output_type": "stream",
          "text": [
            "/content/drive/MyDrive/COVID-META/STAR Work/COVID-19/Augmented/Tri_cov_528.jpg\n"
          ],
          "name": "stdout"
        },
        {
          "output_type": "stream",
          "text": [
            "WARNING:root:Lossy conversion from float64 to uint8. Range [0, 1]. Convert image to uint8 prior to saving to suppress this warning.\n"
          ],
          "name": "stderr"
        },
        {
          "output_type": "stream",
          "text": [
            "/content/drive/MyDrive/COVID-META/STAR Work/COVID-19/COVID cases/augmented_image_2906.png\n"
          ],
          "name": "stdout"
        },
        {
          "output_type": "stream",
          "text": [
            "WARNING:root:Lossy conversion from float64 to uint8. Range [0, 1]. Convert image to uint8 prior to saving to suppress this warning.\n"
          ],
          "name": "stderr"
        },
        {
          "output_type": "stream",
          "text": [
            "/content/drive/MyDrive/COVID-META/STAR Work/COVID-19/COVID cases/augmented_image_2907.png\n",
            "/content/drive/MyDrive/COVID-META/STAR Work/COVID-19/COVID cases/augmented_image_2908.png\n"
          ],
          "name": "stdout"
        },
        {
          "output_type": "stream",
          "text": [
            "WARNING:root:Lossy conversion from float64 to uint8. Range [0, 1]. Convert image to uint8 prior to saving to suppress this warning.\n"
          ],
          "name": "stderr"
        },
        {
          "output_type": "stream",
          "text": [
            "/content/drive/MyDrive/COVID-META/STAR Work/COVID-19/Augmented/Tri_cov_92.jpg\n",
            "/content/drive/MyDrive/COVID-META/STAR Work/COVID-19/COVID cases/augmented_image_2909.png\n",
            "/content/drive/MyDrive/COVID-META/STAR Work/COVID-19/COVID cases/augmented_image_2910.png\n",
            "/content/drive/MyDrive/COVID-META/STAR Work/COVID-19/Augmented/Tri_cov_285.jpg\n"
          ],
          "name": "stdout"
        },
        {
          "output_type": "stream",
          "text": [
            "WARNING:root:Lossy conversion from float64 to uint8. Range [0, 1]. Convert image to uint8 prior to saving to suppress this warning.\n"
          ],
          "name": "stderr"
        },
        {
          "output_type": "stream",
          "text": [
            "/content/drive/MyDrive/COVID-META/STAR Work/COVID-19/COVID cases/augmented_image_2911.png\n"
          ],
          "name": "stdout"
        },
        {
          "output_type": "stream",
          "text": [
            "WARNING:root:Lossy conversion from float64 to uint8. Range [0, 1]. Convert image to uint8 prior to saving to suppress this warning.\n"
          ],
          "name": "stderr"
        },
        {
          "output_type": "stream",
          "text": [
            "/content/drive/MyDrive/COVID-META/STAR Work/COVID-19/COVID cases/augmented_image_2912.png\n",
            "/content/drive/MyDrive/COVID-META/STAR Work/COVID-19/Augmented/Tri_cov_500.jpg\n",
            "/content/drive/MyDrive/COVID-META/STAR Work/COVID-19/COVID cases/augmented_image_2913.png\n"
          ],
          "name": "stdout"
        },
        {
          "output_type": "stream",
          "text": [
            "WARNING:root:Lossy conversion from float64 to uint8. Range [0, 1]. Convert image to uint8 prior to saving to suppress this warning.\n"
          ],
          "name": "stderr"
        },
        {
          "output_type": "stream",
          "text": [
            "/content/drive/MyDrive/COVID-META/STAR Work/COVID-19/COVID cases/augmented_image_2914.png\n",
            "/content/drive/MyDrive/COVID-META/STAR Work/COVID-19/COVID cases/augmented_image_2915.png\n"
          ],
          "name": "stdout"
        },
        {
          "output_type": "stream",
          "text": [
            "WARNING:root:Lossy conversion from float64 to uint8. Range [0, 1]. Convert image to uint8 prior to saving to suppress this warning.\n"
          ],
          "name": "stderr"
        },
        {
          "output_type": "stream",
          "text": [
            "/content/drive/MyDrive/COVID-META/STAR Work/COVID-19/COVID cases/augmented_image_2916.png\n",
            "/content/drive/MyDrive/COVID-META/STAR Work/COVID-19/Augmented/Tri_cov_396.jpg\n"
          ],
          "name": "stdout"
        },
        {
          "output_type": "stream",
          "text": [
            "WARNING:root:Lossy conversion from float64 to uint8. Range [0, 1]. Convert image to uint8 prior to saving to suppress this warning.\n"
          ],
          "name": "stderr"
        },
        {
          "output_type": "stream",
          "text": [
            "/content/drive/MyDrive/COVID-META/STAR Work/COVID-19/COVID cases/augmented_image_2917.png\n"
          ],
          "name": "stdout"
        },
        {
          "output_type": "stream",
          "text": [
            "WARNING:root:Lossy conversion from float64 to uint8. Range [0, 1]. Convert image to uint8 prior to saving to suppress this warning.\n"
          ],
          "name": "stderr"
        },
        {
          "output_type": "stream",
          "text": [
            "/content/drive/MyDrive/COVID-META/STAR Work/COVID-19/COVID cases/augmented_image_2918.png\n",
            "/content/drive/MyDrive/COVID-META/STAR Work/COVID-19/COVID cases/augmented_image_2919.png\n"
          ],
          "name": "stdout"
        },
        {
          "output_type": "stream",
          "text": [
            "WARNING:root:Lossy conversion from float64 to uint8. Range [0, 1]. Convert image to uint8 prior to saving to suppress this warning.\n"
          ],
          "name": "stderr"
        },
        {
          "output_type": "stream",
          "text": [
            "/content/drive/MyDrive/COVID-META/STAR Work/COVID-19/COVID cases/augmented_image_2920.png\n",
            "/content/drive/MyDrive/COVID-META/STAR Work/COVID-19/Augmented/Tri_cov_510.jpg\n",
            "/content/drive/MyDrive/COVID-META/STAR Work/COVID-19/COVID cases/augmented_image_2921.png\n"
          ],
          "name": "stdout"
        },
        {
          "output_type": "stream",
          "text": [
            "WARNING:root:Lossy conversion from float64 to uint8. Range [0, 1]. Convert image to uint8 prior to saving to suppress this warning.\n"
          ],
          "name": "stderr"
        },
        {
          "output_type": "stream",
          "text": [
            "/content/drive/MyDrive/COVID-META/STAR Work/COVID-19/COVID cases/augmented_image_2922.png\n",
            "/content/drive/MyDrive/COVID-META/STAR Work/COVID-19/COVID cases/augmented_image_2923.png\n"
          ],
          "name": "stdout"
        },
        {
          "output_type": "stream",
          "text": [
            "WARNING:root:Lossy conversion from float64 to uint8. Range [0, 1]. Convert image to uint8 prior to saving to suppress this warning.\n"
          ],
          "name": "stderr"
        },
        {
          "output_type": "stream",
          "text": [
            "/content/drive/MyDrive/COVID-META/STAR Work/COVID-19/COVID cases/augmented_image_2924.png\n",
            "/content/drive/MyDrive/COVID-META/STAR Work/COVID-19/Augmented/Tri_cov_203.jpg\n"
          ],
          "name": "stdout"
        },
        {
          "output_type": "stream",
          "text": [
            "WARNING:root:Lossy conversion from float64 to uint8. Range [0, 1]. Convert image to uint8 prior to saving to suppress this warning.\n"
          ],
          "name": "stderr"
        },
        {
          "output_type": "stream",
          "text": [
            "/content/drive/MyDrive/COVID-META/STAR Work/COVID-19/COVID cases/augmented_image_2925.png\n",
            "/content/drive/MyDrive/COVID-META/STAR Work/COVID-19/COVID cases/augmented_image_2926.png\n"
          ],
          "name": "stdout"
        },
        {
          "output_type": "stream",
          "text": [
            "WARNING:root:Lossy conversion from float64 to uint8. Range [0, 1]. Convert image to uint8 prior to saving to suppress this warning.\n"
          ],
          "name": "stderr"
        },
        {
          "output_type": "stream",
          "text": [
            "/content/drive/MyDrive/COVID-META/STAR Work/COVID-19/COVID cases/augmented_image_2927.png\n",
            "/content/drive/MyDrive/COVID-META/STAR Work/COVID-19/Augmented/Tri_cov_200.jpg\n"
          ],
          "name": "stdout"
        },
        {
          "output_type": "stream",
          "text": [
            "WARNING:root:Lossy conversion from float64 to uint8. Range [0, 1]. Convert image to uint8 prior to saving to suppress this warning.\n"
          ],
          "name": "stderr"
        },
        {
          "output_type": "stream",
          "text": [
            "/content/drive/MyDrive/COVID-META/STAR Work/COVID-19/COVID cases/augmented_image_2928.png\n"
          ],
          "name": "stdout"
        },
        {
          "output_type": "stream",
          "text": [
            "WARNING:root:Lossy conversion from float64 to uint8. Range [0, 1]. Convert image to uint8 prior to saving to suppress this warning.\n",
            "WARNING:root:Lossy conversion from float64 to uint8. Range [0, 1]. Convert image to uint8 prior to saving to suppress this warning.\n"
          ],
          "name": "stderr"
        },
        {
          "output_type": "stream",
          "text": [
            "/content/drive/MyDrive/COVID-META/STAR Work/COVID-19/COVID cases/augmented_image_2929.png\n",
            "/content/drive/MyDrive/COVID-META/STAR Work/COVID-19/COVID cases/augmented_image_2930.png\n"
          ],
          "name": "stdout"
        },
        {
          "output_type": "stream",
          "text": [
            "WARNING:root:Lossy conversion from float64 to uint8. Range [0, 1]. Convert image to uint8 prior to saving to suppress this warning.\n"
          ],
          "name": "stderr"
        },
        {
          "output_type": "stream",
          "text": [
            "/content/drive/MyDrive/COVID-META/STAR Work/COVID-19/COVID cases/augmented_image_2931.png\n",
            "/content/drive/MyDrive/COVID-META/STAR Work/COVID-19/Augmented/Tri_cov_428.jpg\n",
            "/content/drive/MyDrive/COVID-META/STAR Work/COVID-19/COVID cases/augmented_image_2932.png\n"
          ],
          "name": "stdout"
        },
        {
          "output_type": "stream",
          "text": [
            "WARNING:root:Lossy conversion from float64 to uint8. Range [0, 1]. Convert image to uint8 prior to saving to suppress this warning.\n"
          ],
          "name": "stderr"
        },
        {
          "output_type": "stream",
          "text": [
            "/content/drive/MyDrive/COVID-META/STAR Work/COVID-19/COVID cases/augmented_image_2933.png\n"
          ],
          "name": "stdout"
        },
        {
          "output_type": "stream",
          "text": [
            "WARNING:root:Lossy conversion from float64 to uint8. Range [0, 1]. Convert image to uint8 prior to saving to suppress this warning.\n"
          ],
          "name": "stderr"
        },
        {
          "output_type": "stream",
          "text": [
            "/content/drive/MyDrive/COVID-META/STAR Work/COVID-19/COVID cases/augmented_image_2934.png\n"
          ],
          "name": "stdout"
        },
        {
          "output_type": "stream",
          "text": [
            "WARNING:root:Lossy conversion from float64 to uint8. Range [0, 1]. Convert image to uint8 prior to saving to suppress this warning.\n"
          ],
          "name": "stderr"
        },
        {
          "output_type": "stream",
          "text": [
            "/content/drive/MyDrive/COVID-META/STAR Work/COVID-19/COVID cases/augmented_image_2935.png\n"
          ],
          "name": "stdout"
        },
        {
          "output_type": "stream",
          "text": [
            "WARNING:root:Lossy conversion from float64 to uint8. Range [0, 1]. Convert image to uint8 prior to saving to suppress this warning.\n"
          ],
          "name": "stderr"
        },
        {
          "output_type": "stream",
          "text": [
            "/content/drive/MyDrive/COVID-META/STAR Work/COVID-19/Augmented/Tri_cov_568.jpg\n",
            "/content/drive/MyDrive/COVID-META/STAR Work/COVID-19/COVID cases/augmented_image_2936.png\n",
            "/content/drive/MyDrive/COVID-META/STAR Work/COVID-19/COVID cases/augmented_image_2937.png\n",
            "/content/drive/MyDrive/COVID-META/STAR Work/COVID-19/COVID cases/augmented_image_2938.png\n"
          ],
          "name": "stdout"
        },
        {
          "output_type": "stream",
          "text": [
            "WARNING:root:Lossy conversion from float64 to uint8. Range [0, 1]. Convert image to uint8 prior to saving to suppress this warning.\n"
          ],
          "name": "stderr"
        },
        {
          "output_type": "stream",
          "text": [
            "/content/drive/MyDrive/COVID-META/STAR Work/COVID-19/COVID cases/augmented_image_2939.png\n",
            "/content/drive/MyDrive/COVID-META/STAR Work/COVID-19/Augmented/Tri_cov_552.jpg\n",
            "/content/drive/MyDrive/COVID-META/STAR Work/COVID-19/COVID cases/augmented_image_2940.png\n"
          ],
          "name": "stdout"
        },
        {
          "output_type": "stream",
          "text": [
            "WARNING:root:Lossy conversion from float64 to uint8. Range [0, 1]. Convert image to uint8 prior to saving to suppress this warning.\n"
          ],
          "name": "stderr"
        },
        {
          "output_type": "stream",
          "text": [
            "/content/drive/MyDrive/COVID-META/STAR Work/COVID-19/COVID cases/augmented_image_2941.png\n"
          ],
          "name": "stdout"
        },
        {
          "output_type": "stream",
          "text": [
            "WARNING:root:Lossy conversion from float64 to uint8. Range [0, 1]. Convert image to uint8 prior to saving to suppress this warning.\n"
          ],
          "name": "stderr"
        },
        {
          "output_type": "stream",
          "text": [
            "/content/drive/MyDrive/COVID-META/STAR Work/COVID-19/COVID cases/augmented_image_2942.png\n",
            "/content/drive/MyDrive/COVID-META/STAR Work/COVID-19/Augmented/Tri_cov_73.jpg\n"
          ],
          "name": "stdout"
        },
        {
          "output_type": "stream",
          "text": [
            "WARNING:root:Lossy conversion from float64 to uint8. Range [0, 1]. Convert image to uint8 prior to saving to suppress this warning.\n"
          ],
          "name": "stderr"
        },
        {
          "output_type": "stream",
          "text": [
            "/content/drive/MyDrive/COVID-META/STAR Work/COVID-19/COVID cases/augmented_image_2943.png\n",
            "/content/drive/MyDrive/COVID-META/STAR Work/COVID-19/COVID cases/augmented_image_2944.png\n",
            "/content/drive/MyDrive/COVID-META/STAR Work/COVID-19/COVID cases/augmented_image_2945.png\n",
            "/content/drive/MyDrive/COVID-META/STAR Work/COVID-19/Augmented/Tri_cov_235.jpg\n"
          ],
          "name": "stdout"
        },
        {
          "output_type": "stream",
          "text": [
            "WARNING:root:Lossy conversion from float64 to uint8. Range [0, 1]. Convert image to uint8 prior to saving to suppress this warning.\n"
          ],
          "name": "stderr"
        },
        {
          "output_type": "stream",
          "text": [
            "/content/drive/MyDrive/COVID-META/STAR Work/COVID-19/COVID cases/augmented_image_2946.png\n"
          ],
          "name": "stdout"
        },
        {
          "output_type": "stream",
          "text": [
            "WARNING:root:Lossy conversion from float64 to uint8. Range [0, 1]. Convert image to uint8 prior to saving to suppress this warning.\n"
          ],
          "name": "stderr"
        },
        {
          "output_type": "stream",
          "text": [
            "/content/drive/MyDrive/COVID-META/STAR Work/COVID-19/COVID cases/augmented_image_2947.png\n"
          ],
          "name": "stdout"
        },
        {
          "output_type": "stream",
          "text": [
            "WARNING:root:Lossy conversion from float64 to uint8. Range [0, 1]. Convert image to uint8 prior to saving to suppress this warning.\n"
          ],
          "name": "stderr"
        },
        {
          "output_type": "stream",
          "text": [
            "/content/drive/MyDrive/COVID-META/STAR Work/COVID-19/Augmented/Tri_cov_531.jpg\n",
            "/content/drive/MyDrive/COVID-META/STAR Work/COVID-19/COVID cases/augmented_image_2948.png\n"
          ],
          "name": "stdout"
        },
        {
          "output_type": "stream",
          "text": [
            "WARNING:root:Lossy conversion from float64 to uint8. Range [0, 1]. Convert image to uint8 prior to saving to suppress this warning.\n"
          ],
          "name": "stderr"
        },
        {
          "output_type": "stream",
          "text": [
            "/content/drive/MyDrive/COVID-META/STAR Work/COVID-19/COVID cases/augmented_image_2949.png\n"
          ],
          "name": "stdout"
        },
        {
          "output_type": "stream",
          "text": [
            "WARNING:root:Lossy conversion from float64 to uint8. Range [0, 1]. Convert image to uint8 prior to saving to suppress this warning.\n"
          ],
          "name": "stderr"
        },
        {
          "output_type": "stream",
          "text": [
            "/content/drive/MyDrive/COVID-META/STAR Work/COVID-19/Augmented/Tri_cov_79.jpg\n",
            "/content/drive/MyDrive/COVID-META/STAR Work/COVID-19/COVID cases/augmented_image_2950.png\n",
            "/content/drive/MyDrive/COVID-META/STAR Work/COVID-19/COVID cases/augmented_image_2951.png\n"
          ],
          "name": "stdout"
        },
        {
          "output_type": "stream",
          "text": [
            "WARNING:root:Lossy conversion from float64 to uint8. Range [0, 1]. Convert image to uint8 prior to saving to suppress this warning.\n"
          ],
          "name": "stderr"
        },
        {
          "output_type": "stream",
          "text": [
            "/content/drive/MyDrive/COVID-META/STAR Work/COVID-19/COVID cases/augmented_image_2952.png\n",
            "/content/drive/MyDrive/COVID-META/STAR Work/COVID-19/COVID cases/augmented_image_2953.png\n",
            "/content/drive/MyDrive/COVID-META/STAR Work/COVID-19/Augmented/Tri_cov_128.jpg\n",
            "/content/drive/MyDrive/COVID-META/STAR Work/COVID-19/COVID cases/augmented_image_2954.png\n",
            "/content/drive/MyDrive/COVID-META/STAR Work/COVID-19/COVID cases/augmented_image_2955.png\n"
          ],
          "name": "stdout"
        },
        {
          "output_type": "stream",
          "text": [
            "WARNING:root:Lossy conversion from float64 to uint8. Range [0, 1]. Convert image to uint8 prior to saving to suppress this warning.\n"
          ],
          "name": "stderr"
        },
        {
          "output_type": "stream",
          "text": [
            "/content/drive/MyDrive/COVID-META/STAR Work/COVID-19/COVID cases/augmented_image_2956.png\n",
            "/content/drive/MyDrive/COVID-META/STAR Work/COVID-19/Augmented/Tri_cov_234.jpg\n",
            "/content/drive/MyDrive/COVID-META/STAR Work/COVID-19/COVID cases/augmented_image_2957.png\n"
          ],
          "name": "stdout"
        },
        {
          "output_type": "stream",
          "text": [
            "WARNING:root:Lossy conversion from float64 to uint8. Range [0, 1]. Convert image to uint8 prior to saving to suppress this warning.\n"
          ],
          "name": "stderr"
        },
        {
          "output_type": "stream",
          "text": [
            "/content/drive/MyDrive/COVID-META/STAR Work/COVID-19/COVID cases/augmented_image_2958.png\n"
          ],
          "name": "stdout"
        },
        {
          "output_type": "stream",
          "text": [
            "WARNING:root:Lossy conversion from float64 to uint8. Range [0, 1]. Convert image to uint8 prior to saving to suppress this warning.\n"
          ],
          "name": "stderr"
        },
        {
          "output_type": "stream",
          "text": [
            "/content/drive/MyDrive/COVID-META/STAR Work/COVID-19/Augmented/Tri_cov_533.jpg\n",
            "/content/drive/MyDrive/COVID-META/STAR Work/COVID-19/COVID cases/augmented_image_2959.png\n"
          ],
          "name": "stdout"
        },
        {
          "output_type": "stream",
          "text": [
            "WARNING:root:Lossy conversion from float64 to uint8. Range [0, 1]. Convert image to uint8 prior to saving to suppress this warning.\n"
          ],
          "name": "stderr"
        },
        {
          "output_type": "stream",
          "text": [
            "/content/drive/MyDrive/COVID-META/STAR Work/COVID-19/COVID cases/augmented_image_2960.png\n",
            "/content/drive/MyDrive/COVID-META/STAR Work/COVID-19/COVID cases/augmented_image_2961.png\n",
            "/content/drive/MyDrive/COVID-META/STAR Work/COVID-19/Augmented/Tri_cov_310.jpg\n",
            "/content/drive/MyDrive/COVID-META/STAR Work/COVID-19/COVID cases/augmented_image_2962.png\n"
          ],
          "name": "stdout"
        },
        {
          "output_type": "stream",
          "text": [
            "WARNING:root:Lossy conversion from float64 to uint8. Range [0, 1]. Convert image to uint8 prior to saving to suppress this warning.\n"
          ],
          "name": "stderr"
        },
        {
          "output_type": "stream",
          "text": [
            "/content/drive/MyDrive/COVID-META/STAR Work/COVID-19/COVID cases/augmented_image_2963.png\n"
          ],
          "name": "stdout"
        },
        {
          "output_type": "stream",
          "text": [
            "WARNING:root:Lossy conversion from float64 to uint8. Range [0, 1]. Convert image to uint8 prior to saving to suppress this warning.\n"
          ],
          "name": "stderr"
        },
        {
          "output_type": "stream",
          "text": [
            "/content/drive/MyDrive/COVID-META/STAR Work/COVID-19/COVID cases/augmented_image_2964.png\n",
            "/content/drive/MyDrive/COVID-META/STAR Work/COVID-19/COVID cases/augmented_image_2965.png\n",
            "/content/drive/MyDrive/COVID-META/STAR Work/COVID-19/Augmented/Tri_cov_564.jpg\n"
          ],
          "name": "stdout"
        },
        {
          "output_type": "stream",
          "text": [
            "WARNING:root:Lossy conversion from float64 to uint8. Range [0, 1]. Convert image to uint8 prior to saving to suppress this warning.\n"
          ],
          "name": "stderr"
        },
        {
          "output_type": "stream",
          "text": [
            "/content/drive/MyDrive/COVID-META/STAR Work/COVID-19/COVID cases/augmented_image_2966.png\n",
            "/content/drive/MyDrive/COVID-META/STAR Work/COVID-19/COVID cases/augmented_image_2967.png\n"
          ],
          "name": "stdout"
        },
        {
          "output_type": "stream",
          "text": [
            "WARNING:root:Lossy conversion from float64 to uint8. Range [0, 1]. Convert image to uint8 prior to saving to suppress this warning.\n"
          ],
          "name": "stderr"
        },
        {
          "output_type": "stream",
          "text": [
            "/content/drive/MyDrive/COVID-META/STAR Work/COVID-19/COVID cases/augmented_image_2968.png\n"
          ],
          "name": "stdout"
        },
        {
          "output_type": "stream",
          "text": [
            "WARNING:root:Lossy conversion from float64 to uint8. Range [0, 1]. Convert image to uint8 prior to saving to suppress this warning.\n"
          ],
          "name": "stderr"
        },
        {
          "output_type": "stream",
          "text": [
            "/content/drive/MyDrive/COVID-META/STAR Work/COVID-19/COVID cases/augmented_image_2969.png\n",
            "/content/drive/MyDrive/COVID-META/STAR Work/COVID-19/Augmented/Tri_cov_297.jpg\n",
            "/content/drive/MyDrive/COVID-META/STAR Work/COVID-19/COVID cases/augmented_image_2970.png\n",
            "/content/drive/MyDrive/COVID-META/STAR Work/COVID-19/COVID cases/augmented_image_2971.png\n"
          ],
          "name": "stdout"
        },
        {
          "output_type": "stream",
          "text": [
            "WARNING:root:Lossy conversion from float64 to uint8. Range [0, 1]. Convert image to uint8 prior to saving to suppress this warning.\n"
          ],
          "name": "stderr"
        },
        {
          "output_type": "stream",
          "text": [
            "/content/drive/MyDrive/COVID-META/STAR Work/COVID-19/COVID cases/augmented_image_2972.png\n",
            "/content/drive/MyDrive/COVID-META/STAR Work/COVID-19/Augmented/Tri_cov_61.jpg\n",
            "/content/drive/MyDrive/COVID-META/STAR Work/COVID-19/COVID cases/augmented_image_2973.png\n",
            "/content/drive/MyDrive/COVID-META/STAR Work/COVID-19/COVID cases/augmented_image_2974.png\n",
            "/content/drive/MyDrive/COVID-META/STAR Work/COVID-19/COVID cases/augmented_image_2975.png\n",
            "/content/drive/MyDrive/COVID-META/STAR Work/COVID-19/Augmented/Tri_cov_535.jpg\n"
          ],
          "name": "stdout"
        },
        {
          "output_type": "stream",
          "text": [
            "WARNING:root:Lossy conversion from float64 to uint8. Range [0, 1]. Convert image to uint8 prior to saving to suppress this warning.\n"
          ],
          "name": "stderr"
        },
        {
          "output_type": "stream",
          "text": [
            "/content/drive/MyDrive/COVID-META/STAR Work/COVID-19/COVID cases/augmented_image_2976.png\n"
          ],
          "name": "stdout"
        },
        {
          "output_type": "stream",
          "text": [
            "WARNING:root:Lossy conversion from float64 to uint8. Range [0, 1]. Convert image to uint8 prior to saving to suppress this warning.\n"
          ],
          "name": "stderr"
        },
        {
          "output_type": "stream",
          "text": [
            "/content/drive/MyDrive/COVID-META/STAR Work/COVID-19/COVID cases/augmented_image_2977.png\n"
          ],
          "name": "stdout"
        },
        {
          "output_type": "stream",
          "text": [
            "WARNING:root:Lossy conversion from float64 to uint8. Range [0, 1]. Convert image to uint8 prior to saving to suppress this warning.\n"
          ],
          "name": "stderr"
        },
        {
          "output_type": "stream",
          "text": [
            "/content/drive/MyDrive/COVID-META/STAR Work/COVID-19/COVID cases/augmented_image_2978.png\n",
            "/content/drive/MyDrive/COVID-META/STAR Work/COVID-19/Augmented/Tri_cov_106.jpg\n",
            "/content/drive/MyDrive/COVID-META/STAR Work/COVID-19/COVID cases/augmented_image_2979.png\n"
          ],
          "name": "stdout"
        },
        {
          "output_type": "stream",
          "text": [
            "WARNING:root:Lossy conversion from float64 to uint8. Range [0, 1]. Convert image to uint8 prior to saving to suppress this warning.\n"
          ],
          "name": "stderr"
        },
        {
          "output_type": "stream",
          "text": [
            "/content/drive/MyDrive/COVID-META/STAR Work/COVID-19/COVID cases/augmented_image_2980.png\n",
            "/content/drive/MyDrive/COVID-META/STAR Work/COVID-19/Augmented/Tri_cov_493.jpg\n",
            "/content/drive/MyDrive/COVID-META/STAR Work/COVID-19/COVID cases/augmented_image_2981.png\n"
          ],
          "name": "stdout"
        },
        {
          "output_type": "stream",
          "text": [
            "WARNING:root:Lossy conversion from float64 to uint8. Range [0, 1]. Convert image to uint8 prior to saving to suppress this warning.\n"
          ],
          "name": "stderr"
        },
        {
          "output_type": "stream",
          "text": [
            "/content/drive/MyDrive/COVID-META/STAR Work/COVID-19/COVID cases/augmented_image_2982.png\n",
            "/content/drive/MyDrive/COVID-META/STAR Work/COVID-19/Augmented/Tri_cov_77.jpg\n"
          ],
          "name": "stdout"
        },
        {
          "output_type": "stream",
          "text": [
            "WARNING:root:Lossy conversion from float64 to uint8. Range [0, 1]. Convert image to uint8 prior to saving to suppress this warning.\n"
          ],
          "name": "stderr"
        },
        {
          "output_type": "stream",
          "text": [
            "/content/drive/MyDrive/COVID-META/STAR Work/COVID-19/COVID cases/augmented_image_2983.png\n",
            "/content/drive/MyDrive/COVID-META/STAR Work/COVID-19/COVID cases/augmented_image_2984.png\n"
          ],
          "name": "stdout"
        },
        {
          "output_type": "stream",
          "text": [
            "WARNING:root:Lossy conversion from float64 to uint8. Range [0, 1]. Convert image to uint8 prior to saving to suppress this warning.\n",
            "WARNING:root:Lossy conversion from float64 to uint8. Range [0, 1]. Convert image to uint8 prior to saving to suppress this warning.\n"
          ],
          "name": "stderr"
        },
        {
          "output_type": "stream",
          "text": [
            "/content/drive/MyDrive/COVID-META/STAR Work/COVID-19/COVID cases/augmented_image_2985.png\n",
            "/content/drive/MyDrive/COVID-META/STAR Work/COVID-19/COVID cases/augmented_image_2986.png\n",
            "/content/drive/MyDrive/COVID-META/STAR Work/COVID-19/Augmented/Tri_cov_360.jpg\n",
            "/content/drive/MyDrive/COVID-META/STAR Work/COVID-19/COVID cases/augmented_image_2987.png\n"
          ],
          "name": "stdout"
        },
        {
          "output_type": "stream",
          "text": [
            "WARNING:root:Lossy conversion from float64 to uint8. Range [0, 1]. Convert image to uint8 prior to saving to suppress this warning.\n"
          ],
          "name": "stderr"
        },
        {
          "output_type": "stream",
          "text": [
            "/content/drive/MyDrive/COVID-META/STAR Work/COVID-19/COVID cases/augmented_image_2988.png\n"
          ],
          "name": "stdout"
        },
        {
          "output_type": "stream",
          "text": [
            "WARNING:root:Lossy conversion from float64 to uint8. Range [0, 1]. Convert image to uint8 prior to saving to suppress this warning.\n"
          ],
          "name": "stderr"
        },
        {
          "output_type": "stream",
          "text": [
            "/content/drive/MyDrive/COVID-META/STAR Work/COVID-19/COVID cases/augmented_image_2989.png\n"
          ],
          "name": "stdout"
        },
        {
          "output_type": "stream",
          "text": [
            "WARNING:root:Lossy conversion from float64 to uint8. Range [0, 1]. Convert image to uint8 prior to saving to suppress this warning.\n"
          ],
          "name": "stderr"
        },
        {
          "output_type": "stream",
          "text": [
            "/content/drive/MyDrive/COVID-META/STAR Work/COVID-19/Augmented/Tri_cov_508.jpg\n",
            "/content/drive/MyDrive/COVID-META/STAR Work/COVID-19/COVID cases/augmented_image_2990.png\n"
          ],
          "name": "stdout"
        },
        {
          "output_type": "stream",
          "text": [
            "WARNING:root:Lossy conversion from float64 to uint8. Range [0, 1]. Convert image to uint8 prior to saving to suppress this warning.\n"
          ],
          "name": "stderr"
        },
        {
          "output_type": "stream",
          "text": [
            "/content/drive/MyDrive/COVID-META/STAR Work/COVID-19/COVID cases/augmented_image_2991.png\n"
          ],
          "name": "stdout"
        },
        {
          "output_type": "stream",
          "text": [
            "WARNING:root:Lossy conversion from float64 to uint8. Range [0, 1]. Convert image to uint8 prior to saving to suppress this warning.\n"
          ],
          "name": "stderr"
        },
        {
          "output_type": "stream",
          "text": [
            "/content/drive/MyDrive/COVID-META/STAR Work/COVID-19/COVID cases/augmented_image_2992.png\n"
          ],
          "name": "stdout"
        },
        {
          "output_type": "stream",
          "text": [
            "WARNING:root:Lossy conversion from float64 to uint8. Range [0, 1]. Convert image to uint8 prior to saving to suppress this warning.\n"
          ],
          "name": "stderr"
        },
        {
          "output_type": "stream",
          "text": [
            "/content/drive/MyDrive/COVID-META/STAR Work/COVID-19/COVID cases/augmented_image_2993.png\n"
          ],
          "name": "stdout"
        },
        {
          "output_type": "stream",
          "text": [
            "WARNING:root:Lossy conversion from float64 to uint8. Range [0, 1]. Convert image to uint8 prior to saving to suppress this warning.\n"
          ],
          "name": "stderr"
        },
        {
          "output_type": "stream",
          "text": [
            "/content/drive/MyDrive/COVID-META/STAR Work/COVID-19/Augmented/Tri_cov_431.jpg\n",
            "/content/drive/MyDrive/COVID-META/STAR Work/COVID-19/COVID cases/augmented_image_2994.png\n",
            "/content/drive/MyDrive/COVID-META/STAR Work/COVID-19/COVID cases/augmented_image_2995.png\n",
            "/content/drive/MyDrive/COVID-META/STAR Work/COVID-19/Augmented/Tri_cov_456.jpg\n"
          ],
          "name": "stdout"
        },
        {
          "output_type": "stream",
          "text": [
            "WARNING:root:Lossy conversion from float64 to uint8. Range [0, 1]. Convert image to uint8 prior to saving to suppress this warning.\n"
          ],
          "name": "stderr"
        },
        {
          "output_type": "stream",
          "text": [
            "/content/drive/MyDrive/COVID-META/STAR Work/COVID-19/COVID cases/augmented_image_2996.png\n"
          ],
          "name": "stdout"
        },
        {
          "output_type": "stream",
          "text": [
            "WARNING:root:Lossy conversion from float64 to uint8. Range [0, 1]. Convert image to uint8 prior to saving to suppress this warning.\n"
          ],
          "name": "stderr"
        },
        {
          "output_type": "stream",
          "text": [
            "/content/drive/MyDrive/COVID-META/STAR Work/COVID-19/COVID cases/augmented_image_2997.png\n"
          ],
          "name": "stdout"
        },
        {
          "output_type": "stream",
          "text": [
            "WARNING:root:Lossy conversion from float64 to uint8. Range [0, 1]. Convert image to uint8 prior to saving to suppress this warning.\n"
          ],
          "name": "stderr"
        },
        {
          "output_type": "stream",
          "text": [
            "/content/drive/MyDrive/COVID-META/STAR Work/COVID-19/COVID cases/augmented_image_2998.png\n",
            "/content/drive/MyDrive/COVID-META/STAR Work/COVID-19/Augmented/Tri_cov_233.jpg\n",
            "/content/drive/MyDrive/COVID-META/STAR Work/COVID-19/COVID cases/augmented_image_2999.png\n"
          ],
          "name": "stdout"
        },
        {
          "output_type": "stream",
          "text": [
            "WARNING:root:Lossy conversion from float64 to uint8. Range [0, 1]. Convert image to uint8 prior to saving to suppress this warning.\n"
          ],
          "name": "stderr"
        },
        {
          "output_type": "stream",
          "text": [
            "/content/drive/MyDrive/COVID-META/STAR Work/COVID-19/COVID cases/augmented_image_3000.png\n"
          ],
          "name": "stdout"
        },
        {
          "output_type": "stream",
          "text": [
            "WARNING:root:Lossy conversion from float64 to uint8. Range [0, 1]. Convert image to uint8 prior to saving to suppress this warning.\n"
          ],
          "name": "stderr"
        },
        {
          "output_type": "stream",
          "text": [
            "/content/drive/MyDrive/COVID-META/STAR Work/COVID-19/COVID cases/augmented_image_3001.png\n",
            "/content/drive/MyDrive/COVID-META/STAR Work/COVID-19/COVID cases/augmented_image_3002.png\n"
          ],
          "name": "stdout"
        },
        {
          "output_type": "stream",
          "text": [
            "WARNING:root:Lossy conversion from float64 to uint8. Range [0, 1]. Convert image to uint8 prior to saving to suppress this warning.\n"
          ],
          "name": "stderr"
        },
        {
          "output_type": "stream",
          "text": [
            "/content/drive/MyDrive/COVID-META/STAR Work/COVID-19/Augmented/Tri_cov_106.jpg\n",
            "/content/drive/MyDrive/COVID-META/STAR Work/COVID-19/COVID cases/augmented_image_3003.png\n",
            "/content/drive/MyDrive/COVID-META/STAR Work/COVID-19/COVID cases/augmented_image_3004.png\n"
          ],
          "name": "stdout"
        },
        {
          "output_type": "stream",
          "text": [
            "WARNING:root:Lossy conversion from float64 to uint8. Range [0, 1]. Convert image to uint8 prior to saving to suppress this warning.\n"
          ],
          "name": "stderr"
        },
        {
          "output_type": "stream",
          "text": [
            "/content/drive/MyDrive/COVID-META/STAR Work/COVID-19/COVID cases/augmented_image_3005.png\n",
            "/content/drive/MyDrive/COVID-META/STAR Work/COVID-19/Augmented/Tri_cov_517.jpg\n"
          ],
          "name": "stdout"
        },
        {
          "output_type": "stream",
          "text": [
            "WARNING:root:Lossy conversion from float64 to uint8. Range [0, 1]. Convert image to uint8 prior to saving to suppress this warning.\n"
          ],
          "name": "stderr"
        },
        {
          "output_type": "stream",
          "text": [
            "/content/drive/MyDrive/COVID-META/STAR Work/COVID-19/COVID cases/augmented_image_3006.png\n",
            "/content/drive/MyDrive/COVID-META/STAR Work/COVID-19/COVID cases/augmented_image_3007.png\n"
          ],
          "name": "stdout"
        },
        {
          "output_type": "stream",
          "text": [
            "WARNING:root:Lossy conversion from float64 to uint8. Range [0, 1]. Convert image to uint8 prior to saving to suppress this warning.\n"
          ],
          "name": "stderr"
        },
        {
          "output_type": "stream",
          "text": [
            "/content/drive/MyDrive/COVID-META/STAR Work/COVID-19/COVID cases/augmented_image_3008.png\n",
            "/content/drive/MyDrive/COVID-META/STAR Work/COVID-19/Augmented/Tri_cov_417.jpg\n",
            "/content/drive/MyDrive/COVID-META/STAR Work/COVID-19/COVID cases/augmented_image_3009.png\n",
            "/content/drive/MyDrive/COVID-META/STAR Work/COVID-19/COVID cases/augmented_image_3010.png\n",
            "/content/drive/MyDrive/COVID-META/STAR Work/COVID-19/Augmented/Tri_cov_157.jpg\n",
            "/content/drive/MyDrive/COVID-META/STAR Work/COVID-19/COVID cases/augmented_image_3011.png\n"
          ],
          "name": "stdout"
        },
        {
          "output_type": "stream",
          "text": [
            "WARNING:root:Lossy conversion from float64 to uint8. Range [0, 1]. Convert image to uint8 prior to saving to suppress this warning.\n",
            "WARNING:root:Lossy conversion from float64 to uint8. Range [0, 1]. Convert image to uint8 prior to saving to suppress this warning.\n"
          ],
          "name": "stderr"
        },
        {
          "output_type": "stream",
          "text": [
            "/content/drive/MyDrive/COVID-META/STAR Work/COVID-19/COVID cases/augmented_image_3012.png\n",
            "/content/drive/MyDrive/COVID-META/STAR Work/COVID-19/COVID cases/augmented_image_3013.png\n",
            "/content/drive/MyDrive/COVID-META/STAR Work/COVID-19/Augmented/Tri_cov_42.jpg\n"
          ],
          "name": "stdout"
        },
        {
          "output_type": "stream",
          "text": [
            "WARNING:root:Lossy conversion from float64 to uint8. Range [0, 1]. Convert image to uint8 prior to saving to suppress this warning.\n"
          ],
          "name": "stderr"
        },
        {
          "output_type": "stream",
          "text": [
            "/content/drive/MyDrive/COVID-META/STAR Work/COVID-19/COVID cases/augmented_image_3014.png\n"
          ],
          "name": "stdout"
        },
        {
          "output_type": "stream",
          "text": [
            "WARNING:root:Lossy conversion from float64 to uint8. Range [0, 1]. Convert image to uint8 prior to saving to suppress this warning.\n"
          ],
          "name": "stderr"
        },
        {
          "output_type": "stream",
          "text": [
            "/content/drive/MyDrive/COVID-META/STAR Work/COVID-19/COVID cases/augmented_image_3015.png\n",
            "/content/drive/MyDrive/COVID-META/STAR Work/COVID-19/COVID cases/augmented_image_3016.png\n",
            "/content/drive/MyDrive/COVID-META/STAR Work/COVID-19/Augmented/Tri_cov_286.jpg\n"
          ],
          "name": "stdout"
        },
        {
          "output_type": "stream",
          "text": [
            "WARNING:root:Lossy conversion from float64 to uint8. Range [0, 1]. Convert image to uint8 prior to saving to suppress this warning.\n"
          ],
          "name": "stderr"
        },
        {
          "output_type": "stream",
          "text": [
            "/content/drive/MyDrive/COVID-META/STAR Work/COVID-19/COVID cases/augmented_image_3017.png\n"
          ],
          "name": "stdout"
        },
        {
          "output_type": "stream",
          "text": [
            "WARNING:root:Lossy conversion from float64 to uint8. Range [0, 1]. Convert image to uint8 prior to saving to suppress this warning.\n"
          ],
          "name": "stderr"
        },
        {
          "output_type": "stream",
          "text": [
            "/content/drive/MyDrive/COVID-META/STAR Work/COVID-19/COVID cases/augmented_image_3018.png\n"
          ],
          "name": "stdout"
        },
        {
          "output_type": "stream",
          "text": [
            "WARNING:root:Lossy conversion from float64 to uint8. Range [0, 1]. Convert image to uint8 prior to saving to suppress this warning.\n"
          ],
          "name": "stderr"
        },
        {
          "output_type": "stream",
          "text": [
            "/content/drive/MyDrive/COVID-META/STAR Work/COVID-19/COVID cases/augmented_image_3019.png\n",
            "/content/drive/MyDrive/COVID-META/STAR Work/COVID-19/Augmented/Tri_cov_549.jpg\n"
          ],
          "name": "stdout"
        },
        {
          "output_type": "stream",
          "text": [
            "WARNING:root:Lossy conversion from float64 to uint8. Range [0, 1]. Convert image to uint8 prior to saving to suppress this warning.\n"
          ],
          "name": "stderr"
        },
        {
          "output_type": "stream",
          "text": [
            "/content/drive/MyDrive/COVID-META/STAR Work/COVID-19/COVID cases/augmented_image_3020.png\n"
          ],
          "name": "stdout"
        },
        {
          "output_type": "stream",
          "text": [
            "WARNING:root:Lossy conversion from float64 to uint8. Range [0, 1]. Convert image to uint8 prior to saving to suppress this warning.\n"
          ],
          "name": "stderr"
        },
        {
          "output_type": "stream",
          "text": [
            "/content/drive/MyDrive/COVID-META/STAR Work/COVID-19/COVID cases/augmented_image_3021.png\n"
          ],
          "name": "stdout"
        },
        {
          "output_type": "stream",
          "text": [
            "WARNING:root:Lossy conversion from float64 to uint8. Range [0, 1]. Convert image to uint8 prior to saving to suppress this warning.\n"
          ],
          "name": "stderr"
        },
        {
          "output_type": "stream",
          "text": [
            "/content/drive/MyDrive/COVID-META/STAR Work/COVID-19/COVID cases/augmented_image_3022.png\n",
            "/content/drive/MyDrive/COVID-META/STAR Work/COVID-19/COVID cases/augmented_image_3023.png\n",
            "/content/drive/MyDrive/COVID-META/STAR Work/COVID-19/Augmented/Tri_cov_384.jpg\n"
          ],
          "name": "stdout"
        },
        {
          "output_type": "stream",
          "text": [
            "WARNING:root:Lossy conversion from float64 to uint8. Range [0, 1]. Convert image to uint8 prior to saving to suppress this warning.\n"
          ],
          "name": "stderr"
        },
        {
          "output_type": "stream",
          "text": [
            "/content/drive/MyDrive/COVID-META/STAR Work/COVID-19/COVID cases/augmented_image_3024.png\n"
          ],
          "name": "stdout"
        },
        {
          "output_type": "stream",
          "text": [
            "WARNING:root:Lossy conversion from float64 to uint8. Range [0, 1]. Convert image to uint8 prior to saving to suppress this warning.\n"
          ],
          "name": "stderr"
        },
        {
          "output_type": "stream",
          "text": [
            "/content/drive/MyDrive/COVID-META/STAR Work/COVID-19/COVID cases/augmented_image_3025.png\n",
            "/content/drive/MyDrive/COVID-META/STAR Work/COVID-19/Augmented/Tri_cov_403.jpg\n",
            "/content/drive/MyDrive/COVID-META/STAR Work/COVID-19/COVID cases/augmented_image_3026.png\n"
          ],
          "name": "stdout"
        },
        {
          "output_type": "stream",
          "text": [
            "WARNING:root:Lossy conversion from float64 to uint8. Range [0, 1]. Convert image to uint8 prior to saving to suppress this warning.\n"
          ],
          "name": "stderr"
        },
        {
          "output_type": "stream",
          "text": [
            "/content/drive/MyDrive/COVID-META/STAR Work/COVID-19/COVID cases/augmented_image_3027.png\n"
          ],
          "name": "stdout"
        },
        {
          "output_type": "stream",
          "text": [
            "WARNING:root:Lossy conversion from float64 to uint8. Range [0, 1]. Convert image to uint8 prior to saving to suppress this warning.\n"
          ],
          "name": "stderr"
        },
        {
          "output_type": "stream",
          "text": [
            "/content/drive/MyDrive/COVID-META/STAR Work/COVID-19/COVID cases/augmented_image_3028.png\n"
          ],
          "name": "stdout"
        },
        {
          "output_type": "stream",
          "text": [
            "WARNING:root:Lossy conversion from float64 to uint8. Range [0, 1]. Convert image to uint8 prior to saving to suppress this warning.\n"
          ],
          "name": "stderr"
        },
        {
          "output_type": "stream",
          "text": [
            "/content/drive/MyDrive/COVID-META/STAR Work/COVID-19/COVID cases/augmented_image_3029.png\n",
            "/content/drive/MyDrive/COVID-META/STAR Work/COVID-19/Augmented/Tri_cov_35.jpg\n",
            "/content/drive/MyDrive/COVID-META/STAR Work/COVID-19/COVID cases/augmented_image_3030.png\n"
          ],
          "name": "stdout"
        },
        {
          "output_type": "stream",
          "text": [
            "WARNING:root:Lossy conversion from float64 to uint8. Range [0, 1]. Convert image to uint8 prior to saving to suppress this warning.\n"
          ],
          "name": "stderr"
        },
        {
          "output_type": "stream",
          "text": [
            "/content/drive/MyDrive/COVID-META/STAR Work/COVID-19/COVID cases/augmented_image_3031.png\n",
            "/content/drive/MyDrive/COVID-META/STAR Work/COVID-19/Augmented/Tri_cov_544.jpg\n",
            "/content/drive/MyDrive/COVID-META/STAR Work/COVID-19/COVID cases/augmented_image_3032.png\n"
          ],
          "name": "stdout"
        },
        {
          "output_type": "stream",
          "text": [
            "WARNING:root:Lossy conversion from float64 to uint8. Range [0, 1]. Convert image to uint8 prior to saving to suppress this warning.\n"
          ],
          "name": "stderr"
        },
        {
          "output_type": "stream",
          "text": [
            "/content/drive/MyDrive/COVID-META/STAR Work/COVID-19/COVID cases/augmented_image_3033.png\n",
            "/content/drive/MyDrive/COVID-META/STAR Work/COVID-19/Augmented/Tri_cov_167.jpg\n",
            "/content/drive/MyDrive/COVID-META/STAR Work/COVID-19/COVID cases/augmented_image_3034.png\n"
          ],
          "name": "stdout"
        },
        {
          "output_type": "stream",
          "text": [
            "WARNING:root:Lossy conversion from float64 to uint8. Range [0, 1]. Convert image to uint8 prior to saving to suppress this warning.\n"
          ],
          "name": "stderr"
        },
        {
          "output_type": "stream",
          "text": [
            "/content/drive/MyDrive/COVID-META/STAR Work/COVID-19/COVID cases/augmented_image_3035.png\n"
          ],
          "name": "stdout"
        },
        {
          "output_type": "stream",
          "text": [
            "WARNING:root:Lossy conversion from float64 to uint8. Range [0, 1]. Convert image to uint8 prior to saving to suppress this warning.\n"
          ],
          "name": "stderr"
        },
        {
          "output_type": "stream",
          "text": [
            "/content/drive/MyDrive/COVID-META/STAR Work/COVID-19/COVID cases/augmented_image_3036.png\n"
          ],
          "name": "stdout"
        },
        {
          "output_type": "stream",
          "text": [
            "WARNING:root:Lossy conversion from float64 to uint8. Range [0, 1]. Convert image to uint8 prior to saving to suppress this warning.\n"
          ],
          "name": "stderr"
        },
        {
          "output_type": "stream",
          "text": [
            "/content/drive/MyDrive/COVID-META/STAR Work/COVID-19/COVID cases/augmented_image_3037.png\n",
            "/content/drive/MyDrive/COVID-META/STAR Work/COVID-19/Augmented/Tri_cov_468.jpg\n"
          ],
          "name": "stdout"
        },
        {
          "output_type": "stream",
          "text": [
            "WARNING:root:Lossy conversion from float64 to uint8. Range [0, 1]. Convert image to uint8 prior to saving to suppress this warning.\n"
          ],
          "name": "stderr"
        },
        {
          "output_type": "stream",
          "text": [
            "/content/drive/MyDrive/COVID-META/STAR Work/COVID-19/COVID cases/augmented_image_3038.png\n",
            "/content/drive/MyDrive/COVID-META/STAR Work/COVID-19/COVID cases/augmented_image_3039.png\n",
            "/content/drive/MyDrive/COVID-META/STAR Work/COVID-19/Augmented/Tri_cov_126.jpg\n"
          ],
          "name": "stdout"
        },
        {
          "output_type": "stream",
          "text": [
            "WARNING:root:Lossy conversion from float64 to uint8. Range [0, 1]. Convert image to uint8 prior to saving to suppress this warning.\n"
          ],
          "name": "stderr"
        },
        {
          "output_type": "stream",
          "text": [
            "/content/drive/MyDrive/COVID-META/STAR Work/COVID-19/COVID cases/augmented_image_3040.png\n"
          ],
          "name": "stdout"
        },
        {
          "output_type": "stream",
          "text": [
            "WARNING:root:Lossy conversion from float64 to uint8. Range [0, 1]. Convert image to uint8 prior to saving to suppress this warning.\n",
            "WARNING:root:Lossy conversion from float64 to uint8. Range [0, 1]. Convert image to uint8 prior to saving to suppress this warning.\n"
          ],
          "name": "stderr"
        },
        {
          "output_type": "stream",
          "text": [
            "/content/drive/MyDrive/COVID-META/STAR Work/COVID-19/COVID cases/augmented_image_3041.png\n",
            "/content/drive/MyDrive/COVID-META/STAR Work/COVID-19/COVID cases/augmented_image_3042.png\n",
            "/content/drive/MyDrive/COVID-META/STAR Work/COVID-19/COVID cases/augmented_image_3043.png\n"
          ],
          "name": "stdout"
        },
        {
          "output_type": "stream",
          "text": [
            "WARNING:root:Lossy conversion from float64 to uint8. Range [0, 1]. Convert image to uint8 prior to saving to suppress this warning.\n"
          ],
          "name": "stderr"
        },
        {
          "output_type": "stream",
          "text": [
            "/content/drive/MyDrive/COVID-META/STAR Work/COVID-19/Augmented/Tri_cov_18.jpg\n",
            "/content/drive/MyDrive/COVID-META/STAR Work/COVID-19/COVID cases/augmented_image_3044.png\n"
          ],
          "name": "stdout"
        },
        {
          "output_type": "stream",
          "text": [
            "WARNING:root:Lossy conversion from float64 to uint8. Range [0, 1]. Convert image to uint8 prior to saving to suppress this warning.\n"
          ],
          "name": "stderr"
        },
        {
          "output_type": "stream",
          "text": [
            "/content/drive/MyDrive/COVID-META/STAR Work/COVID-19/COVID cases/augmented_image_3045.png\n"
          ],
          "name": "stdout"
        },
        {
          "output_type": "stream",
          "text": [
            "WARNING:root:Lossy conversion from float64 to uint8. Range [0, 1]. Convert image to uint8 prior to saving to suppress this warning.\n"
          ],
          "name": "stderr"
        },
        {
          "output_type": "stream",
          "text": [
            "/content/drive/MyDrive/COVID-META/STAR Work/COVID-19/COVID cases/augmented_image_3046.png\n"
          ],
          "name": "stdout"
        },
        {
          "output_type": "stream",
          "text": [
            "WARNING:root:Lossy conversion from float64 to uint8. Range [0, 1]. Convert image to uint8 prior to saving to suppress this warning.\n"
          ],
          "name": "stderr"
        },
        {
          "output_type": "stream",
          "text": [
            "/content/drive/MyDrive/COVID-META/STAR Work/COVID-19/COVID cases/augmented_image_3047.png\n",
            "/content/drive/MyDrive/COVID-META/STAR Work/COVID-19/Augmented/Tri_cov_453.jpg\n"
          ],
          "name": "stdout"
        },
        {
          "output_type": "stream",
          "text": [
            "WARNING:root:Lossy conversion from float64 to uint8. Range [0, 1]. Convert image to uint8 prior to saving to suppress this warning.\n"
          ],
          "name": "stderr"
        },
        {
          "output_type": "stream",
          "text": [
            "/content/drive/MyDrive/COVID-META/STAR Work/COVID-19/COVID cases/augmented_image_3048.png\n"
          ],
          "name": "stdout"
        },
        {
          "output_type": "stream",
          "text": [
            "WARNING:root:Lossy conversion from float64 to uint8. Range [0, 1]. Convert image to uint8 prior to saving to suppress this warning.\n"
          ],
          "name": "stderr"
        },
        {
          "output_type": "stream",
          "text": [
            "/content/drive/MyDrive/COVID-META/STAR Work/COVID-19/COVID cases/augmented_image_3049.png\n"
          ],
          "name": "stdout"
        },
        {
          "output_type": "stream",
          "text": [
            "WARNING:root:Lossy conversion from float64 to uint8. Range [0, 1]. Convert image to uint8 prior to saving to suppress this warning.\n"
          ],
          "name": "stderr"
        },
        {
          "output_type": "stream",
          "text": [
            "/content/drive/MyDrive/COVID-META/STAR Work/COVID-19/COVID cases/augmented_image_3050.png\n"
          ],
          "name": "stdout"
        },
        {
          "output_type": "stream",
          "text": [
            "WARNING:root:Lossy conversion from float64 to uint8. Range [0, 1]. Convert image to uint8 prior to saving to suppress this warning.\n"
          ],
          "name": "stderr"
        },
        {
          "output_type": "stream",
          "text": [
            "/content/drive/MyDrive/COVID-META/STAR Work/COVID-19/COVID cases/augmented_image_3051.png\n",
            "/content/drive/MyDrive/COVID-META/STAR Work/COVID-19/Augmented/Tri_cov_335.jpg\n",
            "/content/drive/MyDrive/COVID-META/STAR Work/COVID-19/COVID cases/augmented_image_3052.png\n"
          ],
          "name": "stdout"
        },
        {
          "output_type": "stream",
          "text": [
            "WARNING:root:Lossy conversion from float64 to uint8. Range [0, 1]. Convert image to uint8 prior to saving to suppress this warning.\n"
          ],
          "name": "stderr"
        },
        {
          "output_type": "stream",
          "text": [
            "/content/drive/MyDrive/COVID-META/STAR Work/COVID-19/COVID cases/augmented_image_3053.png\n",
            "/content/drive/MyDrive/COVID-META/STAR Work/COVID-19/Augmented/Tri_cov_347.jpg\n"
          ],
          "name": "stdout"
        },
        {
          "output_type": "stream",
          "text": [
            "WARNING:root:Lossy conversion from float64 to uint8. Range [0, 1]. Convert image to uint8 prior to saving to suppress this warning.\n"
          ],
          "name": "stderr"
        },
        {
          "output_type": "stream",
          "text": [
            "/content/drive/MyDrive/COVID-META/STAR Work/COVID-19/COVID cases/augmented_image_3054.png\n",
            "/content/drive/MyDrive/COVID-META/STAR Work/COVID-19/COVID cases/augmented_image_3055.png\n",
            "/content/drive/MyDrive/COVID-META/STAR Work/COVID-19/Augmented/Tri_cov_129.jpg\n",
            "/content/drive/MyDrive/COVID-META/STAR Work/COVID-19/COVID cases/augmented_image_3056.png\n",
            "/content/drive/MyDrive/COVID-META/STAR Work/COVID-19/COVID cases/augmented_image_3057.png\n"
          ],
          "name": "stdout"
        },
        {
          "output_type": "stream",
          "text": [
            "WARNING:root:Lossy conversion from float64 to uint8. Range [0, 1]. Convert image to uint8 prior to saving to suppress this warning.\n"
          ],
          "name": "stderr"
        },
        {
          "output_type": "stream",
          "text": [
            "/content/drive/MyDrive/COVID-META/STAR Work/COVID-19/Augmented/Tri_cov_328.jpg\n",
            "/content/drive/MyDrive/COVID-META/STAR Work/COVID-19/COVID cases/augmented_image_3058.png\n"
          ],
          "name": "stdout"
        },
        {
          "output_type": "stream",
          "text": [
            "WARNING:root:Lossy conversion from float64 to uint8. Range [0, 1]. Convert image to uint8 prior to saving to suppress this warning.\n"
          ],
          "name": "stderr"
        },
        {
          "output_type": "stream",
          "text": [
            "/content/drive/MyDrive/COVID-META/STAR Work/COVID-19/COVID cases/augmented_image_3059.png\n"
          ],
          "name": "stdout"
        },
        {
          "output_type": "stream",
          "text": [
            "WARNING:root:Lossy conversion from float64 to uint8. Range [0, 1]. Convert image to uint8 prior to saving to suppress this warning.\n"
          ],
          "name": "stderr"
        },
        {
          "output_type": "stream",
          "text": [
            "/content/drive/MyDrive/COVID-META/STAR Work/COVID-19/COVID cases/augmented_image_3060.png\n",
            "/content/drive/MyDrive/COVID-META/STAR Work/COVID-19/Augmented/Tri_cov_485.jpg\n",
            "/content/drive/MyDrive/COVID-META/STAR Work/COVID-19/COVID cases/augmented_image_3061.png\n",
            "/content/drive/MyDrive/COVID-META/STAR Work/COVID-19/COVID cases/augmented_image_3062.png\n",
            "/content/drive/MyDrive/COVID-META/STAR Work/COVID-19/Augmented/Tri_cov_68.jpg\n"
          ],
          "name": "stdout"
        },
        {
          "output_type": "stream",
          "text": [
            "WARNING:root:Lossy conversion from float64 to uint8. Range [0, 1]. Convert image to uint8 prior to saving to suppress this warning.\n"
          ],
          "name": "stderr"
        },
        {
          "output_type": "stream",
          "text": [
            "/content/drive/MyDrive/COVID-META/STAR Work/COVID-19/COVID cases/augmented_image_3063.png\n"
          ],
          "name": "stdout"
        },
        {
          "output_type": "stream",
          "text": [
            "WARNING:root:Lossy conversion from float64 to uint8. Range [0, 1]. Convert image to uint8 prior to saving to suppress this warning.\n"
          ],
          "name": "stderr"
        },
        {
          "output_type": "stream",
          "text": [
            "/content/drive/MyDrive/COVID-META/STAR Work/COVID-19/COVID cases/augmented_image_3064.png\n"
          ],
          "name": "stdout"
        },
        {
          "output_type": "stream",
          "text": [
            "WARNING:root:Lossy conversion from float64 to uint8. Range [0, 1]. Convert image to uint8 prior to saving to suppress this warning.\n"
          ],
          "name": "stderr"
        },
        {
          "output_type": "stream",
          "text": [
            "/content/drive/MyDrive/COVID-META/STAR Work/COVID-19/COVID cases/augmented_image_3065.png\n"
          ],
          "name": "stdout"
        },
        {
          "output_type": "stream",
          "text": [
            "WARNING:root:Lossy conversion from float64 to uint8. Range [0, 1]. Convert image to uint8 prior to saving to suppress this warning.\n"
          ],
          "name": "stderr"
        },
        {
          "output_type": "stream",
          "text": [
            "/content/drive/MyDrive/COVID-META/STAR Work/COVID-19/COVID cases/augmented_image_3066.png\n",
            "/content/drive/MyDrive/COVID-META/STAR Work/COVID-19/Augmented/Tri_cov_361.jpg\n"
          ],
          "name": "stdout"
        },
        {
          "output_type": "stream",
          "text": [
            "WARNING:root:Lossy conversion from float64 to uint8. Range [0, 1]. Convert image to uint8 prior to saving to suppress this warning.\n"
          ],
          "name": "stderr"
        },
        {
          "output_type": "stream",
          "text": [
            "/content/drive/MyDrive/COVID-META/STAR Work/COVID-19/COVID cases/augmented_image_3067.png\n"
          ],
          "name": "stdout"
        },
        {
          "output_type": "stream",
          "text": [
            "WARNING:root:Lossy conversion from float64 to uint8. Range [0, 1]. Convert image to uint8 prior to saving to suppress this warning.\n"
          ],
          "name": "stderr"
        },
        {
          "output_type": "stream",
          "text": [
            "/content/drive/MyDrive/COVID-META/STAR Work/COVID-19/COVID cases/augmented_image_3068.png\n",
            "/content/drive/MyDrive/COVID-META/STAR Work/COVID-19/COVID cases/augmented_image_3069.png\n",
            "/content/drive/MyDrive/COVID-META/STAR Work/COVID-19/COVID cases/augmented_image_3070.png\n",
            "/content/drive/MyDrive/COVID-META/STAR Work/COVID-19/Augmented/Tri_cov_262.jpg\n",
            "/content/drive/MyDrive/COVID-META/STAR Work/COVID-19/COVID cases/augmented_image_3071.png\n",
            "/content/drive/MyDrive/COVID-META/STAR Work/COVID-19/COVID cases/augmented_image_3072.png\n"
          ],
          "name": "stdout"
        },
        {
          "output_type": "stream",
          "text": [
            "WARNING:root:Lossy conversion from float64 to uint8. Range [0, 1]. Convert image to uint8 prior to saving to suppress this warning.\n"
          ],
          "name": "stderr"
        },
        {
          "output_type": "stream",
          "text": [
            "/content/drive/MyDrive/COVID-META/STAR Work/COVID-19/COVID cases/augmented_image_3073.png\n",
            "/content/drive/MyDrive/COVID-META/STAR Work/COVID-19/COVID cases/augmented_image_3074.png\n"
          ],
          "name": "stdout"
        },
        {
          "output_type": "stream",
          "text": [
            "WARNING:root:Lossy conversion from float64 to uint8. Range [0, 1]. Convert image to uint8 prior to saving to suppress this warning.\n",
            "WARNING:root:Lossy conversion from float64 to uint8. Range [0, 1]. Convert image to uint8 prior to saving to suppress this warning.\n"
          ],
          "name": "stderr"
        },
        {
          "output_type": "stream",
          "text": [
            "/content/drive/MyDrive/COVID-META/STAR Work/COVID-19/Augmented/Tri_cov_58.jpg\n",
            "/content/drive/MyDrive/COVID-META/STAR Work/COVID-19/COVID cases/augmented_image_3075.png\n",
            "/content/drive/MyDrive/COVID-META/STAR Work/COVID-19/COVID cases/augmented_image_3076.png\n"
          ],
          "name": "stdout"
        },
        {
          "output_type": "stream",
          "text": [
            "WARNING:root:Lossy conversion from float64 to uint8. Range [0, 1]. Convert image to uint8 prior to saving to suppress this warning.\n"
          ],
          "name": "stderr"
        },
        {
          "output_type": "stream",
          "text": [
            "/content/drive/MyDrive/COVID-META/STAR Work/COVID-19/Augmented/Tri_cov_87.jpg\n",
            "/content/drive/MyDrive/COVID-META/STAR Work/COVID-19/COVID cases/augmented_image_3077.png\n"
          ],
          "name": "stdout"
        },
        {
          "output_type": "stream",
          "text": [
            "WARNING:root:Lossy conversion from float64 to uint8. Range [0, 1]. Convert image to uint8 prior to saving to suppress this warning.\n"
          ],
          "name": "stderr"
        },
        {
          "output_type": "stream",
          "text": [
            "/content/drive/MyDrive/COVID-META/STAR Work/COVID-19/COVID cases/augmented_image_3078.png\n"
          ],
          "name": "stdout"
        },
        {
          "output_type": "stream",
          "text": [
            "WARNING:root:Lossy conversion from float64 to uint8. Range [0, 1]. Convert image to uint8 prior to saving to suppress this warning.\n"
          ],
          "name": "stderr"
        },
        {
          "output_type": "stream",
          "text": [
            "/content/drive/MyDrive/COVID-META/STAR Work/COVID-19/COVID cases/augmented_image_3079.png\n",
            "/content/drive/MyDrive/COVID-META/STAR Work/COVID-19/Augmented/Tri_cov_109.jpg\n"
          ],
          "name": "stdout"
        },
        {
          "output_type": "stream",
          "text": [
            "WARNING:root:Lossy conversion from float64 to uint8. Range [0, 1]. Convert image to uint8 prior to saving to suppress this warning.\n"
          ],
          "name": "stderr"
        },
        {
          "output_type": "stream",
          "text": [
            "/content/drive/MyDrive/COVID-META/STAR Work/COVID-19/COVID cases/augmented_image_3080.png\n",
            "/content/drive/MyDrive/COVID-META/STAR Work/COVID-19/COVID cases/augmented_image_3081.png\n"
          ],
          "name": "stdout"
        },
        {
          "output_type": "error",
          "ename": "KeyboardInterrupt",
          "evalue": "ignored",
          "traceback": [
            "\u001b[0;31m---------------------------------------------------------------------------\u001b[0m",
            "\u001b[0;31mKeyboardInterrupt\u001b[0m                         Traceback (most recent call last)",
            "\u001b[0;32m<ipython-input-17-84c9209afbe4>\u001b[0m in \u001b[0;36m<module>\u001b[0;34m()\u001b[0m\n\u001b[1;32m     46\u001b[0m         \u001b[0mprint\u001b[0m\u001b[0;34m(\u001b[0m\u001b[0mnew_file_path\u001b[0m\u001b[0;34m)\u001b[0m\u001b[0;34m\u001b[0m\u001b[0;34m\u001b[0m\u001b[0m\n\u001b[1;32m     47\u001b[0m         \u001b[0;31m# write image to the disk\u001b[0m\u001b[0;34m\u001b[0m\u001b[0;34m\u001b[0m\u001b[0;34m\u001b[0m\u001b[0m\n\u001b[0;32m---> 48\u001b[0;31m         \u001b[0msk\u001b[0m\u001b[0;34m.\u001b[0m\u001b[0mio\u001b[0m\u001b[0;34m.\u001b[0m\u001b[0mimsave\u001b[0m\u001b[0;34m(\u001b[0m\u001b[0mnew_file_path\u001b[0m\u001b[0;34m,\u001b[0m \u001b[0mtransformed_image\u001b[0m\u001b[0;34m)\u001b[0m\u001b[0;34m\u001b[0m\u001b[0;34m\u001b[0m\u001b[0m\n\u001b[0m\u001b[1;32m     49\u001b[0m     \u001b[0mnum_generated_files\u001b[0m\u001b[0;34m+=\u001b[0m\u001b[0;36m1\u001b[0m\u001b[0;34m\u001b[0m\u001b[0;34m\u001b[0m\u001b[0m\n",
            "\u001b[0;32m/usr/local/lib/python3.7/dist-packages/skimage/io/_io.py\u001b[0m in \u001b[0;36mimsave\u001b[0;34m(fname, arr, plugin, check_contrast, **plugin_args)\u001b[0m\n\u001b[1;32m    125\u001b[0m         \u001b[0;32mif\u001b[0m \u001b[0mfname\u001b[0m\u001b[0;34m.\u001b[0m\u001b[0mlower\u001b[0m\u001b[0;34m(\u001b[0m\u001b[0;34m)\u001b[0m\u001b[0;34m.\u001b[0m\u001b[0mendswith\u001b[0m\u001b[0;34m(\u001b[0m\u001b[0;34m(\u001b[0m\u001b[0;34m'.tiff'\u001b[0m\u001b[0;34m,\u001b[0m \u001b[0;34m'.tif'\u001b[0m\u001b[0;34m)\u001b[0m\u001b[0;34m)\u001b[0m\u001b[0;34m:\u001b[0m\u001b[0;34m\u001b[0m\u001b[0;34m\u001b[0m\u001b[0m\n\u001b[1;32m    126\u001b[0m             \u001b[0mplugin\u001b[0m \u001b[0;34m=\u001b[0m \u001b[0;34m'tifffile'\u001b[0m\u001b[0;34m\u001b[0m\u001b[0;34m\u001b[0m\u001b[0m\n\u001b[0;32m--> 127\u001b[0;31m     \u001b[0;32mif\u001b[0m \u001b[0mcheck_contrast\u001b[0m \u001b[0;32mand\u001b[0m \u001b[0mis_low_contrast\u001b[0m\u001b[0;34m(\u001b[0m\u001b[0marr\u001b[0m\u001b[0;34m)\u001b[0m\u001b[0;34m:\u001b[0m\u001b[0;34m\u001b[0m\u001b[0;34m\u001b[0m\u001b[0m\n\u001b[0m\u001b[1;32m    128\u001b[0m         \u001b[0mwarn\u001b[0m\u001b[0;34m(\u001b[0m\u001b[0;34m'%s is a low contrast image'\u001b[0m \u001b[0;34m%\u001b[0m \u001b[0mfname\u001b[0m\u001b[0;34m)\u001b[0m\u001b[0;34m\u001b[0m\u001b[0;34m\u001b[0m\u001b[0m\n\u001b[1;32m    129\u001b[0m     \u001b[0;32mif\u001b[0m \u001b[0marr\u001b[0m\u001b[0;34m.\u001b[0m\u001b[0mdtype\u001b[0m \u001b[0;34m==\u001b[0m \u001b[0mbool\u001b[0m\u001b[0;34m:\u001b[0m\u001b[0;34m\u001b[0m\u001b[0;34m\u001b[0m\u001b[0m\n",
            "\u001b[0;32m/usr/local/lib/python3.7/dist-packages/skimage/exposure/exposure.py\u001b[0m in \u001b[0;36mis_low_contrast\u001b[0;34m(image, fraction_threshold, lower_percentile, upper_percentile, method)\u001b[0m\n\u001b[1;32m    554\u001b[0m     \u001b[0mimage\u001b[0m \u001b[0;34m=\u001b[0m \u001b[0mnp\u001b[0m\u001b[0;34m.\u001b[0m\u001b[0masanyarray\u001b[0m\u001b[0;34m(\u001b[0m\u001b[0mimage\u001b[0m\u001b[0;34m)\u001b[0m\u001b[0;34m\u001b[0m\u001b[0;34m\u001b[0m\u001b[0m\n\u001b[1;32m    555\u001b[0m     \u001b[0;32mif\u001b[0m \u001b[0mimage\u001b[0m\u001b[0;34m.\u001b[0m\u001b[0mndim\u001b[0m \u001b[0;34m==\u001b[0m \u001b[0;36m3\u001b[0m \u001b[0;32mand\u001b[0m \u001b[0mimage\u001b[0m\u001b[0;34m.\u001b[0m\u001b[0mshape\u001b[0m\u001b[0;34m[\u001b[0m\u001b[0;36m2\u001b[0m\u001b[0;34m]\u001b[0m \u001b[0;32min\u001b[0m \u001b[0;34m[\u001b[0m\u001b[0;36m3\u001b[0m\u001b[0;34m,\u001b[0m \u001b[0;36m4\u001b[0m\u001b[0;34m]\u001b[0m\u001b[0;34m:\u001b[0m\u001b[0;34m\u001b[0m\u001b[0;34m\u001b[0m\u001b[0m\n\u001b[0;32m--> 556\u001b[0;31m         \u001b[0mimage\u001b[0m \u001b[0;34m=\u001b[0m \u001b[0mrgb2gray\u001b[0m\u001b[0;34m(\u001b[0m\u001b[0mimage\u001b[0m\u001b[0;34m)\u001b[0m\u001b[0;34m\u001b[0m\u001b[0;34m\u001b[0m\u001b[0m\n\u001b[0m\u001b[1;32m    557\u001b[0m \u001b[0;34m\u001b[0m\u001b[0m\n\u001b[1;32m    558\u001b[0m     \u001b[0mdlimits\u001b[0m \u001b[0;34m=\u001b[0m \u001b[0mdtype_limits\u001b[0m\u001b[0;34m(\u001b[0m\u001b[0mimage\u001b[0m\u001b[0;34m,\u001b[0m \u001b[0mclip_negative\u001b[0m\u001b[0;34m=\u001b[0m\u001b[0;32mFalse\u001b[0m\u001b[0;34m)\u001b[0m\u001b[0;34m\u001b[0m\u001b[0;34m\u001b[0m\u001b[0m\n",
            "\u001b[0;32m/usr/local/lib/python3.7/dist-packages/skimage/color/colorconv.py\u001b[0m in \u001b[0;36mrgb2gray\u001b[0;34m(rgb)\u001b[0m\n\u001b[1;32m    790\u001b[0m         \u001b[0;32mreturn\u001b[0m \u001b[0mnp\u001b[0m\u001b[0;34m.\u001b[0m\u001b[0mascontiguousarray\u001b[0m\u001b[0;34m(\u001b[0m\u001b[0mrgb\u001b[0m\u001b[0;34m)\u001b[0m\u001b[0;34m\u001b[0m\u001b[0;34m\u001b[0m\u001b[0m\n\u001b[1;32m    791\u001b[0m \u001b[0;34m\u001b[0m\u001b[0m\n\u001b[0;32m--> 792\u001b[0;31m     \u001b[0mrgb\u001b[0m \u001b[0;34m=\u001b[0m \u001b[0m_prepare_colorarray\u001b[0m\u001b[0;34m(\u001b[0m\u001b[0mrgb\u001b[0m\u001b[0;34m[\u001b[0m\u001b[0;34m...\u001b[0m\u001b[0;34m,\u001b[0m \u001b[0;34m:\u001b[0m\u001b[0;36m3\u001b[0m\u001b[0;34m]\u001b[0m\u001b[0;34m)\u001b[0m\u001b[0;34m\u001b[0m\u001b[0;34m\u001b[0m\u001b[0m\n\u001b[0m\u001b[1;32m    793\u001b[0m     \u001b[0mcoeffs\u001b[0m \u001b[0;34m=\u001b[0m \u001b[0mnp\u001b[0m\u001b[0;34m.\u001b[0m\u001b[0marray\u001b[0m\u001b[0;34m(\u001b[0m\u001b[0;34m[\u001b[0m\u001b[0;36m0.2125\u001b[0m\u001b[0;34m,\u001b[0m \u001b[0;36m0.7154\u001b[0m\u001b[0;34m,\u001b[0m \u001b[0;36m0.0721\u001b[0m\u001b[0;34m]\u001b[0m\u001b[0;34m,\u001b[0m \u001b[0mdtype\u001b[0m\u001b[0;34m=\u001b[0m\u001b[0mrgb\u001b[0m\u001b[0;34m.\u001b[0m\u001b[0mdtype\u001b[0m\u001b[0;34m)\u001b[0m\u001b[0;34m\u001b[0m\u001b[0;34m\u001b[0m\u001b[0m\n\u001b[1;32m    794\u001b[0m     \u001b[0;32mreturn\u001b[0m \u001b[0mrgb\u001b[0m \u001b[0;34m@\u001b[0m \u001b[0mcoeffs\u001b[0m\u001b[0;34m\u001b[0m\u001b[0;34m\u001b[0m\u001b[0m\n",
            "\u001b[0;32m/usr/local/lib/python3.7/dist-packages/skimage/color/colorconv.py\u001b[0m in \u001b[0;36m_prepare_colorarray\u001b[0;34m(arr)\u001b[0m\n\u001b[1;32m    145\u001b[0m         \u001b[0;32mraise\u001b[0m \u001b[0mValueError\u001b[0m\u001b[0;34m(\u001b[0m\u001b[0mmsg\u001b[0m\u001b[0;34m)\u001b[0m\u001b[0;34m\u001b[0m\u001b[0;34m\u001b[0m\u001b[0m\n\u001b[1;32m    146\u001b[0m \u001b[0;34m\u001b[0m\u001b[0m\n\u001b[0;32m--> 147\u001b[0;31m     \u001b[0;32mreturn\u001b[0m \u001b[0mdtype\u001b[0m\u001b[0;34m.\u001b[0m\u001b[0mimg_as_float\u001b[0m\u001b[0;34m(\u001b[0m\u001b[0marr\u001b[0m\u001b[0;34m)\u001b[0m\u001b[0;34m\u001b[0m\u001b[0;34m\u001b[0m\u001b[0m\n\u001b[0m\u001b[1;32m    148\u001b[0m \u001b[0;34m\u001b[0m\u001b[0m\n\u001b[1;32m    149\u001b[0m \u001b[0;34m\u001b[0m\u001b[0m\n",
            "\u001b[0;32m/usr/local/lib/python3.7/dist-packages/skimage/util/dtype.py\u001b[0m in \u001b[0;36mimg_as_float\u001b[0;34m(image, force_copy)\u001b[0m\n\u001b[1;32m    428\u001b[0m \u001b[0;34m\u001b[0m\u001b[0m\n\u001b[1;32m    429\u001b[0m     \"\"\"\n\u001b[0;32m--> 430\u001b[0;31m     \u001b[0;32mreturn\u001b[0m \u001b[0mconvert\u001b[0m\u001b[0;34m(\u001b[0m\u001b[0mimage\u001b[0m\u001b[0;34m,\u001b[0m \u001b[0mnp\u001b[0m\u001b[0;34m.\u001b[0m\u001b[0mfloating\u001b[0m\u001b[0;34m,\u001b[0m \u001b[0mforce_copy\u001b[0m\u001b[0;34m)\u001b[0m\u001b[0;34m\u001b[0m\u001b[0;34m\u001b[0m\u001b[0m\n\u001b[0m\u001b[1;32m    431\u001b[0m \u001b[0;34m\u001b[0m\u001b[0m\n\u001b[1;32m    432\u001b[0m \u001b[0;34m\u001b[0m\u001b[0m\n",
            "\u001b[0;32m/usr/local/lib/python3.7/dist-packages/skimage/util/dtype.py\u001b[0m in \u001b[0;36mconvert\u001b[0;34m(image, dtype, force_copy, uniform)\u001b[0m\n\u001b[1;32m    312\u001b[0m             \u001b[0;31m# until the computation time\u001b[0m\u001b[0;34m\u001b[0m\u001b[0;34m\u001b[0m\u001b[0;34m\u001b[0m\u001b[0m\n\u001b[1;32m    313\u001b[0m             image = np.multiply(image, 1. / imax_in,\n\u001b[0;32m--> 314\u001b[0;31m                                 dtype=computation_type)\n\u001b[0m\u001b[1;32m    315\u001b[0m             \u001b[0;31m# DirectX uses this conversion also for signed ints\u001b[0m\u001b[0;34m\u001b[0m\u001b[0;34m\u001b[0m\u001b[0;34m\u001b[0m\u001b[0m\n\u001b[1;32m    316\u001b[0m             \u001b[0;31m# if imin_in:\u001b[0m\u001b[0;34m\u001b[0m\u001b[0;34m\u001b[0m\u001b[0;34m\u001b[0m\u001b[0m\n",
            "\u001b[0;31mKeyboardInterrupt\u001b[0m: "
          ]
        }
      ]
    }
  ]
}